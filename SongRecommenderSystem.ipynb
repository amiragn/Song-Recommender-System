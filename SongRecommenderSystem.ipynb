{
 "cells": [
  {
   "cell_type": "markdown",
   "metadata": {
    "id": "ntVwFybrfBOQ"
   },
   "source": [
    "# **SONG RECOMMENDER SYSTEM**\n",
    "---\n",
    "**Kelompok 8 (Intern Data Science BCC 2023):**\n",
    "\n",
    "* **Amira Ghina Nurfansepta**\n",
    "\n",
    "* **Diyang Raditya Anwar**"
   ]
  },
  {
   "cell_type": "markdown",
   "metadata": {
    "id": "ODCjTgSKgbKJ"
   },
   "source": [
    "# Dataset [Kaggle](https://www.kaggle.com/datasets/anuragbanerjee/million-song-data-set-subset)\n",
    "Dataset ini berisi 2 file, yang terdiri dari file csv untuk informasi lagu dan file txt untuk informasi pengguna. Dataset ini memuat pengetahuan dasar dari lagu, seperti id lagu, judul lagu, penyanyinya, serta memuat id pengguna, dan juga seberapa sering pengguna mendengarkan suatu lagu atau preferensi pengguna."
   ]
  },
  {
   "cell_type": "markdown",
   "metadata": {
    "id": "jVo_tNQGgTkM"
   },
   "source": [
    "# Data Understanding\n",
    "Data Understanding merupakan tahap awal dari proses Data Science. Tujuan dari tahap ini adalah mengumpulkan informasi tentang data yang akan dianalisis. Pada tahap ini, data akan dideskripsikan, dilakukan statistika deskriptif, dan diuji kualitasnya untuk eksplorasi data sehingga dapat mengungkapkan pola dan hubungan yang menarik."
   ]
  },
  {
   "cell_type": "markdown",
   "metadata": {
    "id": "yY2wdP86g_4d"
   },
   "source": [
    "## Import Library"
   ]
  },
  {
   "cell_type": "code",
   "execution_count": 1,
   "metadata": {
    "colab": {
     "base_uri": "https://localhost:8080/"
    },
    "id": "W0dt0lc0eHFb",
    "outputId": "ce09f838-cd33-431f-fef9-ae051a40ceae"
   },
   "outputs": [
    {
     "name": "stderr",
     "output_type": "stream",
     "text": [
      "[nltk_data] Downloading package stopwords to\n",
      "[nltk_data]     C:\\Users\\Amira\\AppData\\Roaming\\nltk_data...\n",
      "[nltk_data]   Package stopwords is already up-to-date!\n"
     ]
    }
   ],
   "source": [
    "import numpy as np\n",
    "import pandas as pd\n",
    "import time\n",
    "\n",
    "import warnings\n",
    "warnings.filterwarnings(\"ignore\")\n",
    "\n",
    "import matplotlib.pyplot as plt\n",
    "import seaborn as sns\n",
    "from scipy.stats import skew, norm, probplot\n",
    "from wordcloud import WordCloud\n",
    "import nltk\n",
    "from nltk.corpus import stopwords\n",
    "nltk.download('stopwords')\n",
    "\n",
    "from scipy import *\n",
    "import scipy as sp\n",
    "from sklearn.metrics.pairwise import cosine_similarity\n",
    "import operator\n",
    "import math as mt\n",
    "from scipy.sparse import *\n",
    "from scipy.sparse.linalg import *\n",
    "from lightfm import LightFM"
   ]
  },
  {
   "cell_type": "markdown",
   "metadata": {
    "id": "LXdst-cPha-C"
   },
   "source": [
    "## Import Dataset"
   ]
  },
  {
   "cell_type": "code",
   "execution_count": 2,
   "metadata": {
    "colab": {
     "base_uri": "https://localhost:8080/",
     "height": 206
    },
    "id": "buvdE1dZhh-V",
    "outputId": "5368bdeb-6760-41d4-cf37-4a7e1de6aa4f"
   },
   "outputs": [
    {
     "data": {
      "text/html": [
       "<div>\n",
       "<style scoped>\n",
       "    .dataframe tbody tr th:only-of-type {\n",
       "        vertical-align: middle;\n",
       "    }\n",
       "\n",
       "    .dataframe tbody tr th {\n",
       "        vertical-align: top;\n",
       "    }\n",
       "\n",
       "    .dataframe thead th {\n",
       "        text-align: right;\n",
       "    }\n",
       "</style>\n",
       "<table border=\"1\" class=\"dataframe\">\n",
       "  <thead>\n",
       "    <tr style=\"text-align: right;\">\n",
       "      <th></th>\n",
       "      <th>song_id</th>\n",
       "      <th>title</th>\n",
       "      <th>release</th>\n",
       "      <th>artist_name</th>\n",
       "      <th>year</th>\n",
       "    </tr>\n",
       "  </thead>\n",
       "  <tbody>\n",
       "    <tr>\n",
       "      <th>0</th>\n",
       "      <td>SOQMMHC12AB0180CB8</td>\n",
       "      <td>Silent Night</td>\n",
       "      <td>Monster Ballads X-Mas</td>\n",
       "      <td>Faster Pussy cat</td>\n",
       "      <td>2003</td>\n",
       "    </tr>\n",
       "    <tr>\n",
       "      <th>1</th>\n",
       "      <td>SOVFVAK12A8C1350D9</td>\n",
       "      <td>Tanssi vaan</td>\n",
       "      <td>Karkuteillä</td>\n",
       "      <td>Karkkiautomaatti</td>\n",
       "      <td>1995</td>\n",
       "    </tr>\n",
       "    <tr>\n",
       "      <th>2</th>\n",
       "      <td>SOGTUKN12AB017F4F1</td>\n",
       "      <td>No One Could Ever</td>\n",
       "      <td>Butter</td>\n",
       "      <td>Hudson Mohawke</td>\n",
       "      <td>2006</td>\n",
       "    </tr>\n",
       "    <tr>\n",
       "      <th>3</th>\n",
       "      <td>SOBNYVR12A8C13558C</td>\n",
       "      <td>Si Vos Querés</td>\n",
       "      <td>De Culo</td>\n",
       "      <td>Yerba Brava</td>\n",
       "      <td>2003</td>\n",
       "    </tr>\n",
       "    <tr>\n",
       "      <th>4</th>\n",
       "      <td>SOHSBXH12A8C13B0DF</td>\n",
       "      <td>Tangle Of Aspens</td>\n",
       "      <td>Rene Ablaze Presents Winter Sessions</td>\n",
       "      <td>Der Mystic</td>\n",
       "      <td>0</td>\n",
       "    </tr>\n",
       "  </tbody>\n",
       "</table>\n",
       "</div>"
      ],
      "text/plain": [
       "              song_id              title  \\\n",
       "0  SOQMMHC12AB0180CB8       Silent Night   \n",
       "1  SOVFVAK12A8C1350D9        Tanssi vaan   \n",
       "2  SOGTUKN12AB017F4F1  No One Could Ever   \n",
       "3  SOBNYVR12A8C13558C      Si Vos Querés   \n",
       "4  SOHSBXH12A8C13B0DF   Tangle Of Aspens   \n",
       "\n",
       "                                release       artist_name  year  \n",
       "0                 Monster Ballads X-Mas  Faster Pussy cat  2003  \n",
       "1                           Karkuteillä  Karkkiautomaatti  1995  \n",
       "2                                Butter    Hudson Mohawke  2006  \n",
       "3                               De Culo       Yerba Brava  2003  \n",
       "4  Rene Ablaze Presents Winter Sessions        Der Mystic     0  "
      ]
     },
     "execution_count": 2,
     "metadata": {},
     "output_type": "execute_result"
    }
   ],
   "source": [
    "df_track = pd.read_csv('D:\\BCC\\song_data.csv')\n",
    "df_track.head()"
   ]
  },
  {
   "cell_type": "code",
   "execution_count": 3,
   "metadata": {
    "colab": {
     "base_uri": "https://localhost:8080/",
     "height": 206
    },
    "id": "cg3xKEVSBMuJ",
    "outputId": "86544d4f-ab4d-46a5-b0b8-4653b9e0ad02"
   },
   "outputs": [
    {
     "data": {
      "text/html": [
       "<div>\n",
       "<style scoped>\n",
       "    .dataframe tbody tr th:only-of-type {\n",
       "        vertical-align: middle;\n",
       "    }\n",
       "\n",
       "    .dataframe tbody tr th {\n",
       "        vertical-align: top;\n",
       "    }\n",
       "\n",
       "    .dataframe thead th {\n",
       "        text-align: right;\n",
       "    }\n",
       "</style>\n",
       "<table border=\"1\" class=\"dataframe\">\n",
       "  <thead>\n",
       "    <tr style=\"text-align: right;\">\n",
       "      <th></th>\n",
       "      <th>user_id</th>\n",
       "      <th>song_id</th>\n",
       "      <th>listen_count</th>\n",
       "    </tr>\n",
       "  </thead>\n",
       "  <tbody>\n",
       "    <tr>\n",
       "      <th>0</th>\n",
       "      <td>b80344d063b5ccb3212f76538f3d9e43d87dca9e</td>\n",
       "      <td>SOAKIMP12A8C130995</td>\n",
       "      <td>1</td>\n",
       "    </tr>\n",
       "    <tr>\n",
       "      <th>1</th>\n",
       "      <td>b80344d063b5ccb3212f76538f3d9e43d87dca9e</td>\n",
       "      <td>SOBBMDR12A8C13253B</td>\n",
       "      <td>2</td>\n",
       "    </tr>\n",
       "    <tr>\n",
       "      <th>2</th>\n",
       "      <td>b80344d063b5ccb3212f76538f3d9e43d87dca9e</td>\n",
       "      <td>SOBXHDL12A81C204C0</td>\n",
       "      <td>1</td>\n",
       "    </tr>\n",
       "    <tr>\n",
       "      <th>3</th>\n",
       "      <td>b80344d063b5ccb3212f76538f3d9e43d87dca9e</td>\n",
       "      <td>SOBYHAJ12A6701BF1D</td>\n",
       "      <td>1</td>\n",
       "    </tr>\n",
       "    <tr>\n",
       "      <th>4</th>\n",
       "      <td>b80344d063b5ccb3212f76538f3d9e43d87dca9e</td>\n",
       "      <td>SODACBL12A8C13C273</td>\n",
       "      <td>1</td>\n",
       "    </tr>\n",
       "  </tbody>\n",
       "</table>\n",
       "</div>"
      ],
      "text/plain": [
       "                                    user_id             song_id  listen_count\n",
       "0  b80344d063b5ccb3212f76538f3d9e43d87dca9e  SOAKIMP12A8C130995             1\n",
       "1  b80344d063b5ccb3212f76538f3d9e43d87dca9e  SOBBMDR12A8C13253B             2\n",
       "2  b80344d063b5ccb3212f76538f3d9e43d87dca9e  SOBXHDL12A81C204C0             1\n",
       "3  b80344d063b5ccb3212f76538f3d9e43d87dca9e  SOBYHAJ12A6701BF1D             1\n",
       "4  b80344d063b5ccb3212f76538f3d9e43d87dca9e  SODACBL12A8C13C273             1"
      ]
     },
     "execution_count": 3,
     "metadata": {},
     "output_type": "execute_result"
    }
   ],
   "source": [
    "df_user = pd.read_csv(r'D:\\BCC\\user_data.txt', sep='\\t', header=None, names=['user_id','song_id','listen_count'])\n",
    "df_user.head()"
   ]
  },
  {
   "cell_type": "markdown",
   "metadata": {
    "id": "CBlbEQXyhhet"
   },
   "source": [
    "## Informasi Mengenai Dataset"
   ]
  },
  {
   "cell_type": "markdown",
   "metadata": {
    "id": "kKT2R7RAij3u"
   },
   "source": [
    "### Jumlah Baris dan Kolom Dataset"
   ]
  },
  {
   "cell_type": "code",
   "execution_count": 4,
   "metadata": {
    "colab": {
     "base_uri": "https://localhost:8080/"
    },
    "id": "0x_sjkj-ioB_",
    "outputId": "b3dd2336-eb61-4785-97a1-5c76a49aba2f"
   },
   "outputs": [
    {
     "name": "stdout",
     "output_type": "stream",
     "text": [
      "Shape df_track = (1000000, 5)\n",
      "Shape df_user = (2000000, 3)\n"
     ]
    }
   ],
   "source": [
    "print(\"Shape df_track =\", df_track.shape)\n",
    "print(\"Shape df_user =\", df_user.shape)"
   ]
  },
  {
   "cell_type": "markdown",
   "metadata": {
    "id": "nkeMuBylC1kz"
   },
   "source": [
    "Kedua dataset, baik df_track dan df_user memiliki jumlah baris yang sangat banyak dan kolom yang cukup sedikit."
   ]
  },
  {
   "cell_type": "markdown",
   "metadata": {
    "id": "U6sX9znviqmL"
   },
   "source": [
    "### Informasi Dataset"
   ]
  },
  {
   "cell_type": "code",
   "execution_count": 5,
   "metadata": {
    "colab": {
     "base_uri": "https://localhost:8080/"
    },
    "id": "TEsCIyAKiqMr",
    "outputId": "c990102f-3fdc-458d-ef0c-b698f888eb24"
   },
   "outputs": [
    {
     "name": "stdout",
     "output_type": "stream",
     "text": [
      "<class 'pandas.core.frame.DataFrame'>\n",
      "RangeIndex: 1000000 entries, 0 to 999999\n",
      "Data columns (total 5 columns):\n",
      " #   Column       Non-Null Count    Dtype \n",
      "---  ------       --------------    ----- \n",
      " 0   song_id      1000000 non-null  object\n",
      " 1   title        999985 non-null   object\n",
      " 2   release      999995 non-null   object\n",
      " 3   artist_name  1000000 non-null  object\n",
      " 4   year         1000000 non-null  int64 \n",
      "dtypes: int64(1), object(4)\n",
      "memory usage: 38.1+ MB\n"
     ]
    }
   ],
   "source": [
    "df_track.info()"
   ]
  },
  {
   "cell_type": "code",
   "execution_count": 6,
   "metadata": {
    "colab": {
     "base_uri": "https://localhost:8080/"
    },
    "id": "IcXaRag1B_i5",
    "outputId": "81acdbb0-92b3-4f4b-a86b-342aef0a6de8"
   },
   "outputs": [
    {
     "name": "stdout",
     "output_type": "stream",
     "text": [
      "<class 'pandas.core.frame.DataFrame'>\n",
      "RangeIndex: 2000000 entries, 0 to 1999999\n",
      "Data columns (total 3 columns):\n",
      " #   Column        Dtype \n",
      "---  ------        ----- \n",
      " 0   user_id       object\n",
      " 1   song_id       object\n",
      " 2   listen_count  int64 \n",
      "dtypes: int64(1), object(2)\n",
      "memory usage: 45.8+ MB\n"
     ]
    }
   ],
   "source": [
    "df_user.info()"
   ]
  },
  {
   "cell_type": "markdown",
   "metadata": {
    "id": "n5iiexFfBuyX"
   },
   "source": [
    "df_track memiliki 4 kolom yang bertipe object dan 1 kolom yang bertipe integer, sedangkan df_user memiliki 3 kolom yang bertipe object dan 1 kolom yang bertipe integer."
   ]
  },
  {
   "cell_type": "markdown",
   "metadata": {
    "id": "_mRofTb_i3ol"
   },
   "source": [
    "### Statistika Deskriptif Dataset"
   ]
  },
  {
   "cell_type": "code",
   "execution_count": 7,
   "metadata": {
    "colab": {
     "base_uri": "https://localhost:8080/",
     "height": 300
    },
    "id": "nRRkYS9ai4HE",
    "outputId": "bdf33b3e-8e90-44e4-f21e-18827df957c4"
   },
   "outputs": [
    {
     "data": {
      "text/html": [
       "<div>\n",
       "<style scoped>\n",
       "    .dataframe tbody tr th:only-of-type {\n",
       "        vertical-align: middle;\n",
       "    }\n",
       "\n",
       "    .dataframe tbody tr th {\n",
       "        vertical-align: top;\n",
       "    }\n",
       "\n",
       "    .dataframe thead th {\n",
       "        text-align: right;\n",
       "    }\n",
       "</style>\n",
       "<table border=\"1\" class=\"dataframe\">\n",
       "  <thead>\n",
       "    <tr style=\"text-align: right;\">\n",
       "      <th></th>\n",
       "      <th>year</th>\n",
       "    </tr>\n",
       "  </thead>\n",
       "  <tbody>\n",
       "    <tr>\n",
       "      <th>count</th>\n",
       "      <td>1000000.000000</td>\n",
       "    </tr>\n",
       "    <tr>\n",
       "      <th>mean</th>\n",
       "      <td>1030.325652</td>\n",
       "    </tr>\n",
       "    <tr>\n",
       "      <th>std</th>\n",
       "      <td>998.745002</td>\n",
       "    </tr>\n",
       "    <tr>\n",
       "      <th>min</th>\n",
       "      <td>0.000000</td>\n",
       "    </tr>\n",
       "    <tr>\n",
       "      <th>25%</th>\n",
       "      <td>0.000000</td>\n",
       "    </tr>\n",
       "    <tr>\n",
       "      <th>50%</th>\n",
       "      <td>1969.000000</td>\n",
       "    </tr>\n",
       "    <tr>\n",
       "      <th>75%</th>\n",
       "      <td>2002.000000</td>\n",
       "    </tr>\n",
       "    <tr>\n",
       "      <th>max</th>\n",
       "      <td>2011.000000</td>\n",
       "    </tr>\n",
       "  </tbody>\n",
       "</table>\n",
       "</div>"
      ],
      "text/plain": [
       "                 year\n",
       "count  1000000.000000\n",
       "mean      1030.325652\n",
       "std        998.745002\n",
       "min          0.000000\n",
       "25%          0.000000\n",
       "50%       1969.000000\n",
       "75%       2002.000000\n",
       "max       2011.000000"
      ]
     },
     "execution_count": 7,
     "metadata": {},
     "output_type": "execute_result"
    }
   ],
   "source": [
    "df_track.describe()"
   ]
  },
  {
   "cell_type": "code",
   "execution_count": 8,
   "metadata": {
    "colab": {
     "base_uri": "https://localhost:8080/",
     "height": 175
    },
    "id": "iBXV68DwAHsU",
    "outputId": "4f79895d-84a8-4dda-a9c0-d06afe228417"
   },
   "outputs": [
    {
     "data": {
      "text/html": [
       "<div>\n",
       "<style scoped>\n",
       "    .dataframe tbody tr th:only-of-type {\n",
       "        vertical-align: middle;\n",
       "    }\n",
       "\n",
       "    .dataframe tbody tr th {\n",
       "        vertical-align: top;\n",
       "    }\n",
       "\n",
       "    .dataframe thead th {\n",
       "        text-align: right;\n",
       "    }\n",
       "</style>\n",
       "<table border=\"1\" class=\"dataframe\">\n",
       "  <thead>\n",
       "    <tr style=\"text-align: right;\">\n",
       "      <th></th>\n",
       "      <th>song_id</th>\n",
       "      <th>title</th>\n",
       "      <th>release</th>\n",
       "      <th>artist_name</th>\n",
       "    </tr>\n",
       "  </thead>\n",
       "  <tbody>\n",
       "    <tr>\n",
       "      <th>count</th>\n",
       "      <td>1000000</td>\n",
       "      <td>999985</td>\n",
       "      <td>999995</td>\n",
       "      <td>1000000</td>\n",
       "    </tr>\n",
       "    <tr>\n",
       "      <th>unique</th>\n",
       "      <td>999056</td>\n",
       "      <td>702428</td>\n",
       "      <td>149288</td>\n",
       "      <td>72665</td>\n",
       "    </tr>\n",
       "    <tr>\n",
       "      <th>top</th>\n",
       "      <td>SOUYQYY12AF72A000F</td>\n",
       "      <td>Intro</td>\n",
       "      <td>Greatest Hits</td>\n",
       "      <td>Michael Jackson</td>\n",
       "    </tr>\n",
       "    <tr>\n",
       "      <th>freq</th>\n",
       "      <td>3</td>\n",
       "      <td>1510</td>\n",
       "      <td>2014</td>\n",
       "      <td>194</td>\n",
       "    </tr>\n",
       "  </tbody>\n",
       "</table>\n",
       "</div>"
      ],
      "text/plain": [
       "                   song_id   title        release      artist_name\n",
       "count              1000000  999985         999995          1000000\n",
       "unique              999056  702428         149288            72665\n",
       "top     SOUYQYY12AF72A000F   Intro  Greatest Hits  Michael Jackson\n",
       "freq                     3    1510           2014              194"
      ]
     },
     "execution_count": 8,
     "metadata": {},
     "output_type": "execute_result"
    }
   ],
   "source": [
    "df_track[['song_id', 'title', 'release', 'artist_name']].describe()"
   ]
  },
  {
   "cell_type": "code",
   "execution_count": 9,
   "metadata": {
    "colab": {
     "base_uri": "https://localhost:8080/",
     "height": 300
    },
    "id": "pNtZa0CXCERb",
    "outputId": "81da30ce-cbb5-43f1-edbd-2dfd9aff23e9"
   },
   "outputs": [
    {
     "data": {
      "text/html": [
       "<div>\n",
       "<style scoped>\n",
       "    .dataframe tbody tr th:only-of-type {\n",
       "        vertical-align: middle;\n",
       "    }\n",
       "\n",
       "    .dataframe tbody tr th {\n",
       "        vertical-align: top;\n",
       "    }\n",
       "\n",
       "    .dataframe thead th {\n",
       "        text-align: right;\n",
       "    }\n",
       "</style>\n",
       "<table border=\"1\" class=\"dataframe\">\n",
       "  <thead>\n",
       "    <tr style=\"text-align: right;\">\n",
       "      <th></th>\n",
       "      <th>listen_count</th>\n",
       "    </tr>\n",
       "  </thead>\n",
       "  <tbody>\n",
       "    <tr>\n",
       "      <th>count</th>\n",
       "      <td>2.000000e+06</td>\n",
       "    </tr>\n",
       "    <tr>\n",
       "      <th>mean</th>\n",
       "      <td>3.045485e+00</td>\n",
       "    </tr>\n",
       "    <tr>\n",
       "      <th>std</th>\n",
       "      <td>6.579720e+00</td>\n",
       "    </tr>\n",
       "    <tr>\n",
       "      <th>min</th>\n",
       "      <td>1.000000e+00</td>\n",
       "    </tr>\n",
       "    <tr>\n",
       "      <th>25%</th>\n",
       "      <td>1.000000e+00</td>\n",
       "    </tr>\n",
       "    <tr>\n",
       "      <th>50%</th>\n",
       "      <td>1.000000e+00</td>\n",
       "    </tr>\n",
       "    <tr>\n",
       "      <th>75%</th>\n",
       "      <td>3.000000e+00</td>\n",
       "    </tr>\n",
       "    <tr>\n",
       "      <th>max</th>\n",
       "      <td>2.213000e+03</td>\n",
       "    </tr>\n",
       "  </tbody>\n",
       "</table>\n",
       "</div>"
      ],
      "text/plain": [
       "       listen_count\n",
       "count  2.000000e+06\n",
       "mean   3.045485e+00\n",
       "std    6.579720e+00\n",
       "min    1.000000e+00\n",
       "25%    1.000000e+00\n",
       "50%    1.000000e+00\n",
       "75%    3.000000e+00\n",
       "max    2.213000e+03"
      ]
     },
     "execution_count": 9,
     "metadata": {},
     "output_type": "execute_result"
    }
   ],
   "source": [
    "df_user.describe()"
   ]
  },
  {
   "cell_type": "code",
   "execution_count": 10,
   "metadata": {
    "colab": {
     "base_uri": "https://localhost:8080/",
     "height": 175
    },
    "id": "mbpYam3ZA6gY",
    "outputId": "6e9948e8-60f5-428c-db5f-e6ea5741aeb9"
   },
   "outputs": [
    {
     "data": {
      "text/html": [
       "<div>\n",
       "<style scoped>\n",
       "    .dataframe tbody tr th:only-of-type {\n",
       "        vertical-align: middle;\n",
       "    }\n",
       "\n",
       "    .dataframe tbody tr th {\n",
       "        vertical-align: top;\n",
       "    }\n",
       "\n",
       "    .dataframe thead th {\n",
       "        text-align: right;\n",
       "    }\n",
       "</style>\n",
       "<table border=\"1\" class=\"dataframe\">\n",
       "  <thead>\n",
       "    <tr style=\"text-align: right;\">\n",
       "      <th></th>\n",
       "      <th>user_id</th>\n",
       "      <th>song_id</th>\n",
       "    </tr>\n",
       "  </thead>\n",
       "  <tbody>\n",
       "    <tr>\n",
       "      <th>count</th>\n",
       "      <td>2000000</td>\n",
       "      <td>2000000</td>\n",
       "    </tr>\n",
       "    <tr>\n",
       "      <th>unique</th>\n",
       "      <td>76353</td>\n",
       "      <td>10000</td>\n",
       "    </tr>\n",
       "    <tr>\n",
       "      <th>top</th>\n",
       "      <td>6d625c6557df84b60d90426c0116138b617b9449</td>\n",
       "      <td>SOFRQTD12A81C233C0</td>\n",
       "    </tr>\n",
       "    <tr>\n",
       "      <th>freq</th>\n",
       "      <td>711</td>\n",
       "      <td>8277</td>\n",
       "    </tr>\n",
       "  </tbody>\n",
       "</table>\n",
       "</div>"
      ],
      "text/plain": [
       "                                         user_id             song_id\n",
       "count                                    2000000             2000000\n",
       "unique                                     76353               10000\n",
       "top     6d625c6557df84b60d90426c0116138b617b9449  SOFRQTD12A81C233C0\n",
       "freq                                         711                8277"
      ]
     },
     "execution_count": 10,
     "metadata": {},
     "output_type": "execute_result"
    }
   ],
   "source": [
    "df_user[['user_id', 'song_id']].describe()"
   ]
  },
  {
   "cell_type": "markdown",
   "metadata": {
    "id": "9LWFtFq2Bxfs"
   },
   "source": [
    "* Terdapat pengguna yang terobsesi dengan sebuah lagu hingga mendengarkannya sebanyak 2213\n",
    "* Jumlah pengguna adalah 76353 dan jumlah lagu yang didengarkan hanya 10000 sehingga tidak semua lagu yang berada di dalam dataset didengarkan oleh pengguna."
   ]
  },
  {
   "cell_type": "markdown",
   "metadata": {
    "id": "UnfpXwwZkTOu"
   },
   "source": [
    "### Cek Kolom Kosong\n"
   ]
  },
  {
   "cell_type": "code",
   "execution_count": 11,
   "metadata": {
    "colab": {
     "base_uri": "https://localhost:8080/"
    },
    "id": "HCy5l47eF9Q2",
    "outputId": "ec3e84d9-997e-40e9-b61f-635e7cd955db"
   },
   "outputs": [
    {
     "data": {
      "text/plain": [
       "song_id        484424\n",
       "title          484409\n",
       "release        484419\n",
       "artist_name    484424\n",
       "year           484424\n",
       "dtype: int64"
      ]
     },
     "execution_count": 11,
     "metadata": {},
     "output_type": "execute_result"
    }
   ],
   "source": [
    "df_track[df_track['year'] == 0].count()"
   ]
  },
  {
   "cell_type": "code",
   "execution_count": 12,
   "metadata": {
    "colab": {
     "base_uri": "https://localhost:8080/"
    },
    "id": "S2onEdGvkX79",
    "outputId": "cf0f8cc6-483c-440e-eb79-9e01099a43fc"
   },
   "outputs": [
    {
     "data": {
      "text/plain": [
       "song_id         0\n",
       "title          15\n",
       "release         5\n",
       "artist_name     0\n",
       "year            0\n",
       "dtype: int64"
      ]
     },
     "execution_count": 12,
     "metadata": {},
     "output_type": "execute_result"
    }
   ],
   "source": [
    "df_track.isna().sum()"
   ]
  },
  {
   "cell_type": "code",
   "execution_count": 13,
   "metadata": {
    "colab": {
     "base_uri": "https://localhost:8080/"
    },
    "id": "_-j4ZhBBCSiz",
    "outputId": "c1e17acc-9c61-4f4e-dcee-4ec1877a50f5"
   },
   "outputs": [
    {
     "data": {
      "text/plain": [
       "user_id         0\n",
       "song_id         0\n",
       "listen_count    0\n",
       "dtype: int64"
      ]
     },
     "execution_count": 13,
     "metadata": {},
     "output_type": "execute_result"
    }
   ],
   "source": [
    "df_user.isna().sum()"
   ]
  },
  {
   "cell_type": "markdown",
   "metadata": {
    "id": "p4uSVgUmCSrc"
   },
   "source": [
    "* Terdapat 484424 baris pada df_track yang kolom year-nya berisi 0 sehingga kolom perlu dihapus karena hampir setengah dari track tidak diketahui tahun rilisnya.\n",
    "* Terdapat 2 kolom pada df_track yang memiliki missing values, sedangkan df_user tidak memiliki missing values."
   ]
  },
  {
   "cell_type": "markdown",
   "metadata": {
    "id": "THso97klkhCa"
   },
   "source": [
    "### Cek Data Duplikat"
   ]
  },
  {
   "cell_type": "code",
   "execution_count": 14,
   "metadata": {
    "colab": {
     "base_uri": "https://localhost:8080/"
    },
    "id": "QwK16ANykp_a",
    "outputId": "01165ac3-e83e-4dd1-928b-78b618cfecf6"
   },
   "outputs": [
    {
     "name": "stdout",
     "output_type": "stream",
     "text": [
      "Jumlah data duplikat pada df_track: 498\n",
      "Jumlah data duplikat pada df_user: 0\n"
     ]
    }
   ],
   "source": [
    "print(\"Jumlah data duplikat pada df_track:\", df_track.duplicated().sum())\n",
    "print(\"Jumlah data duplikat pada df_user:\", df_user.duplicated().sum())"
   ]
  },
  {
   "cell_type": "code",
   "execution_count": 15,
   "metadata": {
    "colab": {
     "base_uri": "https://localhost:8080/"
    },
    "id": "gfXUe88QHpq6",
    "outputId": "e792e79e-fe18-4951-f5a2-b8caf5a6473e"
   },
   "outputs": [
    {
     "data": {
      "text/plain": [
       "999056"
      ]
     },
     "execution_count": 15,
     "metadata": {},
     "output_type": "execute_result"
    }
   ],
   "source": [
    "df_track['song_id'].nunique()"
   ]
  },
  {
   "cell_type": "code",
   "execution_count": 16,
   "metadata": {
    "colab": {
     "base_uri": "https://localhost:8080/"
    },
    "id": "v4HEk2hCEGFo",
    "outputId": "c6567cfd-bebd-4f58-fcf6-511a54d84d1b"
   },
   "outputs": [
    {
     "data": {
      "text/plain": [
       "73904"
      ]
     },
     "execution_count": 16,
     "metadata": {},
     "output_type": "execute_result"
    }
   ],
   "source": [
    "df_track[['title', 'artist_name']].duplicated().sum()"
   ]
  },
  {
   "cell_type": "markdown",
   "metadata": {
    "id": "OYRPKhybCXOF"
   },
   "source": [
    "* Terdapat 498 data duplikat pada df_track, sedangkan tidak terdapat data duplikat pada df_user.\n",
    "* Jumlah song_id yang unik adalah 999036 sehingga terdapat beberapa song_id yang duplikat.\n",
    "* Terdapat lagu yang duplikat walau dengan song_id yang berbeda."
   ]
  },
  {
   "cell_type": "markdown",
   "metadata": {
    "id": "CLlclP2J0DAv"
   },
   "source": [
    "# Data Preprocessing\n",
    "Data preprocessing adalah tahap berikutnya dalam proses Data Science. Pada tahap ini, data akan diubah, data yang hilang diisi, data disederhanakan, data disamakan, dan lain sebagainya. Tujuan akhir dari tahap ini adalah untuk mengubah data menjadi sebuah bentuk yang dapat dianalisis dengan mudah."
   ]
  },
  {
   "cell_type": "markdown",
   "metadata": {
    "id": "dEBJSJiX9BeQ"
   },
   "source": [
    "## Menghapus Kolom Year"
   ]
  },
  {
   "cell_type": "code",
   "execution_count": 17,
   "metadata": {
    "colab": {
     "base_uri": "https://localhost:8080/",
     "height": 206
    },
    "id": "_-7rmbvU9BOA",
    "outputId": "84cc07bb-029d-4991-b2f2-e6f5411e90d3"
   },
   "outputs": [
    {
     "data": {
      "text/html": [
       "<div>\n",
       "<style scoped>\n",
       "    .dataframe tbody tr th:only-of-type {\n",
       "        vertical-align: middle;\n",
       "    }\n",
       "\n",
       "    .dataframe tbody tr th {\n",
       "        vertical-align: top;\n",
       "    }\n",
       "\n",
       "    .dataframe thead th {\n",
       "        text-align: right;\n",
       "    }\n",
       "</style>\n",
       "<table border=\"1\" class=\"dataframe\">\n",
       "  <thead>\n",
       "    <tr style=\"text-align: right;\">\n",
       "      <th></th>\n",
       "      <th>song_id</th>\n",
       "      <th>title</th>\n",
       "      <th>release</th>\n",
       "      <th>artist_name</th>\n",
       "    </tr>\n",
       "  </thead>\n",
       "  <tbody>\n",
       "    <tr>\n",
       "      <th>0</th>\n",
       "      <td>SOQMMHC12AB0180CB8</td>\n",
       "      <td>Silent Night</td>\n",
       "      <td>Monster Ballads X-Mas</td>\n",
       "      <td>Faster Pussy cat</td>\n",
       "    </tr>\n",
       "    <tr>\n",
       "      <th>1</th>\n",
       "      <td>SOVFVAK12A8C1350D9</td>\n",
       "      <td>Tanssi vaan</td>\n",
       "      <td>Karkuteillä</td>\n",
       "      <td>Karkkiautomaatti</td>\n",
       "    </tr>\n",
       "    <tr>\n",
       "      <th>2</th>\n",
       "      <td>SOGTUKN12AB017F4F1</td>\n",
       "      <td>No One Could Ever</td>\n",
       "      <td>Butter</td>\n",
       "      <td>Hudson Mohawke</td>\n",
       "    </tr>\n",
       "    <tr>\n",
       "      <th>3</th>\n",
       "      <td>SOBNYVR12A8C13558C</td>\n",
       "      <td>Si Vos Querés</td>\n",
       "      <td>De Culo</td>\n",
       "      <td>Yerba Brava</td>\n",
       "    </tr>\n",
       "    <tr>\n",
       "      <th>4</th>\n",
       "      <td>SOHSBXH12A8C13B0DF</td>\n",
       "      <td>Tangle Of Aspens</td>\n",
       "      <td>Rene Ablaze Presents Winter Sessions</td>\n",
       "      <td>Der Mystic</td>\n",
       "    </tr>\n",
       "  </tbody>\n",
       "</table>\n",
       "</div>"
      ],
      "text/plain": [
       "              song_id              title  \\\n",
       "0  SOQMMHC12AB0180CB8       Silent Night   \n",
       "1  SOVFVAK12A8C1350D9        Tanssi vaan   \n",
       "2  SOGTUKN12AB017F4F1  No One Could Ever   \n",
       "3  SOBNYVR12A8C13558C      Si Vos Querés   \n",
       "4  SOHSBXH12A8C13B0DF   Tangle Of Aspens   \n",
       "\n",
       "                                release       artist_name  \n",
       "0                 Monster Ballads X-Mas  Faster Pussy cat  \n",
       "1                           Karkuteillä  Karkkiautomaatti  \n",
       "2                                Butter    Hudson Mohawke  \n",
       "3                               De Culo       Yerba Brava  \n",
       "4  Rene Ablaze Presents Winter Sessions        Der Mystic  "
      ]
     },
     "execution_count": 17,
     "metadata": {},
     "output_type": "execute_result"
    }
   ],
   "source": [
    "df_track = df_track.drop('year', axis=1)\n",
    "df_track.head()"
   ]
  },
  {
   "cell_type": "markdown",
   "metadata": {
    "id": "YmLVpLW2GLQY"
   },
   "source": [
    "## Menghapus Data yang Memiliki Missing Values"
   ]
  },
  {
   "cell_type": "code",
   "execution_count": 18,
   "metadata": {
    "colab": {
     "base_uri": "https://localhost:8080/"
    },
    "id": "Tvya-rZVGHU8",
    "outputId": "80b7876e-80fb-4c20-dec9-aa44ad10e708"
   },
   "outputs": [
    {
     "data": {
      "text/plain": [
       "song_id        0\n",
       "title          0\n",
       "release        0\n",
       "artist_name    0\n",
       "dtype: int64"
      ]
     },
     "execution_count": 18,
     "metadata": {},
     "output_type": "execute_result"
    }
   ],
   "source": [
    "df_track = df_track.dropna()\n",
    "df_track.isna().sum()"
   ]
  },
  {
   "cell_type": "markdown",
   "metadata": {
    "id": "xgu4UeNy8MxG"
   },
   "source": [
    "## Menghapus Data Duplikat"
   ]
  },
  {
   "cell_type": "code",
   "execution_count": 19,
   "metadata": {
    "colab": {
     "base_uri": "https://localhost:8080/"
    },
    "id": "NS44355e8RQs",
    "outputId": "f3366c47-b173-496a-8fb1-b8ad8f15885d"
   },
   "outputs": [
    {
     "data": {
      "text/plain": [
       "0"
      ]
     },
     "execution_count": 19,
     "metadata": {},
     "output_type": "execute_result"
    }
   ],
   "source": [
    "df_track = df_track.drop_duplicates(keep='first')\n",
    "df_track.duplicated().sum()"
   ]
  },
  {
   "cell_type": "code",
   "execution_count": 20,
   "metadata": {
    "colab": {
     "base_uri": "https://localhost:8080/"
    },
    "id": "20w0zMEWFfbV",
    "outputId": "ac29f094-ec71-4480-a4f8-8130d7db9c34"
   },
   "outputs": [
    {
     "data": {
      "text/plain": [
       "0"
      ]
     },
     "execution_count": 20,
     "metadata": {},
     "output_type": "execute_result"
    }
   ],
   "source": [
    "df_track = df_track.drop_duplicates(subset='song_id').reset_index(drop=True)\n",
    "df_track['song_id'].duplicated().sum()"
   ]
  },
  {
   "cell_type": "code",
   "execution_count": 21,
   "metadata": {
    "colab": {
     "base_uri": "https://localhost:8080/",
     "height": 206
    },
    "id": "yctre6ppEvi5",
    "outputId": "94c35aa2-d2f4-4119-ddec-0e48c2e21263"
   },
   "outputs": [
    {
     "data": {
      "text/html": [
       "<div>\n",
       "<style scoped>\n",
       "    .dataframe tbody tr th:only-of-type {\n",
       "        vertical-align: middle;\n",
       "    }\n",
       "\n",
       "    .dataframe tbody tr th {\n",
       "        vertical-align: top;\n",
       "    }\n",
       "\n",
       "    .dataframe thead th {\n",
       "        text-align: right;\n",
       "    }\n",
       "</style>\n",
       "<table border=\"1\" class=\"dataframe\">\n",
       "  <thead>\n",
       "    <tr style=\"text-align: right;\">\n",
       "      <th></th>\n",
       "      <th>song_id</th>\n",
       "      <th>title</th>\n",
       "      <th>release</th>\n",
       "      <th>artist_name</th>\n",
       "    </tr>\n",
       "  </thead>\n",
       "  <tbody>\n",
       "    <tr>\n",
       "      <th>0</th>\n",
       "      <td>SOQMMHC12AB0180CB8</td>\n",
       "      <td>Silent Night</td>\n",
       "      <td>Monster Ballads X-Mas</td>\n",
       "      <td>Faster Pussy cat</td>\n",
       "    </tr>\n",
       "    <tr>\n",
       "      <th>1</th>\n",
       "      <td>SOVFVAK12A8C1350D9</td>\n",
       "      <td>Tanssi vaan</td>\n",
       "      <td>Karkuteillä</td>\n",
       "      <td>Karkkiautomaatti</td>\n",
       "    </tr>\n",
       "    <tr>\n",
       "      <th>2</th>\n",
       "      <td>SOGTUKN12AB017F4F1</td>\n",
       "      <td>No One Could Ever</td>\n",
       "      <td>Butter</td>\n",
       "      <td>Hudson Mohawke</td>\n",
       "    </tr>\n",
       "    <tr>\n",
       "      <th>3</th>\n",
       "      <td>SOBNYVR12A8C13558C</td>\n",
       "      <td>Si Vos Querés</td>\n",
       "      <td>De Culo</td>\n",
       "      <td>Yerba Brava</td>\n",
       "    </tr>\n",
       "    <tr>\n",
       "      <th>4</th>\n",
       "      <td>SOHSBXH12A8C13B0DF</td>\n",
       "      <td>Tangle Of Aspens</td>\n",
       "      <td>Rene Ablaze Presents Winter Sessions</td>\n",
       "      <td>Der Mystic</td>\n",
       "    </tr>\n",
       "  </tbody>\n",
       "</table>\n",
       "</div>"
      ],
      "text/plain": [
       "              song_id              title  \\\n",
       "0  SOQMMHC12AB0180CB8       Silent Night   \n",
       "1  SOVFVAK12A8C1350D9        Tanssi vaan   \n",
       "2  SOGTUKN12AB017F4F1  No One Could Ever   \n",
       "3  SOBNYVR12A8C13558C      Si Vos Querés   \n",
       "4  SOHSBXH12A8C13B0DF   Tangle Of Aspens   \n",
       "\n",
       "                                release       artist_name  \n",
       "0                 Monster Ballads X-Mas  Faster Pussy cat  \n",
       "1                           Karkuteillä  Karkkiautomaatti  \n",
       "2                                Butter    Hudson Mohawke  \n",
       "3                               De Culo       Yerba Brava  \n",
       "4  Rene Ablaze Presents Winter Sessions        Der Mystic  "
      ]
     },
     "execution_count": 21,
     "metadata": {},
     "output_type": "execute_result"
    }
   ],
   "source": [
    "df_track = df_track.drop_duplicates(subset=['title', 'artist_name']).reset_index(drop=True)\n",
    "df_track.head()"
   ]
  },
  {
   "cell_type": "markdown",
   "metadata": {
    "id": "NllLL94GC1Lz"
   },
   "source": [
    "## Merge Dataset"
   ]
  },
  {
   "cell_type": "code",
   "execution_count": 22,
   "metadata": {
    "colab": {
     "base_uri": "https://localhost:8080/",
     "height": 206
    },
    "id": "0XkYUtCfC0Sa",
    "outputId": "29bca9cd-003b-4930-ec06-0aa3fd6b7003"
   },
   "outputs": [
    {
     "data": {
      "text/html": [
       "<div>\n",
       "<style scoped>\n",
       "    .dataframe tbody tr th:only-of-type {\n",
       "        vertical-align: middle;\n",
       "    }\n",
       "\n",
       "    .dataframe tbody tr th {\n",
       "        vertical-align: top;\n",
       "    }\n",
       "\n",
       "    .dataframe thead th {\n",
       "        text-align: right;\n",
       "    }\n",
       "</style>\n",
       "<table border=\"1\" class=\"dataframe\">\n",
       "  <thead>\n",
       "    <tr style=\"text-align: right;\">\n",
       "      <th></th>\n",
       "      <th>user_id</th>\n",
       "      <th>song_id</th>\n",
       "      <th>listen_count</th>\n",
       "      <th>title</th>\n",
       "      <th>release</th>\n",
       "      <th>artist_name</th>\n",
       "    </tr>\n",
       "  </thead>\n",
       "  <tbody>\n",
       "    <tr>\n",
       "      <th>0</th>\n",
       "      <td>b80344d063b5ccb3212f76538f3d9e43d87dca9e</td>\n",
       "      <td>SOAKIMP12A8C130995</td>\n",
       "      <td>1</td>\n",
       "      <td>The Cove</td>\n",
       "      <td>Thicker Than Water</td>\n",
       "      <td>Jack Johnson</td>\n",
       "    </tr>\n",
       "    <tr>\n",
       "      <th>1</th>\n",
       "      <td>b80344d063b5ccb3212f76538f3d9e43d87dca9e</td>\n",
       "      <td>SOBBMDR12A8C13253B</td>\n",
       "      <td>2</td>\n",
       "      <td>Entre Dos Aguas</td>\n",
       "      <td>Flamenco Para Niños</td>\n",
       "      <td>Paco De Lucia</td>\n",
       "    </tr>\n",
       "    <tr>\n",
       "      <th>2</th>\n",
       "      <td>b80344d063b5ccb3212f76538f3d9e43d87dca9e</td>\n",
       "      <td>SOBXHDL12A81C204C0</td>\n",
       "      <td>1</td>\n",
       "      <td>NaN</td>\n",
       "      <td>NaN</td>\n",
       "      <td>NaN</td>\n",
       "    </tr>\n",
       "    <tr>\n",
       "      <th>3</th>\n",
       "      <td>b80344d063b5ccb3212f76538f3d9e43d87dca9e</td>\n",
       "      <td>SOBYHAJ12A6701BF1D</td>\n",
       "      <td>1</td>\n",
       "      <td>Constellations</td>\n",
       "      <td>In Between Dreams</td>\n",
       "      <td>Jack Johnson</td>\n",
       "    </tr>\n",
       "    <tr>\n",
       "      <th>4</th>\n",
       "      <td>b80344d063b5ccb3212f76538f3d9e43d87dca9e</td>\n",
       "      <td>SODACBL12A8C13C273</td>\n",
       "      <td>1</td>\n",
       "      <td>Learn To Fly</td>\n",
       "      <td>There Is Nothing Left To Lose</td>\n",
       "      <td>Foo Fighters</td>\n",
       "    </tr>\n",
       "  </tbody>\n",
       "</table>\n",
       "</div>"
      ],
      "text/plain": [
       "                                    user_id             song_id  listen_count  \\\n",
       "0  b80344d063b5ccb3212f76538f3d9e43d87dca9e  SOAKIMP12A8C130995             1   \n",
       "1  b80344d063b5ccb3212f76538f3d9e43d87dca9e  SOBBMDR12A8C13253B             2   \n",
       "2  b80344d063b5ccb3212f76538f3d9e43d87dca9e  SOBXHDL12A81C204C0             1   \n",
       "3  b80344d063b5ccb3212f76538f3d9e43d87dca9e  SOBYHAJ12A6701BF1D             1   \n",
       "4  b80344d063b5ccb3212f76538f3d9e43d87dca9e  SODACBL12A8C13C273             1   \n",
       "\n",
       "             title                        release    artist_name  \n",
       "0         The Cove             Thicker Than Water   Jack Johnson  \n",
       "1  Entre Dos Aguas            Flamenco Para Niños  Paco De Lucia  \n",
       "2              NaN                            NaN            NaN  \n",
       "3   Constellations              In Between Dreams   Jack Johnson  \n",
       "4     Learn To Fly  There Is Nothing Left To Lose   Foo Fighters  "
      ]
     },
     "execution_count": 22,
     "metadata": {},
     "output_type": "execute_result"
    }
   ],
   "source": [
    "df_merge = pd.merge(df_user, df_track,\n",
    "                    how='left', \n",
    "                    left_on='song_id', \n",
    "                    right_on='song_id')\n",
    "df_merge.head()"
   ]
  },
  {
   "cell_type": "markdown",
   "metadata": {
    "id": "Zz2QoqblZ0CV"
   },
   "source": [
    "## Menghapus Data yang Memiliki Missing Values pada Dataset Merge "
   ]
  },
  {
   "cell_type": "code",
   "execution_count": 23,
   "metadata": {
    "colab": {
     "base_uri": "https://localhost:8080/"
    },
    "id": "HUdzX1PGZxvB",
    "outputId": "648975d4-3154-4e1f-e443-65d9b383f875"
   },
   "outputs": [
    {
     "data": {
      "text/plain": [
       "user_id              0\n",
       "song_id              0\n",
       "listen_count         0\n",
       "title           281017\n",
       "release         281017\n",
       "artist_name     281017\n",
       "dtype: int64"
      ]
     },
     "execution_count": 23,
     "metadata": {},
     "output_type": "execute_result"
    }
   ],
   "source": [
    "df_merge.isna().sum()"
   ]
  },
  {
   "cell_type": "code",
   "execution_count": 24,
   "metadata": {
    "colab": {
     "base_uri": "https://localhost:8080/"
    },
    "id": "ewwPfA3IbG-K",
    "outputId": "014b89e1-c7ee-424d-da34-d59e7c2d6899"
   },
   "outputs": [
    {
     "data": {
      "text/plain": [
       "user_id         0\n",
       "song_id         0\n",
       "listen_count    0\n",
       "title           0\n",
       "release         0\n",
       "artist_name     0\n",
       "dtype: int64"
      ]
     },
     "execution_count": 24,
     "metadata": {},
     "output_type": "execute_result"
    }
   ],
   "source": [
    "df_merge = df_merge.dropna()\n",
    "df_merge.isna().sum()"
   ]
  },
  {
   "cell_type": "code",
   "execution_count": 25,
   "metadata": {
    "colab": {
     "base_uri": "https://localhost:8080/",
     "height": 250
    },
    "id": "5zrluKRXcAp1",
    "outputId": "8c572ed3-fc51-46a6-bf14-b3aa984f9621"
   },
   "outputs": [
    {
     "data": {
      "text/html": [
       "<div>\n",
       "<style scoped>\n",
       "    .dataframe tbody tr th:only-of-type {\n",
       "        vertical-align: middle;\n",
       "    }\n",
       "\n",
       "    .dataframe tbody tr th {\n",
       "        vertical-align: top;\n",
       "    }\n",
       "\n",
       "    .dataframe thead th {\n",
       "        text-align: right;\n",
       "    }\n",
       "</style>\n",
       "<table border=\"1\" class=\"dataframe\">\n",
       "  <thead>\n",
       "    <tr style=\"text-align: right;\">\n",
       "      <th></th>\n",
       "      <th>user_id</th>\n",
       "      <th>song_id</th>\n",
       "      <th>listen_count</th>\n",
       "      <th>title</th>\n",
       "      <th>release</th>\n",
       "      <th>artist_name</th>\n",
       "    </tr>\n",
       "  </thead>\n",
       "  <tbody>\n",
       "    <tr>\n",
       "      <th>0</th>\n",
       "      <td>b80344d063b5ccb3212f76538f3d9e43d87dca9e</td>\n",
       "      <td>SOAKIMP12A8C130995</td>\n",
       "      <td>1</td>\n",
       "      <td>The Cove</td>\n",
       "      <td>Thicker Than Water</td>\n",
       "      <td>Jack Johnson</td>\n",
       "    </tr>\n",
       "    <tr>\n",
       "      <th>1</th>\n",
       "      <td>b80344d063b5ccb3212f76538f3d9e43d87dca9e</td>\n",
       "      <td>SOBBMDR12A8C13253B</td>\n",
       "      <td>2</td>\n",
       "      <td>Entre Dos Aguas</td>\n",
       "      <td>Flamenco Para Niños</td>\n",
       "      <td>Paco De Lucia</td>\n",
       "    </tr>\n",
       "    <tr>\n",
       "      <th>3</th>\n",
       "      <td>b80344d063b5ccb3212f76538f3d9e43d87dca9e</td>\n",
       "      <td>SOBYHAJ12A6701BF1D</td>\n",
       "      <td>1</td>\n",
       "      <td>Constellations</td>\n",
       "      <td>In Between Dreams</td>\n",
       "      <td>Jack Johnson</td>\n",
       "    </tr>\n",
       "    <tr>\n",
       "      <th>4</th>\n",
       "      <td>b80344d063b5ccb3212f76538f3d9e43d87dca9e</td>\n",
       "      <td>SODACBL12A8C13C273</td>\n",
       "      <td>1</td>\n",
       "      <td>Learn To Fly</td>\n",
       "      <td>There Is Nothing Left To Lose</td>\n",
       "      <td>Foo Fighters</td>\n",
       "    </tr>\n",
       "    <tr>\n",
       "      <th>5</th>\n",
       "      <td>b80344d063b5ccb3212f76538f3d9e43d87dca9e</td>\n",
       "      <td>SODDNQT12A6D4F5F7E</td>\n",
       "      <td>5</td>\n",
       "      <td>Apuesta Por El Rock 'N' Roll</td>\n",
       "      <td>Antología Audiovisual</td>\n",
       "      <td>Héroes del Silencio</td>\n",
       "    </tr>\n",
       "  </tbody>\n",
       "</table>\n",
       "</div>"
      ],
      "text/plain": [
       "                                    user_id             song_id  listen_count  \\\n",
       "0  b80344d063b5ccb3212f76538f3d9e43d87dca9e  SOAKIMP12A8C130995             1   \n",
       "1  b80344d063b5ccb3212f76538f3d9e43d87dca9e  SOBBMDR12A8C13253B             2   \n",
       "3  b80344d063b5ccb3212f76538f3d9e43d87dca9e  SOBYHAJ12A6701BF1D             1   \n",
       "4  b80344d063b5ccb3212f76538f3d9e43d87dca9e  SODACBL12A8C13C273             1   \n",
       "5  b80344d063b5ccb3212f76538f3d9e43d87dca9e  SODDNQT12A6D4F5F7E             5   \n",
       "\n",
       "                          title                        release  \\\n",
       "0                      The Cove             Thicker Than Water   \n",
       "1               Entre Dos Aguas            Flamenco Para Niños   \n",
       "3                Constellations              In Between Dreams   \n",
       "4                  Learn To Fly  There Is Nothing Left To Lose   \n",
       "5  Apuesta Por El Rock 'N' Roll          Antología Audiovisual   \n",
       "\n",
       "           artist_name  \n",
       "0         Jack Johnson  \n",
       "1        Paco De Lucia  \n",
       "3         Jack Johnson  \n",
       "4         Foo Fighters  \n",
       "5  Héroes del Silencio  "
      ]
     },
     "execution_count": 25,
     "metadata": {},
     "output_type": "execute_result"
    }
   ],
   "source": [
    "df_merge.head()"
   ]
  },
  {
   "cell_type": "markdown",
   "metadata": {
    "id": "L9UeCsgZBVC_"
   },
   "source": [
    "# Exploratory Data Analysis\n",
    "Exploratory Data Analysis atau yang biasa disingkat dengan EDA merupakan proses yang untuk mengeksplorasi data dan mencari pola dan hubungan yang mungkin tidak diketahui sebelumnya. Metode EDA berfokus pada eksplorasi visual dan menggunakan statistik deskriptif untuk mengidentifikasi pola dan hubungan dalam data."
   ]
  },
  {
   "cell_type": "markdown",
   "metadata": {
    "id": "dlyeny0oIROB"
   },
   "source": [
    "## Apa album yang memiliki paling banyak lagu pada dataset?"
   ]
  },
  {
   "cell_type": "code",
   "execution_count": 26,
   "metadata": {
    "colab": {
     "base_uri": "https://localhost:8080/",
     "height": 206
    },
    "id": "abk__54vLnL9",
    "outputId": "9c0fe5cb-5ab6-4611-dc13-a4f5ebf55795"
   },
   "outputs": [
    {
     "data": {
      "text/html": [
       "<div>\n",
       "<style scoped>\n",
       "    .dataframe tbody tr th:only-of-type {\n",
       "        vertical-align: middle;\n",
       "    }\n",
       "\n",
       "    .dataframe tbody tr th {\n",
       "        vertical-align: top;\n",
       "    }\n",
       "\n",
       "    .dataframe thead th {\n",
       "        text-align: right;\n",
       "    }\n",
       "</style>\n",
       "<table border=\"1\" class=\"dataframe\">\n",
       "  <thead>\n",
       "    <tr style=\"text-align: right;\">\n",
       "      <th></th>\n",
       "      <th>release</th>\n",
       "      <th>count</th>\n",
       "    </tr>\n",
       "  </thead>\n",
       "  <tbody>\n",
       "    <tr>\n",
       "      <th>0</th>\n",
       "      <td>Greatest Hits</td>\n",
       "      <td>1734</td>\n",
       "    </tr>\n",
       "    <tr>\n",
       "      <th>1</th>\n",
       "      <td>Live</td>\n",
       "      <td>998</td>\n",
       "    </tr>\n",
       "    <tr>\n",
       "      <th>2</th>\n",
       "      <td>The Collection</td>\n",
       "      <td>727</td>\n",
       "    </tr>\n",
       "    <tr>\n",
       "      <th>3</th>\n",
       "      <td>The Ultimate Collection</td>\n",
       "      <td>722</td>\n",
       "    </tr>\n",
       "    <tr>\n",
       "      <th>4</th>\n",
       "      <td>The Very Best Of</td>\n",
       "      <td>630</td>\n",
       "    </tr>\n",
       "  </tbody>\n",
       "</table>\n",
       "</div>"
      ],
      "text/plain": [
       "                   release  count\n",
       "0            Greatest Hits   1734\n",
       "1                     Live    998\n",
       "2           The Collection    727\n",
       "3  The Ultimate Collection    722\n",
       "4         The Very Best Of    630"
      ]
     },
     "execution_count": 26,
     "metadata": {},
     "output_type": "execute_result"
    }
   ],
   "source": [
    "df_release = df_track['release'].value_counts(ascending=False).reset_index()\n",
    "df_release.columns = ['release', 'count']\n",
    "df_release.head()"
   ]
  },
  {
   "cell_type": "code",
   "execution_count": 27,
   "metadata": {
    "colab": {
     "base_uri": "https://localhost:8080/",
     "height": 374
    },
    "id": "Ex74Z-s2WDZL",
    "outputId": "c3b6b490-8acb-41b7-f915-1c7287149af4"
   },
   "outputs": [
    {
     "data": {
      "image/png": "[encoded data removed]",
      "text/plain": [
       "<Figure size 720x432 with 1 Axes>"
      ]
     },
     "metadata": {
      "needs_background": "light"
     },
     "output_type": "display_data"
    }
   ],
   "source": [
    "df_release_head = df_release.head()\n",
    "plt.figure(figsize = (10,6))\n",
    "plt.bar(df_release_head['release'], df_release_head['count'])\n",
    "plt.show()"
   ]
  },
  {
   "cell_type": "code",
   "execution_count": 28,
   "metadata": {
    "colab": {
     "base_uri": "https://localhost:8080/",
     "height": 206
    },
    "id": "aWe1rFoFWVIw",
    "outputId": "76d6ef8d-2459-46a7-8c50-b475fc46143f"
   },
   "outputs": [
    {
     "data": {
      "text/html": [
       "<div>\n",
       "<style scoped>\n",
       "    .dataframe tbody tr th:only-of-type {\n",
       "        vertical-align: middle;\n",
       "    }\n",
       "\n",
       "    .dataframe tbody tr th {\n",
       "        vertical-align: top;\n",
       "    }\n",
       "\n",
       "    .dataframe thead th {\n",
       "        text-align: right;\n",
       "    }\n",
       "</style>\n",
       "<table border=\"1\" class=\"dataframe\">\n",
       "  <thead>\n",
       "    <tr style=\"text-align: right;\">\n",
       "      <th></th>\n",
       "      <th>song_id</th>\n",
       "      <th>title</th>\n",
       "      <th>release</th>\n",
       "      <th>artist_name</th>\n",
       "    </tr>\n",
       "  </thead>\n",
       "  <tbody>\n",
       "    <tr>\n",
       "      <th>1771</th>\n",
       "      <td>SOPKQJR12AB0187C6B</td>\n",
       "      <td>Jailhouse Rock</td>\n",
       "      <td>Greatest Hits</td>\n",
       "      <td>The Jordanaires</td>\n",
       "    </tr>\n",
       "    <tr>\n",
       "      <th>2531</th>\n",
       "      <td>SOAUWOW12A58A7BE4F</td>\n",
       "      <td>Helen's Testimony (LP Version)</td>\n",
       "      <td>Greatest Hits</td>\n",
       "      <td>Helen Baylor</td>\n",
       "    </tr>\n",
       "    <tr>\n",
       "      <th>3045</th>\n",
       "      <td>SOJPMXC12A58A7C2BA</td>\n",
       "      <td>Blessed</td>\n",
       "      <td>Greatest Hits</td>\n",
       "      <td>Martina McBride</td>\n",
       "    </tr>\n",
       "    <tr>\n",
       "      <th>3474</th>\n",
       "      <td>SOYPIJZ12D021B4C1D</td>\n",
       "      <td>We Used To</td>\n",
       "      <td>Greatest Hits</td>\n",
       "      <td>Dolly Parton</td>\n",
       "    </tr>\n",
       "    <tr>\n",
       "      <th>4020</th>\n",
       "      <td>SOTMBJI12AB0185A2B</td>\n",
       "      <td>It's Only Make Believe</td>\n",
       "      <td>Greatest Hits</td>\n",
       "      <td>Screamin' Jay Hawkins</td>\n",
       "    </tr>\n",
       "  </tbody>\n",
       "</table>\n",
       "</div>"
      ],
      "text/plain": [
       "                 song_id                           title        release  \\\n",
       "1771  SOPKQJR12AB0187C6B                  Jailhouse Rock  Greatest Hits   \n",
       "2531  SOAUWOW12A58A7BE4F  Helen's Testimony (LP Version)  Greatest Hits   \n",
       "3045  SOJPMXC12A58A7C2BA                         Blessed  Greatest Hits   \n",
       "3474  SOYPIJZ12D021B4C1D                      We Used To  Greatest Hits   \n",
       "4020  SOTMBJI12AB0185A2B          It's Only Make Believe  Greatest Hits   \n",
       "\n",
       "                artist_name  \n",
       "1771        The Jordanaires  \n",
       "2531           Helen Baylor  \n",
       "3045        Martina McBride  \n",
       "3474           Dolly Parton  \n",
       "4020  Screamin' Jay Hawkins  "
      ]
     },
     "execution_count": 28,
     "metadata": {},
     "output_type": "execute_result"
    }
   ],
   "source": [
    "df_track[df_track['release'] == 'Greatest Hits'].head()"
   ]
  },
  {
   "cell_type": "code",
   "execution_count": 29,
   "metadata": {
    "colab": {
     "base_uri": "https://localhost:8080/",
     "height": 206
    },
    "id": "a1gIfJQRXM0C",
    "outputId": "dec5600e-8c1f-4b1b-9711-318406c3856c"
   },
   "outputs": [
    {
     "data": {
      "text/html": [
       "<div>\n",
       "<style scoped>\n",
       "    .dataframe tbody tr th:only-of-type {\n",
       "        vertical-align: middle;\n",
       "    }\n",
       "\n",
       "    .dataframe tbody tr th {\n",
       "        vertical-align: top;\n",
       "    }\n",
       "\n",
       "    .dataframe thead th {\n",
       "        text-align: right;\n",
       "    }\n",
       "</style>\n",
       "<table border=\"1\" class=\"dataframe\">\n",
       "  <thead>\n",
       "    <tr style=\"text-align: right;\">\n",
       "      <th></th>\n",
       "      <th>song_id</th>\n",
       "      <th>title</th>\n",
       "      <th>release</th>\n",
       "      <th>artist_name</th>\n",
       "    </tr>\n",
       "  </thead>\n",
       "  <tbody>\n",
       "    <tr>\n",
       "      <th>258</th>\n",
       "      <td>SOCQXCS12A67ADA4EA</td>\n",
       "      <td>Telegram för en tennsoldat</td>\n",
       "      <td>Live</td>\n",
       "      <td>Cornelis Vreeswijk</td>\n",
       "    </tr>\n",
       "    <tr>\n",
       "      <th>471</th>\n",
       "      <td>SONFGYH12AF72A0C0B</td>\n",
       "      <td>Holdin' On To Yesterday</td>\n",
       "      <td>Live</td>\n",
       "      <td>Ambrosia</td>\n",
       "    </tr>\n",
       "    <tr>\n",
       "      <th>770</th>\n",
       "      <td>SOBWFYH12A58A79F4C</td>\n",
       "      <td>Chicken (Live)</td>\n",
       "      <td>Live</td>\n",
       "      <td>Mississippi John Hurt</td>\n",
       "    </tr>\n",
       "    <tr>\n",
       "      <th>1145</th>\n",
       "      <td>SOOFOXZ12AB018A13E</td>\n",
       "      <td>Perfect Goodbye</td>\n",
       "      <td>Live</td>\n",
       "      <td>Heart</td>\n",
       "    </tr>\n",
       "    <tr>\n",
       "      <th>1900</th>\n",
       "      <td>SOFASTD12A8C139AB6</td>\n",
       "      <td>La Fille D'Avril</td>\n",
       "      <td>Live</td>\n",
       "      <td>Laurent Voulzy</td>\n",
       "    </tr>\n",
       "  </tbody>\n",
       "</table>\n",
       "</div>"
      ],
      "text/plain": [
       "                 song_id                       title release  \\\n",
       "258   SOCQXCS12A67ADA4EA  Telegram för en tennsoldat    Live   \n",
       "471   SONFGYH12AF72A0C0B     Holdin' On To Yesterday    Live   \n",
       "770   SOBWFYH12A58A79F4C              Chicken (Live)    Live   \n",
       "1145  SOOFOXZ12AB018A13E             Perfect Goodbye    Live   \n",
       "1900  SOFASTD12A8C139AB6            La Fille D'Avril    Live   \n",
       "\n",
       "                artist_name  \n",
       "258      Cornelis Vreeswijk  \n",
       "471                Ambrosia  \n",
       "770   Mississippi John Hurt  \n",
       "1145                  Heart  \n",
       "1900         Laurent Voulzy  "
      ]
     },
     "execution_count": 29,
     "metadata": {},
     "output_type": "execute_result"
    }
   ],
   "source": [
    "df_track[df_track['release'] == 'Live'].head()"
   ]
  },
  {
   "cell_type": "markdown",
   "metadata": {
    "id": "KWNEeZbOXIM4"
   },
   "source": [
    "Album yang memiliki paling banyak lagu pada dataset ternyata bukanlah album milik artis perseorangan, tetapi berupa album kompilasi dari berbagai artis."
   ]
  },
  {
   "cell_type": "markdown",
   "metadata": {
    "id": "yAPSVRNiMcT1"
   },
   "source": [
    "## Siapa artis yang memiliki paling banyak lagu pada dataset?"
   ]
  },
  {
   "cell_type": "code",
   "execution_count": 30,
   "metadata": {
    "colab": {
     "base_uri": "https://localhost:8080/",
     "height": 206
    },
    "id": "iOm6pM8hMfj4",
    "outputId": "cf5cfa0d-29cc-404f-df7d-e1ed8bf92daf"
   },
   "outputs": [
    {
     "data": {
      "text/html": [
       "<div>\n",
       "<style scoped>\n",
       "    .dataframe tbody tr th:only-of-type {\n",
       "        vertical-align: middle;\n",
       "    }\n",
       "\n",
       "    .dataframe tbody tr th {\n",
       "        vertical-align: top;\n",
       "    }\n",
       "\n",
       "    .dataframe thead th {\n",
       "        text-align: right;\n",
       "    }\n",
       "</style>\n",
       "<table border=\"1\" class=\"dataframe\">\n",
       "  <thead>\n",
       "    <tr style=\"text-align: right;\">\n",
       "      <th></th>\n",
       "      <th>artist_name</th>\n",
       "      <th>count</th>\n",
       "    </tr>\n",
       "  </thead>\n",
       "  <tbody>\n",
       "    <tr>\n",
       "      <th>0</th>\n",
       "      <td>Beastie Boys</td>\n",
       "      <td>177</td>\n",
       "    </tr>\n",
       "    <tr>\n",
       "      <th>1</th>\n",
       "      <td>Joan Baez</td>\n",
       "      <td>175</td>\n",
       "    </tr>\n",
       "    <tr>\n",
       "      <th>2</th>\n",
       "      <td>The Doors</td>\n",
       "      <td>167</td>\n",
       "    </tr>\n",
       "    <tr>\n",
       "      <th>3</th>\n",
       "      <td>Johnny Cash</td>\n",
       "      <td>164</td>\n",
       "    </tr>\n",
       "    <tr>\n",
       "      <th>4</th>\n",
       "      <td>Duran Duran</td>\n",
       "      <td>157</td>\n",
       "    </tr>\n",
       "  </tbody>\n",
       "</table>\n",
       "</div>"
      ],
      "text/plain": [
       "    artist_name  count\n",
       "0  Beastie Boys    177\n",
       "1     Joan Baez    175\n",
       "2     The Doors    167\n",
       "3   Johnny Cash    164\n",
       "4   Duran Duran    157"
      ]
     },
     "execution_count": 30,
     "metadata": {},
     "output_type": "execute_result"
    }
   ],
   "source": [
    "df_artist = df_track['artist_name'].value_counts(ascending=False).reset_index()\n",
    "df_artist.columns = ['artist_name', 'count']\n",
    "df_artist.head()"
   ]
  },
  {
   "cell_type": "code",
   "execution_count": 31,
   "metadata": {
    "colab": {
     "base_uri": "https://localhost:8080/",
     "height": 374
    },
    "id": "-i7HSO_jYaw_",
    "outputId": "b4147f3f-138a-4186-a5a2-dc8847915413"
   },
   "outputs": [
    {
     "data": {
      "image/png": "[encoded data removed]",
      "text/plain": [
       "<Figure size 720x432 with 1 Axes>"
      ]
     },
     "metadata": {
      "needs_background": "light"
     },
     "output_type": "display_data"
    }
   ],
   "source": [
    "df_artist_head = df_artist.head()\n",
    "plt.figure(figsize = (10,6))\n",
    "plt.bar(df_artist_head['artist_name'], df_artist_head['count'])\n",
    "plt.show()"
   ]
  },
  {
   "cell_type": "markdown",
   "metadata": {
    "id": "si-1Z5_pZJxe"
   },
   "source": [
    "5 artis teratas yang memiliki lagu paling banyak dalam dataset masing-masing merupakan penyanyi dengan genre yang berbeda-beda.\n",
    "* Beastie Boys: Hip Hop\n",
    "* Joan Baez : Folk\n",
    "* The Doors : Rock \n",
    "* Johnny Cash : Country\n",
    "* Duran Duran : Electronic Pop Rock"
   ]
  },
  {
   "cell_type": "markdown",
   "metadata": {
    "id": "GUJWxRGvaKR_"
   },
   "source": [
    "## Apa kata-kata yang sering muncul pada judul lagu?"
   ]
  },
  {
   "cell_type": "code",
   "execution_count": 32,
   "metadata": {
    "colab": {
     "base_uri": "https://localhost:8080/",
     "height": 198
    },
    "id": "pWPXn-xyaV5e",
    "outputId": "84cb172b-be7f-4b63-e707-462bef0319c3"
   },
   "outputs": [
    {
     "data": {
      "image/png": "[encoded data removed]",
      "text/plain": [
       "<Figure size 432x288 with 1 Axes>"
      ]
     },
     "metadata": {
      "needs_background": "light"
     },
     "output_type": "display_data"
    }
   ],
   "source": [
    "eng_stopwords = stopwords.words('english')\n",
    "text = df_track['title'].values \n",
    "wordcloud = WordCloud(background_color='black', stopwords=eng_stopwords, colormap='Blues', max_font_size=50, max_words=50).generate(str(text))\n",
    "\n",
    "plt.imshow(wordcloud)\n",
    "plt.axis(\"off\")\n",
    "plt.show()"
   ]
  },
  {
   "cell_type": "code",
   "execution_count": 33,
   "metadata": {
    "colab": {
     "base_uri": "https://localhost:8080/",
     "height": 224
    },
    "id": "oH2P_5fHGUzv",
    "outputId": "07636591-be4f-4d29-c16e-16d05c5d62e3"
   },
   "outputs": [
    {
     "name": "stdout",
     "output_type": "stream",
     "text": [
      "Jumlah lagu yang memiliki kata silent = 769\n"
     ]
    },
    {
     "data": {
      "text/html": [
       "<div>\n",
       "<style scoped>\n",
       "    .dataframe tbody tr th:only-of-type {\n",
       "        vertical-align: middle;\n",
       "    }\n",
       "\n",
       "    .dataframe tbody tr th {\n",
       "        vertical-align: top;\n",
       "    }\n",
       "\n",
       "    .dataframe thead th {\n",
       "        text-align: right;\n",
       "    }\n",
       "</style>\n",
       "<table border=\"1\" class=\"dataframe\">\n",
       "  <thead>\n",
       "    <tr style=\"text-align: right;\">\n",
       "      <th></th>\n",
       "      <th>song_id</th>\n",
       "      <th>title</th>\n",
       "      <th>release</th>\n",
       "      <th>artist_name</th>\n",
       "    </tr>\n",
       "  </thead>\n",
       "  <tbody>\n",
       "    <tr>\n",
       "      <th>0</th>\n",
       "      <td>SOQMMHC12AB0180CB8</td>\n",
       "      <td>Silent Night</td>\n",
       "      <td>Monster Ballads X-Mas</td>\n",
       "      <td>Faster Pussy cat</td>\n",
       "    </tr>\n",
       "    <tr>\n",
       "      <th>49</th>\n",
       "      <td>SOCWWYB12A6D4F9AF4</td>\n",
       "      <td>He Is Not Silent (Out Of The Grey Album Version)</td>\n",
       "      <td>The Early Years</td>\n",
       "      <td>Out Of The Grey</td>\n",
       "    </tr>\n",
       "    <tr>\n",
       "      <th>1258</th>\n",
       "      <td>SORXFJS12AB0180C00</td>\n",
       "      <td>Silent Night (Long Version) (2009 Digital Rema...</td>\n",
       "      <td>I Do Not Want What I Haven't Got (Special Edit...</td>\n",
       "      <td>Sinéad O'Connor</td>\n",
       "    </tr>\n",
       "    <tr>\n",
       "      <th>1263</th>\n",
       "      <td>SOHPWWO12AB017D84D</td>\n",
       "      <td>Halcyon: The Heavy Silence: In Silent Rain</td>\n",
       "      <td>Cypher</td>\n",
       "      <td>&amp; And Oceans</td>\n",
       "    </tr>\n",
       "    <tr>\n",
       "      <th>1869</th>\n",
       "      <td>SOFKVBT12A58A79B2C</td>\n",
       "      <td>Silent Tunes Of Falling Blood</td>\n",
       "      <td>Shadows' Blood</td>\n",
       "      <td>Cultus Sanguine</td>\n",
       "    </tr>\n",
       "  </tbody>\n",
       "</table>\n",
       "</div>"
      ],
      "text/plain": [
       "                 song_id                                              title  \\\n",
       "0     SOQMMHC12AB0180CB8                                       Silent Night   \n",
       "49    SOCWWYB12A6D4F9AF4   He Is Not Silent (Out Of The Grey Album Version)   \n",
       "1258  SORXFJS12AB0180C00  Silent Night (Long Version) (2009 Digital Rema...   \n",
       "1263  SOHPWWO12AB017D84D         Halcyon: The Heavy Silence: In Silent Rain   \n",
       "1869  SOFKVBT12A58A79B2C                      Silent Tunes Of Falling Blood   \n",
       "\n",
       "                                                release       artist_name  \n",
       "0                                 Monster Ballads X-Mas  Faster Pussy cat  \n",
       "49                                      The Early Years   Out Of The Grey  \n",
       "1258  I Do Not Want What I Haven't Got (Special Edit...   Sinéad O'Connor  \n",
       "1263                                             Cypher      & And Oceans  \n",
       "1869                                     Shadows' Blood   Cultus Sanguine  "
      ]
     },
     "execution_count": 33,
     "metadata": {},
     "output_type": "execute_result"
    }
   ],
   "source": [
    "df_track_silent = df_track[df_track['title'].str.contains('Silent')]\n",
    "print(\"Jumlah lagu yang memiliki kata silent =\", df_track_silent.shape[0])\n",
    "df_track_silent.head()"
   ]
  },
  {
   "cell_type": "code",
   "execution_count": 34,
   "metadata": {
    "colab": {
     "base_uri": "https://localhost:8080/",
     "height": 206
    },
    "id": "obBxyIB1Ierr",
    "outputId": "6d44e6ed-76aa-47a1-c2b9-1ed95d5e91bf"
   },
   "outputs": [
    {
     "data": {
      "text/html": [
       "<div>\n",
       "<style scoped>\n",
       "    .dataframe tbody tr th:only-of-type {\n",
       "        vertical-align: middle;\n",
       "    }\n",
       "\n",
       "    .dataframe tbody tr th {\n",
       "        vertical-align: top;\n",
       "    }\n",
       "\n",
       "    .dataframe thead th {\n",
       "        text-align: right;\n",
       "    }\n",
       "</style>\n",
       "<table border=\"1\" class=\"dataframe\">\n",
       "  <thead>\n",
       "    <tr style=\"text-align: right;\">\n",
       "      <th></th>\n",
       "      <th>artist_name</th>\n",
       "      <th>count</th>\n",
       "    </tr>\n",
       "  </thead>\n",
       "  <tbody>\n",
       "    <tr>\n",
       "      <th>0</th>\n",
       "      <td>Catherine Howe</td>\n",
       "      <td>12</td>\n",
       "    </tr>\n",
       "    <tr>\n",
       "      <th>1</th>\n",
       "      <td>Jeff And Sheri Easter</td>\n",
       "      <td>6</td>\n",
       "    </tr>\n",
       "    <tr>\n",
       "      <th>2</th>\n",
       "      <td>Swayzak</td>\n",
       "      <td>5</td>\n",
       "    </tr>\n",
       "    <tr>\n",
       "      <th>3</th>\n",
       "      <td>Stephen Varcoe/Choir of King's College_ Cambri...</td>\n",
       "      <td>4</td>\n",
       "    </tr>\n",
       "    <tr>\n",
       "      <th>4</th>\n",
       "      <td>Halford</td>\n",
       "      <td>4</td>\n",
       "    </tr>\n",
       "  </tbody>\n",
       "</table>\n",
       "</div>"
      ],
      "text/plain": [
       "                                         artist_name  count\n",
       "0                                     Catherine Howe     12\n",
       "1                              Jeff And Sheri Easter      6\n",
       "2                                            Swayzak      5\n",
       "3  Stephen Varcoe/Choir of King's College_ Cambri...      4\n",
       "4                                            Halford      4"
      ]
     },
     "execution_count": 34,
     "metadata": {},
     "output_type": "execute_result"
    }
   ],
   "source": [
    "df_artist_silent = df_track_silent['artist_name'].value_counts(ascending=False).reset_index()\n",
    "df_artist_silent.columns = ['artist_name', 'count']\n",
    "df_artist_silent.head()"
   ]
  },
  {
   "cell_type": "code",
   "execution_count": 35,
   "metadata": {
    "colab": {
     "base_uri": "https://localhost:8080/",
     "height": 425
    },
    "id": "4PqI_LByJTPz",
    "outputId": "75417056-6fd0-442f-8182-8ca71c1449ec"
   },
   "outputs": [
    {
     "data": {
      "text/html": [
       "<div>\n",
       "<style scoped>\n",
       "    .dataframe tbody tr th:only-of-type {\n",
       "        vertical-align: middle;\n",
       "    }\n",
       "\n",
       "    .dataframe tbody tr th {\n",
       "        vertical-align: top;\n",
       "    }\n",
       "\n",
       "    .dataframe thead th {\n",
       "        text-align: right;\n",
       "    }\n",
       "</style>\n",
       "<table border=\"1\" class=\"dataframe\">\n",
       "  <thead>\n",
       "    <tr style=\"text-align: right;\">\n",
       "      <th></th>\n",
       "      <th>song_id</th>\n",
       "      <th>title</th>\n",
       "      <th>release</th>\n",
       "      <th>artist_name</th>\n",
       "    </tr>\n",
       "  </thead>\n",
       "  <tbody>\n",
       "    <tr>\n",
       "      <th>173555</th>\n",
       "      <td>SOFVYEY12AB01803A4</td>\n",
       "      <td>What Are Friends For Anyway (From Silent Mothe...</td>\n",
       "      <td>Harry / Silent Mother Nature</td>\n",
       "      <td>Catherine Howe</td>\n",
       "    </tr>\n",
       "    <tr>\n",
       "      <th>218638</th>\n",
       "      <td>SOQKZLZ12AB017E221</td>\n",
       "      <td>It Took My Breath Away (From Silent Mother Nat...</td>\n",
       "      <td>Harry / Silent Mother Nature</td>\n",
       "      <td>Catherine Howe</td>\n",
       "    </tr>\n",
       "    <tr>\n",
       "      <th>227410</th>\n",
       "      <td>SOHKCHB12AB0181FE3</td>\n",
       "      <td>Callous Young Man (From Silent Mother Nature)</td>\n",
       "      <td>Harry / Silent Mother Nature</td>\n",
       "      <td>Catherine Howe</td>\n",
       "    </tr>\n",
       "    <tr>\n",
       "      <th>380503</th>\n",
       "      <td>SOBYDZK12AB017E277</td>\n",
       "      <td>Silent Mother Nature (From Silent Mother Nature)</td>\n",
       "      <td>Harry / Silent Mother Nature</td>\n",
       "      <td>Catherine Howe</td>\n",
       "    </tr>\n",
       "    <tr>\n",
       "      <th>393392</th>\n",
       "      <td>SOGIZHJ12A58A7A96D</td>\n",
       "      <td>Crumbs On The Table (From Silent Mother Nature)</td>\n",
       "      <td>Harry / Silent Mother Nature</td>\n",
       "      <td>Catherine Howe</td>\n",
       "    </tr>\n",
       "    <tr>\n",
       "      <th>421703</th>\n",
       "      <td>SOGGYSM12A58A79111</td>\n",
       "      <td>Freedom Enough (From Silent Mother Nature)</td>\n",
       "      <td>Harry / Silent Mother Nature</td>\n",
       "      <td>Catherine Howe</td>\n",
       "    </tr>\n",
       "    <tr>\n",
       "      <th>544846</th>\n",
       "      <td>SOBVDQM12AB0180385</td>\n",
       "      <td>Just Supposing (From Silent Mother Nature)</td>\n",
       "      <td>Harry / Silent Mother Nature</td>\n",
       "      <td>Catherine Howe</td>\n",
       "    </tr>\n",
       "    <tr>\n",
       "      <th>576610</th>\n",
       "      <td>SOAORSL12A58A7CE57</td>\n",
       "      <td>You Make Me (From Silent Mother Nature)</td>\n",
       "      <td>Harry / Silent Mother Nature</td>\n",
       "      <td>Catherine Howe</td>\n",
       "    </tr>\n",
       "    <tr>\n",
       "      <th>724235</th>\n",
       "      <td>SOKMMKS12A58A78102</td>\n",
       "      <td>The Devil's Driving Me (From Silent Mother Nat...</td>\n",
       "      <td>Harry / Silent Mother Nature</td>\n",
       "      <td>Catherine Howe</td>\n",
       "    </tr>\n",
       "    <tr>\n",
       "      <th>782122</th>\n",
       "      <td>SORZXUE12AB017DFE9</td>\n",
       "      <td>Keep Me Talking (From Silent Mother Nature)</td>\n",
       "      <td>Harry / Silent Mother Nature</td>\n",
       "      <td>Catherine Howe</td>\n",
       "    </tr>\n",
       "    <tr>\n",
       "      <th>904420</th>\n",
       "      <td>SOQBGNQ12AB0181FA2</td>\n",
       "      <td>All The Music In Me (From Silent Mother Nature)</td>\n",
       "      <td>Harry / Silent Mother Nature</td>\n",
       "      <td>Catherine Howe</td>\n",
       "    </tr>\n",
       "    <tr>\n",
       "      <th>925420</th>\n",
       "      <td>SOKKPZB12AB017E005</td>\n",
       "      <td>Lucy Snow (From Silent Mother Nature)</td>\n",
       "      <td>Harry / Silent Mother Nature</td>\n",
       "      <td>Catherine Howe</td>\n",
       "    </tr>\n",
       "  </tbody>\n",
       "</table>\n",
       "</div>"
      ],
      "text/plain": [
       "                   song_id                                              title  \\\n",
       "173555  SOFVYEY12AB01803A4  What Are Friends For Anyway (From Silent Mothe...   \n",
       "218638  SOQKZLZ12AB017E221  It Took My Breath Away (From Silent Mother Nat...   \n",
       "227410  SOHKCHB12AB0181FE3      Callous Young Man (From Silent Mother Nature)   \n",
       "380503  SOBYDZK12AB017E277   Silent Mother Nature (From Silent Mother Nature)   \n",
       "393392  SOGIZHJ12A58A7A96D    Crumbs On The Table (From Silent Mother Nature)   \n",
       "421703  SOGGYSM12A58A79111         Freedom Enough (From Silent Mother Nature)   \n",
       "544846  SOBVDQM12AB0180385         Just Supposing (From Silent Mother Nature)   \n",
       "576610  SOAORSL12A58A7CE57            You Make Me (From Silent Mother Nature)   \n",
       "724235  SOKMMKS12A58A78102  The Devil's Driving Me (From Silent Mother Nat...   \n",
       "782122  SORZXUE12AB017DFE9        Keep Me Talking (From Silent Mother Nature)   \n",
       "904420  SOQBGNQ12AB0181FA2    All The Music In Me (From Silent Mother Nature)   \n",
       "925420  SOKKPZB12AB017E005              Lucy Snow (From Silent Mother Nature)   \n",
       "\n",
       "                             release     artist_name  \n",
       "173555  Harry / Silent Mother Nature  Catherine Howe  \n",
       "218638  Harry / Silent Mother Nature  Catherine Howe  \n",
       "227410  Harry / Silent Mother Nature  Catherine Howe  \n",
       "380503  Harry / Silent Mother Nature  Catherine Howe  \n",
       "393392  Harry / Silent Mother Nature  Catherine Howe  \n",
       "421703  Harry / Silent Mother Nature  Catherine Howe  \n",
       "544846  Harry / Silent Mother Nature  Catherine Howe  \n",
       "576610  Harry / Silent Mother Nature  Catherine Howe  \n",
       "724235  Harry / Silent Mother Nature  Catherine Howe  \n",
       "782122  Harry / Silent Mother Nature  Catherine Howe  \n",
       "904420  Harry / Silent Mother Nature  Catherine Howe  \n",
       "925420  Harry / Silent Mother Nature  Catherine Howe  "
      ]
     },
     "execution_count": 35,
     "metadata": {},
     "output_type": "execute_result"
    }
   ],
   "source": [
    "df_track_silent[df_track_silent['artist_name'] == \"Catherine Howe\"]"
   ]
  },
  {
   "cell_type": "code",
   "execution_count": 36,
   "metadata": {
    "colab": {
     "base_uri": "https://localhost:8080/",
     "height": 237
    },
    "id": "1bVPJCSfK1B9",
    "outputId": "77af17ca-54b7-4a64-d70b-c212d7287d91"
   },
   "outputs": [
    {
     "data": {
      "text/html": [
       "<div>\n",
       "<style scoped>\n",
       "    .dataframe tbody tr th:only-of-type {\n",
       "        vertical-align: middle;\n",
       "    }\n",
       "\n",
       "    .dataframe tbody tr th {\n",
       "        vertical-align: top;\n",
       "    }\n",
       "\n",
       "    .dataframe thead th {\n",
       "        text-align: right;\n",
       "    }\n",
       "</style>\n",
       "<table border=\"1\" class=\"dataframe\">\n",
       "  <thead>\n",
       "    <tr style=\"text-align: right;\">\n",
       "      <th></th>\n",
       "      <th>song_id</th>\n",
       "      <th>title</th>\n",
       "      <th>release</th>\n",
       "      <th>artist_name</th>\n",
       "    </tr>\n",
       "  </thead>\n",
       "  <tbody>\n",
       "    <tr>\n",
       "      <th>15565</th>\n",
       "      <td>SOWHDLQ12A58A7BE59</td>\n",
       "      <td>We Need Hope (Silent Witness Album Version)</td>\n",
       "      <td>Silent Witness</td>\n",
       "      <td>Jeff And Sheri Easter</td>\n",
       "    </tr>\n",
       "    <tr>\n",
       "      <th>162966</th>\n",
       "      <td>SOQFMCQ12A6D4F810E</td>\n",
       "      <td>Let The Little Things Go (Silent Witness Album...</td>\n",
       "      <td>Silent Witness</td>\n",
       "      <td>Jeff And Sheri Easter</td>\n",
       "    </tr>\n",
       "    <tr>\n",
       "      <th>292575</th>\n",
       "      <td>SOUGUBP12A6D4F810F</td>\n",
       "      <td>Hope For The Hopeless (Silent Witness Album Ve...</td>\n",
       "      <td>Silent Witness</td>\n",
       "      <td>Jeff And Sheri Easter</td>\n",
       "    </tr>\n",
       "    <tr>\n",
       "      <th>437019</th>\n",
       "      <td>SOKCIGV12A6D4F810B</td>\n",
       "      <td>A Love That Keeps On Giving (Silent Witness Al...</td>\n",
       "      <td>Silent Witness</td>\n",
       "      <td>Jeff And Sheri Easter</td>\n",
       "    </tr>\n",
       "    <tr>\n",
       "      <th>516390</th>\n",
       "      <td>SOSPUYN12A6D4F810D</td>\n",
       "      <td>In God's Hands (Silent Witness Album Version)</td>\n",
       "      <td>Silent Witness</td>\n",
       "      <td>Jeff And Sheri Easter</td>\n",
       "    </tr>\n",
       "    <tr>\n",
       "      <th>909408</th>\n",
       "      <td>SOXCYKL12A58A7D8F0</td>\n",
       "      <td>Don't Let Cain Kill Abel (Silent Witness Album...</td>\n",
       "      <td>Silent Witness</td>\n",
       "      <td>Jeff And Sheri Easter</td>\n",
       "    </tr>\n",
       "  </tbody>\n",
       "</table>\n",
       "</div>"
      ],
      "text/plain": [
       "                   song_id                                              title  \\\n",
       "15565   SOWHDLQ12A58A7BE59        We Need Hope (Silent Witness Album Version)   \n",
       "162966  SOQFMCQ12A6D4F810E  Let The Little Things Go (Silent Witness Album...   \n",
       "292575  SOUGUBP12A6D4F810F  Hope For The Hopeless (Silent Witness Album Ve...   \n",
       "437019  SOKCIGV12A6D4F810B  A Love That Keeps On Giving (Silent Witness Al...   \n",
       "516390  SOSPUYN12A6D4F810D      In God's Hands (Silent Witness Album Version)   \n",
       "909408  SOXCYKL12A58A7D8F0  Don't Let Cain Kill Abel (Silent Witness Album...   \n",
       "\n",
       "               release            artist_name  \n",
       "15565   Silent Witness  Jeff And Sheri Easter  \n",
       "162966  Silent Witness  Jeff And Sheri Easter  \n",
       "292575  Silent Witness  Jeff And Sheri Easter  \n",
       "437019  Silent Witness  Jeff And Sheri Easter  \n",
       "516390  Silent Witness  Jeff And Sheri Easter  \n",
       "909408  Silent Witness  Jeff And Sheri Easter  "
      ]
     },
     "execution_count": 36,
     "metadata": {},
     "output_type": "execute_result"
    }
   ],
   "source": [
    "df_track_silent[df_track_silent['artist_name'] == \"Jeff And Sheri Easter\"]"
   ]
  },
  {
   "cell_type": "code",
   "execution_count": 37,
   "metadata": {
    "colab": {
     "base_uri": "https://localhost:8080/",
     "height": 206
    },
    "id": "syjso9GdLG6Y",
    "outputId": "ff340f2f-dce2-4dbe-c73c-08f1a8a8d9e3"
   },
   "outputs": [
    {
     "data": {
      "text/html": [
       "<div>\n",
       "<style scoped>\n",
       "    .dataframe tbody tr th:only-of-type {\n",
       "        vertical-align: middle;\n",
       "    }\n",
       "\n",
       "    .dataframe tbody tr th {\n",
       "        vertical-align: top;\n",
       "    }\n",
       "\n",
       "    .dataframe thead th {\n",
       "        text-align: right;\n",
       "    }\n",
       "</style>\n",
       "<table border=\"1\" class=\"dataframe\">\n",
       "  <thead>\n",
       "    <tr style=\"text-align: right;\">\n",
       "      <th></th>\n",
       "      <th>song_id</th>\n",
       "      <th>title</th>\n",
       "      <th>release</th>\n",
       "      <th>artist_name</th>\n",
       "    </tr>\n",
       "  </thead>\n",
       "  <tbody>\n",
       "    <tr>\n",
       "      <th>144776</th>\n",
       "      <td>SONCUHG12A8C138332</td>\n",
       "      <td>Silent Luv (Andre Kurbel Remix)</td>\n",
       "      <td>Silent Luv</td>\n",
       "      <td>Swayzak</td>\n",
       "    </tr>\n",
       "    <tr>\n",
       "      <th>338362</th>\n",
       "      <td>SOLLSVJ12A8C138334</td>\n",
       "      <td>Silent Luv (Anomy Remix)</td>\n",
       "      <td>Silent Luv</td>\n",
       "      <td>Swayzak</td>\n",
       "    </tr>\n",
       "    <tr>\n",
       "      <th>753711</th>\n",
       "      <td>SOBJKPG12A8C138336</td>\n",
       "      <td>Silent Luv (David Jay Dub'it Mix)</td>\n",
       "      <td>Silent Luv</td>\n",
       "      <td>Swayzak</td>\n",
       "    </tr>\n",
       "    <tr>\n",
       "      <th>804083</th>\n",
       "      <td>SOIQGFQ12A8C132491</td>\n",
       "      <td>Silent Luv</td>\n",
       "      <td>Silent Luv</td>\n",
       "      <td>Swayzak</td>\n",
       "    </tr>\n",
       "    <tr>\n",
       "      <th>811644</th>\n",
       "      <td>SOLHVCB12A8C13832E</td>\n",
       "      <td>Silent Luv (Bruns Silent Dubh)</td>\n",
       "      <td>Silent Luv</td>\n",
       "      <td>Swayzak</td>\n",
       "    </tr>\n",
       "  </tbody>\n",
       "</table>\n",
       "</div>"
      ],
      "text/plain": [
       "                   song_id                              title     release  \\\n",
       "144776  SONCUHG12A8C138332    Silent Luv (Andre Kurbel Remix)  Silent Luv   \n",
       "338362  SOLLSVJ12A8C138334           Silent Luv (Anomy Remix)  Silent Luv   \n",
       "753711  SOBJKPG12A8C138336  Silent Luv (David Jay Dub'it Mix)  Silent Luv   \n",
       "804083  SOIQGFQ12A8C132491                         Silent Luv  Silent Luv   \n",
       "811644  SOLHVCB12A8C13832E     Silent Luv (Bruns Silent Dubh)  Silent Luv   \n",
       "\n",
       "       artist_name  \n",
       "144776     Swayzak  \n",
       "338362     Swayzak  \n",
       "753711     Swayzak  \n",
       "804083     Swayzak  \n",
       "811644     Swayzak  "
      ]
     },
     "execution_count": 37,
     "metadata": {},
     "output_type": "execute_result"
    }
   ],
   "source": [
    "df_track_silent[df_track_silent['artist_name'] == \"Swayzak\"]"
   ]
  },
  {
   "cell_type": "markdown",
   "metadata": {
    "id": "AYT3RdS4cYQ8"
   },
   "source": [
    "* Kata terbanyak yang muncul dalam judul lagu pada dataset adalah \"Silent\".\n",
    "* Berdasarkan 3 penyanyi teratas yang menggunakan kata \"Silent\" dalam judul lagunya, judul lagu yang dimiliki ternyata mengandung nama albumnya sehingga setiap lagu yang ada di dalam album itu memiliki kata \"Silent\" di dalam judul lagunya. Selain mengandung nama album, terdapat penyanyi yang lagunya di-remix oleh beberapa orang sehingga judul lagunya berulang dengan remix yang berbeda-beda."
   ]
  },
  {
   "cell_type": "markdown",
   "metadata": {
    "id": "4w404fCHprk3"
   },
   "source": [
    "## Apa lagu yang membuat pengguna terobsesi?"
   ]
  },
  {
   "cell_type": "code",
   "execution_count": 38,
   "metadata": {
    "colab": {
     "base_uri": "https://localhost:8080/",
     "height": 112
    },
    "id": "3Y4rhfDqTJsJ",
    "outputId": "d80856ed-cccd-43d2-f029-a9ff55351129"
   },
   "outputs": [
    {
     "data": {
      "text/html": [
       "<div>\n",
       "<style scoped>\n",
       "    .dataframe tbody tr th:only-of-type {\n",
       "        vertical-align: middle;\n",
       "    }\n",
       "\n",
       "    .dataframe tbody tr th {\n",
       "        vertical-align: top;\n",
       "    }\n",
       "\n",
       "    .dataframe thead th {\n",
       "        text-align: right;\n",
       "    }\n",
       "</style>\n",
       "<table border=\"1\" class=\"dataframe\">\n",
       "  <thead>\n",
       "    <tr style=\"text-align: right;\">\n",
       "      <th></th>\n",
       "      <th>0</th>\n",
       "      <th>1</th>\n",
       "      <th>2</th>\n",
       "      <th>3</th>\n",
       "      <th>4</th>\n",
       "      <th>5</th>\n",
       "      <th>6</th>\n",
       "      <th>7</th>\n",
       "    </tr>\n",
       "  </thead>\n",
       "  <tbody>\n",
       "    <tr>\n",
       "      <th>index</th>\n",
       "      <td>count</td>\n",
       "      <td>mean</td>\n",
       "      <td>std</td>\n",
       "      <td>min</td>\n",
       "      <td>25%</td>\n",
       "      <td>50%</td>\n",
       "      <td>75%</td>\n",
       "      <td>max</td>\n",
       "    </tr>\n",
       "    <tr>\n",
       "      <th>listen_count</th>\n",
       "      <td>1718983.0</td>\n",
       "      <td>3.050911</td>\n",
       "      <td>6.635798</td>\n",
       "      <td>1.0</td>\n",
       "      <td>1.0</td>\n",
       "      <td>1.0</td>\n",
       "      <td>3.0</td>\n",
       "      <td>2213.0</td>\n",
       "    </tr>\n",
       "  </tbody>\n",
       "</table>\n",
       "</div>"
      ],
      "text/plain": [
       "                      0         1         2    3    4    5    6       7\n",
       "index             count      mean       std  min  25%  50%  75%     max\n",
       "listen_count  1718983.0  3.050911  6.635798  1.0  1.0  1.0  3.0  2213.0"
      ]
     },
     "execution_count": 38,
     "metadata": {},
     "output_type": "execute_result"
    }
   ],
   "source": [
    "df_merge['listen_count'].describe().reset_index().T"
   ]
  },
  {
   "cell_type": "code",
   "execution_count": 39,
   "metadata": {
    "colab": {
     "base_uri": "https://localhost:8080/",
     "height": 525
    },
    "id": "r7_edWzQpvmV",
    "outputId": "5347a2e7-1122-4310-ba1c-c5c1b600edae"
   },
   "outputs": [
    {
     "name": "stdout",
     "output_type": "stream",
     "text": [
      "Pengguna yang mendengarkan suatu lagu lebih dari 500 kali adalah 0.064%\n"
     ]
    },
    {
     "data": {
      "text/html": [
       "<div>\n",
       "<style scoped>\n",
       "    .dataframe tbody tr th:only-of-type {\n",
       "        vertical-align: middle;\n",
       "    }\n",
       "\n",
       "    .dataframe tbody tr th {\n",
       "        vertical-align: top;\n",
       "    }\n",
       "\n",
       "    .dataframe thead th {\n",
       "        text-align: right;\n",
       "    }\n",
       "</style>\n",
       "<table border=\"1\" class=\"dataframe\">\n",
       "  <thead>\n",
       "    <tr style=\"text-align: right;\">\n",
       "      <th></th>\n",
       "      <th>user_id</th>\n",
       "      <th>song_id</th>\n",
       "      <th>listen_count</th>\n",
       "      <th>title</th>\n",
       "      <th>release</th>\n",
       "      <th>artist_name</th>\n",
       "    </tr>\n",
       "  </thead>\n",
       "  <tbody>\n",
       "    <tr>\n",
       "      <th>1228366</th>\n",
       "      <td>d13609d62db6df876d3cc388225478618bb7b912</td>\n",
       "      <td>SOFCGSE12AF72A674F</td>\n",
       "      <td>2213</td>\n",
       "      <td>Starshine</td>\n",
       "      <td>Gorillaz</td>\n",
       "      <td>Gorillaz</td>\n",
       "    </tr>\n",
       "    <tr>\n",
       "      <th>1586780</th>\n",
       "      <td>5ea608df0357ec4fda191cb9316fe8e6e65e3777</td>\n",
       "      <td>SOKOSPK12A8C13C088</td>\n",
       "      <td>879</td>\n",
       "      <td>Call It Off (Album Version)</td>\n",
       "      <td>The Con</td>\n",
       "      <td>Tegan And Sara</td>\n",
       "    </tr>\n",
       "    <tr>\n",
       "      <th>31179</th>\n",
       "      <td>bb85bb79612e5373ac714fcd4469cabeb5ed94e1</td>\n",
       "      <td>SOZQSVB12A8C13C271</td>\n",
       "      <td>796</td>\n",
       "      <td>Paradise &amp; Dreams</td>\n",
       "      <td>Skydivin'</td>\n",
       "      <td>Darren Styles</td>\n",
       "    </tr>\n",
       "    <tr>\n",
       "      <th>1875121</th>\n",
       "      <td>c012ec364329bb08cbe3e62fe76db31f8c5d8ec3</td>\n",
       "      <td>SOBONKR12A58A7A7E0</td>\n",
       "      <td>683</td>\n",
       "      <td>You're The One</td>\n",
       "      <td>If There Was A Way</td>\n",
       "      <td>Dwight Yoakam</td>\n",
       "    </tr>\n",
       "    <tr>\n",
       "      <th>1644909</th>\n",
       "      <td>70caceccaa745b6f7bc2898a154538eb1ada4d5a</td>\n",
       "      <td>SOPREHY12AB01815F9</td>\n",
       "      <td>676</td>\n",
       "      <td>I'm On A Boat</td>\n",
       "      <td>Incredibad</td>\n",
       "      <td>The Lonely Island / T-Pain</td>\n",
       "    </tr>\n",
       "    <tr>\n",
       "      <th>1374693</th>\n",
       "      <td>d2232ac7a1ec17b283b5dff243161902b2cb706c</td>\n",
       "      <td>SOLGIWB12A58A77A05</td>\n",
       "      <td>649</td>\n",
       "      <td>Reelin' In The Years</td>\n",
       "      <td>The Definitive Collection</td>\n",
       "      <td>Steely Dan</td>\n",
       "    </tr>\n",
       "    <tr>\n",
       "      <th>1819571</th>\n",
       "      <td>f5363481018dc87e8b06f9451e99804610a594fa</td>\n",
       "      <td>SOVRIPE12A6D4FEA19</td>\n",
       "      <td>605</td>\n",
       "      <td>Can't Help But Wait (Album Version)</td>\n",
       "      <td>Kiss Presents The Mixtape</td>\n",
       "      <td>Trey Songz</td>\n",
       "    </tr>\n",
       "    <tr>\n",
       "      <th>515442</th>\n",
       "      <td>f1bdbb9fb7399b402a09fa124210dedf78e76034</td>\n",
       "      <td>SOZPMJT12AAF3B40D1</td>\n",
       "      <td>585</td>\n",
       "      <td>The Quest</td>\n",
       "      <td>A Taste Of Extreme Divinity</td>\n",
       "      <td>HYPOCRISY</td>\n",
       "    </tr>\n",
       "    <tr>\n",
       "      <th>1644901</th>\n",
       "      <td>70caceccaa745b6f7bc2898a154538eb1ada4d5a</td>\n",
       "      <td>SOJCRUY12A67ADA4C2</td>\n",
       "      <td>553</td>\n",
       "      <td>Fast Car (LP Version)</td>\n",
       "      <td>Tracy Chapman</td>\n",
       "      <td>Tracy Chapman</td>\n",
       "    </tr>\n",
       "    <tr>\n",
       "      <th>1578918</th>\n",
       "      <td>2be4e2736f580dd4fe7b489f675935ccfad0a453</td>\n",
       "      <td>SOXBCZH12A67ADAD77</td>\n",
       "      <td>500</td>\n",
       "      <td>Peace Train</td>\n",
       "      <td>On The Road To Find Out (Repackaged)</td>\n",
       "      <td>Cat Stevens</td>\n",
       "    </tr>\n",
       "    <tr>\n",
       "      <th>1875142</th>\n",
       "      <td>c012ec364329bb08cbe3e62fe76db31f8c5d8ec3</td>\n",
       "      <td>SOZOWON12A67ADA091</td>\n",
       "      <td>500</td>\n",
       "      <td>Glamorous</td>\n",
       "      <td>Big Summer Tunes</td>\n",
       "      <td>Fergie / Ludacris</td>\n",
       "    </tr>\n",
       "  </tbody>\n",
       "</table>\n",
       "</div>"
      ],
      "text/plain": [
       "                                          user_id             song_id  \\\n",
       "1228366  d13609d62db6df876d3cc388225478618bb7b912  SOFCGSE12AF72A674F   \n",
       "1586780  5ea608df0357ec4fda191cb9316fe8e6e65e3777  SOKOSPK12A8C13C088   \n",
       "31179    bb85bb79612e5373ac714fcd4469cabeb5ed94e1  SOZQSVB12A8C13C271   \n",
       "1875121  c012ec364329bb08cbe3e62fe76db31f8c5d8ec3  SOBONKR12A58A7A7E0   \n",
       "1644909  70caceccaa745b6f7bc2898a154538eb1ada4d5a  SOPREHY12AB01815F9   \n",
       "1374693  d2232ac7a1ec17b283b5dff243161902b2cb706c  SOLGIWB12A58A77A05   \n",
       "1819571  f5363481018dc87e8b06f9451e99804610a594fa  SOVRIPE12A6D4FEA19   \n",
       "515442   f1bdbb9fb7399b402a09fa124210dedf78e76034  SOZPMJT12AAF3B40D1   \n",
       "1644901  70caceccaa745b6f7bc2898a154538eb1ada4d5a  SOJCRUY12A67ADA4C2   \n",
       "1578918  2be4e2736f580dd4fe7b489f675935ccfad0a453  SOXBCZH12A67ADAD77   \n",
       "1875142  c012ec364329bb08cbe3e62fe76db31f8c5d8ec3  SOZOWON12A67ADA091   \n",
       "\n",
       "         listen_count                                title  \\\n",
       "1228366          2213                            Starshine   \n",
       "1586780           879          Call It Off (Album Version)   \n",
       "31179             796                    Paradise & Dreams   \n",
       "1875121           683                       You're The One   \n",
       "1644909           676                        I'm On A Boat   \n",
       "1374693           649                 Reelin' In The Years   \n",
       "1819571           605  Can't Help But Wait (Album Version)   \n",
       "515442            585                            The Quest   \n",
       "1644901           553                Fast Car (LP Version)   \n",
       "1578918           500                          Peace Train   \n",
       "1875142           500                            Glamorous   \n",
       "\n",
       "                                      release                 artist_name  \n",
       "1228366                              Gorillaz                    Gorillaz  \n",
       "1586780                               The Con              Tegan And Sara  \n",
       "31179                               Skydivin'               Darren Styles  \n",
       "1875121                    If There Was A Way               Dwight Yoakam  \n",
       "1644909                            Incredibad  The Lonely Island / T-Pain  \n",
       "1374693             The Definitive Collection                  Steely Dan  \n",
       "1819571             Kiss Presents The Mixtape                  Trey Songz  \n",
       "515442            A Taste Of Extreme Divinity                   HYPOCRISY  \n",
       "1644901                         Tracy Chapman               Tracy Chapman  \n",
       "1578918  On The Road To Find Out (Repackaged)                 Cat Stevens  \n",
       "1875142                      Big Summer Tunes           Fergie / Ludacris  "
      ]
     },
     "execution_count": 39,
     "metadata": {},
     "output_type": "execute_result"
    }
   ],
   "source": [
    "df_obsessed = df_merge[df_merge['listen_count'] >= 500].sort_values('listen_count', ascending=False)\n",
    "percentage = df_obsessed.shape[0]/df_merge.shape[0] * 100\n",
    "print(\"Pengguna yang mendengarkan suatu lagu lebih dari 500 kali adalah {:.3%}\".format(percentage))\n",
    "df_obsessed"
   ]
  },
  {
   "cell_type": "code",
   "execution_count": 40,
   "metadata": {
    "colab": {
     "base_uri": "https://localhost:8080/"
    },
    "id": "YA3VnsHwO7Mb",
    "outputId": "45ba67a6-619c-447e-a68c-3e0fbe57cbbd"
   },
   "outputs": [
    {
     "name": "stdout",
     "output_type": "stream",
     "text": [
      "Pengguna mendengarkan lagu Starshine sebanyak 5.378819444444445 hari\n",
      "Pengguna mendengarkan lagu Call It Off (Album Version) sebanyak 2.136458333333333 hari\n",
      "Pengguna mendengarkan lagu Paradise & Dreams sebanyak 1.934722222222222 hari\n",
      "Pengguna mendengarkan lagu You're The One sebanyak 1.6600694444444446 hari\n",
      "Pengguna mendengarkan lagu I'm On A Boat sebanyak 1.6430555555555555 hari\n",
      "Pengguna mendengarkan lagu Reelin' In The Years sebanyak 1.5774305555555557 hari\n",
      "Pengguna mendengarkan lagu Can't Help But Wait (Album Version) sebanyak 1.470486111111111 hari\n",
      "Pengguna mendengarkan lagu The Quest sebanyak 1.421875 hari\n",
      "Pengguna mendengarkan lagu Fast Car (LP Version) sebanyak 1.3440972222222223 hari\n",
      "Pengguna mendengarkan lagu Peace Train sebanyak 1.215277777777778 hari\n",
      "Pengguna mendengarkan lagu Glamorous sebanyak 1.215277777777778 hari\n"
     ]
    }
   ],
   "source": [
    "for i in range(df_obsessed.shape[0]):\n",
    "  day = df_obsessed['listen_count'].iloc[i] * 3.5 / 60 / 24\n",
    "  print(\"Pengguna mendengarkan lagu\", df_obsessed['title'].iloc[i], \"sebanyak\", day, \"hari\")"
   ]
  },
  {
   "cell_type": "markdown",
   "metadata": {
    "id": "clCAOK-zp0nj"
   },
   "source": [
    "* Terdapat pengguna yang terobsesi dengan suatu lagu hingga 2213 kali memutarnya, padahal pada kuartil 3 (75%) hanya memutar 3 kali.\n",
    "* Terdapat 11 pengguna yang mendengarkan suatu lagu lebih dari 500 kali dengan persentase 0.064% dari keseluruhan data yang ada.\n",
    "* Dengan asumsi durasi setiap lagu selama 3.30 menit, pengguna yang paling terobsesi atau yang mendengarkan suatu lagu paling banyak mendengarkan lagu tersebut selama 5.38 hari."
   ]
  },
  {
   "cell_type": "markdown",
   "metadata": {
    "id": "gbNp43bEjicv"
   },
   "source": [
    "## Berapa macam lagu yang diputar oleh pengguna?"
   ]
  },
  {
   "cell_type": "code",
   "execution_count": 41,
   "metadata": {
    "colab": {
     "base_uri": "https://localhost:8080/"
    },
    "id": "-y72IHMr_hOq",
    "outputId": "be00263a-3bba-4d86-e47e-e783c9a15052"
   },
   "outputs": [
    {
     "name": "stdout",
     "output_type": "stream",
     "text": [
      "Lagu yang didengarkan pengguna = 8841\n"
     ]
    }
   ],
   "source": [
    "print(\"Lagu yang didengarkan pengguna =\", df_merge['song_id'].nunique())"
   ]
  },
  {
   "cell_type": "code",
   "execution_count": 42,
   "metadata": {
    "colab": {
     "base_uri": "https://localhost:8080/",
     "height": 206
    },
    "id": "daFW71XHjpuT",
    "outputId": "9c90256f-c4a2-4fd9-c152-5f2905b4d46f"
   },
   "outputs": [
    {
     "data": {
      "text/html": [
       "<div>\n",
       "<style scoped>\n",
       "    .dataframe tbody tr th:only-of-type {\n",
       "        vertical-align: middle;\n",
       "    }\n",
       "\n",
       "    .dataframe tbody tr th {\n",
       "        vertical-align: top;\n",
       "    }\n",
       "\n",
       "    .dataframe thead th {\n",
       "        text-align: right;\n",
       "    }\n",
       "</style>\n",
       "<table border=\"1\" class=\"dataframe\">\n",
       "  <thead>\n",
       "    <tr style=\"text-align: right;\">\n",
       "      <th></th>\n",
       "      <th>user_id</th>\n",
       "      <th>song_count</th>\n",
       "    </tr>\n",
       "  </thead>\n",
       "  <tbody>\n",
       "    <tr>\n",
       "      <th>0</th>\n",
       "      <td>6d625c6557df84b60d90426c0116138b617b9449</td>\n",
       "      <td>617</td>\n",
       "    </tr>\n",
       "    <tr>\n",
       "      <th>1</th>\n",
       "      <td>fbee1c8ce1a346fa07d2ef648cec81117438b91f</td>\n",
       "      <td>552</td>\n",
       "    </tr>\n",
       "    <tr>\n",
       "      <th>2</th>\n",
       "      <td>24b98f8ab023f6e7a1c37c7729c623f7b821eb95</td>\n",
       "      <td>515</td>\n",
       "    </tr>\n",
       "    <tr>\n",
       "      <th>3</th>\n",
       "      <td>4e11f45d732f4861772b2906f81a7d384552ad12</td>\n",
       "      <td>507</td>\n",
       "    </tr>\n",
       "    <tr>\n",
       "      <th>4</th>\n",
       "      <td>15eeb36ae1c62d60de9fdeea0d121eb7d08713be</td>\n",
       "      <td>497</td>\n",
       "    </tr>\n",
       "  </tbody>\n",
       "</table>\n",
       "</div>"
      ],
      "text/plain": [
       "                                    user_id  song_count\n",
       "0  6d625c6557df84b60d90426c0116138b617b9449         617\n",
       "1  fbee1c8ce1a346fa07d2ef648cec81117438b91f         552\n",
       "2  24b98f8ab023f6e7a1c37c7729c623f7b821eb95         515\n",
       "3  4e11f45d732f4861772b2906f81a7d384552ad12         507\n",
       "4  15eeb36ae1c62d60de9fdeea0d121eb7d08713be         497"
      ]
     },
     "execution_count": 42,
     "metadata": {},
     "output_type": "execute_result"
    }
   ],
   "source": [
    "df_users = df_merge['user_id'].value_counts(ascending=False).reset_index()\n",
    "df_users.columns = ['user_id', 'song_count']\n",
    "df_users.head()"
   ]
  },
  {
   "cell_type": "code",
   "execution_count": 43,
   "metadata": {
    "id": "gp24TYXhPoyS"
   },
   "outputs": [
    {
     "data": {
      "image/png": "[encoded data removed]",
      "text/plain": [
       "<Figure size 1440x504 with 2 Axes>"
      ]
     },
     "metadata": {
      "needs_background": "light"
     },
     "output_type": "display_data"
    }
   ],
   "source": [
    "fig = plt.figure(figsize=(20,7))\n",
    "\n",
    "f1 = fig.add_subplot(121)\n",
    "sns.distplot(df_users['song_count'])\n",
    "f1.set_title('Density Plot')\n",
    "f1.set_xlabel('song_count')\n",
    "f1.set_ylabel('count')\n",
    "\n",
    "f2 = fig.add_subplot(122)\n",
    "res = probplot(df_users['song_count'], plot=f2)\n",
    "f2.set_title('QQ Plot')\n",
    "\n",
    "plt.tight_layout()\n",
    "plt.show()"
   ]
  },
  {
   "cell_type": "markdown",
   "metadata": {
    "id": "dnMStGCTXeJ7"
   },
   "source": [
    "Density plot adalah grafik yang menggambarkan distribusi data menggunakan kurva kontinu. Grafik ini umumnya digunakan untuk menilai kompleksitas distribusi data dan dapat digunakan untuk membandingkan beberapa set data. Kurva pada density plot dihasilkan dengan menghitung jumlah titik data yang berada dalam jangkauan tertentu dan membaginya dengan luas area dalam jangkauan tersebut. Sementara, QQ plot atau Quantile-Quantile plot adalah sebuah grafik yang digunakan untuk menguji kesamaan distribusi antara dua sampel data. QQ plot menggambarkan titik-titik data dari dua distribusi yang dibandingkan, sehingga memudahkan untuk menentukan apakah dua distribusi tersebut mirip atau tidak. QQ plot biasanya digunakan untuk membandingkan data dengan distribusi normal."
   ]
  },
  {
   "cell_type": "code",
   "execution_count": 44,
   "metadata": {
    "colab": {
     "base_uri": "https://localhost:8080/"
    },
    "id": "NuwDQPvrRWN2",
    "outputId": "9c5a6d79-aa12-4e12-ab38-cf89af782811"
   },
   "outputs": [
    {
     "name": "stdout",
     "output_type": "stream",
     "text": [
      "Mean = 22.565939403486663\n",
      "Standar Deviasi = 27.606344021106032\n",
      "Skewness = 4.300215672392979\n",
      "Kurtosis = 33.8638481122249\n"
     ]
    }
   ],
   "source": [
    "print(\"Mean =\", df_users['song_count'].mean())\n",
    "print(\"Standar Deviasi =\", df_users['song_count'].std())\n",
    "print(\"Skewness =\", df_users['song_count'].skew())\n",
    "print(\"Kurtosis =\", df_users['song_count'].kurt())"
   ]
  },
  {
   "cell_type": "markdown",
   "metadata": {
    "id": "VJd0AMXyaab3"
   },
   "source": [
    "Skewness dalam distribusi normal adalah nol. Skewness mengukur ketidaksimetrian dari distribusi data. Dalam distribusi normal, titik tengah, median, dan mean sama, sehingga tidak ada ketidaksimetrian, atau skewness, yang terdeteksi. Sementara, kurtosis adalah istilah statistik yang mengukur tingkat kekerasan suatu distribusi data. Kurtosis dicirikan oleh puncak yang lebih tinggi dari distribusi normal. Kurtosis memiliki berbagai kegunaan, termasuk membantu dalam membandingkan distribusi data dengan distribusi normal."
   ]
  },
  {
   "cell_type": "code",
   "execution_count": 45,
   "metadata": {
    "colab": {
     "base_uri": "https://localhost:8080/"
    },
    "id": "teDc1SCleiqb",
    "outputId": "618ecdbc-b980-4518-fd4b-9e27fe1c842e"
   },
   "outputs": [
    {
     "name": "stdout",
     "output_type": "stream",
     "text": [
      "Outliers: [617, 552, 515, 507, 497, 474, 472, 447, 434, 420, 407, 400, 395, 391, 373, 367, 363, 362, 362, 358, 352, 352, 351, 348, 347, 345, 333, 330, 325, 323, 323, 315, 315, 310, 309, 305, 304, 302, 302, 297, 294, 294, 292, 292, 290, 290, 288, 288, 287, 286, 286, 285, 285, 282, 281, 279, 279, 277, 277, 276, 276, 275, 274, 274, 274, 273, 271, 270, 270, 268, 265, 265, 265, 265, 265, 264, 264, 262, 262, 258, 258, 257, 256, 255, 255, 254, 254, 253, 253, 252, 252, 249, 249, 249, 249, 248, 248, 248, 247, 247, 246, 246, 245, 245, 245, 244, 244, 244, 243, 242, 242, 242, 242, 241, 239, 239, 238, 238, 238, 237, 237, 237, 236, 236, 236, 235, 233, 233, 233, 233, 233, 233, 233, 232, 232, 232, 231, 231, 231, 230, 229, 228, 228, 228, 227, 227, 227, 226, 226, 225, 224, 224, 223, 223, 222, 222, 222, 222, 221, 221, 221, 221, 220, 220, 220, 219, 219, 218, 217, 216, 216, 216, 216, 216, 216, 216, 215, 215, 215, 215, 214, 214, 214, 214, 213, 213, 212, 211, 211, 211, 210, 210, 210, 210, 209, 209, 208, 208, 208, 207, 207, 207, 206, 205, 205, 205, 205, 204, 204, 203, 203, 203, 203, 203, 203, 203, 203, 202, 202, 201, 201, 200, 200, 200, 200, 200, 200, 200, 199, 199, 199, 199, 198, 197, 197, 197, 196, 196, 196, 196, 196, 195, 195, 195, 195, 195, 195, 195, 195, 194, 194, 194, 193, 193, 193, 193, 193, 192, 192, 192, 192, 191, 191, 191, 191, 191, 190, 190, 190, 190, 190, 190, 189, 189, 189, 189, 189, 189, 189, 189, 188, 188, 188, 188, 187, 187, 187, 187, 186, 186, 186, 185, 185, 185, 185, 185, 185, 185, 185, 185, 185, 184, 184, 184, 184, 184, 184, 184, 184, 183, 183, 183, 183, 183, 182, 182, 182, 182, 182, 182, 182, 181, 181, 181, 181, 181, 181, 180, 180, 179, 179, 179, 179, 179, 179, 179, 179, 179, 179, 179, 179, 179, 178, 178, 178, 178, 178, 178, 178, 177, 177, 177, 177, 177, 177, 176, 176, 176, 175, 175, 175, 175, 175, 175, 174, 174, 174, 174, 173, 173, 173, 173, 173, 173, 173, 173, 172, 172, 172, 172, 172, 171, 171, 171, 171, 171, 171, 170, 170, 170, 169, 169, 169, 169, 169, 169, 169, 168, 168, 168, 168, 168, 168, 168, 168, 168, 168, 168, 168, 168, 168, 168, 167, 167, 167, 167, 167, 166, 166, 166, 166, 166, 166, 166, 165, 165, 165, 165, 165, 165, 165, 165, 165, 165, 164, 164, 164, 164, 164, 164, 164, 164, 164, 163, 163, 163, 162, 162, 162, 162, 162, 162, 162, 162, 161, 161, 161, 161, 161, 161, 161, 161, 161, 161, 161, 161, 160, 160, 160, 160, 160, 160, 160, 160, 160, 160, 159, 159, 159, 159, 159, 159, 159, 159, 159, 159, 158, 158, 158, 158, 158, 158, 158, 158, 158, 158, 157, 157, 157, 157, 157, 157, 157, 157, 157, 157, 157, 156, 156, 156, 156, 156, 156, 156, 156, 156, 156, 156, 155, 155, 155, 155, 155, 155, 155, 155, 154, 154, 154, 154, 154, 154, 154, 154, 154, 154, 154, 153, 153, 153, 153, 153, 153, 153, 153, 153, 153, 153, 153, 153, 153, 152, 152, 152, 152, 152, 152, 152, 152, 152, 152, 152, 152, 152, 152, 151, 151, 151, 151, 151, 151, 150, 150, 150, 150, 150, 150, 150, 150, 150, 150, 150, 150, 150, 149, 149, 149, 149, 149, 149, 149, 149, 149, 149, 149, 149, 148, 148, 148, 148, 148, 148, 148, 148, 148, 148, 148, 148, 148, 148, 148, 148, 148, 147, 147, 147, 147, 147, 147, 147, 147, 147, 147, 147, 146, 146, 146, 146, 146, 146, 146, 146, 146, 146, 146, 146, 146, 146, 146, 146, 146, 146, 146, 146, 145, 145, 145, 145, 145, 145, 145, 145, 145, 145, 145, 145, 145, 145, 145, 145, 145, 145, 144, 144, 144, 144, 144, 144, 144, 144, 143, 143, 143, 143, 143, 143, 143, 143, 143, 143, 142, 142, 142, 142, 142, 142, 142, 142, 142, 142, 142, 142, 142, 142, 142, 142, 142, 142, 141, 141, 141, 141, 141, 141, 141, 141, 141, 141, 141, 141, 141, 140, 140, 140, 140, 140, 140, 140, 140, 140, 140, 140, 140, 140, 139, 139, 139, 139, 139, 139, 139, 139, 139, 139, 139, 139, 139, 139, 139, 139, 139, 139, 139, 138, 138, 138, 138, 138, 138, 138, 138, 138, 138, 138, 138, 138, 138, 138, 138, 138, 137, 137, 137, 137, 137, 137, 137, 137, 137, 137, 137, 137, 137, 137, 137, 137, 137, 137, 136, 136, 136, 136, 136, 136, 136, 135, 135, 135, 135, 135, 135, 135, 135, 135, 135, 135, 135, 135, 135, 135, 135, 135, 135, 135, 135, 134, 134, 134, 134, 134, 134, 134, 134, 134, 134, 134, 134, 134, 134, 134, 133, 133, 133, 133, 133, 133, 133, 133, 133, 133, 133, 133, 133, 133, 133, 133, 133, 133, 133, 133, 132, 132, 132, 132, 132, 132, 132, 132, 132, 132, 132, 132, 132, 132, 132, 132, 132, 132, 132, 131, 131, 131, 131, 131, 131, 131, 131, 131, 131, 131, 130, 130, 130, 130, 130, 130, 130, 130, 130, 130, 130, 130, 130, 130, 129, 129, 129, 129, 129, 129, 129, 129, 129, 129, 129, 129, 129, 129, 129, 129, 129, 129, 129, 129, 129, 128, 128, 128, 128, 128, 128, 128, 128, 128, 128, 128, 128, 128, 128, 128, 128, 128, 128, 128, 128, 127, 127, 127, 127, 127, 127, 127, 127, 127, 127, 127, 127, 127, 127, 127, 127, 127, 127, 126, 126, 126, 126, 126, 126, 126, 126, 126, 126, 126, 126, 126, 126, 126, 126, 126, 126, 125, 125, 125, 125, 125, 125, 125, 125, 125, 125, 125, 125, 125, 125, 125, 125, 125, 125, 125, 124, 124, 124, 124, 124, 124, 124, 124, 124, 124, 124, 124, 124, 124, 124, 124, 124, 124, 124, 124, 124, 124, 124, 124, 123, 123, 123, 123, 123, 123, 123, 123, 123, 123, 123, 123, 123, 123, 123, 123, 123, 123, 123, 123, 123, 123, 122, 122, 122, 122, 122, 122, 122, 122, 122, 122, 122, 122, 122, 122, 122, 122, 122, 122, 122, 122, 122, 121, 121, 121, 121, 121, 121, 121, 121, 121, 121, 121, 121, 121, 121, 121, 121, 121, 121, 121, 121, 121, 121, 121, 121, 121, 120, 120, 120, 120, 120, 120, 120, 120, 120, 120, 120, 120, 120, 120, 120, 120, 120, 120, 120, 120, 120, 120, 120, 120, 120, 120, 120, 120, 120, 120, 120, 120, 120, 120, 120, 119, 119, 119, 119, 119, 119, 119, 119, 119, 119, 119, 119, 119, 119, 119, 119, 119, 119, 119, 119, 119, 119, 119, 119, 119, 118, 118, 118, 118, 118, 118, 118, 118, 118, 118, 118, 118, 118, 118, 118, 118, 118, 118, 118, 118, 118, 117, 117, 117, 117, 117, 117, 117, 117, 117, 117, 117, 117, 117, 117, 117, 117, 117, 117, 117, 117, 117, 117, 117, 117, 117, 117, 117, 116, 116, 116, 116, 116, 116, 116, 116, 116, 116, 116, 116, 116, 116, 116, 116, 116, 116, 115, 115, 115, 115, 115, 115, 115, 115, 115, 115, 115, 115, 115, 115, 115, 115, 115, 115, 115, 115, 114, 114, 114, 114, 114, 114, 114, 114, 114, 114, 114, 114, 114, 114, 114, 114, 114, 114, 114, 114, 114, 114, 114, 114, 114, 114, 113, 113, 113, 113, 113, 113, 113, 113, 113, 113, 113, 113, 113, 113, 113, 113, 113, 113, 113, 113, 113, 113, 113, 113, 113, 113, 113, 113, 112, 112, 112, 112, 112, 112, 112, 112, 112, 112, 112, 112, 112, 112, 112, 112, 112, 112, 112, 112, 112, 112, 112, 112, 112, 112, 112, 112, 112, 112, 112, 112, 112, 112, 112, 112, 112, 112, 112, 112, 112, 111, 111, 111, 111, 111, 111, 111, 111, 111, 111, 111, 111, 111, 111, 111, 111, 111, 111, 111, 111, 111, 111, 111, 111, 111, 110, 110, 110, 110, 110, 110, 110, 110, 110, 110, 110, 110, 110, 110, 110, 110, 110, 110, 110, 110, 110, 110, 110, 110, 110, 110, 110, 110, 110, 110, 110, 110, 110, 110, 110, 110, 109, 109, 109, 109, 109, 109, 109, 109, 109, 109, 109, 109, 109, 109, 109, 109, 109, 109, 109, 109, 109, 109, 109, 109, 109, 109, 109, 109, 109, 109, 109, 108, 108, 108, 108, 108, 108, 108, 108, 108, 108, 108, 108, 108, 108, 108, 108, 108, 108, 108, 108, 108, 108, 108, 108, 108, 108, 107, 107, 107, 107, 107, 107, 107, 107, 107, 107, 107, 107, 107, 107, 107, 107, 107, 107, 107, 107, 107, 107, 107, 107, 107, 107, 107, 107, 107, 107, 107, 107, 107, 107, 107, 107, 107, 107, 107, 107, 107, 107, 107, 106, 106, 106, 106, 106, 106, 106, 106, 106, 106, 106, 106, 106, 106, 106, 106, 106, 106, 106, 106, 106, 106, 106, 106, 106, 106, 106, 106, 106, 106, 106, 106, 106, 106, 106, 106, 106, 106, 106, 106, 105, 105, 105, 105, 105, 105, 105, 105, 105, 105, 105, 105, 105, 105, 105, 105, 105, 105, 105, 105, 105, 105, 105, 105, 105, 105, 105, 105, 105, 105, 105, 105, 105, 105, 105, 105, 105, 105, 105, 105, 104, 104, 104, 104, 104, 104, 104, 104, 104, 104, 104, 104, 104, 104, 104, 104, 104, 104, 104, 104, 104, 104, 104, 104, 104, 104, 104, 104, 104, 104, 104, 104, 104, 104, 104, 104, 104, 104, 104, 104, 104, 103, 103, 103, 103, 103, 103, 103, 103, 103, 103, 103, 103, 103, 103, 103, 103, 103, 103, 103, 103, 103, 103, 103, 103, 103, 103, 103, 103, 103, 103, 103, 103, 103, 102, 102, 102, 102, 102, 102, 102, 102, 102, 102, 102, 102, 102, 102, 102, 102, 102, 102, 102, 102, 102, 102, 102, 102, 102, 102, 102, 102, 102, 102, 102, 102, 102, 101, 101, 101, 101, 101, 101, 101, 101, 101, 101, 101, 101, 101, 101, 101, 101, 101, 101, 101, 101, 101, 101, 101, 101, 101, 101, 101, 101, 101, 101, 101, 101, 101, 101, 101, 101, 101, 101, 101, 101, 101, 101, 101, 101, 101, 101, 101, 101, 101, 101, 100, 100, 100, 100, 100, 100, 100, 100, 100, 100, 100, 100, 100, 100, 100, 100, 100, 100, 100, 100, 100, 100, 100, 100, 100, 100, 100, 100, 100, 100, 100, 100, 100, 100, 100, 100, 100, 100, 100, 100, 100, 100, 100, 100, 100, 100, 99, 99, 99, 99, 99, 99, 99, 99, 99, 99, 99, 99, 99, 99, 99, 99, 99, 99, 99, 99, 99, 99, 99, 99, 99, 99, 99, 99, 99, 99, 99, 99, 99, 99, 99, 99, 99, 99, 99, 99, 99, 99, 99, 99, 99, 99, 98, 98, 98, 98, 98, 98, 98, 98, 98, 98, 98, 98, 98, 98, 98, 98, 98, 98, 98, 98, 98, 98, 98, 98, 98, 98, 98, 98, 98, 98, 98, 98, 98, 98, 98, 98, 97, 97, 97, 97, 97, 97, 97, 97, 97, 97, 97, 97, 97, 97, 97, 97, 97, 97, 97, 97, 97, 97, 97, 97, 97, 97, 97, 97, 97, 97, 97, 97, 97, 97, 97, 97, 97, 97, 97, 97, 97, 97, 97, 97, 97, 97, 97, 97, 97, 97, 97, 96, 96, 96, 96, 96, 96, 96, 96, 96, 96, 96, 96, 96, 96, 96, 96, 96, 96, 96, 96, 96, 96, 96, 96, 96, 96, 96, 96, 96, 96, 96, 96, 96, 96, 96, 96, 96, 96, 96, 96, 96, 96, 96, 96, 96, 96, 96, 96, 96, 96, 96, 96, 96, 96, 95, 95, 95, 95, 95, 95, 95, 95, 95, 95, 95, 95, 95, 95, 95, 95, 95, 95, 95, 95, 95, 95, 95, 95, 95, 95, 95, 95, 95, 95, 95, 95, 95, 95, 95, 95, 95, 95, 95, 95, 95, 95, 95, 95, 95, 94, 94, 94, 94, 94, 94, 94, 94, 94, 94, 94, 94, 94, 94, 94, 94, 94, 94, 94, 94, 94, 94, 94, 94, 94, 94, 94, 94, 94, 94, 94, 94, 94, 94, 94, 94, 94, 94, 94, 94, 94, 94, 94, 94, 94, 94, 94, 94, 93, 93, 93, 93, 93, 93, 93, 93, 93, 93, 93, 93, 93, 93, 93, 93, 93, 93, 93, 93, 93, 93, 93, 93, 93, 93, 93, 93, 93, 93, 93, 93, 93, 93, 93, 93, 93, 93, 93, 93, 93, 93, 93, 93, 93, 93, 93, 93, 92, 92, 92, 92, 92, 92, 92, 92, 92, 92, 92, 92, 92, 92, 92, 92, 92, 92, 92, 92, 92, 92, 92, 92, 92, 92, 92, 92, 92, 92, 92, 92, 92, 92, 92, 92, 92, 92, 92, 92, 92, 92, 92, 92, 92, 92, 92, 92, 92, 92, 92, 92, 92, 92, 92, 92, 92, 91, 91, 91, 91, 91, 91, 91, 91, 91, 91, 91, 91, 91, 91, 91, 91, 91, 91, 91, 91, 91, 91, 91, 91, 91, 91, 91, 91, 91, 91, 91, 91, 91, 91, 91, 91, 91, 91, 91, 91, 91, 91, 91, 91, 91, 91, 91, 91, 91, 90, 90, 90, 90, 90, 90, 90, 90, 90, 90, 90, 90, 90, 90, 90, 90, 90, 90, 90, 90, 90, 90, 90, 90, 90, 90, 90, 90, 90, 90, 90, 90, 90, 90, 90, 90, 90, 90, 90, 90, 90, 90, 90, 90, 90, 90, 90, 90, 90, 90, 90, 90, 90, 90, 89, 89, 89, 89, 89, 89, 89, 89, 89, 89, 89, 89, 89, 89, 89, 89, 89, 89, 89, 89, 89, 89, 89, 89, 89, 89, 89, 89, 89, 89, 89, 89, 89, 89, 89, 89, 89, 89, 89, 89, 89, 89, 89, 89, 89, 89, 89, 89, 89, 89, 89, 89, 89, 89, 89, 89, 89, 89, 89, 89, 89, 89, 89, 89, 89, 89, 89, 89, 89, 89, 89, 89, 89, 89, 89, 89, 88, 88, 88, 88, 88, 88, 88, 88, 88, 88, 88, 88, 88, 88, 88, 88, 88, 88, 88, 88, 88, 88, 88, 88, 88, 88, 88, 88, 88, 88, 88, 88, 88, 88, 88, 88, 88, 88, 88, 88, 88, 88, 88, 88, 88, 88, 88, 88, 88, 88, 88, 88, 88, 88, 88, 88, 88, 88, 88, 88, 88, 88, 88, 88, 87, 87, 87, 87, 87, 87, 87, 87, 87, 87, 87, 87, 87, 87, 87, 87, 87, 87, 87, 87, 87, 87, 87, 87, 87, 87, 87, 87, 87, 87, 87, 87, 87, 87, 87, 87, 87, 87, 87, 87, 87, 87, 87, 87, 87, 87, 87, 87, 87, 87, 87, 87, 87, 87, 87, 87, 87, 87, 87, 87, 87, 87, 87, 87, 87, 87, 87, 87, 87, 87, 87, 87, 87, 87, 86, 86, 86, 86, 86, 86, 86, 86, 86, 86, 86, 86, 86, 86, 86, 86, 86, 86, 86, 86, 86, 86, 86, 86, 86, 86, 86, 86, 86, 86, 86, 86, 86, 86, 86, 86, 86, 86, 86, 86, 86, 86, 86, 86, 86, 86, 86, 86, 86, 86, 86, 86, 86, 86, 86, 86, 86, 86, 86, 86, 86, 86, 86, 86, 85, 85, 85, 85, 85, 85, 85, 85, 85, 85, 85, 85, 85, 85, 85, 85, 85, 85, 85, 85, 85, 85, 85, 85, 85, 85, 85, 85, 85, 85, 85, 85, 85, 85, 85, 85, 85, 85, 85, 85, 85, 85, 85, 85, 85, 85, 85, 85, 85, 85, 85, 85, 85, 85, 85, 85, 85, 85, 85, 85, 85, 85, 85, 85, 85, 85, 85, 85, 85, 85, 85, 85, 85, 85, 85, 85, 85, 85, 84, 84, 84, 84, 84, 84, 84, 84, 84, 84, 84, 84, 84, 84, 84, 84, 84, 84, 84, 84, 84, 84, 84, 84, 84, 84, 84, 84, 84, 84, 84, 84, 84, 84, 84, 84, 84, 84, 84, 84, 84, 84, 84, 84, 84, 84, 84, 84, 84, 84, 84, 84, 84, 84, 84, 84, 84, 84, 84, 84, 84, 84, 84, 84, 84, 84, 84, 84, 84, 84, 84, 83, 83, 83, 83, 83, 83, 83, 83, 83, 83, 83, 83, 83, 83, 83, 83, 83, 83, 83, 83, 83, 83, 83, 83, 83, 83, 83, 83, 83, 83, 83, 83, 83, 83, 83, 83, 83, 83, 83, 83, 83, 83, 83, 83, 83, 83, 83, 83, 83, 83, 83, 83, 83, 83, 83, 83, 83, 83, 83, 83, 83, 83, 83, 83, 83, 83, 83, 83, 83, 83, 83, 83, 83, 83, 83, 83, 83, 83, 83, 83, 83, 83, 83, 83, 82, 82, 82, 82, 82, 82, 82, 82, 82, 82, 82, 82, 82, 82, 82, 82, 82, 82, 82, 82, 82, 82, 82, 82, 82, 82, 82, 82, 82, 82, 82, 82, 82, 82, 82, 82, 82, 82, 82, 82, 82, 82, 82, 82, 82, 82, 82, 82, 82, 82, 82, 82, 82, 82, 82, 82, 81, 81, 81, 81, 81, 81, 81, 81, 81, 81, 81, 81, 81, 81, 81, 81, 81, 81, 81, 81, 81, 81, 81, 81, 81, 81, 81, 81, 81, 81, 81, 81, 81, 81, 81, 81, 81, 81, 81, 81, 81, 81, 81, 81, 81, 81, 81, 81, 81, 81, 81, 81, 81, 81, 81, 81, 81, 81, 81, 81, 81, 81, 81, 81, 81, 81, 81, 81, 81, 81, 81, 81, 81, 81, 81, 81, 81, 81, 81, 81, 81, 81, 81, 81, 81, 81, 81, 81, 81, 80, 80, 80, 80, 80, 80, 80, 80, 80, 80, 80, 80, 80, 80, 80, 80, 80, 80, 80, 80, 80, 80, 80, 80, 80, 80, 80, 80, 80, 80, 80, 80, 80, 80, 80, 80, 80, 80, 80, 80, 80, 80, 80, 80, 80, 80, 80, 80, 80, 80, 80, 80, 80, 80, 80, 80, 80, 80, 80, 80, 80, 80, 80, 80, 80, 80, 80, 80, 80, 80, 80, 80, 80, 80, 80, 80, 80, 80, 80, 80, 80, 79, 79, 79, 79, 79, 79, 79, 79, 79, 79, 79, 79, 79, 79, 79, 79, 79, 79, 79, 79, 79, 79, 79, 79, 79, 79, 79, 79, 79, 79, 79, 79, 79, 79, 79, 79, 79, 79, 79, 79, 79, 79, 79, 79, 79, 79, 79, 79, 79, 79, 79, 79, 79, 79, 79, 79, 79, 79, 79, 79, 79, 79, 79, 79, 79, 79, 79, 79, 79, 79, 79, 79, 79, 79, 79, 79, 78, 78, 78, 78, 78, 78, 78, 78, 78, 78, 78, 78, 78, 78, 78, 78, 78, 78, 78, 78, 78, 78, 78, 78, 78, 78, 78, 78, 78, 78, 78, 78, 78, 78, 78, 78, 78, 78, 78, 78, 78, 78, 78, 78, 78, 78, 78, 78, 78, 78, 78, 78, 78, 78, 78, 78, 78, 78, 78, 78, 78, 78, 78, 78, 78, 78, 78, 78, 78, 78, 78, 78, 78, 78, 78, 78, 78, 78, 78, 78, 78, 78, 78, 78, 78, 78, 78, 77, 77, 77, 77, 77, 77, 77, 77, 77, 77, 77, 77, 77, 77, 77, 77, 77, 77, 77, 77, 77, 77, 77, 77, 77, 77, 77, 77, 77, 77, 77, 77, 77, 77, 77, 77, 77, 77, 77, 77, 77, 77, 77, 77, 77, 77, 77, 77, 77, 77, 77, 77, 77, 77, 77, 77, 77, 77, 77, 77, 77, 77, 77, 77, 77, 77, 77, 77, 77, 77, 77, 77, 77, 77, 77, 77, 77, 77, 77, 77, 77, 77, 77, 77, 77, 77, 77, 77, 77, 77, 77, 77, 77, 77, 77, 77, 77, 77, 77, 77, 77, 77, 76, 76, 76, 76, 76, 76, 76, 76, 76, 76, 76, 76, 76, 76, 76, 76, 76, 76, 76, 76, 76, 76, 76, 76, 76, 76, 76, 76, 76, 76, 76, 76, 76, 76, 76, 76, 76, 76, 76, 76, 76, 76, 76, 76, 76, 76, 76, 76, 76, 76, 76, 76, 76, 76, 76, 76, 76, 76, 76, 76, 76, 76, 76, 76, 76, 76, 76, 76, 76, 76, 76, 76, 76, 76, 76, 76, 76, 76, 76, 76, 76, 76, 76, 76, 76, 76, 76, 76, 76, 76, 76, 76, 76, 76, 76, 76, 76, 76, 76, 76, 76, 76, 76, 76, 76, 76, 76, 76, 76, 75, 75, 75, 75, 75, 75, 75, 75, 75, 75, 75, 75, 75, 75, 75, 75, 75, 75, 75, 75, 75, 75, 75, 75, 75, 75, 75, 75, 75, 75, 75, 75, 75, 75, 75, 75, 75, 75, 75, 75, 75, 75, 75, 75, 75, 75, 75, 75, 75, 75, 75, 75, 75, 75, 75, 75, 75, 75, 75, 75, 75, 75, 75, 75, 75, 75, 75, 75, 75, 75, 75, 75, 75, 75, 75, 75, 75, 75, 75, 75, 75, 75, 75, 75, 75, 75, 75, 75, 75, 75, 75, 75, 75, 75, 75, 75, 75, 75, 75, 75, 75, 75, 75, 75, 75, 75, 75, 75, 75, 75, 75, 75, 75, 75, 74, 74, 74, 74, 74, 74, 74, 74, 74, 74, 74, 74, 74, 74, 74, 74, 74, 74, 74, 74, 74, 74, 74, 74, 74, 74, 74, 74, 74, 74, 74, 74, 74, 74, 74, 74, 74, 74, 74, 74, 74, 74, 74, 74, 74, 74, 74, 74, 74, 74, 74, 74, 74, 74, 74, 74, 74, 74, 74, 74, 74, 74, 74, 74, 74, 74, 74, 74, 74, 74, 74, 74, 74, 74, 74, 74, 74, 74, 74, 74, 74, 74, 74, 74, 74, 74, 74, 74, 74, 74, 74, 74, 74, 74, 74, 74, 74, 74, 74, 74, 74, 74, 74, 73, 73, 73, 73, 73, 73, 73, 73, 73, 73, 73, 73, 73, 73, 73, 73, 73, 73, 73, 73, 73, 73, 73, 73, 73, 73, 73, 73, 73, 73, 73, 73, 73, 73, 73, 73, 73, 73, 73, 73, 73, 73, 73, 73, 73, 73, 73, 73, 73, 73, 73, 73, 73, 73, 73, 73, 73, 73, 73, 73, 73, 73, 73, 73, 73, 73, 73, 73, 73, 73, 73, 73, 73, 73, 73, 73, 73, 73, 73, 73, 73, 73, 73, 73, 73, 73, 73, 73, 73, 73, 73, 73, 73, 73, 73, 73, 73, 73, 73, 73, 73, 73, 73, 73, 73, 73, 73, 73, 73, 72, 72, 72, 72, 72, 72, 72, 72, 72, 72, 72, 72, 72, 72, 72, 72, 72, 72, 72, 72, 72, 72, 72, 72, 72, 72, 72, 72, 72, 72, 72, 72, 72, 72, 72, 72, 72, 72, 72, 72, 72, 72, 72, 72, 72, 72, 72, 72, 72, 72, 72, 72, 72, 72, 72, 72, 72, 72, 72, 72, 72, 72, 72, 72, 72, 72, 72, 72, 72, 72, 72, 72, 72, 72, 72, 72, 72, 72, 72, 72, 72, 72, 72, 72, 72, 72, 72, 72, 72, 72, 72, 72, 72, 72, 72, 72, 72, 72, 72, 72, 72, 72, 72, 72, 72, 72, 72, 72, 72, 72, 72, 71, 71, 71, 71, 71, 71, 71, 71, 71, 71, 71, 71, 71, 71, 71, 71, 71, 71, 71, 71, 71, 71, 71, 71, 71, 71, 71, 71, 71, 71, 71, 71, 71, 71, 71, 71, 71, 71, 71, 71, 71, 71, 71, 71, 71, 71, 71, 71, 71, 71, 71, 71, 71, 71, 71, 71, 71, 71, 71, 71, 71, 71, 71, 71, 71, 71, 71, 71, 71, 71, 71, 71, 71, 71, 71, 71, 71, 71, 71, 71, 71, 71, 71, 71, 71, 71, 71, 71, 71, 71, 71, 71, 71, 71, 71, 71, 71, 71, 71, 71, 70, 70, 70, 70, 70, 70, 70, 70, 70, 70, 70, 70, 70, 70, 70, 70, 70, 70, 70, 70, 70, 70, 70, 70, 70, 70, 70, 70, 70, 70, 70, 70, 70, 70, 70, 70, 70, 70, 70, 70, 70, 70, 70, 70, 70, 70, 70, 70, 70, 70, 70, 70, 70, 70, 70, 70, 70, 70, 70, 70, 70, 70, 70, 70, 70, 70, 70, 70, 70, 70, 70, 70, 70, 70, 70, 70, 70, 70, 70, 70, 70, 70, 70, 70, 70, 70, 70, 70, 70, 70, 70, 70, 70, 70, 70, 70, 70, 70, 70, 70, 70, 70, 70, 70, 70, 70, 70, 70, 70, 70, 70, 70, 69, 69, 69, 69, 69, 69, 69, 69, 69, 69, 69, 69, 69, 69, 69, 69, 69, 69, 69, 69, 69, 69, 69, 69, 69, 69, 69, 69, 69, 69, 69, 69, 69, 69, 69, 69, 69, 69, 69, 69, 69, 69, 69, 69, 69, 69, 69, 69, 69, 69, 69, 69, 69, 69, 69, 69, 69, 69, 69, 69, 69, 69, 69, 69, 69, 69, 69, 69, 69, 69, 69, 69, 69, 69, 69, 69, 69, 69, 69, 69, 69, 69, 69, 69, 69, 69, 69, 69, 69, 69, 69, 69, 69, 69, 69, 69, 69, 69, 69, 69, 69, 69, 69, 69, 69, 69, 69, 69, 69, 69, 69, 69, 69, 69, 69, 69, 69, 69, 69, 69, 69, 69, 69, 68, 68, 68, 68, 68, 68, 68, 68, 68, 68, 68, 68, 68, 68, 68, 68, 68, 68, 68, 68, 68, 68, 68, 68, 68, 68, 68, 68, 68, 68, 68, 68, 68, 68, 68, 68, 68, 68, 68, 68, 68, 68, 68, 68, 68, 68, 68, 68, 68, 68, 68, 68, 68, 68, 68, 68, 68, 68, 68, 68, 68, 68, 68, 68, 68, 68, 68, 68, 68, 68, 68, 68, 68, 68, 68, 68, 68, 68, 68, 68, 68, 68, 68, 68, 68, 68, 68, 68, 68, 68, 68, 68, 68, 68, 68, 68, 68, 68, 68, 68, 68, 68, 68, 68, 68, 68, 68, 68, 68, 68, 68, 68, 68, 68, 68, 68, 68, 68, 68, 68, 68, 68, 68, 68, 68, 68, 68, 68, 68, 68, 68, 68, 67, 67, 67, 67, 67, 67, 67, 67, 67, 67, 67, 67, 67, 67, 67, 67, 67, 67, 67, 67, 67, 67, 67, 67, 67, 67, 67, 67, 67, 67, 67, 67, 67, 67, 67, 67, 67, 67, 67, 67, 67, 67, 67, 67, 67, 67, 67, 67, 67, 67, 67, 67, 67, 67, 67, 67, 67, 67, 67, 67, 67, 67, 67, 67, 67, 67, 67, 67, 67, 67, 67, 67, 67, 67, 67, 67, 67, 67, 67, 67, 67, 67, 67, 67, 67, 67, 67, 67, 67, 67, 67, 67, 67, 67, 67, 67, 67, 67, 67, 67, 67, 67, 67, 67, 67, 67, 67, 67, 67, 67, 67, 67, 67, 67, 67, 67, 67, 67, 67, 67, 67, 67, 67, 67, 67, 67, 67, 67, 67, 67, 67, 67, 67, 67, 67, 67, 67, 67, 67, 66, 66, 66, 66, 66, 66, 66, 66, 66, 66, 66, 66, 66, 66, 66, 66, 66, 66, 66, 66, 66, 66, 66, 66, 66, 66, 66, 66, 66, 66, 66, 66, 66, 66, 66, 66, 66, 66, 66, 66, 66, 66, 66, 66, 66, 66, 66, 66, 66, 66, 66, 66, 66, 66, 66, 66, 66, 66, 66, 66, 66, 66, 66, 66, 66, 66, 66, 66, 66, 66, 66, 66, 66, 66, 66, 66, 66, 66, 66, 66, 66, 66, 66, 66, 66, 66, 66, 66, 66, 66, 66, 66, 66, 66, 66, 66, 66, 66, 66, 66, 66, 66, 66, 66, 66, 66, 66, 66, 66, 66, 66, 66, 66, 66, 66, 66, 66, 66, 66, 66, 66, 66, 66, 66, 66, 66, 66, 66, 66, 66, 66, 66, 66, 66, 66, 66, 66, 66, 66, 66, 66, 66, 66, 66, 66, 66, 66, 66, 66, 65, 65, 65, 65, 65, 65, 65, 65, 65, 65, 65, 65, 65, 65, 65, 65, 65, 65, 65, 65, 65, 65, 65, 65, 65, 65, 65, 65, 65, 65, 65, 65, 65, 65, 65, 65, 65, 65, 65, 65, 65, 65, 65, 65, 65, 65, 65, 65, 65, 65, 65, 65, 65, 65, 65, 65, 65, 65, 65, 65, 65, 65, 65, 65, 65, 65, 65, 65, 65, 65, 65, 65, 65, 65, 65, 65, 65, 65, 65, 65, 65, 65, 65, 65, 65, 65, 65, 65, 65, 65, 65, 65, 65, 65, 65, 65, 65, 65, 65, 65, 65, 65, 65, 65, 65, 65, 65, 65, 65, 65, 65, 65, 65, 65, 65, 65, 65, 65, 65, 65, 65, 65, 65, 65, 65, 65, 65, 65, 65, 65, 65, 65, 65, 65, 65, 65, 65, 65, 65, 65, 65, 65, 65, 65, 64, 64, 64, 64, 64, 64, 64, 64, 64, 64, 64, 64, 64, 64, 64, 64, 64, 64, 64, 64, 64, 64, 64, 64, 64, 64, 64, 64, 64, 64, 64, 64, 64, 64, 64, 64, 64, 64, 64, 64, 64, 64, 64, 64, 64, 64, 64, 64, 64, 64, 64, 64, 64, 64, 64, 64, 64, 64, 64, 64, 64, 64, 64, 64, 64, 64, 64, 64, 64, 64, 64, 64, 64, 64, 64, 64, 64, 64, 64, 64, 64, 64, 64, 64, 64, 64, 64, 64, 64, 64, 64, 64, 64, 64, 64, 64, 64, 64, 64, 64, 64, 64, 64, 64, 64, 64, 64, 64, 64, 64, 64, 64, 64, 64, 64, 64, 64, 64, 64, 64, 64, 64, 64, 64, 64, 64, 64, 64, 64, 64, 64, 64, 64, 64, 64, 64, 64, 64, 64, 64, 64, 64, 64, 64, 64, 64, 63, 63, 63, 63, 63, 63, 63, 63, 63, 63, 63, 63, 63, 63, 63, 63, 63, 63, 63, 63, 63, 63, 63, 63, 63, 63, 63, 63, 63, 63, 63, 63, 63, 63, 63, 63, 63, 63, 63, 63, 63, 63, 63, 63, 63, 63, 63, 63, 63, 63, 63, 63, 63, 63, 63, 63, 63, 63, 63, 63, 63, 63, 63, 63, 63, 63, 63, 63, 63, 63, 63, 63, 63, 63, 63, 63, 63, 63, 63, 63, 63, 63, 63, 63, 63, 63, 63, 63, 63, 63, 63, 63, 63, 63, 63, 63, 63, 63, 63, 63, 63, 63, 63, 63, 63, 63, 63, 63, 63, 63, 63, 63, 63, 63, 63, 63, 63, 63, 63, 63, 63, 63, 63, 63, 63, 63, 63, 63, 63, 63, 63, 63, 63, 63, 63, 63, 63, 63, 63, 63, 63, 63, 63, 63, 63, 63, 63, 63, 63, 63, 63, 63, 63, 63, 63, 63, 63, 63, 63, 63, 63, 63, 63, 63, 63, 63, 63, 63, 63, 63, 63, 63, 63, 63, 63, 63, 63, 62, 62, 62, 62, 62, 62, 62, 62, 62, 62, 62, 62, 62, 62, 62, 62, 62, 62, 62, 62, 62, 62, 62, 62, 62, 62, 62, 62, 62, 62, 62, 62, 62, 62, 62, 62, 62, 62, 62, 62, 62, 62, 62, 62, 62, 62, 62, 62, 62, 62, 62, 62, 62, 62, 62, 62, 62, 62, 62, 62, 62, 62, 62, 62, 62, 62, 62, 62, 62, 62, 62, 62, 62, 62, 62, 62, 62, 62, 62, 62, 62, 62, 62, 62, 62, 62, 62, 62, 62, 62, 62, 62, 62, 62, 62, 62, 62, 62, 62, 62, 62, 62, 62, 62, 62, 62, 62, 62, 62, 62, 62, 62, 62, 62, 62, 62, 62, 62, 62, 62, 62, 62, 62, 62, 62, 62, 62, 62, 62, 62, 62, 62, 62, 62, 62, 62, 62, 62, 62, 62, 62, 62, 62, 62, 62, 62, 62, 62, 62, 62, 62, 62, 62, 62, 62, 62, 62, 62, 62, 62, 62, 62, 62, 62, 62, 62, 62, 62, 62, 62, 62, 62, 62, 62, 62, 62, 62, 62, 62, 62, 62, 62, 61, 61, 61, 61, 61, 61, 61, 61, 61, 61, 61, 61, 61, 61, 61, 61, 61, 61, 61, 61, 61, 61, 61, 61, 61, 61, 61, 61, 61, 61, 61, 61, 61, 61, 61, 61, 61, 61, 61, 61, 61, 61, 61, 61, 61, 61, 61, 61, 61, 61, 61, 61, 61, 61, 61, 61, 61, 61, 61, 61, 61, 61, 61, 61, 61, 61, 61, 61, 61, 61, 61, 61, 61, 61, 61, 61, 61, 61, 61, 61, 61, 61, 61, 61, 61, 61, 61, 61, 61, 61, 61, 61, 61, 61, 61, 61, 61, 61, 61, 61, 61, 61, 61, 61, 61, 61, 61, 61, 61, 61, 61, 61, 61, 61, 61, 61, 61, 61, 61, 61, 61, 61, 61, 61, 61, 61, 61, 61, 61, 61, 61, 61, 61, 61, 61, 61, 61, 61, 61, 61, 61, 61, 61, 61, 61, 61, 61, 61, 61, 61, 61, 61, 61, 61, 61, 61, 61, 61, 60, 60, 60, 60, 60, 60, 60, 60, 60, 60, 60, 60, 60, 60, 60, 60, 60, 60, 60, 60, 60, 60, 60, 60, 60, 60, 60, 60, 60, 60, 60, 60, 60, 60, 60, 60, 60, 60, 60, 60, 60, 60, 60, 60, 60, 60, 60, 60, 60, 60, 60, 60, 60, 60, 60, 60, 60, 60, 60, 60, 60, 60, 60, 60, 60, 60, 60, 60, 60, 60, 60, 60, 60, 60, 60, 60, 60, 60, 60, 60, 60, 60, 60, 60, 60, 60, 60, 60, 60, 60, 60, 60, 60, 60, 60, 60, 60, 60, 60, 60, 60, 60, 60, 60, 60, 60, 60, 60, 60, 60, 60, 60, 60, 60, 60, 60, 60, 60, 60, 60, 60, 60, 60, 60, 60, 60, 60, 60, 60, 60, 60, 60, 60, 60, 60, 60, 60, 60, 60, 60, 60, 60, 60, 60, 60, 60, 60, 60, 60, 60, 60, 60, 60, 60, 60, 60, 60, 60, 60, 60, 60, 60, 60, 60, 60, 60, 60, 60, 60, 60, 60, 60, 60, 60, 60, 60, 60, 60, 60, 60, 59, 59, 59, 59, 59, 59, 59, 59, 59, 59, 59, 59, 59, 59, 59, 59, 59, 59, 59, 59, 59, 59, 59, 59, 59, 59, 59, 59, 59, 59, 59, 59, 59, 59, 59, 59, 59, 59, 59, 59, 59, 59, 59, 59, 59, 59, 59, 59, 59, 59, 59, 59, 59, 59, 59, 59, 59, 59, 59, 59, 59, 59, 59, 59, 59, 59, 59, 59, 59, 59, 59, 59, 59, 59, 59, 59, 59, 59, 59, 59, 59, 59, 59, 59, 59, 59, 59, 59, 59, 59, 59, 59, 59, 59, 59, 59, 59, 59, 59, 59, 59, 59, 59, 59, 59, 59, 59, 59, 59, 59, 59, 59, 59, 59, 59, 59, 59, 59, 59, 59, 59, 59, 59, 59, 59, 59, 59, 59, 59, 59, 59, 59, 59, 59, 59, 59, 59, 59, 59, 59, 59, 59, 59, 59, 59, 59, 59, 59, 59, 59, 59, 59, 59, 59, 59, 59, 59, 59, 59, 59, 59, 59, 59, 59, 59, 59, 58, 58, 58, 58, 58, 58, 58, 58, 58, 58, 58, 58, 58, 58, 58, 58, 58, 58, 58, 58, 58, 58, 58, 58, 58, 58, 58, 58, 58, 58, 58, 58, 58, 58, 58, 58, 58, 58, 58, 58, 58, 58, 58, 58, 58, 58, 58, 58, 58, 58, 58, 58, 58, 58, 58, 58, 58, 58, 58, 58, 58, 58, 58, 58, 58, 58, 58, 58, 58, 58, 58, 58, 58, 58, 58, 58, 58, 58, 58, 58, 58, 58, 58, 58, 58, 58, 58, 58, 58, 58, 58, 58, 58, 58, 58, 58, 58, 58, 58, 58, 58, 58, 58, 58, 58, 58, 58, 58, 58, 58, 58, 58, 58, 58, 58, 58, 58, 58, 58, 58, 58, 58, 58, 58, 58, 58, 58, 58, 58, 58, 58, 58, 58, 58, 58, 58, 58, 58, 58, 58, 58, 58, 58, 58, 58, 58, 58, 58, 58, 58, 58, 58, 58, 58, 58, 58, 58, 58, 58, 58, 58, 58, 58, 58, 58, 58, 58, 58, 58, 58, 58, 58, 58, 58, 58, 58, 58, 58, 58, 58, 58, 58, 58, 58, 58, 58, 58, 58, 58, 58, 57, 57, 57, 57, 57, 57, 57, 57, 57, 57, 57, 57, 57, 57, 57, 57, 57, 57, 57, 57, 57, 57, 57, 57, 57, 57, 57, 57, 57, 57, 57, 57, 57, 57, 57, 57, 57, 57, 57, 57, 57, 57, 57, 57, 57, 57, 57, 57, 57, 57, 57, 57, 57, 57, 57, 57, 57, 57, 57, 57, 57, 57, 57, 57, 57, 57, 57, 57, 57, 57, 57, 57, 57, 57, 57, 57, 57, 57, 57, 57, 57, 57, 57, 57, 57, 57, 57, 57, 57, 57, 57, 57, 57, 57, 57, 57, 57, 57, 57, 57, 57, 57, 57, 57, 57, 57, 57, 57, 57, 57, 57, 57, 57, 57, 57, 57, 57, 57, 57, 57, 57, 57, 57, 57, 57, 57, 57, 57, 57, 57, 57, 57, 57, 57, 57, 57, 57, 57, 57, 57, 57, 57, 57, 57, 57, 57, 57, 57, 57, 57, 57, 57, 57, 57, 57, 57, 57, 57, 57, 57, 57, 57, 57, 57, 57, 57, 57, 57, 57, 57, 57, 57, 57, 57, 57, 57, 57, 57, 57, 57, 57, 57, 57, 57, 57, 57, 57, 57, 57, 57, 57, 57, 57, 57, 57, 57, 57, 57, 57, 57, 57, 57, 57, 57, 57, 57, 57, 57, 57, 57, 57, 57, 57, 57, 57, 57, 57, 57, 57, 57, 57, 57, 57, 57, 57, 57, 56, 56, 56, 56, 56, 56, 56, 56, 56, 56, 56, 56, 56, 56, 56, 56, 56, 56, 56, 56, 56, 56, 56, 56, 56, 56, 56, 56, 56, 56, 56, 56, 56, 56, 56, 56, 56, 56, 56, 56, 56, 56, 56, 56, 56, 56, 56, 56, 56, 56, 56, 56, 56, 56, 56, 56, 56, 56, 56, 56, 56, 56, 56, 56, 56, 56, 56, 56, 56, 56, 56, 56, 56, 56, 56, 56, 56, 56, 56, 56, 56, 56, 56, 56, 56, 56, 56, 56, 56, 56, 56, 56, 56, 56, 56, 56, 56, 56, 56, 56, 56, 56, 56, 56, 56, 56, 56, 56, 56, 56, 56, 56, 56, 56, 56, 56, 56, 56, 56, 56, 56, 56, 56, 56, 56, 56, 56, 56, 56, 56, 56, 56, 56, 56, 56, 56, 56, 56, 56, 56, 56, 56, 56, 56, 56, 56, 56, 56, 56, 56, 56, 56, 56, 56, 56, 56, 56, 56, 56, 56, 56, 56, 56, 56, 56, 56, 56, 56, 56, 56, 56, 56, 56, 56, 56, 56, 56, 56, 56, 56, 56, 56, 56, 56, 56, 56, 56, 56, 56, 56, 56, 56, 56, 56, 56, 56, 56, 56, 56, 56]\n",
      "Jumlah data outliers = 6317\n"
     ]
    }
   ],
   "source": [
    "outlier = []\n",
    "def iqr_outliers(df):\n",
    "    q1 = df.quantile(0.25)\n",
    "    q3 = df.quantile(0.75)\n",
    "    iqr = q3-q1\n",
    "    lower = q1 - 1.5 * iqr\n",
    "    upper = q3 + 1.5 * iqr\n",
    "    for i in df:\n",
    "        if i > upper or i < lower:\n",
    "            outlier.append(i)\n",
    "    print(\"Outliers:\", outlier)\n",
    "    print(\"Jumlah data outliers =\", len(outlier))\n",
    "iqr_outliers(df_users['song_count'])"
   ]
  },
  {
   "cell_type": "code",
   "execution_count": 46,
   "metadata": {
    "colab": {
     "base_uri": "https://localhost:8080/",
     "height": 350
    },
    "id": "VNQSsJ2wcOPH",
    "outputId": "26015f79-f540-47f8-e938-6ebc0621cfe5"
   },
   "outputs": [
    {
     "data": {
      "image/png": "[encoded data removed]",
      "text/plain": [
       "<Figure size 720x360 with 1 Axes>"
      ]
     },
     "metadata": {
      "needs_background": "light"
     },
     "output_type": "display_data"
    }
   ],
   "source": [
    "fig = plt.figure(figsize=(10,5))\n",
    "sns.boxplot(df_users['song_count'])\n",
    "plt.title('Outliers')\n",
    "plt.xlabel('song_count')\n",
    "plt.show()"
   ]
  },
  {
   "cell_type": "markdown",
   "metadata": {
    "id": "Qpfo544-hYxj"
   },
   "source": [
    "* Total hanya 8841 macam lagu yang diputar oleh semua pengguna dari keseluruhan lagu di dataset.\n",
    "* Pengguna paling banyak memutar 617 macam lagu.\n",
    "* Pengguna kebanyakan memutar macam lagu dalam range 1 hingga 25.\n",
    "* Data tidak terdistribusi normal karena puncaknya lebih tinggi dari distribusi normal.\n",
    "* Berdasarkan nilai skewness yang positif, data terdistorsi ke kanan. Seperti yang dapat dilihat pada grafik, data mempunyai ekor panjang ke arah kanan. Data terdistorsi adalah data yang telah mengalami distorsi, yaitu berubah menjadi bentuk yang berbeda dari asalnya. Data terdistorsi ke kanan adalah data yang telah mengalami distorsi ke arah yang lebih tinggi.\n",
    "* Berdasarkan nilai kurtosis yang positif, distribusi data adalah heavy-tailed, yaitu data mempunyai outliers.\n",
    "* Pengguna rata-rata memutar 23 macam lagu.\n",
    "* Jumlah data outliers adalah 6317."
   ]
  },
  {
   "cell_type": "markdown",
   "metadata": {
    "id": "G0zNsFQ1kyJC"
   },
   "source": [
    "## Berapa kali pengguna mendengarkan lagu?"
   ]
  },
  {
   "cell_type": "code",
   "execution_count": 47,
   "metadata": {
    "colab": {
     "base_uri": "https://localhost:8080/",
     "height": 206
    },
    "id": "fvdPijkBlOkO",
    "outputId": "c4d9fa68-e356-492a-8ffb-2fc155aad05c"
   },
   "outputs": [
    {
     "data": {
      "text/html": [
       "<div>\n",
       "<style scoped>\n",
       "    .dataframe tbody tr th:only-of-type {\n",
       "        vertical-align: middle;\n",
       "    }\n",
       "\n",
       "    .dataframe tbody tr th {\n",
       "        vertical-align: top;\n",
       "    }\n",
       "\n",
       "    .dataframe thead th {\n",
       "        text-align: right;\n",
       "    }\n",
       "</style>\n",
       "<table border=\"1\" class=\"dataframe\">\n",
       "  <thead>\n",
       "    <tr style=\"text-align: right;\">\n",
       "      <th></th>\n",
       "      <th>user_id</th>\n",
       "      <th>listen_count</th>\n",
       "    </tr>\n",
       "  </thead>\n",
       "  <tbody>\n",
       "    <tr>\n",
       "      <th>0</th>\n",
       "      <td>4be305e02f4e72dad1b8ac78e630403543bab994</td>\n",
       "      <td>3719</td>\n",
       "    </tr>\n",
       "    <tr>\n",
       "      <th>1</th>\n",
       "      <td>6d625c6557df84b60d90426c0116138b617b9449</td>\n",
       "      <td>3155</td>\n",
       "    </tr>\n",
       "    <tr>\n",
       "      <th>2</th>\n",
       "      <td>d13609d62db6df876d3cc388225478618bb7b912</td>\n",
       "      <td>2630</td>\n",
       "    </tr>\n",
       "    <tr>\n",
       "      <th>3</th>\n",
       "      <td>0b19fe0fad7ca85693846f7dad047c449784647e</td>\n",
       "      <td>2301</td>\n",
       "    </tr>\n",
       "    <tr>\n",
       "      <th>4</th>\n",
       "      <td>5ea608df0357ec4fda191cb9316fe8e6e65e3777</td>\n",
       "      <td>2001</td>\n",
       "    </tr>\n",
       "  </tbody>\n",
       "</table>\n",
       "</div>"
      ],
      "text/plain": [
       "                                    user_id  listen_count\n",
       "0  4be305e02f4e72dad1b8ac78e630403543bab994          3719\n",
       "1  6d625c6557df84b60d90426c0116138b617b9449          3155\n",
       "2  d13609d62db6df876d3cc388225478618bb7b912          2630\n",
       "3  0b19fe0fad7ca85693846f7dad047c449784647e          2301\n",
       "4  5ea608df0357ec4fda191cb9316fe8e6e65e3777          2001"
      ]
     },
     "execution_count": 47,
     "metadata": {},
     "output_type": "execute_result"
    }
   ],
   "source": [
    "df_listen = df_merge.groupby(['user_id'])['listen_count'].sum().sort_values(ascending=False).reset_index()\n",
    "df_listen.head()"
   ]
  },
  {
   "cell_type": "code",
   "execution_count": 48,
   "metadata": {
    "id": "JNX--tCAUdF7"
   },
   "outputs": [
    {
     "data": {
      "image/png": "[encoded data removed]",
      "text/plain": [
       "<Figure size 1440x504 with 2 Axes>"
      ]
     },
     "metadata": {
      "needs_background": "light"
     },
     "output_type": "display_data"
    }
   ],
   "source": [
    "fig = plt.figure(figsize=(20,7))\n",
    "\n",
    "f1 = fig.add_subplot(121)\n",
    "sns.distplot(df_listen['listen_count'])\n",
    "f1.set_title('Density Plot')\n",
    "f1.set_xlabel('listen_count')\n",
    "f1.set_ylabel('count')\n",
    "\n",
    "f2 = fig.add_subplot(122)\n",
    "res = probplot(df_listen['listen_count'], plot=f2)\n",
    "f2.set_title('QQ Plot')\n",
    "\n",
    "plt.tight_layout()\n",
    "plt.show()"
   ]
  },
  {
   "cell_type": "code",
   "execution_count": 49,
   "metadata": {
    "colab": {
     "base_uri": "https://localhost:8080/"
    },
    "id": "nUIESTvxUdWK",
    "outputId": "980034e3-6cbe-483f-bc02-77c70aceab5b"
   },
   "outputs": [
    {
     "name": "stdout",
     "output_type": "stream",
     "text": [
      "Mean = 68.84667086746482\n",
      "Standar Deviasi = 101.17903345799446\n",
      "Skewness = 5.38576687072644\n",
      "Kurtosis = 72.50290093448179\n"
     ]
    }
   ],
   "source": [
    "print(\"Mean =\", df_listen['listen_count'].mean())\n",
    "print(\"Standar Deviasi =\", df_listen['listen_count'].std())\n",
    "print(\"Skewness =\", df_listen['listen_count'].skew())\n",
    "print(\"Kurtosis =\", df_listen['listen_count'].kurt())"
   ]
  },
  {
   "cell_type": "code",
   "execution_count": 50,
   "metadata": {
    "colab": {
     "base_uri": "https://localhost:8080/"
    },
    "id": "6dpBT2XSfAcz",
    "outputId": "db09ae7d-2402-409d-99e2-ced7fe121767"
   },
   "outputs": [
    {
     "name": "stdout",
     "output_type": "stream",
     "text": [
      "Outliers: [617, 552, 515, 507, 497, 474, 472, 447, 434, 420, 407, 400, 395, 391, 373, 367, 363, 362, 362, 358, 352, 352, 351, 348, 347, 345, 333, 330, 325, 323, 323, 315, 315, 310, 309, 305, 304, 302, 302, 297, 294, 294, 292, 292, 290, 290, 288, 288, 287, 286, 286, 285, 285, 282, 281, 279, 279, 277, 277, 276, 276, 275, 274, 274, 274, 273, 271, 270, 270, 268, 265, 265, 265, 265, 265, 264, 264, 262, 262, 258, 258, 257, 256, 255, 255, 254, 254, 253, 253, 252, 252, 249, 249, 249, 249, 248, 248, 248, 247, 247, 246, 246, 245, 245, 245, 244, 244, 244, 243, 242, 242, 242, 242, 241, 239, 239, 238, 238, 238, 237, 237, 237, 236, 236, 236, 235, 233, 233, 233, 233, 233, 233, 233, 232, 232, 232, 231, 231, 231, 230, 229, 228, 228, 228, 227, 227, 227, 226, 226, 225, 224, 224, 223, 223, 222, 222, 222, 222, 221, 221, 221, 221, 220, 220, 220, 219, 219, 218, 217, 216, 216, 216, 216, 216, 216, 216, 215, 215, 215, 215, 214, 214, 214, 214, 213, 213, 212, 211, 211, 211, 210, 210, 210, 210, 209, 209, 208, 208, 208, 207, 207, 207, 206, 205, 205, 205, 205, 204, 204, 203, 203, 203, 203, 203, 203, 203, 203, 202, 202, 201, 201, 200, 200, 200, 200, 200, 200, 200, 199, 199, 199, 199, 198, 197, 197, 197, 196, 196, 196, 196, 196, 195, 195, 195, 195, 195, 195, 195, 195, 194, 194, 194, 193, 193, 193, 193, 193, 192, 192, 192, 192, 191, 191, 191, 191, 191, 190, 190, 190, 190, 190, 190, 189, 189, 189, 189, 189, 189, 189, 189, 188, 188, 188, 188, 187, 187, 187, 187, 186, 186, 186, 185, 185, 185, 185, 185, 185, 185, 185, 185, 185, 184, 184, 184, 184, 184, 184, 184, 184, 183, 183, 183, 183, 183, 182, 182, 182, 182, 182, 182, 182, 181, 181, 181, 181, 181, 181, 180, 180, 179, 179, 179, 179, 179, 179, 179, 179, 179, 179, 179, 179, 179, 178, 178, 178, 178, 178, 178, 178, 177, 177, 177, 177, 177, 177, 176, 176, 176, 175, 175, 175, 175, 175, 175, 174, 174, 174, 174, 173, 173, 173, 173, 173, 173, 173, 173, 172, 172, 172, 172, 172, 171, 171, 171, 171, 171, 171, 170, 170, 170, 169, 169, 169, 169, 169, 169, 169, 168, 168, 168, 168, 168, 168, 168, 168, 168, 168, 168, 168, 168, 168, 168, 167, 167, 167, 167, 167, 166, 166, 166, 166, 166, 166, 166, 165, 165, 165, 165, 165, 165, 165, 165, 165, 165, 164, 164, 164, 164, 164, 164, 164, 164, 164, 163, 163, 163, 162, 162, 162, 162, 162, 162, 162, 162, 161, 161, 161, 161, 161, 161, 161, 161, 161, 161, 161, 161, 160, 160, 160, 160, 160, 160, 160, 160, 160, 160, 159, 159, 159, 159, 159, 159, 159, 159, 159, 159, 158, 158, 158, 158, 158, 158, 158, 158, 158, 158, 157, 157, 157, 157, 157, 157, 157, 157, 157, 157, 157, 156, 156, 156, 156, 156, 156, 156, 156, 156, 156, 156, 155, 155, 155, 155, 155, 155, 155, 155, 154, 154, 154, 154, 154, 154, 154, 154, 154, 154, 154, 153, 153, 153, 153, 153, 153, 153, 153, 153, 153, 153, 153, 153, 153, 152, 152, 152, 152, 152, 152, 152, 152, 152, 152, 152, 152, 152, 152, 151, 151, 151, 151, 151, 151, 150, 150, 150, 150, 150, 150, 150, 150, 150, 150, 150, 150, 150, 149, 149, 149, 149, 149, 149, 149, 149, 149, 149, 149, 149, 148, 148, 148, 148, 148, 148, 148, 148, 148, 148, 148, 148, 148, 148, 148, 148, 148, 147, 147, 147, 147, 147, 147, 147, 147, 147, 147, 147, 146, 146, 146, 146, 146, 146, 146, 146, 146, 146, 146, 146, 146, 146, 146, 146, 146, 146, 146, 146, 145, 145, 145, 145, 145, 145, 145, 145, 145, 145, 145, 145, 145, 145, 145, 145, 145, 145, 144, 144, 144, 144, 144, 144, 144, 144, 143, 143, 143, 143, 143, 143, 143, 143, 143, 143, 142, 142, 142, 142, 142, 142, 142, 142, 142, 142, 142, 142, 142, 142, 142, 142, 142, 142, 141, 141, 141, 141, 141, 141, 141, 141, 141, 141, 141, 141, 141, 140, 140, 140, 140, 140, 140, 140, 140, 140, 140, 140, 140, 140, 139, 139, 139, 139, 139, 139, 139, 139, 139, 139, 139, 139, 139, 139, 139, 139, 139, 139, 139, 138, 138, 138, 138, 138, 138, 138, 138, 138, 138, 138, 138, 138, 138, 138, 138, 138, 137, 137, 137, 137, 137, 137, 137, 137, 137, 137, 137, 137, 137, 137, 137, 137, 137, 137, 136, 136, 136, 136, 136, 136, 136, 135, 135, 135, 135, 135, 135, 135, 135, 135, 135, 135, 135, 135, 135, 135, 135, 135, 135, 135, 135, 134, 134, 134, 134, 134, 134, 134, 134, 134, 134, 134, 134, 134, 134, 134, 133, 133, 133, 133, 133, 133, 133, 133, 133, 133, 133, 133, 133, 133, 133, 133, 133, 133, 133, 133, 132, 132, 132, 132, 132, 132, 132, 132, 132, 132, 132, 132, 132, 132, 132, 132, 132, 132, 132, 131, 131, 131, 131, 131, 131, 131, 131, 131, 131, 131, 130, 130, 130, 130, 130, 130, 130, 130, 130, 130, 130, 130, 130, 130, 129, 129, 129, 129, 129, 129, 129, 129, 129, 129, 129, 129, 129, 129, 129, 129, 129, 129, 129, 129, 129, 128, 128, 128, 128, 128, 128, 128, 128, 128, 128, 128, 128, 128, 128, 128, 128, 128, 128, 128, 128, 127, 127, 127, 127, 127, 127, 127, 127, 127, 127, 127, 127, 127, 127, 127, 127, 127, 127, 126, 126, 126, 126, 126, 126, 126, 126, 126, 126, 126, 126, 126, 126, 126, 126, 126, 126, 125, 125, 125, 125, 125, 125, 125, 125, 125, 125, 125, 125, 125, 125, 125, 125, 125, 125, 125, 124, 124, 124, 124, 124, 124, 124, 124, 124, 124, 124, 124, 124, 124, 124, 124, 124, 124, 124, 124, 124, 124, 124, 124, 123, 123, 123, 123, 123, 123, 123, 123, 123, 123, 123, 123, 123, 123, 123, 123, 123, 123, 123, 123, 123, 123, 122, 122, 122, 122, 122, 122, 122, 122, 122, 122, 122, 122, 122, 122, 122, 122, 122, 122, 122, 122, 122, 121, 121, 121, 121, 121, 121, 121, 121, 121, 121, 121, 121, 121, 121, 121, 121, 121, 121, 121, 121, 121, 121, 121, 121, 121, 120, 120, 120, 120, 120, 120, 120, 120, 120, 120, 120, 120, 120, 120, 120, 120, 120, 120, 120, 120, 120, 120, 120, 120, 120, 120, 120, 120, 120, 120, 120, 120, 120, 120, 120, 119, 119, 119, 119, 119, 119, 119, 119, 119, 119, 119, 119, 119, 119, 119, 119, 119, 119, 119, 119, 119, 119, 119, 119, 119, 118, 118, 118, 118, 118, 118, 118, 118, 118, 118, 118, 118, 118, 118, 118, 118, 118, 118, 118, 118, 118, 117, 117, 117, 117, 117, 117, 117, 117, 117, 117, 117, 117, 117, 117, 117, 117, 117, 117, 117, 117, 117, 117, 117, 117, 117, 117, 117, 116, 116, 116, 116, 116, 116, 116, 116, 116, 116, 116, 116, 116, 116, 116, 116, 116, 116, 115, 115, 115, 115, 115, 115, 115, 115, 115, 115, 115, 115, 115, 115, 115, 115, 115, 115, 115, 115, 114, 114, 114, 114, 114, 114, 114, 114, 114, 114, 114, 114, 114, 114, 114, 114, 114, 114, 114, 114, 114, 114, 114, 114, 114, 114, 113, 113, 113, 113, 113, 113, 113, 113, 113, 113, 113, 113, 113, 113, 113, 113, 113, 113, 113, 113, 113, 113, 113, 113, 113, 113, 113, 113, 112, 112, 112, 112, 112, 112, 112, 112, 112, 112, 112, 112, 112, 112, 112, 112, 112, 112, 112, 112, 112, 112, 112, 112, 112, 112, 112, 112, 112, 112, 112, 112, 112, 112, 112, 112, 112, 112, 112, 112, 112, 111, 111, 111, 111, 111, 111, 111, 111, 111, 111, 111, 111, 111, 111, 111, 111, 111, 111, 111, 111, 111, 111, 111, 111, 111, 110, 110, 110, 110, 110, 110, 110, 110, 110, 110, 110, 110, 110, 110, 110, 110, 110, 110, 110, 110, 110, 110, 110, 110, 110, 110, 110, 110, 110, 110, 110, 110, 110, 110, 110, 110, 109, 109, 109, 109, 109, 109, 109, 109, 109, 109, 109, 109, 109, 109, 109, 109, 109, 109, 109, 109, 109, 109, 109, 109, 109, 109, 109, 109, 109, 109, 109, 108, 108, 108, 108, 108, 108, 108, 108, 108, 108, 108, 108, 108, 108, 108, 108, 108, 108, 108, 108, 108, 108, 108, 108, 108, 108, 107, 107, 107, 107, 107, 107, 107, 107, 107, 107, 107, 107, 107, 107, 107, 107, 107, 107, 107, 107, 107, 107, 107, 107, 107, 107, 107, 107, 107, 107, 107, 107, 107, 107, 107, 107, 107, 107, 107, 107, 107, 107, 107, 106, 106, 106, 106, 106, 106, 106, 106, 106, 106, 106, 106, 106, 106, 106, 106, 106, 106, 106, 106, 106, 106, 106, 106, 106, 106, 106, 106, 106, 106, 106, 106, 106, 106, 106, 106, 106, 106, 106, 106, 105, 105, 105, 105, 105, 105, 105, 105, 105, 105, 105, 105, 105, 105, 105, 105, 105, 105, 105, 105, 105, 105, 105, 105, 105, 105, 105, 105, 105, 105, 105, 105, 105, 105, 105, 105, 105, 105, 105, 105, 104, 104, 104, 104, 104, 104, 104, 104, 104, 104, 104, 104, 104, 104, 104, 104, 104, 104, 104, 104, 104, 104, 104, 104, 104, 104, 104, 104, 104, 104, 104, 104, 104, 104, 104, 104, 104, 104, 104, 104, 104, 103, 103, 103, 103, 103, 103, 103, 103, 103, 103, 103, 103, 103, 103, 103, 103, 103, 103, 103, 103, 103, 103, 103, 103, 103, 103, 103, 103, 103, 103, 103, 103, 103, 102, 102, 102, 102, 102, 102, 102, 102, 102, 102, 102, 102, 102, 102, 102, 102, 102, 102, 102, 102, 102, 102, 102, 102, 102, 102, 102, 102, 102, 102, 102, 102, 102, 101, 101, 101, 101, 101, 101, 101, 101, 101, 101, 101, 101, 101, 101, 101, 101, 101, 101, 101, 101, 101, 101, 101, 101, 101, 101, 101, 101, 101, 101, 101, 101, 101, 101, 101, 101, 101, 101, 101, 101, 101, 101, 101, 101, 101, 101, 101, 101, 101, 101, 100, 100, 100, 100, 100, 100, 100, 100, 100, 100, 100, 100, 100, 100, 100, 100, 100, 100, 100, 100, 100, 100, 100, 100, 100, 100, 100, 100, 100, 100, 100, 100, 100, 100, 100, 100, 100, 100, 100, 100, 100, 100, 100, 100, 100, 100, 99, 99, 99, 99, 99, 99, 99, 99, 99, 99, 99, 99, 99, 99, 99, 99, 99, 99, 99, 99, 99, 99, 99, 99, 99, 99, 99, 99, 99, 99, 99, 99, 99, 99, 99, 99, 99, 99, 99, 99, 99, 99, 99, 99, 99, 99, 98, 98, 98, 98, 98, 98, 98, 98, 98, 98, 98, 98, 98, 98, 98, 98, 98, 98, 98, 98, 98, 98, 98, 98, 98, 98, 98, 98, 98, 98, 98, 98, 98, 98, 98, 98, 97, 97, 97, 97, 97, 97, 97, 97, 97, 97, 97, 97, 97, 97, 97, 97, 97, 97, 97, 97, 97, 97, 97, 97, 97, 97, 97, 97, 97, 97, 97, 97, 97, 97, 97, 97, 97, 97, 97, 97, 97, 97, 97, 97, 97, 97, 97, 97, 97, 97, 97, 96, 96, 96, 96, 96, 96, 96, 96, 96, 96, 96, 96, 96, 96, 96, 96, 96, 96, 96, 96, 96, 96, 96, 96, 96, 96, 96, 96, 96, 96, 96, 96, 96, 96, 96, 96, 96, 96, 96, 96, 96, 96, 96, 96, 96, 96, 96, 96, 96, 96, 96, 96, 96, 96, 95, 95, 95, 95, 95, 95, 95, 95, 95, 95, 95, 95, 95, 95, 95, 95, 95, 95, 95, 95, 95, 95, 95, 95, 95, 95, 95, 95, 95, 95, 95, 95, 95, 95, 95, 95, 95, 95, 95, 95, 95, 95, 95, 95, 95, 94, 94, 94, 94, 94, 94, 94, 94, 94, 94, 94, 94, 94, 94, 94, 94, 94, 94, 94, 94, 94, 94, 94, 94, 94, 94, 94, 94, 94, 94, 94, 94, 94, 94, 94, 94, 94, 94, 94, 94, 94, 94, 94, 94, 94, 94, 94, 94, 93, 93, 93, 93, 93, 93, 93, 93, 93, 93, 93, 93, 93, 93, 93, 93, 93, 93, 93, 93, 93, 93, 93, 93, 93, 93, 93, 93, 93, 93, 93, 93, 93, 93, 93, 93, 93, 93, 93, 93, 93, 93, 93, 93, 93, 93, 93, 93, 92, 92, 92, 92, 92, 92, 92, 92, 92, 92, 92, 92, 92, 92, 92, 92, 92, 92, 92, 92, 92, 92, 92, 92, 92, 92, 92, 92, 92, 92, 92, 92, 92, 92, 92, 92, 92, 92, 92, 92, 92, 92, 92, 92, 92, 92, 92, 92, 92, 92, 92, 92, 92, 92, 92, 92, 92, 91, 91, 91, 91, 91, 91, 91, 91, 91, 91, 91, 91, 91, 91, 91, 91, 91, 91, 91, 91, 91, 91, 91, 91, 91, 91, 91, 91, 91, 91, 91, 91, 91, 91, 91, 91, 91, 91, 91, 91, 91, 91, 91, 91, 91, 91, 91, 91, 91, 90, 90, 90, 90, 90, 90, 90, 90, 90, 90, 90, 90, 90, 90, 90, 90, 90, 90, 90, 90, 90, 90, 90, 90, 90, 90, 90, 90, 90, 90, 90, 90, 90, 90, 90, 90, 90, 90, 90, 90, 90, 90, 90, 90, 90, 90, 90, 90, 90, 90, 90, 90, 90, 90, 89, 89, 89, 89, 89, 89, 89, 89, 89, 89, 89, 89, 89, 89, 89, 89, 89, 89, 89, 89, 89, 89, 89, 89, 89, 89, 89, 89, 89, 89, 89, 89, 89, 89, 89, 89, 89, 89, 89, 89, 89, 89, 89, 89, 89, 89, 89, 89, 89, 89, 89, 89, 89, 89, 89, 89, 89, 89, 89, 89, 89, 89, 89, 89, 89, 89, 89, 89, 89, 89, 89, 89, 89, 89, 89, 89, 88, 88, 88, 88, 88, 88, 88, 88, 88, 88, 88, 88, 88, 88, 88, 88, 88, 88, 88, 88, 88, 88, 88, 88, 88, 88, 88, 88, 88, 88, 88, 88, 88, 88, 88, 88, 88, 88, 88, 88, 88, 88, 88, 88, 88, 88, 88, 88, 88, 88, 88, 88, 88, 88, 88, 88, 88, 88, 88, 88, 88, 88, 88, 88, 87, 87, 87, 87, 87, 87, 87, 87, 87, 87, 87, 87, 87, 87, 87, 87, 87, 87, 87, 87, 87, 87, 87, 87, 87, 87, 87, 87, 87, 87, 87, 87, 87, 87, 87, 87, 87, 87, 87, 87, 87, 87, 87, 87, 87, 87, 87, 87, 87, 87, 87, 87, 87, 87, 87, 87, 87, 87, 87, 87, 87, 87, 87, 87, 87, 87, 87, 87, 87, 87, 87, 87, 87, 87, 86, 86, 86, 86, 86, 86, 86, 86, 86, 86, 86, 86, 86, 86, 86, 86, 86, 86, 86, 86, 86, 86, 86, 86, 86, 86, 86, 86, 86, 86, 86, 86, 86, 86, 86, 86, 86, 86, 86, 86, 86, 86, 86, 86, 86, 86, 86, 86, 86, 86, 86, 86, 86, 86, 86, 86, 86, 86, 86, 86, 86, 86, 86, 86, 85, 85, 85, 85, 85, 85, 85, 85, 85, 85, 85, 85, 85, 85, 85, 85, 85, 85, 85, 85, 85, 85, 85, 85, 85, 85, 85, 85, 85, 85, 85, 85, 85, 85, 85, 85, 85, 85, 85, 85, 85, 85, 85, 85, 85, 85, 85, 85, 85, 85, 85, 85, 85, 85, 85, 85, 85, 85, 85, 85, 85, 85, 85, 85, 85, 85, 85, 85, 85, 85, 85, 85, 85, 85, 85, 85, 85, 85, 84, 84, 84, 84, 84, 84, 84, 84, 84, 84, 84, 84, 84, 84, 84, 84, 84, 84, 84, 84, 84, 84, 84, 84, 84, 84, 84, 84, 84, 84, 84, 84, 84, 84, 84, 84, 84, 84, 84, 84, 84, 84, 84, 84, 84, 84, 84, 84, 84, 84, 84, 84, 84, 84, 84, 84, 84, 84, 84, 84, 84, 84, 84, 84, 84, 84, 84, 84, 84, 84, 84, 83, 83, 83, 83, 83, 83, 83, 83, 83, 83, 83, 83, 83, 83, 83, 83, 83, 83, 83, 83, 83, 83, 83, 83, 83, 83, 83, 83, 83, 83, 83, 83, 83, 83, 83, 83, 83, 83, 83, 83, 83, 83, 83, 83, 83, 83, 83, 83, 83, 83, 83, 83, 83, 83, 83, 83, 83, 83, 83, 83, 83, 83, 83, 83, 83, 83, 83, 83, 83, 83, 83, 83, 83, 83, 83, 83, 83, 83, 83, 83, 83, 83, 83, 83, 82, 82, 82, 82, 82, 82, 82, 82, 82, 82, 82, 82, 82, 82, 82, 82, 82, 82, 82, 82, 82, 82, 82, 82, 82, 82, 82, 82, 82, 82, 82, 82, 82, 82, 82, 82, 82, 82, 82, 82, 82, 82, 82, 82, 82, 82, 82, 82, 82, 82, 82, 82, 82, 82, 82, 82, 81, 81, 81, 81, 81, 81, 81, 81, 81, 81, 81, 81, 81, 81, 81, 81, 81, 81, 81, 81, 81, 81, 81, 81, 81, 81, 81, 81, 81, 81, 81, 81, 81, 81, 81, 81, 81, 81, 81, 81, 81, 81, 81, 81, 81, 81, 81, 81, 81, 81, 81, 81, 81, 81, 81, 81, 81, 81, 81, 81, 81, 81, 81, 81, 81, 81, 81, 81, 81, 81, 81, 81, 81, 81, 81, 81, 81, 81, 81, 81, 81, 81, 81, 81, 81, 81, 81, 81, 81, 80, 80, 80, 80, 80, 80, 80, 80, 80, 80, 80, 80, 80, 80, 80, 80, 80, 80, 80, 80, 80, 80, 80, 80, 80, 80, 80, 80, 80, 80, 80, 80, 80, 80, 80, 80, 80, 80, 80, 80, 80, 80, 80, 80, 80, 80, 80, 80, 80, 80, 80, 80, 80, 80, 80, 80, 80, 80, 80, 80, 80, 80, 80, 80, 80, 80, 80, 80, 80, 80, 80, 80, 80, 80, 80, 80, 80, 80, 80, 80, 80, 79, 79, 79, 79, 79, 79, 79, 79, 79, 79, 79, 79, 79, 79, 79, 79, 79, 79, 79, 79, 79, 79, 79, 79, 79, 79, 79, 79, 79, 79, 79, 79, 79, 79, 79, 79, 79, 79, 79, 79, 79, 79, 79, 79, 79, 79, 79, 79, 79, 79, 79, 79, 79, 79, 79, 79, 79, 79, 79, 79, 79, 79, 79, 79, 79, 79, 79, 79, 79, 79, 79, 79, 79, 79, 79, 79, 78, 78, 78, 78, 78, 78, 78, 78, 78, 78, 78, 78, 78, 78, 78, 78, 78, 78, 78, 78, 78, 78, 78, 78, 78, 78, 78, 78, 78, 78, 78, 78, 78, 78, 78, 78, 78, 78, 78, 78, 78, 78, 78, 78, 78, 78, 78, 78, 78, 78, 78, 78, 78, 78, 78, 78, 78, 78, 78, 78, 78, 78, 78, 78, 78, 78, 78, 78, 78, 78, 78, 78, 78, 78, 78, 78, 78, 78, 78, 78, 78, 78, 78, 78, 78, 78, 78, 77, 77, 77, 77, 77, 77, 77, 77, 77, 77, 77, 77, 77, 77, 77, 77, 77, 77, 77, 77, 77, 77, 77, 77, 77, 77, 77, 77, 77, 77, 77, 77, 77, 77, 77, 77, 77, 77, 77, 77, 77, 77, 77, 77, 77, 77, 77, 77, 77, 77, 77, 77, 77, 77, 77, 77, 77, 77, 77, 77, 77, 77, 77, 77, 77, 77, 77, 77, 77, 77, 77, 77, 77, 77, 77, 77, 77, 77, 77, 77, 77, 77, 77, 77, 77, 77, 77, 77, 77, 77, 77, 77, 77, 77, 77, 77, 77, 77, 77, 77, 77, 77, 76, 76, 76, 76, 76, 76, 76, 76, 76, 76, 76, 76, 76, 76, 76, 76, 76, 76, 76, 76, 76, 76, 76, 76, 76, 76, 76, 76, 76, 76, 76, 76, 76, 76, 76, 76, 76, 76, 76, 76, 76, 76, 76, 76, 76, 76, 76, 76, 76, 76, 76, 76, 76, 76, 76, 76, 76, 76, 76, 76, 76, 76, 76, 76, 76, 76, 76, 76, 76, 76, 76, 76, 76, 76, 76, 76, 76, 76, 76, 76, 76, 76, 76, 76, 76, 76, 76, 76, 76, 76, 76, 76, 76, 76, 76, 76, 76, 76, 76, 76, 76, 76, 76, 76, 76, 76, 76, 76, 76, 75, 75, 75, 75, 75, 75, 75, 75, 75, 75, 75, 75, 75, 75, 75, 75, 75, 75, 75, 75, 75, 75, 75, 75, 75, 75, 75, 75, 75, 75, 75, 75, 75, 75, 75, 75, 75, 75, 75, 75, 75, 75, 75, 75, 75, 75, 75, 75, 75, 75, 75, 75, 75, 75, 75, 75, 75, 75, 75, 75, 75, 75, 75, 75, 75, 75, 75, 75, 75, 75, 75, 75, 75, 75, 75, 75, 75, 75, 75, 75, 75, 75, 75, 75, 75, 75, 75, 75, 75, 75, 75, 75, 75, 75, 75, 75, 75, 75, 75, 75, 75, 75, 75, 75, 75, 75, 75, 75, 75, 75, 75, 75, 75, 75, 74, 74, 74, 74, 74, 74, 74, 74, 74, 74, 74, 74, 74, 74, 74, 74, 74, 74, 74, 74, 74, 74, 74, 74, 74, 74, 74, 74, 74, 74, 74, 74, 74, 74, 74, 74, 74, 74, 74, 74, 74, 74, 74, 74, 74, 74, 74, 74, 74, 74, 74, 74, 74, 74, 74, 74, 74, 74, 74, 74, 74, 74, 74, 74, 74, 74, 74, 74, 74, 74, 74, 74, 74, 74, 74, 74, 74, 74, 74, 74, 74, 74, 74, 74, 74, 74, 74, 74, 74, 74, 74, 74, 74, 74, 74, 74, 74, 74, 74, 74, 74, 74, 74, 73, 73, 73, 73, 73, 73, 73, 73, 73, 73, 73, 73, 73, 73, 73, 73, 73, 73, 73, 73, 73, 73, 73, 73, 73, 73, 73, 73, 73, 73, 73, 73, 73, 73, 73, 73, 73, 73, 73, 73, 73, 73, 73, 73, 73, 73, 73, 73, 73, 73, 73, 73, 73, 73, 73, 73, 73, 73, 73, 73, 73, 73, 73, 73, 73, 73, 73, 73, 73, 73, 73, 73, 73, 73, 73, 73, 73, 73, 73, 73, 73, 73, 73, 73, 73, 73, 73, 73, 73, 73, 73, 73, 73, 73, 73, 73, 73, 73, 73, 73, 73, 73, 73, 73, 73, 73, 73, 73, 73, 72, 72, 72, 72, 72, 72, 72, 72, 72, 72, 72, 72, 72, 72, 72, 72, 72, 72, 72, 72, 72, 72, 72, 72, 72, 72, 72, 72, 72, 72, 72, 72, 72, 72, 72, 72, 72, 72, 72, 72, 72, 72, 72, 72, 72, 72, 72, 72, 72, 72, 72, 72, 72, 72, 72, 72, 72, 72, 72, 72, 72, 72, 72, 72, 72, 72, 72, 72, 72, 72, 72, 72, 72, 72, 72, 72, 72, 72, 72, 72, 72, 72, 72, 72, 72, 72, 72, 72, 72, 72, 72, 72, 72, 72, 72, 72, 72, 72, 72, 72, 72, 72, 72, 72, 72, 72, 72, 72, 72, 72, 72, 71, 71, 71, 71, 71, 71, 71, 71, 71, 71, 71, 71, 71, 71, 71, 71, 71, 71, 71, 71, 71, 71, 71, 71, 71, 71, 71, 71, 71, 71, 71, 71, 71, 71, 71, 71, 71, 71, 71, 71, 71, 71, 71, 71, 71, 71, 71, 71, 71, 71, 71, 71, 71, 71, 71, 71, 71, 71, 71, 71, 71, 71, 71, 71, 71, 71, 71, 71, 71, 71, 71, 71, 71, 71, 71, 71, 71, 71, 71, 71, 71, 71, 71, 71, 71, 71, 71, 71, 71, 71, 71, 71, 71, 71, 71, 71, 71, 71, 71, 71, 70, 70, 70, 70, 70, 70, 70, 70, 70, 70, 70, 70, 70, 70, 70, 70, 70, 70, 70, 70, 70, 70, 70, 70, 70, 70, 70, 70, 70, 70, 70, 70, 70, 70, 70, 70, 70, 70, 70, 70, 70, 70, 70, 70, 70, 70, 70, 70, 70, 70, 70, 70, 70, 70, 70, 70, 70, 70, 70, 70, 70, 70, 70, 70, 70, 70, 70, 70, 70, 70, 70, 70, 70, 70, 70, 70, 70, 70, 70, 70, 70, 70, 70, 70, 70, 70, 70, 70, 70, 70, 70, 70, 70, 70, 70, 70, 70, 70, 70, 70, 70, 70, 70, 70, 70, 70, 70, 70, 70, 70, 70, 70, 69, 69, 69, 69, 69, 69, 69, 69, 69, 69, 69, 69, 69, 69, 69, 69, 69, 69, 69, 69, 69, 69, 69, 69, 69, 69, 69, 69, 69, 69, 69, 69, 69, 69, 69, 69, 69, 69, 69, 69, 69, 69, 69, 69, 69, 69, 69, 69, 69, 69, 69, 69, 69, 69, 69, 69, 69, 69, 69, 69, 69, 69, 69, 69, 69, 69, 69, 69, 69, 69, 69, 69, 69, 69, 69, 69, 69, 69, 69, 69, 69, 69, 69, 69, 69, 69, 69, 69, 69, 69, 69, 69, 69, 69, 69, 69, 69, 69, 69, 69, 69, 69, 69, 69, 69, 69, 69, 69, 69, 69, 69, 69, 69, 69, 69, 69, 69, 69, 69, 69, 69, 69, 69, 68, 68, 68, 68, 68, 68, 68, 68, 68, 68, 68, 68, 68, 68, 68, 68, 68, 68, 68, 68, 68, 68, 68, 68, 68, 68, 68, 68, 68, 68, 68, 68, 68, 68, 68, 68, 68, 68, 68, 68, 68, 68, 68, 68, 68, 68, 68, 68, 68, 68, 68, 68, 68, 68, 68, 68, 68, 68, 68, 68, 68, 68, 68, 68, 68, 68, 68, 68, 68, 68, 68, 68, 68, 68, 68, 68, 68, 68, 68, 68, 68, 68, 68, 68, 68, 68, 68, 68, 68, 68, 68, 68, 68, 68, 68, 68, 68, 68, 68, 68, 68, 68, 68, 68, 68, 68, 68, 68, 68, 68, 68, 68, 68, 68, 68, 68, 68, 68, 68, 68, 68, 68, 68, 68, 68, 68, 68, 68, 68, 68, 68, 68, 67, 67, 67, 67, 67, 67, 67, 67, 67, 67, 67, 67, 67, 67, 67, 67, 67, 67, 67, 67, 67, 67, 67, 67, 67, 67, 67, 67, 67, 67, 67, 67, 67, 67, 67, 67, 67, 67, 67, 67, 67, 67, 67, 67, 67, 67, 67, 67, 67, 67, 67, 67, 67, 67, 67, 67, 67, 67, 67, 67, 67, 67, 67, 67, 67, 67, 67, 67, 67, 67, 67, 67, 67, 67, 67, 67, 67, 67, 67, 67, 67, 67, 67, 67, 67, 67, 67, 67, 67, 67, 67, 67, 67, 67, 67, 67, 67, 67, 67, 67, 67, 67, 67, 67, 67, 67, 67, 67, 67, 67, 67, 67, 67, 67, 67, 67, 67, 67, 67, 67, 67, 67, 67, 67, 67, 67, 67, 67, 67, 67, 67, 67, 67, 67, 67, 67, 67, 67, 67, 66, 66, 66, 66, 66, 66, 66, 66, 66, 66, 66, 66, 66, 66, 66, 66, 66, 66, 66, 66, 66, 66, 66, 66, 66, 66, 66, 66, 66, 66, 66, 66, 66, 66, 66, 66, 66, 66, 66, 66, 66, 66, 66, 66, 66, 66, 66, 66, 66, 66, 66, 66, 66, 66, 66, 66, 66, 66, 66, 66, 66, 66, 66, 66, 66, 66, 66, 66, 66, 66, 66, 66, 66, 66, 66, 66, 66, 66, 66, 66, 66, 66, 66, 66, 66, 66, 66, 66, 66, 66, 66, 66, 66, 66, 66, 66, 66, 66, 66, 66, 66, 66, 66, 66, 66, 66, 66, 66, 66, 66, 66, 66, 66, 66, 66, 66, 66, 66, 66, 66, 66, 66, 66, 66, 66, 66, 66, 66, 66, 66, 66, 66, 66, 66, 66, 66, 66, 66, 66, 66, 66, 66, 66, 66, 66, 66, 66, 66, 66, 65, 65, 65, 65, 65, 65, 65, 65, 65, 65, 65, 65, 65, 65, 65, 65, 65, 65, 65, 65, 65, 65, 65, 65, 65, 65, 65, 65, 65, 65, 65, 65, 65, 65, 65, 65, 65, 65, 65, 65, 65, 65, 65, 65, 65, 65, 65, 65, 65, 65, 65, 65, 65, 65, 65, 65, 65, 65, 65, 65, 65, 65, 65, 65, 65, 65, 65, 65, 65, 65, 65, 65, 65, 65, 65, 65, 65, 65, 65, 65, 65, 65, 65, 65, 65, 65, 65, 65, 65, 65, 65, 65, 65, 65, 65, 65, 65, 65, 65, 65, 65, 65, 65, 65, 65, 65, 65, 65, 65, 65, 65, 65, 65, 65, 65, 65, 65, 65, 65, 65, 65, 65, 65, 65, 65, 65, 65, 65, 65, 65, 65, 65, 65, 65, 65, 65, 65, 65, 65, 65, 65, 65, 65, 65, 64, 64, 64, 64, 64, 64, 64, 64, 64, 64, 64, 64, 64, 64, 64, 64, 64, 64, 64, 64, 64, 64, 64, 64, 64, 64, 64, 64, 64, 64, 64, 64, 64, 64, 64, 64, 64, 64, 64, 64, 64, 64, 64, 64, 64, 64, 64, 64, 64, 64, 64, 64, 64, 64, 64, 64, 64, 64, 64, 64, 64, 64, 64, 64, 64, 64, 64, 64, 64, 64, 64, 64, 64, 64, 64, 64, 64, 64, 64, 64, 64, 64, 64, 64, 64, 64, 64, 64, 64, 64, 64, 64, 64, 64, 64, 64, 64, 64, 64, 64, 64, 64, 64, 64, 64, 64, 64, 64, 64, 64, 64, 64, 64, 64, 64, 64, 64, 64, 64, 64, 64, 64, 64, 64, 64, 64, 64, 64, 64, 64, 64, 64, 64, 64, 64, 64, 64, 64, 64, 64, 64, 64, 64, 64, 64, 64, 63, 63, 63, 63, 63, 63, 63, 63, 63, 63, 63, 63, 63, 63, 63, 63, 63, 63, 63, 63, 63, 63, 63, 63, 63, 63, 63, 63, 63, 63, 63, 63, 63, 63, 63, 63, 63, 63, 63, 63, 63, 63, 63, 63, 63, 63, 63, 63, 63, 63, 63, 63, 63, 63, 63, 63, 63, 63, 63, 63, 63, 63, 63, 63, 63, 63, 63, 63, 63, 63, 63, 63, 63, 63, 63, 63, 63, 63, 63, 63, 63, 63, 63, 63, 63, 63, 63, 63, 63, 63, 63, 63, 63, 63, 63, 63, 63, 63, 63, 63, 63, 63, 63, 63, 63, 63, 63, 63, 63, 63, 63, 63, 63, 63, 63, 63, 63, 63, 63, 63, 63, 63, 63, 63, 63, 63, 63, 63, 63, 63, 63, 63, 63, 63, 63, 63, 63, 63, 63, 63, 63, 63, 63, 63, 63, 63, 63, 63, 63, 63, 63, 63, 63, 63, 63, 63, 63, 63, 63, 63, 63, 63, 63, 63, 63, 63, 63, 63, 63, 63, 63, 63, 63, 63, 63, 63, 63, 62, 62, 62, 62, 62, 62, 62, 62, 62, 62, 62, 62, 62, 62, 62, 62, 62, 62, 62, 62, 62, 62, 62, 62, 62, 62, 62, 62, 62, 62, 62, 62, 62, 62, 62, 62, 62, 62, 62, 62, 62, 62, 62, 62, 62, 62, 62, 62, 62, 62, 62, 62, 62, 62, 62, 62, 62, 62, 62, 62, 62, 62, 62, 62, 62, 62, 62, 62, 62, 62, 62, 62, 62, 62, 62, 62, 62, 62, 62, 62, 62, 62, 62, 62, 62, 62, 62, 62, 62, 62, 62, 62, 62, 62, 62, 62, 62, 62, 62, 62, 62, 62, 62, 62, 62, 62, 62, 62, 62, 62, 62, 62, 62, 62, 62, 62, 62, 62, 62, 62, 62, 62, 62, 62, 62, 62, 62, 62, 62, 62, 62, 62, 62, 62, 62, 62, 62, 62, 62, 62, 62, 62, 62, 62, 62, 62, 62, 62, 62, 62, 62, 62, 62, 62, 62, 62, 62, 62, 62, 62, 62, 62, 62, 62, 62, 62, 62, 62, 62, 62, 62, 62, 62, 62, 62, 62, 62, 62, 62, 62, 62, 62, 61, 61, 61, 61, 61, 61, 61, 61, 61, 61, 61, 61, 61, 61, 61, 61, 61, 61, 61, 61, 61, 61, 61, 61, 61, 61, 61, 61, 61, 61, 61, 61, 61, 61, 61, 61, 61, 61, 61, 61, 61, 61, 61, 61, 61, 61, 61, 61, 61, 61, 61, 61, 61, 61, 61, 61, 61, 61, 61, 61, 61, 61, 61, 61, 61, 61, 61, 61, 61, 61, 61, 61, 61, 61, 61, 61, 61, 61, 61, 61, 61, 61, 61, 61, 61, 61, 61, 61, 61, 61, 61, 61, 61, 61, 61, 61, 61, 61, 61, 61, 61, 61, 61, 61, 61, 61, 61, 61, 61, 61, 61, 61, 61, 61, 61, 61, 61, 61, 61, 61, 61, 61, 61, 61, 61, 61, 61, 61, 61, 61, 61, 61, 61, 61, 61, 61, 61, 61, 61, 61, 61, 61, 61, 61, 61, 61, 61, 61, 61, 61, 61, 61, 61, 61, 61, 61, 61, 61, 60, 60, 60, 60, 60, 60, 60, 60, 60, 60, 60, 60, 60, 60, 60, 60, 60, 60, 60, 60, 60, 60, 60, 60, 60, 60, 60, 60, 60, 60, 60, 60, 60, 60, 60, 60, 60, 60, 60, 60, 60, 60, 60, 60, 60, 60, 60, 60, 60, 60, 60, 60, 60, 60, 60, 60, 60, 60, 60, 60, 60, 60, 60, 60, 60, 60, 60, 60, 60, 60, 60, 60, 60, 60, 60, 60, 60, 60, 60, 60, 60, 60, 60, 60, 60, 60, 60, 60, 60, 60, 60, 60, 60, 60, 60, 60, 60, 60, 60, 60, 60, 60, 60, 60, 60, 60, 60, 60, 60, 60, 60, 60, 60, 60, 60, 60, 60, 60, 60, 60, 60, 60, 60, 60, 60, 60, 60, 60, 60, 60, 60, 60, 60, 60, 60, 60, 60, 60, 60, 60, 60, 60, 60, 60, 60, 60, 60, 60, 60, 60, 60, 60, 60, 60, 60, 60, 60, 60, 60, 60, 60, 60, 60, 60, 60, 60, 60, 60, 60, 60, 60, 60, 60, 60, 60, 60, 60, 60, 60, 60, 59, 59, 59, 59, 59, 59, 59, 59, 59, 59, 59, 59, 59, 59, 59, 59, 59, 59, 59, 59, 59, 59, 59, 59, 59, 59, 59, 59, 59, 59, 59, 59, 59, 59, 59, 59, 59, 59, 59, 59, 59, 59, 59, 59, 59, 59, 59, 59, 59, 59, 59, 59, 59, 59, 59, 59, 59, 59, 59, 59, 59, 59, 59, 59, 59, 59, 59, 59, 59, 59, 59, 59, 59, 59, 59, 59, 59, 59, 59, 59, 59, 59, 59, 59, 59, 59, 59, 59, 59, 59, 59, 59, 59, 59, 59, 59, 59, 59, 59, 59, 59, 59, 59, 59, 59, 59, 59, 59, 59, 59, 59, 59, 59, 59, 59, 59, 59, 59, 59, 59, 59, 59, 59, 59, 59, 59, 59, 59, 59, 59, 59, 59, 59, 59, 59, 59, 59, 59, 59, 59, 59, 59, 59, 59, 59, 59, 59, 59, 59, 59, 59, 59, 59, 59, 59, 59, 59, 59, 59, 59, 59, 59, 59, 59, 59, 59, 58, 58, 58, 58, 58, 58, 58, 58, 58, 58, 58, 58, 58, 58, 58, 58, 58, 58, 58, 58, 58, 58, 58, 58, 58, 58, 58, 58, 58, 58, 58, 58, 58, 58, 58, 58, 58, 58, 58, 58, 58, 58, 58, 58, 58, 58, 58, 58, 58, 58, 58, 58, 58, 58, 58, 58, 58, 58, 58, 58, 58, 58, 58, 58, 58, 58, 58, 58, 58, 58, 58, 58, 58, 58, 58, 58, 58, 58, 58, 58, 58, 58, 58, 58, 58, 58, 58, 58, 58, 58, 58, 58, 58, 58, 58, 58, 58, 58, 58, 58, 58, 58, 58, 58, 58, 58, 58, 58, 58, 58, 58, 58, 58, 58, 58, 58, 58, 58, 58, 58, 58, 58, 58, 58, 58, 58, 58, 58, 58, 58, 58, 58, 58, 58, 58, 58, 58, 58, 58, 58, 58, 58, 58, 58, 58, 58, 58, 58, 58, 58, 58, 58, 58, 58, 58, 58, 58, 58, 58, 58, 58, 58, 58, 58, 58, 58, 58, 58, 58, 58, 58, 58, 58, 58, 58, 58, 58, 58, 58, 58, 58, 58, 58, 58, 58, 58, 58, 58, 58, 58, 57, 57, 57, 57, 57, 57, 57, 57, 57, 57, 57, 57, 57, 57, 57, 57, 57, 57, 57, 57, 57, 57, 57, 57, 57, 57, 57, 57, 57, 57, 57, 57, 57, 57, 57, 57, 57, 57, 57, 57, 57, 57, 57, 57, 57, 57, 57, 57, 57, 57, 57, 57, 57, 57, 57, 57, 57, 57, 57, 57, 57, 57, 57, 57, 57, 57, 57, 57, 57, 57, 57, 57, 57, 57, 57, 57, 57, 57, 57, 57, 57, 57, 57, 57, 57, 57, 57, 57, 57, 57, 57, 57, 57, 57, 57, 57, 57, 57, 57, 57, 57, 57, 57, 57, 57, 57, 57, 57, 57, 57, 57, 57, 57, 57, 57, 57, 57, 57, 57, 57, 57, 57, 57, 57, 57, 57, 57, 57, 57, 57, 57, 57, 57, 57, 57, 57, 57, 57, 57, 57, 57, 57, 57, 57, 57, 57, 57, 57, 57, 57, 57, 57, 57, 57, 57, 57, 57, 57, 57, 57, 57, 57, 57, 57, 57, 57, 57, 57, 57, 57, 57, 57, 57, 57, 57, 57, 57, 57, 57, 57, 57, 57, 57, 57, 57, 57, 57, 57, 57, 57, 57, 57, 57, 57, 57, 57, 57, 57, 57, 57, 57, 57, 57, 57, 57, 57, 57, 57, 57, 57, 57, 57, 57, 57, 57, 57, 57, 57, 57, 57, 57, 57, 57, 57, 57, 57, 56, 56, 56, 56, 56, 56, 56, 56, 56, 56, 56, 56, 56, 56, 56, 56, 56, 56, 56, 56, 56, 56, 56, 56, 56, 56, 56, 56, 56, 56, 56, 56, 56, 56, 56, 56, 56, 56, 56, 56, 56, 56, 56, 56, 56, 56, 56, 56, 56, 56, 56, 56, 56, 56, 56, 56, 56, 56, 56, 56, 56, 56, 56, 56, 56, 56, 56, 56, 56, 56, 56, 56, 56, 56, 56, 56, 56, 56, 56, 56, 56, 56, 56, 56, 56, 56, 56, 56, 56, 56, 56, 56, 56, 56, 56, 56, 56, 56, 56, 56, 56, 56, 56, 56, 56, 56, 56, 56, 56, 56, 56, 56, 56, 56, 56, 56, 56, 56, 56, 56, 56, 56, 56, 56, 56, 56, 56, 56, 56, 56, 56, 56, 56, 56, 56, 56, 56, 56, 56, 56, 56, 56, 56, 56, 56, 56, 56, 56, 56, 56, 56, 56, 56, 56, 56, 56, 56, 56, 56, 56, 56, 56, 56, 56, 56, 56, 56, 56, 56, 56, 56, 56, 56, 56, 56, 56, 56, 56, 56, 56, 56, 56, 56, 56, 56, 56, 56, 56, 56, 56, 56, 56, 56, 56, 56, 56, 56, 56, 56, 56, 3719, 3155, 2630, 2301, 2001, 1984, 1948, 1833, 1708, 1679, 1629, 1602, 1492, 1465, 1435, 1379, 1375, 1361, 1355, 1354, 1351, 1304, 1303, 1280, 1267, 1267, 1261, 1254, 1244, 1177, 1177, 1171, 1166, 1147, 1137, 1131, 1131, 1126, 1117, 1110, 1106, 1106, 1101, 1093, 1079, 1067, 1059, 1058, 1051, 1051, 1050, 1044, 1043, 1037, 1037, 1033, 1019, 1004, 1003, 1001, 999, 991, 990, 986, 985, 983, 982, 980, 976, 976, 961, 959, 957, 952, 951, 940, 935, 934, 932, 931, 927, 925, 924, 920, 918, 915, 913, 912, 912, 909, 907, 902, 901, 897, 896, 895, 892, 890, 887, 887, 886, 884, 884, 880, 874, 871, 869, 866, 864, 864, 861, 861, 860, 859, 859, 859, 859, 857, 852, 851, 849, 845, 845, 843, 842, 841, 839, 838, 838, 836, 834, 834, 832, 830, 827, 826, 825, 823, 818, 817, 816, 815, 814, 812, 811, 808, 806, 803, 802, 802, 802, 802, 801, 797, 796, 795, 795, 795, 791, 791, 790, 789, 786, 780, 778, 778, 778, 777, 776, 775, 773, 772, 769, 768, 768, 765, 765, 764, 762, 760, 758, 749, 748, 747, 746, 745, 739, 736, 735, 733, 732, 731, 731, 731, 729, 727, 726, 725, 725, 725, 724, 724, 724, 723, 723, 722, 721, 721, 720, 720, 719, 718, 718, 717, 716, 711, 710, 710, 710, 707, 706, 706, 705, 705, 704, 703, 701, 701, 701, 700, 696, 696, 696, 696, 695, 693, 693, 692, 692, 691, 691, 690, 690, 689, 689, 688, 687, 686, 686, 683, 682, 682, 681, 679, 679, 677, 673, 673, 673, 673, 672, 672, 672, 671, 669, 668, 668, 668, 666, 666, 666, 665, 664, 662, 661, 661, 659, 659, 657, 657, 656, 655, 655, 655, 654, 653, 652, 652, 652, 650, 648, 648, 648, 648, 647, 647, 647, 646, 646, 646, 646, 645, 645, 645, 645, 644, 641, 641, 641, 641, 641, 641, 639, 639, 638, 638, 637, 637, 632, 632, 632, 631, 631, 630, 629, 629, 629, 628, 628, 627, 626, 625, 625, 624, 623, 623, 622, 622, 621, 621, 620, 620, 619, 619, 618, 618, 618, 617, 617, 616, 616, 616, 615, 615, 614, 614, 614, 613, 612, 611, 610, 609, 609, 607, 607, 607, 606, 605, 604, 603, 602, 602, 601, 600, 600, 600, 599, 599, 596, 596, 595, 595, 595, 594, 594, 592, 592, 592, 591, 591, 591, 590, 590, 590, 590, 590, 589, 589, 589, 587, 586, 586, 585, 585, 584, 584, 584, 583, 583, 583, 583, 582, 581, 581, 581, 580, 580, 580, 580, 580, 580, 579, 579, 578, 578, 578, 578, 578, 577, 577, 576, 576, 576, 576, 576, 576, 576, 575, 575, 574, 574, 574, 573, 573, 573, 572, 572, 572, 571, 569, 569, 568, 568, 568, 567, 567, 567, 567, 567, 567, 566, 566, 565, 565, 564, 564, 563, 563, 563, 562, 562, 562, 561, 561, 561, 560, 560, 559, 559, 559, 558, 557, 557, 557, 557, 556, 555, 555, 555, 555, 555, 554, 553, 553, 552, 552, 552, 552, 552, 551, 550, 550, 549, 549, 549, 548, 548, 548, 547, 547, 547, 546, 546, 545, 545, 544, 543, 543, 543, 543, 542, 542, 542, 542, 542, 542, 541, 540, 540, 540, 540, 539, 538, 538, 538, 538, 537, 537, 537, 537, 537, 537, 537, 536, 536, 536, 536, 535, 535, 535, 535, 534, 534, 533, 533, 533, 533, 533, 533, 533, 532, 532, 532, 532, 531, 531, 531, 531, 530, 530, 530, 529, 529, 528, 528, 528, 528, 527, 527, 527, 527, 527, 527, 526, 526, 526, 526, 526, 525, 525, 525, 525, 524, 524, 523, 522, 522, 522, 521, 521, 521, 521, 521, 521, 520, 519, 519, 519, 519, 518, 518, 518, 517, 517, 515, 514, 514, 514, 514, 513, 513, 513, 513, 513, 512, 512, 512, 512, 512, 511, 511, 510, 510, 509, 509, 509, 509, 509, 508, 508, 507, 507, 506, 506, 506, 505, 505, 505, 505, 505, 505, 505, 504, 504, 503, 503, 503, 503, 503, 503, 502, 502, 502, 502, 502, 502, 501, 501, 501, 501, 501, 501, 501, 500, 500, 499, 499, 499, 498, 498, 498, 498, 498, 498, 498, 498, 498, 497, 496, 496, 496, 496, 496, 495, 495, 495, 495, 495, 494, 494, 494, 494, 494, 493, 493, 492, 492, 492, 491, 491, 490, 490, 490, 490, 490, 489, 489, 489, 489, 489, 489, 489, 489, 488, 488, 488, 488, 488, 487, 487, 487, 486, 486, 486, 485, 485, 485, 485, 485, 485, 484, 484, 484, 484, 484, 483, 483, 483, 483, 482, 482, 482, 481, 481, 481, 481, 481, 480, 480, 480, 479, 479, 479, 479, 479, 478, 478, 478, 478, 477, 477, 477, 477, 477, 477, 476, 476, 476, 476, 476, 475, 475, 475, 474, 474, 474, 473, 473, 473, 473, 473, 472, 472, 472, 472, 471, 471, 471, 470, 470, 470, 470, 470, 469, 469, 469, 469, 469, 469, 469, 468, 468, 467, 467, 467, 467, 467, 467, 466, 466, 466, 465, 465, 465, 464, 464, 464, 464, 464, 464, 464, 464, 463, 462, 462, 462, 462, 462, 461, 461, 461, 461, 461, 461, 461, 460, 460, 460, 460, 460, 460, 460, 460, 460, 460, 460, 460, 460, 460, 460, 459, 459, 459, 459, 458, 458, 458, 457, 457, 457, 457, 457, 457, 456, 456, 456, 456, 456, 456, 456, 455, 455, 455, 455, 454, 454, 454, 453, 453, 452, 452, 452, 452, 452, 451, 451, 451, 451, 451, 451, 451, 451, 451, 451, 451, 451, 450, 450, 450, 450, 450, 449, 448, 448, 448, 448, 448, 447, 447, 447, 447, 446, 445, 445, 445, 445, 445, 445, 444, 444, 444, 443, 442, 442, 442, 442, 442, 442, 441, 441, 441, 441, 441, 441, 440, 440, 440, 440, 440, 440, 440, 439, 439, 439, 439, 438, 438, 438, 438, 438, 438, 438, 438, 438, 438, 437, 436, 436, 436, 436, 436, 436, 436, 436, 436, 436, 435, 435, 435, 435, 435, 435, 434, 434, 434, 434, 434, 434, 434, 434, 434, 434, 434, 433, 433, 433, 433, 433, 433, 433, 433, 433, 433, 433, 432, 432, 432, 432, 431, 431, 430, 430, 430, 430, 430, 430, 429, 429, 429, 428, 428, 428, 428, 428, 428, 428, 428, 428, 428, 427, 427, 427, 427, 427, 427, 427, 427, 427, 426, 426, 426, 426, 426, 426, 426, 425, 425, 425, 425, 424, 424, 424, 424, 424, 424, 424, 424, 423, 423, 423, 423, 423, 423, 423, 422, 422, 422, 422, 422, 422, 422, 422, 421, 421, 421, 421, 421, 421, 421, 421, 421, 421, 421, 421, 421, 420, 420, 420, 420, 420, 420, 420, 420, 420, 420, 420, 420, 419, 419, 419, 419, 419, 419, 419, 419, 419, 419, 419, 418, 418, 418, 417, 417, 417, 417, 417, 417, 417, 417, 417, 416, 416, 416, 416, 416, 416, 416, 415, 415, 415, 415, 415, 415, 415, 415, 414, 414, 414, 414, 413, 413, 413, 413, 413, 413, 413, 413, 412, 412, 412, 412, 412, 412, 412, 412, 412, 412, 412, 412, 412, 412, 411, 411, 411, 411, 411, 411, 411, 411, 411, 411, 411, 411, 410, 410, 410, 410, 410, 410, 410, 410, 410, 410, 410, 409, 409, 409, 409, 409, 409, 409, 409, 408, 408, 408, 408, 408, 408, 408, 408, 408, 408, 407, 407, 407, 406, 406, 406, 406, 406, 406, 406, 406, 405, 405, 405, 405, 405, 405, 405, 404, 404, 403, 403, 403, 403, 403, 403, 403, 403, 403, 403, 403, 403, 402, 402, 402, 402, 402, 402, 401, 401, 401, 401, 401, 401, 401, 401, 401, 401, 401, 401, 401, 400, 400, 400, 400, 400, 400, 400, 400, 399, 399, 399, 399, 399, 399, 399, 399, 398, 398, 398, 398, 398, 398, 398, 398, 398, 398, 397, 397, 397, 397, 397, 397, 396, 396, 396, 396, 396, 396, 396, 396, 396, 396, 396, 395, 395, 395, 395, 395, 395, 395, 395, 395, 395, 395, 394, 394, 394, 394, 394, 394, 394, 394, 394, 394, 394, 394, 393, 393, 393, 393, 392, 392, 392, 392, 392, 392, 392, 392, 392, 392, 391, 391, 391, 391, 391, 391, 391, 391, 391, 391, 391, 390, 390, 390, 390, 390, 390, 390, 390, 390, 390, 389, 389, 389, 389, 389, 389, 389, 389, 389, 388, 388, 388, 388, 388, 387, 387, 387, 387, 387, 387, 386, 386, 386, 386, 386, 386, 386, 386, 386, 386, 385, 385, 385, 385, 385, 385, 384, 384, 384, 384, 384, 384, 384, 383, 383, 383, 383, 383, 383, 383, 382, 382, 382, 382, 382, 382, 382, 382, 382, 382, 381, 381, 381, 381, 381, 381, 381, 381, 381, 380, 380, 380, 380, 380, 380, 380, 380, 380, 380, 380, 380, 380, 380, 380, 379, 379, 379, 379, 379, 379, 379, 379, 379, 379, 379, 379, 378, 378, 378, 378, 378, 378, 378, 378, 377, 377, 377, 377, 377, 377, 376, 376, 376, 376, 376, 376, 376, 376, 376, 376, 376, 376, 376, 376, 375, 375, 375, 375, 375, 375, 375, 375, 375, 374, 374, 374, 374, 374, 374, 374, 374, 374, 374, 374, 374, 373, 373, 373, 373, 373, 373, 373, 373, 373, 373, 373, 372, 372, 372, 372, 372, 372, 372, 372, 372, 371, 371, 371, 371, 371, 371, 371, 371, 371, 371, 371, 370, 370, 370, 370, 370, 370, 370, 370, 369, 369, 369, 369, 369, 369, 369, 369, 369, 369, 369, 369, 369, 369, 369, 368, 368, 368, 368, 368, 368, 368, 368, 368, 368, 367, 367, 367, 367, 367, 367, 367, 367, 367, 367, 367, 367, 367, 366, 366, 366, 366, 366, 366, 366, 366, 366, 366, 366, 366, 365, 365, 365, 365, 365, 365, 365, 365, 365, 364, 364, 364, 364, 364, 364, 364, 364, 364, 364, 364, 364, 364, 363, 363, 363, 363, 363, 363, 363, 363, 363, 363, 363, 362, 362, 362, 362, 362, 362, 362, 362, 362, 361, 361, 361, 361, 361, 361, 361, 361, 361, 361, 360, 360, 360, 360, 360, 360, 360, 360, 360, 360, 359, 359, 359, 359, 359, 359, 359, 359, 358, 358, 358, 358, 358, 358, 358, 358, 358, 358, 358, 357, 357, 357, 357, 357, 357, 357, 357, 357, 357, 357, 357, 357, 357, 356, 356, 356, 356, 356, 356, 356, 356, 356, 356, 355, 355, 355, 355, 355, 355, 354, 354, 354, 354, 354, 354, 354, 354, 354, 354, 354, 354, 353, 353, 353, 353, 353, 353, 353, 353, 353, 353, 353, 353, 353, 353, 353, 352, 352, 352, 352, 352, 352, 352, 352, 352, 352, 352, 352, 351, 351, 351, 351, 351, 351, 351, 351, 351, 350, 350, 350, 350, 350, 350, 350, 350, 350, 350, 350, 350, 349, 349, 349, 349, 349, 349, 349, 349, 349, 349, 349, 349, 349, 349, 349, 348, 348, 348, 348, 348, 348, 348, 348, 348, 348, 348, 348, 348, 348, 348, 348, 347, 347, 347, 347, 347, 347, 347, 347, 347, 347, 347, 346, 346, 346, 346, 346, 346, 346, 346, 346, 346, 346, 346, 346, 346, 345, 345, 345, 345, 345, 345, 345, 345, 345, 345, 345, 345, 345, 345, 344, 344, 344, 344, 344, 344, 344, 344, 344, 343, 343, 343, 343, 343, 343, 343, 343, 343, 343, 343, 343, 342, 342, 342, 342, 342, 342, 342, 342, 341, 341, 341, 341, 341, 341, 341, 341, 341, 341, 341, 341, 341, 340, 340, 340, 340, 340, 340, 340, 340, 340, 340, 340, 340, 340, 340, 339, 339, 339, 339, 339, 339, 339, 339, 339, 339, 339, 339, 339, 339, 339, 339, 339, 339, 339, 339, 339, 338, 338, 338, 338, 338, 338, 338, 338, 338, 338, 338, 338, 338, 337, 337, 337, 337, 337, 337, 337, 337, 337, 337, 337, 337, 337, 337, 337, 337, 337, 337, 336, 336, 336, 336, 336, 336, 336, 336, 336, 336, 336, 336, 335, 335, 335, 335, 335, 335, 335, 335, 335, 335, 335, 335, 335, 335, 335, 335, 335, 335, 334, 334, 334, 334, 334, 334, 334, 334, 334, 334, 334, 333, 333, 333, 333, 333, 333, 333, 333, 333, 333, 333, 333, 333, 333, 332, 332, 332, 332, 332, 332, 332, 332, 332, 332, 332, 332, 332, 332, 332, 332, 332, 332, 331, 331, 331, 331, 331, 331, 331, 331, 331, 331, 331, 330, 330, 330, 330, 330, 330, 330, 330, 330, 330, 330, 330, 330, 330, 329, 329, 329, 329, 329, 329, 329, 329, 329, 329, 329, 329, 329, 329, 329, 329, 329, 329, 329, 329, 329, 328, 328, 328, 328, 328, 328, 328, 328, 328, 328, 328, 328, 328, 327, 327, 327, 327, 327, 327, 327, 327, 327, 327, 327, 327, 327, 327, 327, 326, 326, 326, 326, 326, 326, 326, 326, 326, 326, 326, 326, 326, 326, 326, 326, 326, 325, 325, 325, 325, 325, 325, 325, 325, 325, 325, 325, 325, 325, 325, 325, 325, 325, 325, 325, 325, 325, 324, 324, 324, 324, 324, 324, 324, 324, 324, 324, 324, 323, 323, 323, 323, 323, 323, 323, 323, 323, 323, 323, 322, 322, 322, 322, 322, 322, 322, 322, 321, 321, 321, 321, 321, 321, 321, 321, 321, 321, 321, 321, 321, 321, 321, 321, 321, 321, 321, 321, 321, 321, 321, 320, 320, 320, 320, 320, 320, 320, 320, 320, 320, 319, 319, 319, 319, 319, 319, 319, 319, 319, 319, 319, 319, 319, 319, 319, 319, 319, 319, 319, 319, 319, 319, 319, 319, 318, 318, 318, 318, 318, 318, 318, 318, 318, 318, 318, 318, 318, 317, 317, 317, 317, 317, 317, 317, 317, 317, 317, 317, 317, 317, 317, 316, 316, 316, 316, 316, 316, 316, 316, 316, 316, 316, 316, 316, 316, 316, 315, 315, 315, 315, 315, 315, 315, 315, 315, 315, 315, 315, 315, 315, 315, 315, 314, 314, 314, 314, 314, 314, 314, 314, 314, 314, 314, 314, 314, 314, 314, 314, 314, 314, 314, 313, 313, 313, 313, 313, 313, 313, 313, 313, 313, 312, 312, 312, 312, 312, 312, 312, 312, 312, 312, 312, 312, 312, 312, 312, 312, 312, 311, 311, 311, 311, 311, 311, 311, 311, 311, 311, 311, 311, 311, 311, 311, 311, 311, 311, 310, 310, 310, 310, 310, 310, 310, 310, 310, 310, 309, 309, 309, 309, 309, 309, 309, 309, 309, 309, 309, 309, 308, 308, 308, 308, 308, 308, 308, 308, 308, 308, 308, 308, 308, 308, 307, 307, 307, 307, 307, 307, 307, 307, 307, 307, 307, 307, 307, 307, 307, 307, 307, 307, 306, 306, 306, 306, 306, 306, 306, 306, 306, 306, 306, 306, 306, 306, 306, 306, 305, 305, 305, 305, 305, 305, 305, 305, 305, 305, 305, 305, 305, 305, 305, 305, 305, 305, 305, 305, 305, 305, 305, 305, 305, 305, 304, 304, 304, 304, 304, 304, 304, 304, 304, 304, 304, 304, 304, 304, 304, 304, 303, 303, 303, 303, 303, 303, 303, 303, 303, 303, 303, 303, 303, 303, 303, 302, 302, 302, 302, 302, 302, 302, 302, 302, 302, 302, 302, 302, 302, 302, 302, 302, 302, 302, 302, 302, 302, 302, 301, 301, 301, 301, 301, 301, 301, 301, 301, 301, 301, 301, 301, 301, 301, 301, 301, 301, 301, 301, 301, 301, 301, 301, 301, 300, 300, 300, 300, 300, 300, 300, 300, 300, 300, 300, 300, 300, 300, 300, 300, 299, 299, 299, 299, 299, 299, 299, 299, 299, 299, 299, 299, 299, 299, 299, 299, 299, 299, 299, 298, 298, 298, 298, 298, 298, 298, 298, 298, 298, 298, 298, 298, 298, 298, 298, 298, 298, 298, 298, 298, 297, 297, 297, 297, 297, 297, 297, 297, 297, 297, 297, 297, 297, 296, 296, 296, 296, 296, 296, 296, 296, 296, 296, 296, 296, 296, 296, 296, 296, 296, 296, 296, 296, 296, 296, 296, 296, 296, 296, 296, 296, 296, 296, 296, 295, 295, 295, 295, 295, 295, 295, 295, 295, 295, 295, 295, 294, 294, 294, 294, 294, 294, 294, 294, 294, 294, 294, 294, 294, 294, 294, 294, 294, 294, 294, 294, 294, 294, 294, 294, 294, 294, 294, 293, 293, 293, 293, 293, 293, 293, 293, 293, 293, 293, 293, 293, 293, 293, 293, 293, 293, 293, 293, 293, 293, 293, 293, 293, 293, 293, 293, 293, 293, 293, 292, 292, 292, 292, 292, 292, 292, 292, 292, 292, 292, 292, 292, 292, 292, 292, 292, 292, 291, 291, 291, 291, 291, 291, 291, 291, 291, 291, 291, 291, 291, 291, 291, 291, 291, 291, 291, 291, 291, 291, 290, 290, 290, 290, 290, 290, 290, 290, 290, 290, 290, 290, 290, 290, 290, 290, 290, 290, 289, 289, 289, 289, 289, 289, 289, 289, 289, 289, 289, 289, 289, 289, 289, 289, 289, 289, 289, 288, 288, 288, 288, 288, 288, 288, 288, 288, 288, 288, 288, 287, 287, 287, 287, 287, 287, 287, 287, 287, 287, 287, 287, 287, 287, 287, 287, 287, 286, 286, 286, 286, 286, 286, 286, 286, 286, 286, 286, 286, 286, 286, 286, 286, 286, 286, 286, 286, 286, 286, 286, 286, 286, 286, 285, 285, 285, 285, 285, 285, 285, 285, 285, 285, 285, 285, 285, 285, 285, 285, 285, 285, 285, 285, 285, 285, 285, 285, 285, 284, 284, 284, 284, 284, 284, 284, 284, 284, 284, 284, 284, 284, 284, 284, 284, 284, 284, 284, 284, 284, 284, 284, 283, 283, 283, 283, 283, 283, 283, 283, 283, 283, 283, 283, 283, 282, 282, 282, 282, 282, 282, 282, 282, 282, 282, 282, 282, 282, 282, 282, 282, 282, 282, 282, 281, 281, 281, 281, 281, 281, 281, 281, 281, 281, 281, 281, 281, 281, 281, 281, 281, 281, 281, 281, 280, 280, 280, 280, 280, 280, 280, 280, 280, 280, 280, 280, 280, 280, 280, 280, 280, 280, 280, 280, 280, 280, 280, 279, 279, 279, 279, 279, 279, 279, 279, 279, 279, 279, 279, 279, 279, 279, 279, 279, 279, 279, 279, 279, 279, 278, 278, 278, 278, 278, 278, 278, 278, 278, 278, 278, 278, 278, 278, 277, 277, 277, 277, 277, 277, 277, 277, 277, 277, 277, 277, 277, 277, 277, 277, 277, 277, 277, 277, 276, 276, 276, 276, 276, 276, 276, 276, 276, 276, 276, 276, 276, 276, 276, 276, 276, 276, 276, 276, 276, 276, 276, 276, 276, 276, 276, 275, 275, 275, 275, 275, 275, 275, 275, 275, 275, 275, 275, 275, 275, 275, 275, 275, 275, 275, 275, 275, 275, 275, 275, 275, 275, 275, 275, 275, 275, 274, 274, 274, 274, 274, 274, 274, 274, 274, 274, 274, 274, 274, 274, 274, 274, 274, 274, 274, 274, 274, 274, 274, 274, 274, 274, 274, 274, 273, 273, 273, 273, 273, 273, 273, 273, 273, 273, 273, 273, 273, 273, 273, 273, 273, 273, 273, 273, 273, 273, 273, 273, 273, 272, 272, 272, 272, 272, 272, 272, 272, 272, 272, 272, 272, 272, 272, 272, 272, 272, 272, 272, 272, 272, 272, 272, 272, 272, 272, 272, 272, 272, 271, 271, 271, 271, 271, 271, 271, 271, 271, 271, 271, 271, 271, 271, 271, 271, 271, 271, 271, 271, 271, 270, 270, 270, 270, 270, 270, 270, 270, 270, 270, 270, 270, 270, 270, 270, 270, 270, 270, 270, 270, 269, 269, 269, 269, 269, 269, 269, 269, 269, 269, 269, 269, 269, 269, 269, 269, 269, 269, 269, 269, 269, 268, 268, 268, 268, 268, 268, 268, 268, 268, 268, 268, 268, 268, 268, 268, 268, 268, 268, 268, 268, 268, 267, 267, 267, 267, 267, 267, 267, 267, 267, 267, 267, 267, 267, 267, 267, 267, 267, 267, 267, 267, 266, 266, 266, 266, 266, 266, 266, 266, 266, 266, 266, 266, 266, 266, 266, 266, 266, 266, 266, 266, 266, 265, 265, 265, 265, 265, 265, 265, 265, 265, 265, 265, 265, 265, 265, 265, 265, 265, 265, 265, 265, 264, 264, 264, 264, 264, 264, 264, 264, 264, 264, 264, 264, 264, 264, 264, 264, 264, 264, 264, 264, 264, 264, 264, 264, 264, 264, 263, 263, 263, 263, 263, 263, 263, 263, 263, 263, 263, 263, 263, 263, 263, 263, 263, 263, 263, 263, 263, 263, 263, 263, 263, 262, 262, 262, 262, 262, 262, 262, 262, 262, 262, 262, 262, 262, 262, 262, 262, 262, 262, 262, 262, 262, 262, 262, 262, 262, 261, 261, 261, 261, 261, 261, 261, 261, 261, 261, 261, 261, 261, 261, 261, 261, 261, 261, 261, 261, 261, 261, 261, 261, 261, 261, 260, 260, 260, 260, 260, 260, 260, 260, 260, 260, 260, 260, 260, 260, 260, 260, 260, 260, 260, 260, 260, 260, 260, 260, 260, 260, 260, 260, 260, 260, 259, 259, 259, 259, 259, 259, 259, 259, 259, 259, 259, 259, 259, 259, 259, 259, 259, 259, 259, 259, 259, 259, 259, 259, 259, 259, 258, 258, 258, 258, 258, 258, 258, 258, 258, 258, 258, 258, 258, 258, 258, 258, 258, 258, 258, 258, 258, 258, 258, 258, 258, 258, 258, 258, 258, 258, 258, 258, 258, 258, 257, 257, 257, 257, 257, 257, 257, 257, 257, 257, 257, 257, 257, 257, 257, 257, 257, 257, 257, 257, 257, 257, 257, 257, 257, 257, 257, 257, 257, 257, 256, 256, 256, 256, 256, 256, 256, 256, 256, 256, 256, 256, 256, 256, 256, 256, 256, 256, 256, 256, 256, 256, 256, 256, 256, 256, 255, 255, 255, 255, 255, 255, 255, 255, 255, 255, 255, 255, 255, 255, 255, 255, 255, 255, 255, 255, 255, 255, 255, 255, 255, 255, 255, 255, 255, 255, 255, 255, 255, 255, 254, 254, 254, 254, 254, 254, 254, 254, 254, 254, 254, 254, 254, 254, 254, 254, 254, 254, 254, 254, 254, 254, 254, 254, 254, 254, 254, 254, 254, 254, 253, 253, 253, 253, 253, 253, 253, 253, 253, 253, 253, 253, 253, 253, 253, 253, 253, 253, 252, 252, 252, 252, 252, 252, 252, 252, 252, 252, 252, 252, 252, 252, 252, 252, 252, 252, 252, 252, 252, 252, 252, 252, 252, 252, 251, 251, 251, 251, 251, 251, 251, 251, 251, 251, 251, 251, 251, 251, 251, 251, 251, 251, 251, 251, 251, 251, 251, 251, 251, 251, 251, 251, 250, 250, 250, 250, 250, 250, 250, 250, 250, 250, 250, 250, 250, 250, 250, 250, 250, 250, 250, 250, 250, 250, 250, 250, 250, 250, 250, 250, 250, 250, 250, 250, 250, 250, 250, 249, 249, 249, 249, 249, 249, 249, 249, 249, 249, 249, 249, 249, 249, 249, 249, 249, 249, 249, 249, 249, 249, 249, 249, 249, 249, 249, 249, 249, 248, 248, 248, 248, 248, 248, 248, 248, 248, 248, 248, 248, 248, 248, 248, 248, 248, 248, 248, 248, 248, 248, 248, 248, 248, 248, 248, 248, 248, 247, 247, 247, 247, 247, 247, 247, 247, 247, 247, 247, 247, 247, 247, 247, 247, 247, 247, 247, 247, 247, 247, 247, 247, 247, 247, 247, 247, 247, 247, 247, 247, 246, 246, 246, 246, 246, 246, 246, 246, 246, 246, 246, 246, 246, 246, 246, 246, 246, 246, 246, 246, 246, 246, 245, 245, 245, 245, 245, 245, 245, 245, 245, 245, 245, 245, 245, 245, 245, 245, 245, 245, 245, 245, 245, 245, 245, 245, 245, 245, 245, 245, 244, 244, 244, 244, 244, 244, 244, 244, 244, 244, 244, 244, 244, 244, 244, 244, 244, 244, 244, 243, 243, 243, 243, 243, 243, 243, 243, 243, 243, 243, 243, 243, 243, 243, 243, 243, 243, 243, 243, 243, 243, 243, 243, 243, 243, 243, 243, 243, 243, 243, 243, 243, 243, 243, 243, 243, 243, 243, 242, 242, 242, 242, 242, 242, 242, 242, 242, 242, 242, 242, 242, 242, 242, 242, 242, 242, 242, 242, 242, 242, 242, 242, 242, 242, 242, 242, 242, 242, 242, 242, 242, 242, 242, 242, 242, 242, 242, 241, 241, 241, 241, 241, 241, 241, 241, 241, 241, 241, 241, 241, 241, 241, 241, 241, 241, 241, 241, 241, 241, 241, 241, 241, 241, 241, 241, 241, 241, 241, 241, 241, 240, 240, 240, 240, 240, 240, 240, 240, 240, 240, 240, 240, 240, 240, 240, 240, 240, 240, 240, 240, 240, 240, 240, 240, 240, 240, 240, 240, 240, 240, 240, 240, 240, 239, 239, 239, 239, 239, 239, 239, 239, 239, 239, 239, 239, 239, 239, 239, 239, 239, 239, 239, 239, 239, 239, 239, 239, 239, 239, 239, 239, 239, 239, 239, 239, 238, 238, 238, 238, 238, 238, 238, 238, 238, 238, 238, 238, 238, 238, 238, 238, 238, 238, 238, 238, 238, 238, 238, 237, 237, 237, 237, 237, 237, 237, 237, 237, 237, 237, 237, 237, 237, 237, 237, 237, 237, 237, 237, 237, 237, 237, 237, 237, 237, 237, 237, 236, 236, 236, 236, 236, 236, 236, 236, 236, 236, 236, 236, 236, 236, 236, 236, 236, 236, 236, 236, 236, 236, 236, 236, 236, 236, 236, 236, 236, 236, 236, 236, 236, 236, 236, 236, 236, 235, 235, 235, 235, 235, 235, 235, 235, 235, 235, 235, 235, 235, 235, 235, 235, 235, 235, 235, 235, 235, 235, 235, 235, 235, 235, 235, 234, 234, 234, 234, 234, 234, 234, 234, 234, 234, 234, 234, 234, 234, 234, 234, 234, 234, 234, 234, 234, 234, 234, 234, 234, 234, 234, 234, 234, 234, 234, 234, 234, 233, 233, 233, 233, 233, 233, 233, 233, 233, 233, 233, 233, 233, 233, 233, 233, 233, 233, 233, 233, 233, 233, 233, 233, 233, 233, 233, 233, 233, 233, 233, 233, 233, 233, 233, 233, 233, 233, 233, 233, 233, 233, 232, 232, 232, 232, 232, 232, 232, 232, 232, 232, 232, 232, 232, 232, 232, 232, 232, 232, 232, 232, 232, 232, 232, 232, 232, 232, 232, 232, 232, 232, 232, 232, 232, 231, 231, 231, 231, 231, 231, 231, 231, 231, 231, 231, 231, 231, 231, 231, 231, 231, 231, 231, 231, 231, 231, 231, 231, 231, 231, 231, 231, 231, 231, 231, 231, 231, 231, 231, 231, 231, 231, 231, 231, 231, 231, 231, 231, 230, 230, 230, 230, 230, 230, 230, 230, 230, 230, 230, 230, 230, 230, 230, 230, 230, 230, 230, 230, 230, 230, 230, 230, 230, 230, 230, 230, 230, 230, 230, 230, 230, 230, 230, 230, 230, 230, 230, 230, 230, 230, 229, 229, 229, 229, 229, 229, 229, 229, 229, 229, 229, 229, 229, 229, 229, 229, 229, 229, 229, 229, 229, 229, 229, 229, 229, 229, 229, 229, 229, 229, 229, 229, 229, 229, 229, 229, 229, 229, 229, 229, 228, 228, 228, 228, 228, 228, 228, 228, 228, 228, 228, 228, 228, 228, 228, 228, 228, 228, 228, 228, 228, 228, 228, 228, 228, 228, 228, 228, 228, 228, 228, 228, 228, 228, 228, 228, 228, 228, 228, 227, 227, 227, 227, 227, 227, 227, 227, 227, 227, 227, 227, 227, 227, 227, 227, 227, 227, 227, 227, 227, 227, 227, 227, 227, 227, 227, 227, 227, 227, 227, 227, 227, 227, 227, 227, 227, 227, 227, 227, 227, 227, 227, 227, 227, 226, 226, 226, 226, 226, 226, 226, 226, 226, 226, 226, 226, 226, 226, 226, 226, 226, 226, 226, 226, 226, 226, 226, 226, 226, 226, 226, 226, 226, 226, 226, 226, 226, 226, 226, 226, 226, 226, 226, 226, 226, 226, 226, 226, 225, 225, 225, 225, 225, 225, 225, 225, 225, 225, 225, 225, 225, 225, 225, 225, 225, 225, 225, 225, 225, 225, 225, 225, 225, 225, 225, 225, 225, 225, 225, 225, 225, 225, 225, 225, 225, 225, 225, 225, 224, 224, 224, 224, 224, 224, 224, 224, 224, 224, 224, 224, 224, 224, 224, 224, 224, 224, 224, 224, 224, 224, 224, 224, 224, 224, 224, 224, 224, 224, 224, 224, 224, 224, 224, 224, 224, 224, 224, 224, 224, 224, 224, 224, 224, 224, 223, 223, 223, 223, 223, 223, 223, 223, 223, 223, 223, 223, 223, 223, 223, 223, 223, 223, 223, 223, 223, 223, 223, 223, 223, 223, 223, 223, 223, 223, 223, 222, 222, 222, 222, 222, 222, 222, 222, 222, 222, 222, 222, 222, 222, 222, 222, 222, 222, 222, 222, 222, 222, 222, 222, 222, 222, 222, 222, 222, 222, 222, 221, 221, 221, 221, 221, 221, 221, 221, 221, 221, 221, 221, 221, 221, 221, 221, 221, 221, 221, 221, 221, 221, 221, 221, 221, 221, 221, 221, 221, 221, 221, 221, 221, 221, 221, 221, 221, 221, 221, 221, 221, 221, 221, 221, 221, 220, 220, 220, 220, 220, 220, 220, 220, 220, 220, 220, 220, 220, 220, 220, 220, 220, 220, 220, 220, 220, 220, 220, 220, 220, 220, 220, 220, 220, 220, 220, 220, 220, 220, 220, 219, 219, 219, 219, 219, 219, 219, 219, 219, 219, 219, 219, 219, 219, 219, 219, 219, 219, 219, 219, 219, 219, 219, 219, 219, 219, 219, 219, 219, 219, 219, 219, 219, 219, 219, 219, 219, 219, 219, 219, 218, 218, 218, 218, 218, 218, 218, 218, 218, 218, 218, 218, 218, 218, 218, 218, 218, 218, 218, 218, 218, 218, 218, 218, 218, 218, 218, 218, 218, 218, 218, 218, 218, 218, 218, 218, 218, 218, 218, 218, 218, 218, 217, 217, 217, 217, 217, 217, 217, 217, 217, 217, 217, 217, 217, 217, 217, 217, 217, 217, 217, 217, 217, 217, 217, 217, 217, 217, 217, 217, 217, 217, 217, 217, 217, 217, 217, 217, 217, 217, 217, 217, 216, 216, 216, 216, 216, 216, 216, 216, 216, 216, 216, 216, 216, 216, 216, 216, 216, 216, 216, 216, 216, 216, 216, 216, 216, 216, 216, 216, 216, 216, 216, 216, 216, 216, 216, 216, 216, 216, 216, 216, 216, 216, 216, 216, 216, 216, 216, 216, 216, 216, 216, 215, 215, 215, 215, 215, 215, 215, 215, 215, 215, 215, 215, 215, 215, 215, 215, 215, 215, 215, 215, 215, 215, 215, 215, 215, 215, 215, 215, 215, 215, 215, 215, 215, 215, 215, 215, 215, 215, 215, 214, 214, 214, 214, 214, 214, 214, 214, 214, 214, 214, 214, 214, 214, 214, 214, 214, 214, 214, 214, 214, 214, 214, 214, 214, 214, 214, 214, 214, 214, 214, 214, 214, 214, 214, 214, 214, 214, 214, 214, 214, 213, 213, 213, 213, 213, 213, 213, 213, 213, 213, 213, 213, 213, 213, 213, 213, 213, 213, 213, 213, 213, 213, 213, 213, 213, 213, 213, 213, 213, 213, 213, 213, 213, 213, 213, 213, 213, 213, 212, 212, 212, 212, 212, 212, 212, 212, 212, 212, 212, 212, 212, 212, 212, 212, 212, 212, 212, 212, 212, 212, 212, 212, 212, 212, 212, 212, 212, 212, 212, 212, 212, 212, 212, 212, 211, 211, 211, 211, 211, 211, 211, 211, 211, 211, 211, 211, 211, 211, 211, 211, 211, 211, 211, 211, 211, 211, 211, 211, 211, 211, 211, 211, 211, 211, 211, 211, 211, 211, 211, 211, 211, 211, 211, 211, 211, 211, 211, 211, 211, 211, 211, 211, 211, 211, 211, 211, 211, 211, 211, 211, 211, 211, 211, 211, 211, 211, 210, 210, 210, 210, 210, 210, 210, 210, 210, 210, 210, 210, 210, 210, 210, 210, 210, 210, 210, 210, 210, 210, 210, 210, 210, 210, 210, 210, 210, 210, 210, 210, 210, 210, 210, 210, 210, 210, 210, 209, 209, 209, 209, 209, 209, 209, 209, 209, 209, 209, 209, 209, 209, 209, 209, 209, 209, 209, 209, 209, 209, 209, 209, 209, 209, 209, 209, 209, 209, 209, 209, 209, 209, 209, 209, 209, 209, 209, 209, 209, 209, 209, 209, 209, 209, 209, 208, 208, 208, 208, 208, 208, 208, 208, 208, 208, 208, 208, 208, 208, 208, 208, 208, 208, 208, 208, 208, 208, 208, 208, 208, 208, 208, 208, 208, 208, 208, 208, 208, 208, 208, 208, 208, 208, 208, 208, 208, 208, 208, 208, 208, 208, 208, 208, 208, 208, 208, 208, 207, 207, 207, 207, 207, 207, 207, 207, 207, 207, 207, 207, 207, 207, 207, 207, 207, 207, 207, 207, 207, 207, 207, 207, 207, 207, 207, 207, 207, 207, 207, 207, 207, 207, 207, 207, 207, 207, 207, 207, 207, 207, 207, 207, 207, 207, 207, 207, 206, 206, 206, 206, 206, 206, 206, 206, 206, 206, 206, 206, 206, 206, 206, 206, 206, 206, 206, 206, 206, 206, 206, 206, 206, 206, 206, 206, 206, 206, 206, 206, 206, 206, 206, 206, 206, 206, 206, 206, 206, 206, 206, 206, 206, 206, 206, 206, 206, 206, 206, 206, 205, 205, 205, 205, 205, 205, 205, 205, 205, 205, 205, 205, 205, 205, 205, 205, 205, 205, 205, 205, 205, 205, 205, 205, 205, 205, 205, 205, 205, 205, 205, 205, 205, 205, 205, 205, 205, 205, 205, 205, 205, 205, 205, 205, 205, 204, 204, 204, 204, 204, 204, 204, 204, 204, 204, 204, 204, 204, 204, 204, 204, 204, 204, 204, 204, 204, 204, 204, 204, 204, 204, 204, 204, 204, 204, 204, 204, 204, 204, 204, 204, 204, 204, 204, 204, 204, 204, 204, 204, 203, 203, 203, 203, 203, 203, 203, 203, 203, 203, 203, 203, 203, 203, 203, 203, 203, 203, 203, 203, 203, 203, 203, 203, 203, 203, 203, 203, 203, 203, 203, 203, 203, 203, 203, 203, 203, 203, 203, 203, 203, 203, 203, 203, 203, 203, 203, 203, 203, 203, 203, 203, 202, 202, 202, 202, 202, 202, 202, 202, 202, 202, 202, 202, 202, 202, 202, 202, 202, 202, 202, 202, 202, 202, 202, 202, 202, 202, 202, 202, 202, 202, 202, 202, 202, 202, 202, 202, 202, 202, 202, 202, 202, 202, 202, 202, 201, 201, 201, 201, 201, 201, 201, 201, 201, 201, 201, 201, 201, 201, 201, 201, 201, 201, 201, 201, 201, 201, 201, 201, 201, 201, 201, 201, 201, 201, 201, 201, 201, 201, 201, 201, 201, 201, 201, 201, 201, 201, 201, 201, 201, 201, 201, 201, 201, 201, 201, 200, 200, 200, 200, 200, 200, 200, 200, 200, 200, 200, 200, 200, 200, 200, 200, 200, 200, 200, 200, 200, 200, 200, 200, 200, 200, 200, 200, 200, 200, 200, 200, 200, 200, 200, 200, 200, 200, 200, 200, 200, 200, 200, 200, 200, 200, 200, 199, 199, 199, 199, 199, 199, 199, 199, 199, 199, 199, 199, 199, 199, 199, 199, 199, 199, 199, 199, 199, 199, 199, 199, 199, 199, 199, 199, 199, 199, 199, 199, 199, 199, 199, 199, 199, 199, 199, 199, 199, 199, 199, 199, 199, 199, 199, 199, 199, 199, 199, 199, 199, 199, 199, 199, 199, 199, 199, 199, 198, 198, 198, 198, 198, 198, 198, 198, 198, 198, 198, 198, 198, 198, 198, 198, 198, 198, 198, 198, 198, 198, 198, 198, 198, 198, 198, 198, 198, 198, 198, 198, 198, 198, 198, 198, 198, 198, 198, 198, 198, 198, 198, 198, 198, 198, 198, 198, 198, 198, 198, 198, 198, 198, 198, 198, 198, 198, 197, 197, 197, 197, 197, 197, 197, 197, 197, 197, 197, 197, 197, 197, 197, 197, 197, 197, 197, 197, 197, 197, 197, 197, 197, 197, 197, 197, 197, 197, 197, 197, 197, 197, 197, 197, 197, 197, 197, 197, 197, 197, 197, 197, 197, 197, 196, 196, 196, 196, 196, 196, 196, 196, 196, 196, 196, 196, 196, 196, 196, 196, 196, 196, 196, 196, 196, 196, 196, 196, 196, 196, 196, 196, 196, 196, 196, 196, 196, 196, 196, 196, 196, 196, 196, 196, 196, 196, 196, 196, 196, 196, 196, 196, 196, 196, 196, 196, 196, 196, 196, 195, 195, 195, 195, 195, 195, 195, 195, 195, 195, 195, 195, 195, 195, 195, 195, 195, 195, 195, 195, 195, 195, 195, 195, 195, 195, 195, 195, 195, 195, 195, 195, 195, 195, 195, 195, 195, 195, 195, 195, 195, 195, 195, 195, 195, 195, 195, 195, 195, 195, 195, 195, 195, 195, 195, 194, 194, 194, 194, 194, 194, 194, 194, 194, 194, 194, 194, 194, 194, 194, 194, 194, 194, 194, 194, 194, 194, 194, 194, 194, 194, 194, 194, 194, 194, 194, 194, 194, 194, 194, 194, 194, 194, 194, 194, 194, 194, 194, 194, 194, 194, 194, 194, 194, 194, 194, 194, 194, 194, 194, 194, 193, 193, 193, 193, 193, 193, 193, 193, 193, 193, 193, 193, 193, 193, 193, 193, 193, 193, 193, 193, 193, 193, 193, 193, 193, 193, 193, 193, 193, 193, 193, 193, 193, 193, 193, 193, 193, 193, 193, 193, 193, 193, 193, 193, 193, 193, 193, 193, 193, 193, 193, 193, 193, 193, 193, 193, 193, 192, 192, 192, 192, 192, 192, 192, 192, 192, 192, 192, 192, 192, 192, 192, 192, 192, 192, 192, 192, 192, 192, 192, 192, 192, 192, 192, 192, 192, 192, 192, 192, 192, 192, 192, 192, 192, 192, 192, 192, 192, 192, 192, 192, 192, 192, 192, 192, 192, 192, 192, 192, 192, 192, 192, 192, 192, 192, 192, 192, 191, 191, 191, 191, 191, 191, 191, 191, 191, 191, 191, 191, 191, 191, 191, 191, 191, 191, 191, 191, 191, 191, 191, 191, 191, 191, 191, 191, 191, 191, 191, 191, 191, 191, 191, 191, 191, 191, 191, 191, 191, 191, 191, 191, 191, 191, 191, 191, 191, 191, 191, 191, 191, 191, 191, 191, 190, 190, 190, 190, 190, 190, 190, 190, 190, 190, 190, 190, 190, 190, 190, 190, 190, 190, 190, 190, 190, 190, 190, 190, 190, 190, 190, 190, 190, 190, 190, 190, 190, 190, 190, 190, 190, 190, 190, 190, 190, 190, 190, 190, 190, 190, 190, 190, 190, 190, 190, 190, 190, 190, 190, 190, 190, 190, 190, 190, 190, 190, 190, 190, 190, 189, 189, 189, 189, 189, 189, 189, 189, 189, 189, 189, 189, 189, 189, 189, 189, 189, 189, 189, 189, 189, 189, 189, 189, 189, 189, 189, 189, 189, 189, 189, 189, 189, 189, 189, 189, 189, 189, 189, 189, 189, 189, 189, 189, 189, 189, 189, 189, 189, 189, 189, 189, 189, 189, 189, 189, 188, 188, 188, 188, 188, 188, 188, 188, 188, 188, 188, 188, 188, 188, 188, 188, 188, 188, 188, 188, 188, 188, 188, 188, 188, 188, 188, 188, 188, 188, 188, 188, 188, 188, 188, 188, 188, 188, 188, 188, 188, 188, 188, 188, 188, 188, 188, 188, 188, 188, 188, 188, 188, 188, 187, 187, 187, 187, 187, 187, 187, 187, 187, 187, 187, 187, 187, 187, 187, 187, 187, 187, 187, 187, 187, 187, 187, 187, 187, 187, 187, 187, 187, 187, 187, 187, 187, 187, 187, 187, 187, 187, 187, 187, 187, 187, 187, 187, 187, 187, 187, 187, 187, 186, 186, 186, 186, 186, 186, 186, 186, 186, 186, 186, 186, 186, 186, 186, 186, 186, 186, 186, 186, 186, 186, 186, 186, 186, 186, 186, 186, 186, 186, 186, 186, 186, 186, 186, 186, 186, 186, 186, 186, 186, 186, 186, 186, 186, 186, 186, 186, 186, 186, 186, 186, 186, 186, 186, 185, 185, 185, 185, 185, 185, 185, 185, 185, 185, 185, 185, 185, 185, 185, 185, 185, 185, 185, 185, 185, 185, 185, 185, 185, 185, 185, 185, 185, 185, 185, 185, 185, 185, 185, 185, 185, 185, 185, 185, 185, 185, 185, 185, 185, 185, 185, 185, 185, 185, 185, 185, 185, 185, 185, 185, 185, 185, 184, 184, 184, 184, 184, 184, 184, 184, 184, 184, 184, 184, 184, 184, 184, 184, 184, 184, 184, 184, 184, 184, 184, 184, 184, 184, 184, 184, 184, 184, 184, 184, 184, 184, 184, 184, 184, 184, 184, 184, 184, 184, 184, 184, 184, 184, 184, 184, 184, 184, 184, 184, 184, 184, 184, 184, 184, 184, 184, 184, 184, 184, 184, 184, 184, 184, 184, 184, 184, 184, 184, 184, 184, 184, 184, 184, 184, 183, 183, 183, 183, 183, 183, 183, 183, 183, 183, 183, 183, 183, 183, 183, 183, 183, 183, 183, 183, 183, 183, 183, 183, 183, 183, 183, 183, 183, 183, 183, 183, 183, 183, 183, 183, 183, 183, 183, 183, 183, 183, 183, 183, 183, 183, 183, 183, 183, 183, 183]\n",
      "Jumlah data outliers = 12924\n"
     ]
    }
   ],
   "source": [
    "iqr_outliers(df_listen['listen_count'])"
   ]
  },
  {
   "cell_type": "code",
   "execution_count": 51,
   "metadata": {
    "colab": {
     "base_uri": "https://localhost:8080/",
     "height": 351
    },
    "id": "qZeM_SqtcwL3",
    "outputId": "86df4486-ce6d-465f-f3d5-04cbcfe9e1f2"
   },
   "outputs": [
    {
     "data": {
      "image/png": "[encoded data removed]",
      "text/plain": [
       "<Figure size 720x360 with 1 Axes>"
      ]
     },
     "metadata": {
      "needs_background": "light"
     },
     "output_type": "display_data"
    }
   ],
   "source": [
    "fig = plt.figure(figsize=(10,5))\n",
    "sns.boxplot(df_listen['listen_count'])\n",
    "plt.title('Outliers')\n",
    "plt.xlabel('listen_count')\n",
    "plt.show()"
   ]
  },
  {
   "cell_type": "markdown",
   "metadata": {
    "id": "M8CpbzeXm-HG"
   },
   "source": [
    "* Pengguna paling banyak memutar lagu sebanyak 3719 lagu.\n",
    "* Pengguna kebanyakan memutar lagu dalam range 1 hingga 100.\n",
    "* Data tidak terdistribusi normal karena puncaknya lebih tinggi dari distribusi normal.\n",
    "* Berdasarkan nilai skewness yang positif, data terdistorsi ke kanan. Seperti yang dapat dilihat pada grafik, data mempunyai ekor panjang ke arah kanan. Data terdistorsi adalah data yang telah mengalami distorsi, yaitu berubah menjadi bentuk yang berbeda dari asalnya. Data terdistorsi ke kanan adalah data yang telah mengalami distorsi ke arah yang lebih tinggi.\n",
    "* Berdasarkan nilai kurtosis yang positif, distribusi data adalah heavy-tailed, yaitu data mempunyai outliers.\n",
    "* Pengguna rata-rata memutar lagu sebanyak 69 kali.\n",
    "* Jumlah data outliers adalah 12924."
   ]
  },
  {
   "cell_type": "markdown",
   "metadata": {
    "id": "R41DJaVYj0I_"
   },
   "source": [
    "Rekomendasi tidak perlu menggunakan distribusi normal. Distribusi normal dapat mengurangi akurasi hasil rekomendasi karena membatasi jenis data yang dapat digunakan. Selain itu, distribusi normal juga memerlukan waktu yang lebih lama untuk menghitung dan menganalisis data. Oleh karena itu, normalisasi tidak akan dilakukan."
   ]
  },
  {
   "cell_type": "markdown",
   "metadata": {
    "id": "C92Cmt-jmr-y"
   },
   "source": [
    "## Apa lagu, album, dan artis yang paling banyak diputar pengguna?"
   ]
  },
  {
   "cell_type": "code",
   "execution_count": 52,
   "metadata": {
    "colab": {
     "base_uri": "https://localhost:8080/",
     "height": 206
    },
    "id": "f0gvK4ZWmuM9",
    "outputId": "73a81e6a-4b0e-4e97-f09d-0ab1718f4956"
   },
   "outputs": [
    {
     "data": {
      "text/html": [
       "<div>\n",
       "<style scoped>\n",
       "    .dataframe tbody tr th:only-of-type {\n",
       "        vertical-align: middle;\n",
       "    }\n",
       "\n",
       "    .dataframe tbody tr th {\n",
       "        vertical-align: top;\n",
       "    }\n",
       "\n",
       "    .dataframe thead th {\n",
       "        text-align: right;\n",
       "    }\n",
       "</style>\n",
       "<table border=\"1\" class=\"dataframe\">\n",
       "  <thead>\n",
       "    <tr style=\"text-align: right;\">\n",
       "      <th></th>\n",
       "      <th>title</th>\n",
       "      <th>artist_name</th>\n",
       "      <th>count</th>\n",
       "    </tr>\n",
       "  </thead>\n",
       "  <tbody>\n",
       "    <tr>\n",
       "      <th>0</th>\n",
       "      <td>Sehr kosmisch</td>\n",
       "      <td>Harmonia</td>\n",
       "      <td>8277</td>\n",
       "    </tr>\n",
       "    <tr>\n",
       "      <th>1</th>\n",
       "      <td>Undo</td>\n",
       "      <td>Björk</td>\n",
       "      <td>7032</td>\n",
       "    </tr>\n",
       "    <tr>\n",
       "      <th>2</th>\n",
       "      <td>Dog Days Are Over (Radio Edit)</td>\n",
       "      <td>Florence + The Machine</td>\n",
       "      <td>6949</td>\n",
       "    </tr>\n",
       "    <tr>\n",
       "      <th>3</th>\n",
       "      <td>You're The One</td>\n",
       "      <td>Dwight Yoakam</td>\n",
       "      <td>6412</td>\n",
       "    </tr>\n",
       "    <tr>\n",
       "      <th>4</th>\n",
       "      <td>Revelry</td>\n",
       "      <td>Kings Of Leon</td>\n",
       "      <td>6145</td>\n",
       "    </tr>\n",
       "  </tbody>\n",
       "</table>\n",
       "</div>"
      ],
      "text/plain": [
       "                            title             artist_name  count\n",
       "0                   Sehr kosmisch                Harmonia   8277\n",
       "1                            Undo                   Björk   7032\n",
       "2  Dog Days Are Over (Radio Edit)  Florence + The Machine   6949\n",
       "3                  You're The One           Dwight Yoakam   6412\n",
       "4                         Revelry           Kings Of Leon   6145"
      ]
     },
     "execution_count": 52,
     "metadata": {},
     "output_type": "execute_result"
    }
   ],
   "source": [
    "df_top_songs = df_merge.groupby(['title', 'artist_name'])['user_id'].count().sort_values(ascending=False).reset_index()\n",
    "df_top_songs.columns = ['title', 'artist_name', 'count']\n",
    "df_top_songs.head()"
   ]
  },
  {
   "cell_type": "code",
   "execution_count": 53,
   "metadata": {
    "colab": {
     "base_uri": "https://localhost:8080/",
     "height": 206
    },
    "id": "tZyz9aS20vwL",
    "outputId": "012423b3-efa2-479f-f90a-3baa1e873750"
   },
   "outputs": [
    {
     "data": {
      "text/html": [
       "<div>\n",
       "<style scoped>\n",
       "    .dataframe tbody tr th:only-of-type {\n",
       "        vertical-align: middle;\n",
       "    }\n",
       "\n",
       "    .dataframe tbody tr th {\n",
       "        vertical-align: top;\n",
       "    }\n",
       "\n",
       "    .dataframe thead th {\n",
       "        text-align: right;\n",
       "    }\n",
       "</style>\n",
       "<table border=\"1\" class=\"dataframe\">\n",
       "  <thead>\n",
       "    <tr style=\"text-align: right;\">\n",
       "      <th></th>\n",
       "      <th>release</th>\n",
       "      <th>count</th>\n",
       "    </tr>\n",
       "  </thead>\n",
       "  <tbody>\n",
       "    <tr>\n",
       "      <th>0</th>\n",
       "      <td>Greatest Hits</td>\n",
       "      <td>14661</td>\n",
       "    </tr>\n",
       "    <tr>\n",
       "      <th>1</th>\n",
       "      <td>My Worlds</td>\n",
       "      <td>12570</td>\n",
       "    </tr>\n",
       "    <tr>\n",
       "      <th>2</th>\n",
       "      <td>Save Me_ San Francisco</td>\n",
       "      <td>9388</td>\n",
       "    </tr>\n",
       "    <tr>\n",
       "      <th>3</th>\n",
       "      <td>Now That's What I Call Music! 75</td>\n",
       "      <td>8781</td>\n",
       "    </tr>\n",
       "    <tr>\n",
       "      <th>4</th>\n",
       "      <td>Only By The Night</td>\n",
       "      <td>8529</td>\n",
       "    </tr>\n",
       "  </tbody>\n",
       "</table>\n",
       "</div>"
      ],
      "text/plain": [
       "                            release  count\n",
       "0                     Greatest Hits  14661\n",
       "1                         My Worlds  12570\n",
       "2            Save Me_ San Francisco   9388\n",
       "3  Now That's What I Call Music! 75   8781\n",
       "4                 Only By The Night   8529"
      ]
     },
     "execution_count": 53,
     "metadata": {},
     "output_type": "execute_result"
    }
   ],
   "source": [
    "df_top_releases = df_merge.groupby('release')['user_id'].count().sort_values(ascending=False).reset_index()\n",
    "df_top_releases.columns = ['release', 'count']\n",
    "df_top_releases.head()"
   ]
  },
  {
   "cell_type": "code",
   "execution_count": 54,
   "metadata": {
    "colab": {
     "base_uri": "https://localhost:8080/",
     "height": 206
    },
    "id": "EmXz8wN_1P5a",
    "outputId": "d2ba47fb-e102-43c0-da6e-9c9779eda2f3"
   },
   "outputs": [
    {
     "data": {
      "text/html": [
       "<div>\n",
       "<style scoped>\n",
       "    .dataframe tbody tr th:only-of-type {\n",
       "        vertical-align: middle;\n",
       "    }\n",
       "\n",
       "    .dataframe tbody tr th {\n",
       "        vertical-align: top;\n",
       "    }\n",
       "\n",
       "    .dataframe thead th {\n",
       "        text-align: right;\n",
       "    }\n",
       "</style>\n",
       "<table border=\"1\" class=\"dataframe\">\n",
       "  <thead>\n",
       "    <tr style=\"text-align: right;\">\n",
       "      <th></th>\n",
       "      <th>artist_name</th>\n",
       "      <th>count</th>\n",
       "    </tr>\n",
       "  </thead>\n",
       "  <tbody>\n",
       "    <tr>\n",
       "      <th>0</th>\n",
       "      <td>Coldplay</td>\n",
       "      <td>23804</td>\n",
       "    </tr>\n",
       "    <tr>\n",
       "      <th>1</th>\n",
       "      <td>The Black Keys</td>\n",
       "      <td>19371</td>\n",
       "    </tr>\n",
       "    <tr>\n",
       "      <th>2</th>\n",
       "      <td>Florence + The Machine</td>\n",
       "      <td>18112</td>\n",
       "    </tr>\n",
       "    <tr>\n",
       "      <th>3</th>\n",
       "      <td>Kings Of Leon</td>\n",
       "      <td>17392</td>\n",
       "    </tr>\n",
       "    <tr>\n",
       "      <th>4</th>\n",
       "      <td>Jack Johnson</td>\n",
       "      <td>14899</td>\n",
       "    </tr>\n",
       "  </tbody>\n",
       "</table>\n",
       "</div>"
      ],
      "text/plain": [
       "              artist_name  count\n",
       "0                Coldplay  23804\n",
       "1          The Black Keys  19371\n",
       "2  Florence + The Machine  18112\n",
       "3           Kings Of Leon  17392\n",
       "4            Jack Johnson  14899"
      ]
     },
     "execution_count": 54,
     "metadata": {},
     "output_type": "execute_result"
    }
   ],
   "source": [
    "df_top_artists = df_merge.groupby('artist_name')['user_id'].count().sort_values(ascending=False).reset_index()\n",
    "df_top_artists.columns = ['artist_name', 'count']\n",
    "df_top_artists.head()"
   ]
  },
  {
   "cell_type": "code",
   "execution_count": 55,
   "metadata": {
    "colab": {
     "base_uri": "https://localhost:8080/",
     "height": 541
    },
    "id": "X4xTCuEAt_kf",
    "outputId": "ded156a0-9924-44bd-88e0-6879ed8a8a6d"
   },
   "outputs": [
    {
     "data": {
      "image/png": "[encoded data removed]",
      "text/plain": [
       "<Figure size 3600x1800 with 3 Axes>"
      ]
     },
     "metadata": {
      "needs_background": "light"
     },
     "output_type": "display_data"
    }
   ],
   "source": [
    "fig = plt.figure(figsize=(50, 25))\n",
    "a1 = fig.add_subplot(221)\n",
    "df_top_songs = df_top_songs.sort_values('count', ascending=False).head(10).sort_values('count')\n",
    "f1 = plt.barh(df_top_songs['title'], df_top_songs['count'])\n",
    "plt.xticks(rotation='vertical')\n",
    "\n",
    "a2 = fig.add_subplot(222)\n",
    "df_top_releases = df_top_releases.sort_values('count', ascending=False).head(10).sort_values('count')\n",
    "f2 = plt.barh(df_top_releases['release'], df_top_releases['count'])\n",
    "plt.xticks(rotation='vertical')\n",
    "\n",
    "a3 = fig.add_subplot(223)\n",
    "df_top_artists = df_top_artists.sort_values('count', ascending=False).head(10).sort_values('count')\n",
    "f3 = plt.barh(df_top_artists['artist_name'], df_top_artists['count'])\n",
    "plt.xticks(rotation='vertical')\n",
    "\n",
    "plt.show()"
   ]
  },
  {
   "cell_type": "code",
   "execution_count": 56,
   "metadata": {
    "colab": {
     "base_uri": "https://localhost:8080/"
    },
    "id": "Qhp6M2n797GX",
    "outputId": "29c1dfe9-29ff-4bbb-ad6d-14cf2c15c5e0"
   },
   "outputs": [
    {
     "name": "stdout",
     "output_type": "stream",
     "text": [
      "Jumlah lagu Coldplay adalah 86\n"
     ]
    }
   ],
   "source": [
    "print(\"Jumlah lagu Coldplay adalah\", df_track[df_track['artist_name'] == 'Coldplay'].shape[0])"
   ]
  },
  {
   "cell_type": "markdown",
   "metadata": {
    "id": "PF4PEMbKu-cP"
   },
   "source": [
    "* Pengguna paling banyak mendengarkan lagu yang berjudul \"Sehr kosmisch\" yang dinyanyikan oleh Harmonia, yaitu sebanyak 8277 pengguna. \n",
    "* Pengguna paling banyak mendengarkan lagu yang berasal dari album \"Greatest Hits\" yang merupakan album kompilasi dari berbagai penyanyi, yaitu sebanyak 14661 pengguna.\n",
    "* Pengguna paling banyak mendengarkan lagu dari Coldplay, yaitu sebanyak 23804 pengguna, padahal lagu Coldplay tidak masuk dalam 10 lagu teratas. Hal itu mungkin terjadi karena Coldplay memiliki banyak lagu.\n",
    "* 5 artis yang mempunyai lagu paling banyak dalam dataset tidak masuk dalam 10 teratas artis yang paling banyak didengarkan."
   ]
  },
  {
   "cell_type": "markdown",
   "metadata": {
    "id": "dmrQnZ4tkmc-"
   },
   "source": [
    "## Apa lagu, album, dan artis yang paling sering diputar pengguna?"
   ]
  },
  {
   "cell_type": "code",
   "execution_count": 57,
   "metadata": {
    "colab": {
     "base_uri": "https://localhost:8080/",
     "height": 206
    },
    "id": "xQKkX8aDktEO",
    "outputId": "edf639a4-ead4-431f-d54f-b72b7edd09c7"
   },
   "outputs": [
    {
     "data": {
      "text/html": [
       "<div>\n",
       "<style scoped>\n",
       "    .dataframe tbody tr th:only-of-type {\n",
       "        vertical-align: middle;\n",
       "    }\n",
       "\n",
       "    .dataframe tbody tr th {\n",
       "        vertical-align: top;\n",
       "    }\n",
       "\n",
       "    .dataframe thead th {\n",
       "        text-align: right;\n",
       "    }\n",
       "</style>\n",
       "<table border=\"1\" class=\"dataframe\">\n",
       "  <thead>\n",
       "    <tr style=\"text-align: right;\">\n",
       "      <th></th>\n",
       "      <th>title</th>\n",
       "      <th>artist_name</th>\n",
       "      <th>listen_count</th>\n",
       "    </tr>\n",
       "  </thead>\n",
       "  <tbody>\n",
       "    <tr>\n",
       "      <th>0</th>\n",
       "      <td>You're The One</td>\n",
       "      <td>Dwight Yoakam</td>\n",
       "      <td>54136</td>\n",
       "    </tr>\n",
       "    <tr>\n",
       "      <th>1</th>\n",
       "      <td>Undo</td>\n",
       "      <td>Björk</td>\n",
       "      <td>49253</td>\n",
       "    </tr>\n",
       "    <tr>\n",
       "      <th>2</th>\n",
       "      <td>Revelry</td>\n",
       "      <td>Kings Of Leon</td>\n",
       "      <td>41418</td>\n",
       "    </tr>\n",
       "    <tr>\n",
       "      <th>3</th>\n",
       "      <td>Horn Concerto No. 4 in E flat K495: II. Romanc...</td>\n",
       "      <td>Barry Tuckwell/Academy of St Martin-in-the-Fie...</td>\n",
       "      <td>31153</td>\n",
       "    </tr>\n",
       "    <tr>\n",
       "      <th>4</th>\n",
       "      <td>Sehr kosmisch</td>\n",
       "      <td>Harmonia</td>\n",
       "      <td>31036</td>\n",
       "    </tr>\n",
       "  </tbody>\n",
       "</table>\n",
       "</div>"
      ],
      "text/plain": [
       "                                               title  \\\n",
       "0                                     You're The One   \n",
       "1                                               Undo   \n",
       "2                                            Revelry   \n",
       "3  Horn Concerto No. 4 in E flat K495: II. Romanc...   \n",
       "4                                      Sehr kosmisch   \n",
       "\n",
       "                                         artist_name  listen_count  \n",
       "0                                      Dwight Yoakam         54136  \n",
       "1                                              Björk         49253  \n",
       "2                                      Kings Of Leon         41418  \n",
       "3  Barry Tuckwell/Academy of St Martin-in-the-Fie...         31153  \n",
       "4                                           Harmonia         31036  "
      ]
     },
     "execution_count": 57,
     "metadata": {},
     "output_type": "execute_result"
    }
   ],
   "source": [
    "df_pop_songs = df_merge.groupby(['title', 'artist_name'])['listen_count'].sum().sort_values(ascending=False).reset_index()\n",
    "df_pop_songs.columns = ['title', 'artist_name', 'listen_count']\n",
    "df_pop_songs.head()"
   ]
  },
  {
   "cell_type": "code",
   "execution_count": 58,
   "metadata": {
    "colab": {
     "base_uri": "https://localhost:8080/",
     "height": 206
    },
    "id": "cXQzKlxHtH6y",
    "outputId": "964842da-b882-49cf-e237-5cb026f40868"
   },
   "outputs": [
    {
     "data": {
      "text/html": [
       "<div>\n",
       "<style scoped>\n",
       "    .dataframe tbody tr th:only-of-type {\n",
       "        vertical-align: middle;\n",
       "    }\n",
       "\n",
       "    .dataframe tbody tr th {\n",
       "        vertical-align: top;\n",
       "    }\n",
       "\n",
       "    .dataframe thead th {\n",
       "        text-align: right;\n",
       "    }\n",
       "</style>\n",
       "<table border=\"1\" class=\"dataframe\">\n",
       "  <thead>\n",
       "    <tr style=\"text-align: right;\">\n",
       "      <th></th>\n",
       "      <th>release</th>\n",
       "      <th>listen_count</th>\n",
       "    </tr>\n",
       "  </thead>\n",
       "  <tbody>\n",
       "    <tr>\n",
       "      <th>0</th>\n",
       "      <td>If There Was A Way</td>\n",
       "      <td>54136</td>\n",
       "    </tr>\n",
       "    <tr>\n",
       "      <th>1</th>\n",
       "      <td>Vespertine Live</td>\n",
       "      <td>49652</td>\n",
       "    </tr>\n",
       "    <tr>\n",
       "      <th>2</th>\n",
       "      <td>Only By The Night</td>\n",
       "      <td>46811</td>\n",
       "    </tr>\n",
       "    <tr>\n",
       "      <th>3</th>\n",
       "      <td>Greatest Hits</td>\n",
       "      <td>42795</td>\n",
       "    </tr>\n",
       "    <tr>\n",
       "      <th>4</th>\n",
       "      <td>My Worlds</td>\n",
       "      <td>38094</td>\n",
       "    </tr>\n",
       "  </tbody>\n",
       "</table>\n",
       "</div>"
      ],
      "text/plain": [
       "              release  listen_count\n",
       "0  If There Was A Way         54136\n",
       "1     Vespertine Live         49652\n",
       "2   Only By The Night         46811\n",
       "3       Greatest Hits         42795\n",
       "4           My Worlds         38094"
      ]
     },
     "execution_count": 58,
     "metadata": {},
     "output_type": "execute_result"
    }
   ],
   "source": [
    "df_pop_releases = df_merge.groupby('release')['listen_count'].sum().sort_values(ascending=False).reset_index()\n",
    "df_pop_releases.columns = ['release', 'listen_count']\n",
    "df_pop_releases.head()"
   ]
  },
  {
   "cell_type": "code",
   "execution_count": 59,
   "metadata": {
    "colab": {
     "base_uri": "https://localhost:8080/",
     "height": 206
    },
    "id": "epXp7h0ttS1r",
    "outputId": "759cf081-8aa2-45aa-9e00-f6a6ee243b3a"
   },
   "outputs": [
    {
     "data": {
      "text/html": [
       "<div>\n",
       "<style scoped>\n",
       "    .dataframe tbody tr th:only-of-type {\n",
       "        vertical-align: middle;\n",
       "    }\n",
       "\n",
       "    .dataframe tbody tr th {\n",
       "        vertical-align: top;\n",
       "    }\n",
       "\n",
       "    .dataframe thead th {\n",
       "        text-align: right;\n",
       "    }\n",
       "</style>\n",
       "<table border=\"1\" class=\"dataframe\">\n",
       "  <thead>\n",
       "    <tr style=\"text-align: right;\">\n",
       "      <th></th>\n",
       "      <th>artist_name</th>\n",
       "      <th>listen_count</th>\n",
       "    </tr>\n",
       "  </thead>\n",
       "  <tbody>\n",
       "    <tr>\n",
       "      <th>0</th>\n",
       "      <td>Kings Of Leon</td>\n",
       "      <td>65961</td>\n",
       "    </tr>\n",
       "    <tr>\n",
       "      <th>1</th>\n",
       "      <td>Florence + The Machine</td>\n",
       "      <td>60066</td>\n",
       "    </tr>\n",
       "    <tr>\n",
       "      <th>2</th>\n",
       "      <td>Coldplay</td>\n",
       "      <td>55060</td>\n",
       "    </tr>\n",
       "    <tr>\n",
       "      <th>3</th>\n",
       "      <td>Dwight Yoakam</td>\n",
       "      <td>54136</td>\n",
       "    </tr>\n",
       "    <tr>\n",
       "      <th>4</th>\n",
       "      <td>Björk</td>\n",
       "      <td>52458</td>\n",
       "    </tr>\n",
       "  </tbody>\n",
       "</table>\n",
       "</div>"
      ],
      "text/plain": [
       "              artist_name  listen_count\n",
       "0           Kings Of Leon         65961\n",
       "1  Florence + The Machine         60066\n",
       "2                Coldplay         55060\n",
       "3           Dwight Yoakam         54136\n",
       "4                   Björk         52458"
      ]
     },
     "execution_count": 59,
     "metadata": {},
     "output_type": "execute_result"
    }
   ],
   "source": [
    "df_pop_artists = df_merge.groupby('artist_name')['listen_count'].sum().sort_values(ascending=False).reset_index()\n",
    "df_pop_artists.columns = ['artist_name', 'listen_count']\n",
    "df_pop_artists.head()"
   ]
  },
  {
   "cell_type": "code",
   "execution_count": 60,
   "metadata": {
    "colab": {
     "base_uri": "https://localhost:8080/",
     "height": 541
    },
    "id": "utyoxJ-Ttegb",
    "outputId": "19f8d8f5-6894-4a81-ee91-c507724a5893"
   },
   "outputs": [
    {
     "data": {
      "image/png": "[encoded data removed]",
      "text/plain": [
       "<Figure size 3600x1800 with 3 Axes>"
      ]
     },
     "metadata": {
      "needs_background": "light"
     },
     "output_type": "display_data"
    }
   ],
   "source": [
    "fig = plt.figure(figsize=(50, 25))\n",
    "a1 = fig.add_subplot(221)\n",
    "df_pop_songs = df_pop_songs.sort_values('listen_count', ascending=False).head(10).sort_values('listen_count')\n",
    "f1 = plt.barh(df_pop_songs['title'], df_pop_songs['listen_count'])\n",
    "plt.xticks(rotation='vertical')\n",
    "\n",
    "a2 = fig.add_subplot(222)\n",
    "df_pop_releases = df_pop_releases.sort_values('listen_count', ascending=False).head(10).sort_values('listen_count')\n",
    "f2 = plt.barh(df_pop_releases['release'], df_pop_releases['listen_count'])\n",
    "plt.xticks(rotation='vertical')\n",
    "\n",
    "a3 = fig.add_subplot(223)\n",
    "df_pop_artists = df_pop_artists.sort_values('listen_count', ascending=False).head(10).sort_values('listen_count')\n",
    "f3 = plt.barh(df_pop_artists['artist_name'], df_pop_artists['listen_count'])\n",
    "plt.xticks(rotation='vertical')\n",
    "\n",
    "plt.show()"
   ]
  },
  {
   "cell_type": "code",
   "execution_count": 61,
   "metadata": {
    "colab": {
     "base_uri": "https://localhost:8080/",
     "height": 112
    },
    "id": "j8VGR8QLAHg3",
    "outputId": "0cf102d6-3b72-4d11-beec-eb9b2900200d"
   },
   "outputs": [
    {
     "data": {
      "text/html": [
       "<div>\n",
       "<style scoped>\n",
       "    .dataframe tbody tr th:only-of-type {\n",
       "        vertical-align: middle;\n",
       "    }\n",
       "\n",
       "    .dataframe tbody tr th {\n",
       "        vertical-align: top;\n",
       "    }\n",
       "\n",
       "    .dataframe thead th {\n",
       "        text-align: right;\n",
       "    }\n",
       "</style>\n",
       "<table border=\"1\" class=\"dataframe\">\n",
       "  <thead>\n",
       "    <tr style=\"text-align: right;\">\n",
       "      <th></th>\n",
       "      <th>song_id</th>\n",
       "      <th>title</th>\n",
       "      <th>release</th>\n",
       "      <th>artist_name</th>\n",
       "    </tr>\n",
       "  </thead>\n",
       "  <tbody>\n",
       "    <tr>\n",
       "      <th>218968</th>\n",
       "      <td>SOAIAOV12AC9072FC3</td>\n",
       "      <td>Since I Started Drinkin' Again</td>\n",
       "      <td>If There Was A Way</td>\n",
       "      <td>Dwight Yoakam</td>\n",
       "    </tr>\n",
       "    <tr>\n",
       "      <th>430091</th>\n",
       "      <td>SOBONKR12A58A7A7E0</td>\n",
       "      <td>You're The One</td>\n",
       "      <td>If There Was A Way</td>\n",
       "      <td>Dwight Yoakam</td>\n",
       "    </tr>\n",
       "  </tbody>\n",
       "</table>\n",
       "</div>"
      ],
      "text/plain": [
       "                   song_id                           title  \\\n",
       "218968  SOAIAOV12AC9072FC3  Since I Started Drinkin' Again   \n",
       "430091  SOBONKR12A58A7A7E0                  You're The One   \n",
       "\n",
       "                   release    artist_name  \n",
       "218968  If There Was A Way  Dwight Yoakam  \n",
       "430091  If There Was A Way  Dwight Yoakam  "
      ]
     },
     "execution_count": 61,
     "metadata": {},
     "output_type": "execute_result"
    }
   ],
   "source": [
    "df_track[df_track['release'] == 'If There Was A Way']"
   ]
  },
  {
   "cell_type": "markdown",
   "metadata": {
    "id": "ge-dvDID_pNF"
   },
   "source": [
    "* Pengguna paling sering mendengarkan lagu yang berjudul \"You're The One\" yang dinyanyikan oleh Dwight Yoakam, yaitu diputar sebanyak 54136 kali. \n",
    "* Pengguna paling sering mendengarkan lagu yang berasal dari album \"If There Was A Way\" yang dimiliki oleh Dwight Yoakam, yaitu diputar sebanyak 54136.\n",
    "* Pengguna paling sering mendengarkan lagu dari Kings Of Leon, yaitu diputar sebanyak 65961.\n",
    "* 5 artis yang mempunyai lagu paling banyak dalam dataset tidak masuk dalam 10 teratas artis yang paling sering didengarkan.\n",
    "* 3 lagu yang didengar oleh pendengar yang terobsesi tidak masuk dalam 10 teratas lagu yang paling sering didengarkan.\n",
    "* Lagu yang paling banyak didengarkan, yaitu \"Sehr kosmisch\" tidak menjadi lagu yang paling sering diputar, sama halnya dengan Coldplay."
   ]
  },
  {
   "cell_type": "markdown",
   "metadata": {
    "id": "-FruDZj3XYGz"
   },
   "source": [
    "# Recommender System\n",
    "Recommender System adalah sistem yang digunakan untuk menganalisis data dan membuat rekomendasi berdasarkan preferensi dan perilaku pengguna. Sistem ini melibatkan analisis data yang kompleks untuk memprediksi item yang mungkin menarik minat pengguna. Sistem rekomendasi dapat diterapkan di berbagai bidang, seperti e-commerce, hiburan, sosial media dan banyak lagi. <br/> <br/>\n",
    "Algoritma yang akan digunakan:\n",
    "* Collaborative Filtering\n",
    "* Matrix Factorization\n",
    "* Hybrid Approaches"
   ]
  },
  {
   "cell_type": "markdown",
   "metadata": {
    "id": "U5WGnAdP4v4j"
   },
   "source": [
    "## Collaborative Filtering\n",
    "Collaborative Filtering adalah algoritma yang digunakan untuk menganalisis data dan mengidentifikasi padanan item yang mungkin disukai oleh pengguna. Algoritma ini menggunakan informasi pengguna lain untuk memprediksi apa yang dapat disukai oleh seseorang. Algoritma ini populer digunakan dalam sistem rekomendasi, di mana sistem akan mencoba untuk menemukan item yang paling sesuai dengan preferensi pengguna."
   ]
  },
  {
   "cell_type": "markdown",
   "metadata": {},
   "source": [
    "### Pivot Table"
   ]
  },
  {
   "cell_type": "code",
   "execution_count": 62,
   "metadata": {
    "id": "hgH1dLM7AKL3"
   },
   "outputs": [
    {
     "data": {
      "text/html": [
       "<div>\n",
       "<style scoped>\n",
       "    .dataframe tbody tr th:only-of-type {\n",
       "        vertical-align: middle;\n",
       "    }\n",
       "\n",
       "    .dataframe tbody tr th {\n",
       "        vertical-align: top;\n",
       "    }\n",
       "\n",
       "    .dataframe thead th {\n",
       "        text-align: right;\n",
       "    }\n",
       "</style>\n",
       "<table border=\"1\" class=\"dataframe\">\n",
       "  <thead>\n",
       "    <tr style=\"text-align: right;\">\n",
       "      <th></th>\n",
       "      <th></th>\n",
       "      <th>user_id</th>\n",
       "      <th>00003a4459f33b92906be11abe0e93efc423c0ff</th>\n",
       "      <th>00005c6177188f12fb5e2e82cdbd93e8a3f35e64</th>\n",
       "      <th>00030033e3a2f904a48ec1dd53019c9969b6ef1f</th>\n",
       "      <th>0007c0e74728ca9ef0fe4eb7f75732e8026a278b</th>\n",
       "      <th>000b474f815bcff17a4bc9ce5324f9352dafe07d</th>\n",
       "      <th>000b4e4134d5f77d7608fbf86fb3e1adac4478a8</th>\n",
       "      <th>000b9a54ef0560b957ee0f7a4cb933c36025e600</th>\n",
       "      <th>000d2df2cb8ad7300f89512f8fe8fadc4f99e733</th>\n",
       "      <th>000ebc858861aca26bac9b49f650ed424cf882fc</th>\n",
       "      <th>000ef25cc955ad5841c915d269432eea41f4a1a5</th>\n",
       "      <th>...</th>\n",
       "      <th>ffec9b417b38e41a5f81c2cb763af9144f54885e</th>\n",
       "      <th>fff1d613baa7ce8e5acb7181093d9683804a55b6</th>\n",
       "      <th>fff22417a61c1ba3ee2592b22a052ed6a27a8e91</th>\n",
       "      <th>fff300cd094fe04030b79fae550dc9d065190182</th>\n",
       "      <th>fff543db7918cb8f4f56f7470903eb2f1d5a6dd8</th>\n",
       "      <th>fff6c30c773e6ffafcac213c9afd9666afaf6d63</th>\n",
       "      <th>fffad4a128cd3d130f06c0f7bf493781081afe3c</th>\n",
       "      <th>fffce9c1537fbc350ea68823d956eaa8f5236dbe</th>\n",
       "      <th>fffd6a2bdef646ce9898b628d5dd56c43df69a9d</th>\n",
       "      <th>fffe6d1d8500f1c1f31bd63abce35c0f975a86bf</th>\n",
       "    </tr>\n",
       "    <tr>\n",
       "      <th>title</th>\n",
       "      <th>release</th>\n",
       "      <th>artist_name</th>\n",
       "      <th></th>\n",
       "      <th></th>\n",
       "      <th></th>\n",
       "      <th></th>\n",
       "      <th></th>\n",
       "      <th></th>\n",
       "      <th></th>\n",
       "      <th></th>\n",
       "      <th></th>\n",
       "      <th></th>\n",
       "      <th></th>\n",
       "      <th></th>\n",
       "      <th></th>\n",
       "      <th></th>\n",
       "      <th></th>\n",
       "      <th></th>\n",
       "      <th></th>\n",
       "      <th></th>\n",
       "      <th></th>\n",
       "      <th></th>\n",
       "      <th></th>\n",
       "    </tr>\n",
       "  </thead>\n",
       "  <tbody>\n",
       "    <tr>\n",
       "      <th>#!*@ You Tonight [Featuring R. Kelly] (Explicit Album Version)</th>\n",
       "      <th>Greatest Hits</th>\n",
       "      <th>The Notorious B.I.G.</th>\n",
       "      <td>NaN</td>\n",
       "      <td>NaN</td>\n",
       "      <td>NaN</td>\n",
       "      <td>NaN</td>\n",
       "      <td>NaN</td>\n",
       "      <td>NaN</td>\n",
       "      <td>NaN</td>\n",
       "      <td>NaN</td>\n",
       "      <td>NaN</td>\n",
       "      <td>NaN</td>\n",
       "      <td>...</td>\n",
       "      <td>NaN</td>\n",
       "      <td>NaN</td>\n",
       "      <td>NaN</td>\n",
       "      <td>NaN</td>\n",
       "      <td>NaN</td>\n",
       "      <td>NaN</td>\n",
       "      <td>NaN</td>\n",
       "      <td>NaN</td>\n",
       "      <td>NaN</td>\n",
       "      <td>NaN</td>\n",
       "    </tr>\n",
       "    <tr>\n",
       "      <th>#40</th>\n",
       "      <th>Listener Supported</th>\n",
       "      <th>DAVE MATTHEWS BAND</th>\n",
       "      <td>NaN</td>\n",
       "      <td>NaN</td>\n",
       "      <td>NaN</td>\n",
       "      <td>NaN</td>\n",
       "      <td>NaN</td>\n",
       "      <td>NaN</td>\n",
       "      <td>NaN</td>\n",
       "      <td>NaN</td>\n",
       "      <td>NaN</td>\n",
       "      <td>NaN</td>\n",
       "      <td>...</td>\n",
       "      <td>NaN</td>\n",
       "      <td>NaN</td>\n",
       "      <td>NaN</td>\n",
       "      <td>NaN</td>\n",
       "      <td>NaN</td>\n",
       "      <td>NaN</td>\n",
       "      <td>NaN</td>\n",
       "      <td>NaN</td>\n",
       "      <td>NaN</td>\n",
       "      <td>NaN</td>\n",
       "    </tr>\n",
       "    <tr>\n",
       "      <th>&amp; Down</th>\n",
       "      <th>Oi Oi oi REMIXED</th>\n",
       "      <th>Boys Noize</th>\n",
       "      <td>NaN</td>\n",
       "      <td>NaN</td>\n",
       "      <td>NaN</td>\n",
       "      <td>NaN</td>\n",
       "      <td>NaN</td>\n",
       "      <td>NaN</td>\n",
       "      <td>NaN</td>\n",
       "      <td>NaN</td>\n",
       "      <td>NaN</td>\n",
       "      <td>NaN</td>\n",
       "      <td>...</td>\n",
       "      <td>NaN</td>\n",
       "      <td>NaN</td>\n",
       "      <td>NaN</td>\n",
       "      <td>NaN</td>\n",
       "      <td>NaN</td>\n",
       "      <td>NaN</td>\n",
       "      <td>NaN</td>\n",
       "      <td>NaN</td>\n",
       "      <td>NaN</td>\n",
       "      <td>NaN</td>\n",
       "    </tr>\n",
       "    <tr>\n",
       "      <th>' Cello Song</th>\n",
       "      <th>Way To Blue - An Introduction To Nick Drake</th>\n",
       "      <th>Nick Drake</th>\n",
       "      <td>NaN</td>\n",
       "      <td>NaN</td>\n",
       "      <td>NaN</td>\n",
       "      <td>NaN</td>\n",
       "      <td>NaN</td>\n",
       "      <td>NaN</td>\n",
       "      <td>NaN</td>\n",
       "      <td>NaN</td>\n",
       "      <td>NaN</td>\n",
       "      <td>NaN</td>\n",
       "      <td>...</td>\n",
       "      <td>NaN</td>\n",
       "      <td>NaN</td>\n",
       "      <td>NaN</td>\n",
       "      <td>NaN</td>\n",
       "      <td>NaN</td>\n",
       "      <td>NaN</td>\n",
       "      <td>NaN</td>\n",
       "      <td>NaN</td>\n",
       "      <td>NaN</td>\n",
       "      <td>NaN</td>\n",
       "    </tr>\n",
       "    <tr>\n",
       "      <th>'97 Bonnie &amp; Clyde</th>\n",
       "      <th>The Slim Shady LP</th>\n",
       "      <th>Eminem</th>\n",
       "      <td>NaN</td>\n",
       "      <td>NaN</td>\n",
       "      <td>NaN</td>\n",
       "      <td>NaN</td>\n",
       "      <td>NaN</td>\n",
       "      <td>NaN</td>\n",
       "      <td>NaN</td>\n",
       "      <td>NaN</td>\n",
       "      <td>NaN</td>\n",
       "      <td>NaN</td>\n",
       "      <td>...</td>\n",
       "      <td>NaN</td>\n",
       "      <td>NaN</td>\n",
       "      <td>NaN</td>\n",
       "      <td>NaN</td>\n",
       "      <td>NaN</td>\n",
       "      <td>NaN</td>\n",
       "      <td>NaN</td>\n",
       "      <td>NaN</td>\n",
       "      <td>NaN</td>\n",
       "      <td>NaN</td>\n",
       "    </tr>\n",
       "  </tbody>\n",
       "</table>\n",
       "<p>5 rows × 33521 columns</p>\n",
       "</div>"
      ],
      "text/plain": [
       "user_id                                                                                                              00003a4459f33b92906be11abe0e93efc423c0ff  \\\n",
       "title                                              release                                     artist_name                                                      \n",
       "#!*@ You Tonight [Featuring R. Kelly] (Explicit... Greatest Hits                               The Notorious B.I.G.                                       NaN   \n",
       "#40                                                Listener Supported                          DAVE MATTHEWS BAND                                         NaN   \n",
       "& Down                                             Oi Oi oi REMIXED                            Boys Noize                                                 NaN   \n",
       "' Cello Song                                       Way To Blue - An Introduction To Nick Drake Nick Drake                                                 NaN   \n",
       "'97 Bonnie & Clyde                                 The Slim Shady LP                           Eminem                                                     NaN   \n",
       "\n",
       "user_id                                                                                                              00005c6177188f12fb5e2e82cdbd93e8a3f35e64  \\\n",
       "title                                              release                                     artist_name                                                      \n",
       "#!*@ You Tonight [Featuring R. Kelly] (Explicit... Greatest Hits                               The Notorious B.I.G.                                       NaN   \n",
       "#40                                                Listener Supported                          DAVE MATTHEWS BAND                                         NaN   \n",
       "& Down                                             Oi Oi oi REMIXED                            Boys Noize                                                 NaN   \n",
       "' Cello Song                                       Way To Blue - An Introduction To Nick Drake Nick Drake                                                 NaN   \n",
       "'97 Bonnie & Clyde                                 The Slim Shady LP                           Eminem                                                     NaN   \n",
       "\n",
       "user_id                                                                                                              00030033e3a2f904a48ec1dd53019c9969b6ef1f  \\\n",
       "title                                              release                                     artist_name                                                      \n",
       "#!*@ You Tonight [Featuring R. Kelly] (Explicit... Greatest Hits                               The Notorious B.I.G.                                       NaN   \n",
       "#40                                                Listener Supported                          DAVE MATTHEWS BAND                                         NaN   \n",
       "& Down                                             Oi Oi oi REMIXED                            Boys Noize                                                 NaN   \n",
       "' Cello Song                                       Way To Blue - An Introduction To Nick Drake Nick Drake                                                 NaN   \n",
       "'97 Bonnie & Clyde                                 The Slim Shady LP                           Eminem                                                     NaN   \n",
       "\n",
       "user_id                                                                                                              0007c0e74728ca9ef0fe4eb7f75732e8026a278b  \\\n",
       "title                                              release                                     artist_name                                                      \n",
       "#!*@ You Tonight [Featuring R. Kelly] (Explicit... Greatest Hits                               The Notorious B.I.G.                                       NaN   \n",
       "#40                                                Listener Supported                          DAVE MATTHEWS BAND                                         NaN   \n",
       "& Down                                             Oi Oi oi REMIXED                            Boys Noize                                                 NaN   \n",
       "' Cello Song                                       Way To Blue - An Introduction To Nick Drake Nick Drake                                                 NaN   \n",
       "'97 Bonnie & Clyde                                 The Slim Shady LP                           Eminem                                                     NaN   \n",
       "\n",
       "user_id                                                                                                              000b474f815bcff17a4bc9ce5324f9352dafe07d  \\\n",
       "title                                              release                                     artist_name                                                      \n",
       "#!*@ You Tonight [Featuring R. Kelly] (Explicit... Greatest Hits                               The Notorious B.I.G.                                       NaN   \n",
       "#40                                                Listener Supported                          DAVE MATTHEWS BAND                                         NaN   \n",
       "& Down                                             Oi Oi oi REMIXED                            Boys Noize                                                 NaN   \n",
       "' Cello Song                                       Way To Blue - An Introduction To Nick Drake Nick Drake                                                 NaN   \n",
       "'97 Bonnie & Clyde                                 The Slim Shady LP                           Eminem                                                     NaN   \n",
       "\n",
       "user_id                                                                                                              000b4e4134d5f77d7608fbf86fb3e1adac4478a8  \\\n",
       "title                                              release                                     artist_name                                                      \n",
       "#!*@ You Tonight [Featuring R. Kelly] (Explicit... Greatest Hits                               The Notorious B.I.G.                                       NaN   \n",
       "#40                                                Listener Supported                          DAVE MATTHEWS BAND                                         NaN   \n",
       "& Down                                             Oi Oi oi REMIXED                            Boys Noize                                                 NaN   \n",
       "' Cello Song                                       Way To Blue - An Introduction To Nick Drake Nick Drake                                                 NaN   \n",
       "'97 Bonnie & Clyde                                 The Slim Shady LP                           Eminem                                                     NaN   \n",
       "\n",
       "user_id                                                                                                              000b9a54ef0560b957ee0f7a4cb933c36025e600  \\\n",
       "title                                              release                                     artist_name                                                      \n",
       "#!*@ You Tonight [Featuring R. Kelly] (Explicit... Greatest Hits                               The Notorious B.I.G.                                       NaN   \n",
       "#40                                                Listener Supported                          DAVE MATTHEWS BAND                                         NaN   \n",
       "& Down                                             Oi Oi oi REMIXED                            Boys Noize                                                 NaN   \n",
       "' Cello Song                                       Way To Blue - An Introduction To Nick Drake Nick Drake                                                 NaN   \n",
       "'97 Bonnie & Clyde                                 The Slim Shady LP                           Eminem                                                     NaN   \n",
       "\n",
       "user_id                                                                                                              000d2df2cb8ad7300f89512f8fe8fadc4f99e733  \\\n",
       "title                                              release                                     artist_name                                                      \n",
       "#!*@ You Tonight [Featuring R. Kelly] (Explicit... Greatest Hits                               The Notorious B.I.G.                                       NaN   \n",
       "#40                                                Listener Supported                          DAVE MATTHEWS BAND                                         NaN   \n",
       "& Down                                             Oi Oi oi REMIXED                            Boys Noize                                                 NaN   \n",
       "' Cello Song                                       Way To Blue - An Introduction To Nick Drake Nick Drake                                                 NaN   \n",
       "'97 Bonnie & Clyde                                 The Slim Shady LP                           Eminem                                                     NaN   \n",
       "\n",
       "user_id                                                                                                              000ebc858861aca26bac9b49f650ed424cf882fc  \\\n",
       "title                                              release                                     artist_name                                                      \n",
       "#!*@ You Tonight [Featuring R. Kelly] (Explicit... Greatest Hits                               The Notorious B.I.G.                                       NaN   \n",
       "#40                                                Listener Supported                          DAVE MATTHEWS BAND                                         NaN   \n",
       "& Down                                             Oi Oi oi REMIXED                            Boys Noize                                                 NaN   \n",
       "' Cello Song                                       Way To Blue - An Introduction To Nick Drake Nick Drake                                                 NaN   \n",
       "'97 Bonnie & Clyde                                 The Slim Shady LP                           Eminem                                                     NaN   \n",
       "\n",
       "user_id                                                                                                              000ef25cc955ad5841c915d269432eea41f4a1a5  \\\n",
       "title                                              release                                     artist_name                                                      \n",
       "#!*@ You Tonight [Featuring R. Kelly] (Explicit... Greatest Hits                               The Notorious B.I.G.                                       NaN   \n",
       "#40                                                Listener Supported                          DAVE MATTHEWS BAND                                         NaN   \n",
       "& Down                                             Oi Oi oi REMIXED                            Boys Noize                                                 NaN   \n",
       "' Cello Song                                       Way To Blue - An Introduction To Nick Drake Nick Drake                                                 NaN   \n",
       "'97 Bonnie & Clyde                                 The Slim Shady LP                           Eminem                                                     NaN   \n",
       "\n",
       "user_id                                                                                                              ...  \\\n",
       "title                                              release                                     artist_name           ...   \n",
       "#!*@ You Tonight [Featuring R. Kelly] (Explicit... Greatest Hits                               The Notorious B.I.G.  ...   \n",
       "#40                                                Listener Supported                          DAVE MATTHEWS BAND    ...   \n",
       "& Down                                             Oi Oi oi REMIXED                            Boys Noize            ...   \n",
       "' Cello Song                                       Way To Blue - An Introduction To Nick Drake Nick Drake            ...   \n",
       "'97 Bonnie & Clyde                                 The Slim Shady LP                           Eminem                ...   \n",
       "\n",
       "user_id                                                                                                              ffec9b417b38e41a5f81c2cb763af9144f54885e  \\\n",
       "title                                              release                                     artist_name                                                      \n",
       "#!*@ You Tonight [Featuring R. Kelly] (Explicit... Greatest Hits                               The Notorious B.I.G.                                       NaN   \n",
       "#40                                                Listener Supported                          DAVE MATTHEWS BAND                                         NaN   \n",
       "& Down                                             Oi Oi oi REMIXED                            Boys Noize                                                 NaN   \n",
       "' Cello Song                                       Way To Blue - An Introduction To Nick Drake Nick Drake                                                 NaN   \n",
       "'97 Bonnie & Clyde                                 The Slim Shady LP                           Eminem                                                     NaN   \n",
       "\n",
       "user_id                                                                                                              fff1d613baa7ce8e5acb7181093d9683804a55b6  \\\n",
       "title                                              release                                     artist_name                                                      \n",
       "#!*@ You Tonight [Featuring R. Kelly] (Explicit... Greatest Hits                               The Notorious B.I.G.                                       NaN   \n",
       "#40                                                Listener Supported                          DAVE MATTHEWS BAND                                         NaN   \n",
       "& Down                                             Oi Oi oi REMIXED                            Boys Noize                                                 NaN   \n",
       "' Cello Song                                       Way To Blue - An Introduction To Nick Drake Nick Drake                                                 NaN   \n",
       "'97 Bonnie & Clyde                                 The Slim Shady LP                           Eminem                                                     NaN   \n",
       "\n",
       "user_id                                                                                                              fff22417a61c1ba3ee2592b22a052ed6a27a8e91  \\\n",
       "title                                              release                                     artist_name                                                      \n",
       "#!*@ You Tonight [Featuring R. Kelly] (Explicit... Greatest Hits                               The Notorious B.I.G.                                       NaN   \n",
       "#40                                                Listener Supported                          DAVE MATTHEWS BAND                                         NaN   \n",
       "& Down                                             Oi Oi oi REMIXED                            Boys Noize                                                 NaN   \n",
       "' Cello Song                                       Way To Blue - An Introduction To Nick Drake Nick Drake                                                 NaN   \n",
       "'97 Bonnie & Clyde                                 The Slim Shady LP                           Eminem                                                     NaN   \n",
       "\n",
       "user_id                                                                                                              fff300cd094fe04030b79fae550dc9d065190182  \\\n",
       "title                                              release                                     artist_name                                                      \n",
       "#!*@ You Tonight [Featuring R. Kelly] (Explicit... Greatest Hits                               The Notorious B.I.G.                                       NaN   \n",
       "#40                                                Listener Supported                          DAVE MATTHEWS BAND                                         NaN   \n",
       "& Down                                             Oi Oi oi REMIXED                            Boys Noize                                                 NaN   \n",
       "' Cello Song                                       Way To Blue - An Introduction To Nick Drake Nick Drake                                                 NaN   \n",
       "'97 Bonnie & Clyde                                 The Slim Shady LP                           Eminem                                                     NaN   \n",
       "\n",
       "user_id                                                                                                              fff543db7918cb8f4f56f7470903eb2f1d5a6dd8  \\\n",
       "title                                              release                                     artist_name                                                      \n",
       "#!*@ You Tonight [Featuring R. Kelly] (Explicit... Greatest Hits                               The Notorious B.I.G.                                       NaN   \n",
       "#40                                                Listener Supported                          DAVE MATTHEWS BAND                                         NaN   \n",
       "& Down                                             Oi Oi oi REMIXED                            Boys Noize                                                 NaN   \n",
       "' Cello Song                                       Way To Blue - An Introduction To Nick Drake Nick Drake                                                 NaN   \n",
       "'97 Bonnie & Clyde                                 The Slim Shady LP                           Eminem                                                     NaN   \n",
       "\n",
       "user_id                                                                                                              fff6c30c773e6ffafcac213c9afd9666afaf6d63  \\\n",
       "title                                              release                                     artist_name                                                      \n",
       "#!*@ You Tonight [Featuring R. Kelly] (Explicit... Greatest Hits                               The Notorious B.I.G.                                       NaN   \n",
       "#40                                                Listener Supported                          DAVE MATTHEWS BAND                                         NaN   \n",
       "& Down                                             Oi Oi oi REMIXED                            Boys Noize                                                 NaN   \n",
       "' Cello Song                                       Way To Blue - An Introduction To Nick Drake Nick Drake                                                 NaN   \n",
       "'97 Bonnie & Clyde                                 The Slim Shady LP                           Eminem                                                     NaN   \n",
       "\n",
       "user_id                                                                                                              fffad4a128cd3d130f06c0f7bf493781081afe3c  \\\n",
       "title                                              release                                     artist_name                                                      \n",
       "#!*@ You Tonight [Featuring R. Kelly] (Explicit... Greatest Hits                               The Notorious B.I.G.                                       NaN   \n",
       "#40                                                Listener Supported                          DAVE MATTHEWS BAND                                         NaN   \n",
       "& Down                                             Oi Oi oi REMIXED                            Boys Noize                                                 NaN   \n",
       "' Cello Song                                       Way To Blue - An Introduction To Nick Drake Nick Drake                                                 NaN   \n",
       "'97 Bonnie & Clyde                                 The Slim Shady LP                           Eminem                                                     NaN   \n",
       "\n",
       "user_id                                                                                                              fffce9c1537fbc350ea68823d956eaa8f5236dbe  \\\n",
       "title                                              release                                     artist_name                                                      \n",
       "#!*@ You Tonight [Featuring R. Kelly] (Explicit... Greatest Hits                               The Notorious B.I.G.                                       NaN   \n",
       "#40                                                Listener Supported                          DAVE MATTHEWS BAND                                         NaN   \n",
       "& Down                                             Oi Oi oi REMIXED                            Boys Noize                                                 NaN   \n",
       "' Cello Song                                       Way To Blue - An Introduction To Nick Drake Nick Drake                                                 NaN   \n",
       "'97 Bonnie & Clyde                                 The Slim Shady LP                           Eminem                                                     NaN   \n",
       "\n",
       "user_id                                                                                                              fffd6a2bdef646ce9898b628d5dd56c43df69a9d  \\\n",
       "title                                              release                                     artist_name                                                      \n",
       "#!*@ You Tonight [Featuring R. Kelly] (Explicit... Greatest Hits                               The Notorious B.I.G.                                       NaN   \n",
       "#40                                                Listener Supported                          DAVE MATTHEWS BAND                                         NaN   \n",
       "& Down                                             Oi Oi oi REMIXED                            Boys Noize                                                 NaN   \n",
       "' Cello Song                                       Way To Blue - An Introduction To Nick Drake Nick Drake                                                 NaN   \n",
       "'97 Bonnie & Clyde                                 The Slim Shady LP                           Eminem                                                     NaN   \n",
       "\n",
       "user_id                                                                                                              fffe6d1d8500f1c1f31bd63abce35c0f975a86bf  \n",
       "title                                              release                                     artist_name                                                     \n",
       "#!*@ You Tonight [Featuring R. Kelly] (Explicit... Greatest Hits                               The Notorious B.I.G.                                       NaN  \n",
       "#40                                                Listener Supported                          DAVE MATTHEWS BAND                                         NaN  \n",
       "& Down                                             Oi Oi oi REMIXED                            Boys Noize                                                 NaN  \n",
       "' Cello Song                                       Way To Blue - An Introduction To Nick Drake Nick Drake                                                 NaN  \n",
       "'97 Bonnie & Clyde                                 The Slim Shady LP                           Eminem                                                     NaN  \n",
       "\n",
       "[5 rows x 33521 columns]"
      ]
     },
     "execution_count": 62,
     "metadata": {},
     "output_type": "execute_result"
    }
   ],
   "source": [
    "start_colfil = time.time()\n",
    "df_colfil = df_merge.head(750000)\n",
    "df_colfil = df_colfil.groupby(['title', 'release', 'artist_name', 'user_id'])['listen_count'].max().unstack()\n",
    "df_colfil.head()"
   ]
  },
  {
   "cell_type": "markdown",
   "metadata": {},
   "source": [
    "### Normalisasi dan Mengisi Missing Values"
   ]
  },
  {
   "cell_type": "code",
   "execution_count": 63,
   "metadata": {
    "id": "ihilFfEkzV5f",
    "scrolled": false
   },
   "outputs": [
    {
     "data": {
      "text/html": [
       "<div>\n",
       "<style scoped>\n",
       "    .dataframe tbody tr th:only-of-type {\n",
       "        vertical-align: middle;\n",
       "    }\n",
       "\n",
       "    .dataframe tbody tr th {\n",
       "        vertical-align: top;\n",
       "    }\n",
       "\n",
       "    .dataframe thead th {\n",
       "        text-align: right;\n",
       "    }\n",
       "</style>\n",
       "<table border=\"1\" class=\"dataframe\">\n",
       "  <thead>\n",
       "    <tr style=\"text-align: right;\">\n",
       "      <th></th>\n",
       "      <th></th>\n",
       "      <th>user_id</th>\n",
       "      <th>00003a4459f33b92906be11abe0e93efc423c0ff</th>\n",
       "      <th>00005c6177188f12fb5e2e82cdbd93e8a3f35e64</th>\n",
       "      <th>00030033e3a2f904a48ec1dd53019c9969b6ef1f</th>\n",
       "      <th>0007c0e74728ca9ef0fe4eb7f75732e8026a278b</th>\n",
       "      <th>000b474f815bcff17a4bc9ce5324f9352dafe07d</th>\n",
       "      <th>000b4e4134d5f77d7608fbf86fb3e1adac4478a8</th>\n",
       "      <th>000b9a54ef0560b957ee0f7a4cb933c36025e600</th>\n",
       "      <th>000d2df2cb8ad7300f89512f8fe8fadc4f99e733</th>\n",
       "      <th>000ebc858861aca26bac9b49f650ed424cf882fc</th>\n",
       "      <th>000ef25cc955ad5841c915d269432eea41f4a1a5</th>\n",
       "      <th>...</th>\n",
       "      <th>ffec9b417b38e41a5f81c2cb763af9144f54885e</th>\n",
       "      <th>fff1d613baa7ce8e5acb7181093d9683804a55b6</th>\n",
       "      <th>fff22417a61c1ba3ee2592b22a052ed6a27a8e91</th>\n",
       "      <th>fff300cd094fe04030b79fae550dc9d065190182</th>\n",
       "      <th>fff543db7918cb8f4f56f7470903eb2f1d5a6dd8</th>\n",
       "      <th>fff6c30c773e6ffafcac213c9afd9666afaf6d63</th>\n",
       "      <th>fffad4a128cd3d130f06c0f7bf493781081afe3c</th>\n",
       "      <th>fffce9c1537fbc350ea68823d956eaa8f5236dbe</th>\n",
       "      <th>fffd6a2bdef646ce9898b628d5dd56c43df69a9d</th>\n",
       "      <th>fffe6d1d8500f1c1f31bd63abce35c0f975a86bf</th>\n",
       "    </tr>\n",
       "    <tr>\n",
       "      <th>title</th>\n",
       "      <th>release</th>\n",
       "      <th>artist_name</th>\n",
       "      <th></th>\n",
       "      <th></th>\n",
       "      <th></th>\n",
       "      <th></th>\n",
       "      <th></th>\n",
       "      <th></th>\n",
       "      <th></th>\n",
       "      <th></th>\n",
       "      <th></th>\n",
       "      <th></th>\n",
       "      <th></th>\n",
       "      <th></th>\n",
       "      <th></th>\n",
       "      <th></th>\n",
       "      <th></th>\n",
       "      <th></th>\n",
       "      <th></th>\n",
       "      <th></th>\n",
       "      <th></th>\n",
       "      <th></th>\n",
       "      <th></th>\n",
       "    </tr>\n",
       "  </thead>\n",
       "  <tbody>\n",
       "    <tr>\n",
       "      <th>#!*@ You Tonight [Featuring R. Kelly] (Explicit Album Version)</th>\n",
       "      <th>Greatest Hits</th>\n",
       "      <th>The Notorious B.I.G.</th>\n",
       "      <td>0.0</td>\n",
       "      <td>0.0</td>\n",
       "      <td>0.0</td>\n",
       "      <td>0.0</td>\n",
       "      <td>0.0</td>\n",
       "      <td>0.0</td>\n",
       "      <td>0.0</td>\n",
       "      <td>0.0</td>\n",
       "      <td>0.0</td>\n",
       "      <td>0.0</td>\n",
       "      <td>...</td>\n",
       "      <td>0.0</td>\n",
       "      <td>0.0</td>\n",
       "      <td>0.0</td>\n",
       "      <td>0.0</td>\n",
       "      <td>0.0</td>\n",
       "      <td>0.0</td>\n",
       "      <td>0.0</td>\n",
       "      <td>0.0</td>\n",
       "      <td>0.0</td>\n",
       "      <td>0.0</td>\n",
       "    </tr>\n",
       "    <tr>\n",
       "      <th>#40</th>\n",
       "      <th>Listener Supported</th>\n",
       "      <th>DAVE MATTHEWS BAND</th>\n",
       "      <td>0.0</td>\n",
       "      <td>0.0</td>\n",
       "      <td>0.0</td>\n",
       "      <td>0.0</td>\n",
       "      <td>0.0</td>\n",
       "      <td>0.0</td>\n",
       "      <td>0.0</td>\n",
       "      <td>0.0</td>\n",
       "      <td>0.0</td>\n",
       "      <td>0.0</td>\n",
       "      <td>...</td>\n",
       "      <td>0.0</td>\n",
       "      <td>0.0</td>\n",
       "      <td>0.0</td>\n",
       "      <td>0.0</td>\n",
       "      <td>0.0</td>\n",
       "      <td>0.0</td>\n",
       "      <td>0.0</td>\n",
       "      <td>0.0</td>\n",
       "      <td>0.0</td>\n",
       "      <td>0.0</td>\n",
       "    </tr>\n",
       "    <tr>\n",
       "      <th>&amp; Down</th>\n",
       "      <th>Oi Oi oi REMIXED</th>\n",
       "      <th>Boys Noize</th>\n",
       "      <td>0.0</td>\n",
       "      <td>0.0</td>\n",
       "      <td>0.0</td>\n",
       "      <td>0.0</td>\n",
       "      <td>0.0</td>\n",
       "      <td>0.0</td>\n",
       "      <td>0.0</td>\n",
       "      <td>0.0</td>\n",
       "      <td>0.0</td>\n",
       "      <td>0.0</td>\n",
       "      <td>...</td>\n",
       "      <td>0.0</td>\n",
       "      <td>0.0</td>\n",
       "      <td>0.0</td>\n",
       "      <td>0.0</td>\n",
       "      <td>0.0</td>\n",
       "      <td>0.0</td>\n",
       "      <td>0.0</td>\n",
       "      <td>0.0</td>\n",
       "      <td>0.0</td>\n",
       "      <td>0.0</td>\n",
       "    </tr>\n",
       "    <tr>\n",
       "      <th>' Cello Song</th>\n",
       "      <th>Way To Blue - An Introduction To Nick Drake</th>\n",
       "      <th>Nick Drake</th>\n",
       "      <td>0.0</td>\n",
       "      <td>0.0</td>\n",
       "      <td>0.0</td>\n",
       "      <td>0.0</td>\n",
       "      <td>0.0</td>\n",
       "      <td>0.0</td>\n",
       "      <td>0.0</td>\n",
       "      <td>0.0</td>\n",
       "      <td>0.0</td>\n",
       "      <td>0.0</td>\n",
       "      <td>...</td>\n",
       "      <td>0.0</td>\n",
       "      <td>0.0</td>\n",
       "      <td>0.0</td>\n",
       "      <td>0.0</td>\n",
       "      <td>0.0</td>\n",
       "      <td>0.0</td>\n",
       "      <td>0.0</td>\n",
       "      <td>0.0</td>\n",
       "      <td>0.0</td>\n",
       "      <td>0.0</td>\n",
       "    </tr>\n",
       "    <tr>\n",
       "      <th>'97 Bonnie &amp; Clyde</th>\n",
       "      <th>The Slim Shady LP</th>\n",
       "      <th>Eminem</th>\n",
       "      <td>0.0</td>\n",
       "      <td>0.0</td>\n",
       "      <td>0.0</td>\n",
       "      <td>0.0</td>\n",
       "      <td>0.0</td>\n",
       "      <td>0.0</td>\n",
       "      <td>0.0</td>\n",
       "      <td>0.0</td>\n",
       "      <td>0.0</td>\n",
       "      <td>0.0</td>\n",
       "      <td>...</td>\n",
       "      <td>0.0</td>\n",
       "      <td>0.0</td>\n",
       "      <td>0.0</td>\n",
       "      <td>0.0</td>\n",
       "      <td>0.0</td>\n",
       "      <td>0.0</td>\n",
       "      <td>0.0</td>\n",
       "      <td>0.0</td>\n",
       "      <td>0.0</td>\n",
       "      <td>0.0</td>\n",
       "    </tr>\n",
       "  </tbody>\n",
       "</table>\n",
       "<p>5 rows × 33521 columns</p>\n",
       "</div>"
      ],
      "text/plain": [
       "user_id                                                                                                              00003a4459f33b92906be11abe0e93efc423c0ff  \\\n",
       "title                                              release                                     artist_name                                                      \n",
       "#!*@ You Tonight [Featuring R. Kelly] (Explicit... Greatest Hits                               The Notorious B.I.G.                                       0.0   \n",
       "#40                                                Listener Supported                          DAVE MATTHEWS BAND                                         0.0   \n",
       "& Down                                             Oi Oi oi REMIXED                            Boys Noize                                                 0.0   \n",
       "' Cello Song                                       Way To Blue - An Introduction To Nick Drake Nick Drake                                                 0.0   \n",
       "'97 Bonnie & Clyde                                 The Slim Shady LP                           Eminem                                                     0.0   \n",
       "\n",
       "user_id                                                                                                              00005c6177188f12fb5e2e82cdbd93e8a3f35e64  \\\n",
       "title                                              release                                     artist_name                                                      \n",
       "#!*@ You Tonight [Featuring R. Kelly] (Explicit... Greatest Hits                               The Notorious B.I.G.                                       0.0   \n",
       "#40                                                Listener Supported                          DAVE MATTHEWS BAND                                         0.0   \n",
       "& Down                                             Oi Oi oi REMIXED                            Boys Noize                                                 0.0   \n",
       "' Cello Song                                       Way To Blue - An Introduction To Nick Drake Nick Drake                                                 0.0   \n",
       "'97 Bonnie & Clyde                                 The Slim Shady LP                           Eminem                                                     0.0   \n",
       "\n",
       "user_id                                                                                                              00030033e3a2f904a48ec1dd53019c9969b6ef1f  \\\n",
       "title                                              release                                     artist_name                                                      \n",
       "#!*@ You Tonight [Featuring R. Kelly] (Explicit... Greatest Hits                               The Notorious B.I.G.                                       0.0   \n",
       "#40                                                Listener Supported                          DAVE MATTHEWS BAND                                         0.0   \n",
       "& Down                                             Oi Oi oi REMIXED                            Boys Noize                                                 0.0   \n",
       "' Cello Song                                       Way To Blue - An Introduction To Nick Drake Nick Drake                                                 0.0   \n",
       "'97 Bonnie & Clyde                                 The Slim Shady LP                           Eminem                                                     0.0   \n",
       "\n",
       "user_id                                                                                                              0007c0e74728ca9ef0fe4eb7f75732e8026a278b  \\\n",
       "title                                              release                                     artist_name                                                      \n",
       "#!*@ You Tonight [Featuring R. Kelly] (Explicit... Greatest Hits                               The Notorious B.I.G.                                       0.0   \n",
       "#40                                                Listener Supported                          DAVE MATTHEWS BAND                                         0.0   \n",
       "& Down                                             Oi Oi oi REMIXED                            Boys Noize                                                 0.0   \n",
       "' Cello Song                                       Way To Blue - An Introduction To Nick Drake Nick Drake                                                 0.0   \n",
       "'97 Bonnie & Clyde                                 The Slim Shady LP                           Eminem                                                     0.0   \n",
       "\n",
       "user_id                                                                                                              000b474f815bcff17a4bc9ce5324f9352dafe07d  \\\n",
       "title                                              release                                     artist_name                                                      \n",
       "#!*@ You Tonight [Featuring R. Kelly] (Explicit... Greatest Hits                               The Notorious B.I.G.                                       0.0   \n",
       "#40                                                Listener Supported                          DAVE MATTHEWS BAND                                         0.0   \n",
       "& Down                                             Oi Oi oi REMIXED                            Boys Noize                                                 0.0   \n",
       "' Cello Song                                       Way To Blue - An Introduction To Nick Drake Nick Drake                                                 0.0   \n",
       "'97 Bonnie & Clyde                                 The Slim Shady LP                           Eminem                                                     0.0   \n",
       "\n",
       "user_id                                                                                                              000b4e4134d5f77d7608fbf86fb3e1adac4478a8  \\\n",
       "title                                              release                                     artist_name                                                      \n",
       "#!*@ You Tonight [Featuring R. Kelly] (Explicit... Greatest Hits                               The Notorious B.I.G.                                       0.0   \n",
       "#40                                                Listener Supported                          DAVE MATTHEWS BAND                                         0.0   \n",
       "& Down                                             Oi Oi oi REMIXED                            Boys Noize                                                 0.0   \n",
       "' Cello Song                                       Way To Blue - An Introduction To Nick Drake Nick Drake                                                 0.0   \n",
       "'97 Bonnie & Clyde                                 The Slim Shady LP                           Eminem                                                     0.0   \n",
       "\n",
       "user_id                                                                                                              000b9a54ef0560b957ee0f7a4cb933c36025e600  \\\n",
       "title                                              release                                     artist_name                                                      \n",
       "#!*@ You Tonight [Featuring R. Kelly] (Explicit... Greatest Hits                               The Notorious B.I.G.                                       0.0   \n",
       "#40                                                Listener Supported                          DAVE MATTHEWS BAND                                         0.0   \n",
       "& Down                                             Oi Oi oi REMIXED                            Boys Noize                                                 0.0   \n",
       "' Cello Song                                       Way To Blue - An Introduction To Nick Drake Nick Drake                                                 0.0   \n",
       "'97 Bonnie & Clyde                                 The Slim Shady LP                           Eminem                                                     0.0   \n",
       "\n",
       "user_id                                                                                                              000d2df2cb8ad7300f89512f8fe8fadc4f99e733  \\\n",
       "title                                              release                                     artist_name                                                      \n",
       "#!*@ You Tonight [Featuring R. Kelly] (Explicit... Greatest Hits                               The Notorious B.I.G.                                       0.0   \n",
       "#40                                                Listener Supported                          DAVE MATTHEWS BAND                                         0.0   \n",
       "& Down                                             Oi Oi oi REMIXED                            Boys Noize                                                 0.0   \n",
       "' Cello Song                                       Way To Blue - An Introduction To Nick Drake Nick Drake                                                 0.0   \n",
       "'97 Bonnie & Clyde                                 The Slim Shady LP                           Eminem                                                     0.0   \n",
       "\n",
       "user_id                                                                                                              000ebc858861aca26bac9b49f650ed424cf882fc  \\\n",
       "title                                              release                                     artist_name                                                      \n",
       "#!*@ You Tonight [Featuring R. Kelly] (Explicit... Greatest Hits                               The Notorious B.I.G.                                       0.0   \n",
       "#40                                                Listener Supported                          DAVE MATTHEWS BAND                                         0.0   \n",
       "& Down                                             Oi Oi oi REMIXED                            Boys Noize                                                 0.0   \n",
       "' Cello Song                                       Way To Blue - An Introduction To Nick Drake Nick Drake                                                 0.0   \n",
       "'97 Bonnie & Clyde                                 The Slim Shady LP                           Eminem                                                     0.0   \n",
       "\n",
       "user_id                                                                                                              000ef25cc955ad5841c915d269432eea41f4a1a5  \\\n",
       "title                                              release                                     artist_name                                                      \n",
       "#!*@ You Tonight [Featuring R. Kelly] (Explicit... Greatest Hits                               The Notorious B.I.G.                                       0.0   \n",
       "#40                                                Listener Supported                          DAVE MATTHEWS BAND                                         0.0   \n",
       "& Down                                             Oi Oi oi REMIXED                            Boys Noize                                                 0.0   \n",
       "' Cello Song                                       Way To Blue - An Introduction To Nick Drake Nick Drake                                                 0.0   \n",
       "'97 Bonnie & Clyde                                 The Slim Shady LP                           Eminem                                                     0.0   \n",
       "\n",
       "user_id                                                                                                              ...  \\\n",
       "title                                              release                                     artist_name           ...   \n",
       "#!*@ You Tonight [Featuring R. Kelly] (Explicit... Greatest Hits                               The Notorious B.I.G.  ...   \n",
       "#40                                                Listener Supported                          DAVE MATTHEWS BAND    ...   \n",
       "& Down                                             Oi Oi oi REMIXED                            Boys Noize            ...   \n",
       "' Cello Song                                       Way To Blue - An Introduction To Nick Drake Nick Drake            ...   \n",
       "'97 Bonnie & Clyde                                 The Slim Shady LP                           Eminem                ...   \n",
       "\n",
       "user_id                                                                                                              ffec9b417b38e41a5f81c2cb763af9144f54885e  \\\n",
       "title                                              release                                     artist_name                                                      \n",
       "#!*@ You Tonight [Featuring R. Kelly] (Explicit... Greatest Hits                               The Notorious B.I.G.                                       0.0   \n",
       "#40                                                Listener Supported                          DAVE MATTHEWS BAND                                         0.0   \n",
       "& Down                                             Oi Oi oi REMIXED                            Boys Noize                                                 0.0   \n",
       "' Cello Song                                       Way To Blue - An Introduction To Nick Drake Nick Drake                                                 0.0   \n",
       "'97 Bonnie & Clyde                                 The Slim Shady LP                           Eminem                                                     0.0   \n",
       "\n",
       "user_id                                                                                                              fff1d613baa7ce8e5acb7181093d9683804a55b6  \\\n",
       "title                                              release                                     artist_name                                                      \n",
       "#!*@ You Tonight [Featuring R. Kelly] (Explicit... Greatest Hits                               The Notorious B.I.G.                                       0.0   \n",
       "#40                                                Listener Supported                          DAVE MATTHEWS BAND                                         0.0   \n",
       "& Down                                             Oi Oi oi REMIXED                            Boys Noize                                                 0.0   \n",
       "' Cello Song                                       Way To Blue - An Introduction To Nick Drake Nick Drake                                                 0.0   \n",
       "'97 Bonnie & Clyde                                 The Slim Shady LP                           Eminem                                                     0.0   \n",
       "\n",
       "user_id                                                                                                              fff22417a61c1ba3ee2592b22a052ed6a27a8e91  \\\n",
       "title                                              release                                     artist_name                                                      \n",
       "#!*@ You Tonight [Featuring R. Kelly] (Explicit... Greatest Hits                               The Notorious B.I.G.                                       0.0   \n",
       "#40                                                Listener Supported                          DAVE MATTHEWS BAND                                         0.0   \n",
       "& Down                                             Oi Oi oi REMIXED                            Boys Noize                                                 0.0   \n",
       "' Cello Song                                       Way To Blue - An Introduction To Nick Drake Nick Drake                                                 0.0   \n",
       "'97 Bonnie & Clyde                                 The Slim Shady LP                           Eminem                                                     0.0   \n",
       "\n",
       "user_id                                                                                                              fff300cd094fe04030b79fae550dc9d065190182  \\\n",
       "title                                              release                                     artist_name                                                      \n",
       "#!*@ You Tonight [Featuring R. Kelly] (Explicit... Greatest Hits                               The Notorious B.I.G.                                       0.0   \n",
       "#40                                                Listener Supported                          DAVE MATTHEWS BAND                                         0.0   \n",
       "& Down                                             Oi Oi oi REMIXED                            Boys Noize                                                 0.0   \n",
       "' Cello Song                                       Way To Blue - An Introduction To Nick Drake Nick Drake                                                 0.0   \n",
       "'97 Bonnie & Clyde                                 The Slim Shady LP                           Eminem                                                     0.0   \n",
       "\n",
       "user_id                                                                                                              fff543db7918cb8f4f56f7470903eb2f1d5a6dd8  \\\n",
       "title                                              release                                     artist_name                                                      \n",
       "#!*@ You Tonight [Featuring R. Kelly] (Explicit... Greatest Hits                               The Notorious B.I.G.                                       0.0   \n",
       "#40                                                Listener Supported                          DAVE MATTHEWS BAND                                         0.0   \n",
       "& Down                                             Oi Oi oi REMIXED                            Boys Noize                                                 0.0   \n",
       "' Cello Song                                       Way To Blue - An Introduction To Nick Drake Nick Drake                                                 0.0   \n",
       "'97 Bonnie & Clyde                                 The Slim Shady LP                           Eminem                                                     0.0   \n",
       "\n",
       "user_id                                                                                                              fff6c30c773e6ffafcac213c9afd9666afaf6d63  \\\n",
       "title                                              release                                     artist_name                                                      \n",
       "#!*@ You Tonight [Featuring R. Kelly] (Explicit... Greatest Hits                               The Notorious B.I.G.                                       0.0   \n",
       "#40                                                Listener Supported                          DAVE MATTHEWS BAND                                         0.0   \n",
       "& Down                                             Oi Oi oi REMIXED                            Boys Noize                                                 0.0   \n",
       "' Cello Song                                       Way To Blue - An Introduction To Nick Drake Nick Drake                                                 0.0   \n",
       "'97 Bonnie & Clyde                                 The Slim Shady LP                           Eminem                                                     0.0   \n",
       "\n",
       "user_id                                                                                                              fffad4a128cd3d130f06c0f7bf493781081afe3c  \\\n",
       "title                                              release                                     artist_name                                                      \n",
       "#!*@ You Tonight [Featuring R. Kelly] (Explicit... Greatest Hits                               The Notorious B.I.G.                                       0.0   \n",
       "#40                                                Listener Supported                          DAVE MATTHEWS BAND                                         0.0   \n",
       "& Down                                             Oi Oi oi REMIXED                            Boys Noize                                                 0.0   \n",
       "' Cello Song                                       Way To Blue - An Introduction To Nick Drake Nick Drake                                                 0.0   \n",
       "'97 Bonnie & Clyde                                 The Slim Shady LP                           Eminem                                                     0.0   \n",
       "\n",
       "user_id                                                                                                              fffce9c1537fbc350ea68823d956eaa8f5236dbe  \\\n",
       "title                                              release                                     artist_name                                                      \n",
       "#!*@ You Tonight [Featuring R. Kelly] (Explicit... Greatest Hits                               The Notorious B.I.G.                                       0.0   \n",
       "#40                                                Listener Supported                          DAVE MATTHEWS BAND                                         0.0   \n",
       "& Down                                             Oi Oi oi REMIXED                            Boys Noize                                                 0.0   \n",
       "' Cello Song                                       Way To Blue - An Introduction To Nick Drake Nick Drake                                                 0.0   \n",
       "'97 Bonnie & Clyde                                 The Slim Shady LP                           Eminem                                                     0.0   \n",
       "\n",
       "user_id                                                                                                              fffd6a2bdef646ce9898b628d5dd56c43df69a9d  \\\n",
       "title                                              release                                     artist_name                                                      \n",
       "#!*@ You Tonight [Featuring R. Kelly] (Explicit... Greatest Hits                               The Notorious B.I.G.                                       0.0   \n",
       "#40                                                Listener Supported                          DAVE MATTHEWS BAND                                         0.0   \n",
       "& Down                                             Oi Oi oi REMIXED                            Boys Noize                                                 0.0   \n",
       "' Cello Song                                       Way To Blue - An Introduction To Nick Drake Nick Drake                                                 0.0   \n",
       "'97 Bonnie & Clyde                                 The Slim Shady LP                           Eminem                                                     0.0   \n",
       "\n",
       "user_id                                                                                                              fffe6d1d8500f1c1f31bd63abce35c0f975a86bf  \n",
       "title                                              release                                     artist_name                                                     \n",
       "#!*@ You Tonight [Featuring R. Kelly] (Explicit... Greatest Hits                               The Notorious B.I.G.                                       0.0  \n",
       "#40                                                Listener Supported                          DAVE MATTHEWS BAND                                         0.0  \n",
       "& Down                                             Oi Oi oi REMIXED                            Boys Noize                                                 0.0  \n",
       "' Cello Song                                       Way To Blue - An Introduction To Nick Drake Nick Drake                                                 0.0  \n",
       "'97 Bonnie & Clyde                                 The Slim Shady LP                           Eminem                                                     0.0  \n",
       "\n",
       "[5 rows x 33521 columns]"
      ]
     },
     "execution_count": 63,
     "metadata": {},
     "output_type": "execute_result"
    }
   ],
   "source": [
    "df_colfil = df_colfil.apply(lambda x: (x-np.mean(x)) / (np.max(x) - np.min(x)), axis=1)\n",
    "df_colfil = df_colfil.fillna(0)\n",
    "df_colfil.head()"
   ]
  },
  {
   "cell_type": "markdown",
   "metadata": {},
   "source": [
    "### Matrix CSR"
   ]
  },
  {
   "cell_type": "code",
   "execution_count": 64,
   "metadata": {
    "scrolled": false
   },
   "outputs": [
    {
     "data": {
      "text/plain": [
       "<8841x33521 sparse matrix of type '<class 'numpy.float64'>'\n",
       "\twith 748992 stored elements in Compressed Sparse Row format>"
      ]
     },
     "execution_count": 64,
     "metadata": {},
     "output_type": "execute_result"
    }
   ],
   "source": [
    "df_colfil_sparse = sp.sparse.csr_matrix(df_colfil.values)\n",
    "df_colfil_sparse"
   ]
  },
  {
   "cell_type": "code",
   "execution_count": 65,
   "metadata": {},
   "outputs": [
    {
     "data": {
      "text/plain": [
       "<8841x33521 sparse matrix of type '<class 'numpy.float16'>'\n",
       "\twith 748992 stored elements in Compressed Sparse Row format>"
      ]
     },
     "execution_count": 65,
     "metadata": {},
     "output_type": "execute_result"
    }
   ],
   "source": [
    "df_colfil_sparse = df_colfil_sparse.astype(np.float16)\n",
    "df_colfil_sparse"
   ]
  },
  {
   "cell_type": "markdown",
   "metadata": {},
   "source": [
    "### Cosine Similarity"
   ]
  },
  {
   "cell_type": "code",
   "execution_count": 66,
   "metadata": {},
   "outputs": [
    {
     "data": {
      "text/plain": [
       "array([[ 1.        ,  0.        ,  0.        , ...,  0.        ,\n",
       "         0.        ,  0.        ],\n",
       "       [ 0.        ,  1.        ,  0.00111696, ...,  0.00247403,\n",
       "         0.        ,  0.00306534],\n",
       "       [ 0.        ,  0.00111696,  1.        , ...,  0.        ,\n",
       "         0.        ,  0.00124162],\n",
       "       ...,\n",
       "       [ 0.        ,  0.00247403,  0.        , ...,  1.        ,\n",
       "        -0.00838297,  0.        ],\n",
       "       [ 0.        ,  0.        ,  0.        , ..., -0.00838297,\n",
       "         1.        ,  0.        ],\n",
       "       [ 0.        ,  0.00306534,  0.00124162, ...,  0.        ,\n",
       "         0.        ,  1.        ]])"
      ]
     },
     "execution_count": 66,
     "metadata": {},
     "output_type": "execute_result"
    }
   ],
   "source": [
    "item_similarity = cosine_similarity(df_colfil_sparse)\n",
    "item_similarity"
   ]
  },
  {
   "cell_type": "code",
   "execution_count": 67,
   "metadata": {},
   "outputs": [
    {
     "data": {
      "text/plain": [
       "array([[1.00000000e+00, 0.00000000e+00, 0.00000000e+00, ...,\n",
       "        0.00000000e+00, 0.00000000e+00, 0.00000000e+00],\n",
       "       [0.00000000e+00, 1.00000000e+00, 0.00000000e+00, ...,\n",
       "        0.00000000e+00, 0.00000000e+00, 0.00000000e+00],\n",
       "       [0.00000000e+00, 0.00000000e+00, 1.00000000e+00, ...,\n",
       "        2.69153258e-03, 0.00000000e+00, 0.00000000e+00],\n",
       "       ...,\n",
       "       [0.00000000e+00, 0.00000000e+00, 2.69153258e-03, ...,\n",
       "        1.00000000e+00, 0.00000000e+00, 6.48054110e-04],\n",
       "       [0.00000000e+00, 0.00000000e+00, 0.00000000e+00, ...,\n",
       "        0.00000000e+00, 1.00000000e+00, 0.00000000e+00],\n",
       "       [0.00000000e+00, 0.00000000e+00, 0.00000000e+00, ...,\n",
       "        6.48054110e-04, 0.00000000e+00, 1.00000000e+00]])"
      ]
     },
     "execution_count": 67,
     "metadata": {},
     "output_type": "execute_result"
    }
   ],
   "source": [
    "user_similarity = cosine_similarity(df_colfil_sparse.T)\n",
    "user_similarity"
   ]
  },
  {
   "cell_type": "markdown",
   "metadata": {},
   "source": [
    "### Convert ke Dataframe"
   ]
  },
  {
   "cell_type": "code",
   "execution_count": 68,
   "metadata": {},
   "outputs": [
    {
     "data": {
      "text/html": [
       "<div>\n",
       "<style scoped>\n",
       "    .dataframe tbody tr th:only-of-type {\n",
       "        vertical-align: middle;\n",
       "    }\n",
       "\n",
       "    .dataframe tbody tr th {\n",
       "        vertical-align: top;\n",
       "    }\n",
       "\n",
       "    .dataframe thead tr th {\n",
       "        text-align: left;\n",
       "    }\n",
       "\n",
       "    .dataframe thead tr:last-of-type th {\n",
       "        text-align: right;\n",
       "    }\n",
       "</style>\n",
       "<table border=\"1\" class=\"dataframe\">\n",
       "  <thead>\n",
       "    <tr>\n",
       "      <th></th>\n",
       "      <th></th>\n",
       "      <th>title</th>\n",
       "      <th>#!*@ You Tonight [Featuring R. Kelly] (Explicit Album Version)</th>\n",
       "      <th>#40</th>\n",
       "      <th>&amp; Down</th>\n",
       "      <th>' Cello Song</th>\n",
       "      <th>'97 Bonnie &amp; Clyde</th>\n",
       "      <th colspan=\"2\" halign=\"left\">'Round Midnight</th>\n",
       "      <th>'Til We Die (Album Version)</th>\n",
       "      <th>'Till I Collapse</th>\n",
       "      <th>('Til) I Kissed You</th>\n",
       "      <th>...</th>\n",
       "      <th>sillyworld (Album Version)</th>\n",
       "      <th>sleep_ eat food_ have visions</th>\n",
       "      <th>smile around the face</th>\n",
       "      <th>sun drums and soil</th>\n",
       "      <th>teachme (Album Version)</th>\n",
       "      <th>the Love Song</th>\n",
       "      <th>you were there with me</th>\n",
       "      <th>¡Viva La Gloria! (Album Version)</th>\n",
       "      <th>¿Lo Ves? [Piano Y Voz]</th>\n",
       "      <th>Época</th>\n",
       "    </tr>\n",
       "    <tr>\n",
       "      <th></th>\n",
       "      <th></th>\n",
       "      <th>release</th>\n",
       "      <th>Greatest Hits</th>\n",
       "      <th>Listener Supported</th>\n",
       "      <th>Oi Oi oi REMIXED</th>\n",
       "      <th>Way To Blue - An Introduction To Nick Drake</th>\n",
       "      <th>The Slim Shady LP</th>\n",
       "      <th>Discover Miles Davis</th>\n",
       "      <th>Take The Box</th>\n",
       "      <th>All Hope Is Gone</th>\n",
       "      <th>The Eminem Show</th>\n",
       "      <th>American Legends</th>\n",
       "      <th>...</th>\n",
       "      <th>Come What[ever] May</th>\n",
       "      <th>Everything Ecstatic</th>\n",
       "      <th>Everything Ecstatic</th>\n",
       "      <th>Everything Ecstatic</th>\n",
       "      <th>Luvanmusiq</th>\n",
       "      <th>Joyful Rebellion</th>\n",
       "      <th>Everything Ecstatic</th>\n",
       "      <th>21st Century Breakdown</th>\n",
       "      <th>Grandes exitos 1991-2004</th>\n",
       "      <th>La Revancha Del Tango</th>\n",
       "    </tr>\n",
       "    <tr>\n",
       "      <th></th>\n",
       "      <th></th>\n",
       "      <th>artist_name</th>\n",
       "      <th>The Notorious B.I.G.</th>\n",
       "      <th>DAVE MATTHEWS BAND</th>\n",
       "      <th>Boys Noize</th>\n",
       "      <th>Nick Drake</th>\n",
       "      <th>Eminem</th>\n",
       "      <th>Miles Davis</th>\n",
       "      <th>Amy Winehouse</th>\n",
       "      <th>Slipknot</th>\n",
       "      <th>Eminem / Nate Dogg</th>\n",
       "      <th>Everly Brothers</th>\n",
       "      <th>...</th>\n",
       "      <th>Stone Sour</th>\n",
       "      <th>Four Tet</th>\n",
       "      <th>Four Tet</th>\n",
       "      <th>Four Tet</th>\n",
       "      <th>Musiq Soulchild</th>\n",
       "      <th>K-OS</th>\n",
       "      <th>Four Tet</th>\n",
       "      <th>Green Day</th>\n",
       "      <th>Alejandro Sanz</th>\n",
       "      <th>Gotan Project</th>\n",
       "    </tr>\n",
       "    <tr>\n",
       "      <th>title</th>\n",
       "      <th>release</th>\n",
       "      <th>artist_name</th>\n",
       "      <th></th>\n",
       "      <th></th>\n",
       "      <th></th>\n",
       "      <th></th>\n",
       "      <th></th>\n",
       "      <th></th>\n",
       "      <th></th>\n",
       "      <th></th>\n",
       "      <th></th>\n",
       "      <th></th>\n",
       "      <th></th>\n",
       "      <th></th>\n",
       "      <th></th>\n",
       "      <th></th>\n",
       "      <th></th>\n",
       "      <th></th>\n",
       "      <th></th>\n",
       "      <th></th>\n",
       "      <th></th>\n",
       "      <th></th>\n",
       "      <th></th>\n",
       "    </tr>\n",
       "  </thead>\n",
       "  <tbody>\n",
       "    <tr>\n",
       "      <th>#!*@ You Tonight [Featuring R. Kelly] (Explicit Album Version)</th>\n",
       "      <th>Greatest Hits</th>\n",
       "      <th>The Notorious B.I.G.</th>\n",
       "      <td>1.0</td>\n",
       "      <td>0.000000</td>\n",
       "      <td>0.000000</td>\n",
       "      <td>0.000000</td>\n",
       "      <td>0.0</td>\n",
       "      <td>0.00000</td>\n",
       "      <td>0.000000</td>\n",
       "      <td>0.000000</td>\n",
       "      <td>0.001439</td>\n",
       "      <td>0.0</td>\n",
       "      <td>...</td>\n",
       "      <td>0.00000</td>\n",
       "      <td>0.000000</td>\n",
       "      <td>0.000000</td>\n",
       "      <td>0.000000</td>\n",
       "      <td>0.0</td>\n",
       "      <td>0.0</td>\n",
       "      <td>0.00000</td>\n",
       "      <td>0.000000</td>\n",
       "      <td>0.0</td>\n",
       "      <td>0.000000</td>\n",
       "    </tr>\n",
       "    <tr>\n",
       "      <th>#40</th>\n",
       "      <th>Listener Supported</th>\n",
       "      <th>DAVE MATTHEWS BAND</th>\n",
       "      <td>0.0</td>\n",
       "      <td>1.000000</td>\n",
       "      <td>0.001117</td>\n",
       "      <td>-0.005358</td>\n",
       "      <td>0.0</td>\n",
       "      <td>0.00000</td>\n",
       "      <td>0.000000</td>\n",
       "      <td>0.000000</td>\n",
       "      <td>-0.008124</td>\n",
       "      <td>0.0</td>\n",
       "      <td>...</td>\n",
       "      <td>0.00584</td>\n",
       "      <td>0.000000</td>\n",
       "      <td>0.000000</td>\n",
       "      <td>0.000000</td>\n",
       "      <td>0.0</td>\n",
       "      <td>0.0</td>\n",
       "      <td>0.00000</td>\n",
       "      <td>0.002474</td>\n",
       "      <td>0.0</td>\n",
       "      <td>0.003065</td>\n",
       "    </tr>\n",
       "    <tr>\n",
       "      <th>&amp; Down</th>\n",
       "      <th>Oi Oi oi REMIXED</th>\n",
       "      <th>Boys Noize</th>\n",
       "      <td>0.0</td>\n",
       "      <td>0.001117</td>\n",
       "      <td>1.000000</td>\n",
       "      <td>0.000000</td>\n",
       "      <td>0.0</td>\n",
       "      <td>0.00096</td>\n",
       "      <td>0.000215</td>\n",
       "      <td>0.000878</td>\n",
       "      <td>0.002218</td>\n",
       "      <td>0.0</td>\n",
       "      <td>...</td>\n",
       "      <td>0.00000</td>\n",
       "      <td>-0.001252</td>\n",
       "      <td>0.004469</td>\n",
       "      <td>0.000261</td>\n",
       "      <td>0.0</td>\n",
       "      <td>0.0</td>\n",
       "      <td>-0.01379</td>\n",
       "      <td>0.000000</td>\n",
       "      <td>0.0</td>\n",
       "      <td>0.001242</td>\n",
       "    </tr>\n",
       "    <tr>\n",
       "      <th>' Cello Song</th>\n",
       "      <th>Way To Blue - An Introduction To Nick Drake</th>\n",
       "      <th>Nick Drake</th>\n",
       "      <td>0.0</td>\n",
       "      <td>-0.005358</td>\n",
       "      <td>0.000000</td>\n",
       "      <td>1.000000</td>\n",
       "      <td>0.0</td>\n",
       "      <td>0.00000</td>\n",
       "      <td>0.000000</td>\n",
       "      <td>0.000000</td>\n",
       "      <td>0.000000</td>\n",
       "      <td>0.0</td>\n",
       "      <td>...</td>\n",
       "      <td>0.00000</td>\n",
       "      <td>0.000000</td>\n",
       "      <td>-0.008459</td>\n",
       "      <td>0.000000</td>\n",
       "      <td>0.0</td>\n",
       "      <td>0.0</td>\n",
       "      <td>0.00000</td>\n",
       "      <td>0.000000</td>\n",
       "      <td>0.0</td>\n",
       "      <td>0.000000</td>\n",
       "    </tr>\n",
       "    <tr>\n",
       "      <th>'97 Bonnie &amp; Clyde</th>\n",
       "      <th>The Slim Shady LP</th>\n",
       "      <th>Eminem</th>\n",
       "      <td>0.0</td>\n",
       "      <td>0.000000</td>\n",
       "      <td>0.000000</td>\n",
       "      <td>0.000000</td>\n",
       "      <td>1.0</td>\n",
       "      <td>0.00000</td>\n",
       "      <td>0.000000</td>\n",
       "      <td>0.000000</td>\n",
       "      <td>0.000999</td>\n",
       "      <td>0.0</td>\n",
       "      <td>...</td>\n",
       "      <td>0.00000</td>\n",
       "      <td>0.000000</td>\n",
       "      <td>0.000000</td>\n",
       "      <td>0.000000</td>\n",
       "      <td>0.0</td>\n",
       "      <td>0.0</td>\n",
       "      <td>0.00000</td>\n",
       "      <td>0.000000</td>\n",
       "      <td>0.0</td>\n",
       "      <td>0.000000</td>\n",
       "    </tr>\n",
       "  </tbody>\n",
       "</table>\n",
       "<p>5 rows × 8841 columns</p>\n",
       "</div>"
      ],
      "text/plain": [
       "title                                                                                                               #!*@ You Tonight [Featuring R. Kelly] (Explicit Album Version)  \\\n",
       "release                                                                                                                                                              Greatest Hits   \n",
       "artist_name                                                                                                                                                   The Notorious B.I.G.   \n",
       "title                                              release                                     artist_name                                                                           \n",
       "#!*@ You Tonight [Featuring R. Kelly] (Explicit... Greatest Hits                               The Notorious B.I.G.                                                1.0               \n",
       "#40                                                Listener Supported                          DAVE MATTHEWS BAND                                                  0.0               \n",
       "& Down                                             Oi Oi oi REMIXED                            Boys Noize                                                          0.0               \n",
       "' Cello Song                                       Way To Blue - An Introduction To Nick Drake Nick Drake                                                          0.0               \n",
       "'97 Bonnie & Clyde                                 The Slim Shady LP                           Eminem                                                              0.0               \n",
       "\n",
       "title                                                                                                                              #40  \\\n",
       "release                                                                                                             Listener Supported   \n",
       "artist_name                                                                                                         DAVE MATTHEWS BAND   \n",
       "title                                              release                                     artist_name                               \n",
       "#!*@ You Tonight [Featuring R. Kelly] (Explicit... Greatest Hits                               The Notorious B.I.G.           0.000000   \n",
       "#40                                                Listener Supported                          DAVE MATTHEWS BAND             1.000000   \n",
       "& Down                                             Oi Oi oi REMIXED                            Boys Noize                     0.001117   \n",
       "' Cello Song                                       Way To Blue - An Introduction To Nick Drake Nick Drake                    -0.005358   \n",
       "'97 Bonnie & Clyde                                 The Slim Shady LP                           Eminem                         0.000000   \n",
       "\n",
       "title                                                                                                                         & Down  \\\n",
       "release                                                                                                             Oi Oi oi REMIXED   \n",
       "artist_name                                                                                                               Boys Noize   \n",
       "title                                              release                                     artist_name                             \n",
       "#!*@ You Tonight [Featuring R. Kelly] (Explicit... Greatest Hits                               The Notorious B.I.G.         0.000000   \n",
       "#40                                                Listener Supported                          DAVE MATTHEWS BAND           0.001117   \n",
       "& Down                                             Oi Oi oi REMIXED                            Boys Noize                   1.000000   \n",
       "' Cello Song                                       Way To Blue - An Introduction To Nick Drake Nick Drake                   0.000000   \n",
       "'97 Bonnie & Clyde                                 The Slim Shady LP                           Eminem                       0.000000   \n",
       "\n",
       "title                                                                                                                                              ' Cello Song  \\\n",
       "release                                                                                                             Way To Blue - An Introduction To Nick Drake   \n",
       "artist_name                                                                                                                                          Nick Drake   \n",
       "title                                              release                                     artist_name                                                        \n",
       "#!*@ You Tonight [Featuring R. Kelly] (Explicit... Greatest Hits                               The Notorious B.I.G.                                    0.000000   \n",
       "#40                                                Listener Supported                          DAVE MATTHEWS BAND                                     -0.005358   \n",
       "& Down                                             Oi Oi oi REMIXED                            Boys Noize                                              0.000000   \n",
       "' Cello Song                                       Way To Blue - An Introduction To Nick Drake Nick Drake                                              1.000000   \n",
       "'97 Bonnie & Clyde                                 The Slim Shady LP                           Eminem                                                  0.000000   \n",
       "\n",
       "title                                                                                                               '97 Bonnie & Clyde  \\\n",
       "release                                                                                                              The Slim Shady LP   \n",
       "artist_name                                                                                                                     Eminem   \n",
       "title                                              release                                     artist_name                               \n",
       "#!*@ You Tonight [Featuring R. Kelly] (Explicit... Greatest Hits                               The Notorious B.I.G.                0.0   \n",
       "#40                                                Listener Supported                          DAVE MATTHEWS BAND                  0.0   \n",
       "& Down                                             Oi Oi oi REMIXED                            Boys Noize                          0.0   \n",
       "' Cello Song                                       Way To Blue - An Introduction To Nick Drake Nick Drake                          0.0   \n",
       "'97 Bonnie & Clyde                                 The Slim Shady LP                           Eminem                              1.0   \n",
       "\n",
       "title                                                                                                                    'Round Midnight  \\\n",
       "release                                                                                                             Discover Miles Davis   \n",
       "artist_name                                                                                                                  Miles Davis   \n",
       "title                                              release                                     artist_name                                 \n",
       "#!*@ You Tonight [Featuring R. Kelly] (Explicit... Greatest Hits                               The Notorious B.I.G.              0.00000   \n",
       "#40                                                Listener Supported                          DAVE MATTHEWS BAND                0.00000   \n",
       "& Down                                             Oi Oi oi REMIXED                            Boys Noize                        0.00096   \n",
       "' Cello Song                                       Way To Blue - An Introduction To Nick Drake Nick Drake                        0.00000   \n",
       "'97 Bonnie & Clyde                                 The Slim Shady LP                           Eminem                            0.00000   \n",
       "\n",
       "title                                                                                                                              \\\n",
       "release                                                                                                              Take The Box   \n",
       "artist_name                                                                                                         Amy Winehouse   \n",
       "title                                              release                                     artist_name                          \n",
       "#!*@ You Tonight [Featuring R. Kelly] (Explicit... Greatest Hits                               The Notorious B.I.G.      0.000000   \n",
       "#40                                                Listener Supported                          DAVE MATTHEWS BAND        0.000000   \n",
       "& Down                                             Oi Oi oi REMIXED                            Boys Noize                0.000215   \n",
       "' Cello Song                                       Way To Blue - An Introduction To Nick Drake Nick Drake                0.000000   \n",
       "'97 Bonnie & Clyde                                 The Slim Shady LP                           Eminem                    0.000000   \n",
       "\n",
       "title                                                                                                               'Til We Die (Album Version)  \\\n",
       "release                                                                                                                        All Hope Is Gone   \n",
       "artist_name                                                                                                                            Slipknot   \n",
       "title                                              release                                     artist_name                                        \n",
       "#!*@ You Tonight [Featuring R. Kelly] (Explicit... Greatest Hits                               The Notorious B.I.G.                    0.000000   \n",
       "#40                                                Listener Supported                          DAVE MATTHEWS BAND                      0.000000   \n",
       "& Down                                             Oi Oi oi REMIXED                            Boys Noize                              0.000878   \n",
       "' Cello Song                                       Way To Blue - An Introduction To Nick Drake Nick Drake                              0.000000   \n",
       "'97 Bonnie & Clyde                                 The Slim Shady LP                           Eminem                                  0.000000   \n",
       "\n",
       "title                                                                                                                 'Till I Collapse  \\\n",
       "release                                                                                                                The Eminem Show   \n",
       "artist_name                                                                                                         Eminem / Nate Dogg   \n",
       "title                                              release                                     artist_name                               \n",
       "#!*@ You Tonight [Featuring R. Kelly] (Explicit... Greatest Hits                               The Notorious B.I.G.           0.001439   \n",
       "#40                                                Listener Supported                          DAVE MATTHEWS BAND            -0.008124   \n",
       "& Down                                             Oi Oi oi REMIXED                            Boys Noize                     0.002218   \n",
       "' Cello Song                                       Way To Blue - An Introduction To Nick Drake Nick Drake                     0.000000   \n",
       "'97 Bonnie & Clyde                                 The Slim Shady LP                           Eminem                         0.000999   \n",
       "\n",
       "title                                                                                                               ('Til) I Kissed You  \\\n",
       "release                                                                                                                American Legends   \n",
       "artist_name                                                                                                             Everly Brothers   \n",
       "title                                              release                                     artist_name                                \n",
       "#!*@ You Tonight [Featuring R. Kelly] (Explicit... Greatest Hits                               The Notorious B.I.G.                 0.0   \n",
       "#40                                                Listener Supported                          DAVE MATTHEWS BAND                   0.0   \n",
       "& Down                                             Oi Oi oi REMIXED                            Boys Noize                           0.0   \n",
       "' Cello Song                                       Way To Blue - An Introduction To Nick Drake Nick Drake                           0.0   \n",
       "'97 Bonnie & Clyde                                 The Slim Shady LP                           Eminem                               0.0   \n",
       "\n",
       "title                                                                                                                ...  \\\n",
       "release                                                                                                              ...   \n",
       "artist_name                                                                                                          ...   \n",
       "title                                              release                                     artist_name           ...   \n",
       "#!*@ You Tonight [Featuring R. Kelly] (Explicit... Greatest Hits                               The Notorious B.I.G.  ...   \n",
       "#40                                                Listener Supported                          DAVE MATTHEWS BAND    ...   \n",
       "& Down                                             Oi Oi oi REMIXED                            Boys Noize            ...   \n",
       "' Cello Song                                       Way To Blue - An Introduction To Nick Drake Nick Drake            ...   \n",
       "'97 Bonnie & Clyde                                 The Slim Shady LP                           Eminem                ...   \n",
       "\n",
       "title                                                                                                               sillyworld (Album Version)  \\\n",
       "release                                                                                                                    Come What[ever] May   \n",
       "artist_name                                                                                                                         Stone Sour   \n",
       "title                                              release                                     artist_name                                       \n",
       "#!*@ You Tonight [Featuring R. Kelly] (Explicit... Greatest Hits                               The Notorious B.I.G.                    0.00000   \n",
       "#40                                                Listener Supported                          DAVE MATTHEWS BAND                      0.00584   \n",
       "& Down                                             Oi Oi oi REMIXED                            Boys Noize                              0.00000   \n",
       "' Cello Song                                       Way To Blue - An Introduction To Nick Drake Nick Drake                              0.00000   \n",
       "'97 Bonnie & Clyde                                 The Slim Shady LP                           Eminem                                  0.00000   \n",
       "\n",
       "title                                                                                                               sleep_ eat food_ have visions  \\\n",
       "release                                                                                                                       Everything Ecstatic   \n",
       "artist_name                                                                                                                              Four Tet   \n",
       "title                                              release                                     artist_name                                          \n",
       "#!*@ You Tonight [Featuring R. Kelly] (Explicit... Greatest Hits                               The Notorious B.I.G.                      0.000000   \n",
       "#40                                                Listener Supported                          DAVE MATTHEWS BAND                        0.000000   \n",
       "& Down                                             Oi Oi oi REMIXED                            Boys Noize                               -0.001252   \n",
       "' Cello Song                                       Way To Blue - An Introduction To Nick Drake Nick Drake                                0.000000   \n",
       "'97 Bonnie & Clyde                                 The Slim Shady LP                           Eminem                                    0.000000   \n",
       "\n",
       "title                                                                                                               smile around the face  \\\n",
       "release                                                                                                               Everything Ecstatic   \n",
       "artist_name                                                                                                                      Four Tet   \n",
       "title                                              release                                     artist_name                                  \n",
       "#!*@ You Tonight [Featuring R. Kelly] (Explicit... Greatest Hits                               The Notorious B.I.G.              0.000000   \n",
       "#40                                                Listener Supported                          DAVE MATTHEWS BAND                0.000000   \n",
       "& Down                                             Oi Oi oi REMIXED                            Boys Noize                        0.004469   \n",
       "' Cello Song                                       Way To Blue - An Introduction To Nick Drake Nick Drake                       -0.008459   \n",
       "'97 Bonnie & Clyde                                 The Slim Shady LP                           Eminem                            0.000000   \n",
       "\n",
       "title                                                                                                                sun drums and soil  \\\n",
       "release                                                                                                             Everything Ecstatic   \n",
       "artist_name                                                                                                                    Four Tet   \n",
       "title                                              release                                     artist_name                                \n",
       "#!*@ You Tonight [Featuring R. Kelly] (Explicit... Greatest Hits                               The Notorious B.I.G.            0.000000   \n",
       "#40                                                Listener Supported                          DAVE MATTHEWS BAND              0.000000   \n",
       "& Down                                             Oi Oi oi REMIXED                            Boys Noize                      0.000261   \n",
       "' Cello Song                                       Way To Blue - An Introduction To Nick Drake Nick Drake                      0.000000   \n",
       "'97 Bonnie & Clyde                                 The Slim Shady LP                           Eminem                          0.000000   \n",
       "\n",
       "title                                                                                                               teachme (Album Version)  \\\n",
       "release                                                                                                                          Luvanmusiq   \n",
       "artist_name                                                                                                                 Musiq Soulchild   \n",
       "title                                              release                                     artist_name                                    \n",
       "#!*@ You Tonight [Featuring R. Kelly] (Explicit... Greatest Hits                               The Notorious B.I.G.                     0.0   \n",
       "#40                                                Listener Supported                          DAVE MATTHEWS BAND                       0.0   \n",
       "& Down                                             Oi Oi oi REMIXED                            Boys Noize                               0.0   \n",
       "' Cello Song                                       Way To Blue - An Introduction To Nick Drake Nick Drake                               0.0   \n",
       "'97 Bonnie & Clyde                                 The Slim Shady LP                           Eminem                                   0.0   \n",
       "\n",
       "title                                                                                                                  the Love Song  \\\n",
       "release                                                                                                             Joyful Rebellion   \n",
       "artist_name                                                                                                                     K-OS   \n",
       "title                                              release                                     artist_name                             \n",
       "#!*@ You Tonight [Featuring R. Kelly] (Explicit... Greatest Hits                               The Notorious B.I.G.              0.0   \n",
       "#40                                                Listener Supported                          DAVE MATTHEWS BAND                0.0   \n",
       "& Down                                             Oi Oi oi REMIXED                            Boys Noize                        0.0   \n",
       "' Cello Song                                       Way To Blue - An Introduction To Nick Drake Nick Drake                        0.0   \n",
       "'97 Bonnie & Clyde                                 The Slim Shady LP                           Eminem                            0.0   \n",
       "\n",
       "title                                                                                                               you were there with me  \\\n",
       "release                                                                                                                Everything Ecstatic   \n",
       "artist_name                                                                                                                       Four Tet   \n",
       "title                                              release                                     artist_name                                   \n",
       "#!*@ You Tonight [Featuring R. Kelly] (Explicit... Greatest Hits                               The Notorious B.I.G.                0.00000   \n",
       "#40                                                Listener Supported                          DAVE MATTHEWS BAND                  0.00000   \n",
       "& Down                                             Oi Oi oi REMIXED                            Boys Noize                         -0.01379   \n",
       "' Cello Song                                       Way To Blue - An Introduction To Nick Drake Nick Drake                          0.00000   \n",
       "'97 Bonnie & Clyde                                 The Slim Shady LP                           Eminem                              0.00000   \n",
       "\n",
       "title                                                                                                               ¡Viva La Gloria! (Album Version)  \\\n",
       "release                                                                                                                       21st Century Breakdown   \n",
       "artist_name                                                                                                                                Green Day   \n",
       "title                                              release                                     artist_name                                             \n",
       "#!*@ You Tonight [Featuring R. Kelly] (Explicit... Greatest Hits                               The Notorious B.I.G.                         0.000000   \n",
       "#40                                                Listener Supported                          DAVE MATTHEWS BAND                           0.002474   \n",
       "& Down                                             Oi Oi oi REMIXED                            Boys Noize                                   0.000000   \n",
       "' Cello Song                                       Way To Blue - An Introduction To Nick Drake Nick Drake                                   0.000000   \n",
       "'97 Bonnie & Clyde                                 The Slim Shady LP                           Eminem                                       0.000000   \n",
       "\n",
       "title                                                                                                                 ¿Lo Ves? [Piano Y Voz]  \\\n",
       "release                                                                                                             Grandes exitos 1991-2004   \n",
       "artist_name                                                                                                                   Alejandro Sanz   \n",
       "title                                              release                                     artist_name                                     \n",
       "#!*@ You Tonight [Featuring R. Kelly] (Explicit... Greatest Hits                               The Notorious B.I.G.                      0.0   \n",
       "#40                                                Listener Supported                          DAVE MATTHEWS BAND                        0.0   \n",
       "& Down                                             Oi Oi oi REMIXED                            Boys Noize                                0.0   \n",
       "' Cello Song                                       Way To Blue - An Introduction To Nick Drake Nick Drake                                0.0   \n",
       "'97 Bonnie & Clyde                                 The Slim Shady LP                           Eminem                                    0.0   \n",
       "\n",
       "title                                                                                                                               Época  \n",
       "release                                                                                                             La Revancha Del Tango  \n",
       "artist_name                                                                                                                 Gotan Project  \n",
       "title                                              release                                     artist_name                                 \n",
       "#!*@ You Tonight [Featuring R. Kelly] (Explicit... Greatest Hits                               The Notorious B.I.G.              0.000000  \n",
       "#40                                                Listener Supported                          DAVE MATTHEWS BAND                0.003065  \n",
       "& Down                                             Oi Oi oi REMIXED                            Boys Noize                        0.001242  \n",
       "' Cello Song                                       Way To Blue - An Introduction To Nick Drake Nick Drake                        0.000000  \n",
       "'97 Bonnie & Clyde                                 The Slim Shady LP                           Eminem                            0.000000  \n",
       "\n",
       "[5 rows x 8841 columns]"
      ]
     },
     "execution_count": 68,
     "metadata": {},
     "output_type": "execute_result"
    }
   ],
   "source": [
    "df_item_sim = pd.DataFrame(item_similarity, index = df_colfil.index, columns = df_colfil.index)\n",
    "df_item_sim.head()"
   ]
  },
  {
   "cell_type": "code",
   "execution_count": 69,
   "metadata": {},
   "outputs": [
    {
     "data": {
      "text/html": [
       "<div>\n",
       "<style scoped>\n",
       "    .dataframe tbody tr th:only-of-type {\n",
       "        vertical-align: middle;\n",
       "    }\n",
       "\n",
       "    .dataframe tbody tr th {\n",
       "        vertical-align: top;\n",
       "    }\n",
       "\n",
       "    .dataframe thead th {\n",
       "        text-align: right;\n",
       "    }\n",
       "</style>\n",
       "<table border=\"1\" class=\"dataframe\">\n",
       "  <thead>\n",
       "    <tr style=\"text-align: right;\">\n",
       "      <th>user_id</th>\n",
       "      <th>00003a4459f33b92906be11abe0e93efc423c0ff</th>\n",
       "      <th>00005c6177188f12fb5e2e82cdbd93e8a3f35e64</th>\n",
       "      <th>00030033e3a2f904a48ec1dd53019c9969b6ef1f</th>\n",
       "      <th>0007c0e74728ca9ef0fe4eb7f75732e8026a278b</th>\n",
       "      <th>000b474f815bcff17a4bc9ce5324f9352dafe07d</th>\n",
       "      <th>000b4e4134d5f77d7608fbf86fb3e1adac4478a8</th>\n",
       "      <th>000b9a54ef0560b957ee0f7a4cb933c36025e600</th>\n",
       "      <th>000d2df2cb8ad7300f89512f8fe8fadc4f99e733</th>\n",
       "      <th>000ebc858861aca26bac9b49f650ed424cf882fc</th>\n",
       "      <th>000ef25cc955ad5841c915d269432eea41f4a1a5</th>\n",
       "      <th>...</th>\n",
       "      <th>ffec9b417b38e41a5f81c2cb763af9144f54885e</th>\n",
       "      <th>fff1d613baa7ce8e5acb7181093d9683804a55b6</th>\n",
       "      <th>fff22417a61c1ba3ee2592b22a052ed6a27a8e91</th>\n",
       "      <th>fff300cd094fe04030b79fae550dc9d065190182</th>\n",
       "      <th>fff543db7918cb8f4f56f7470903eb2f1d5a6dd8</th>\n",
       "      <th>fff6c30c773e6ffafcac213c9afd9666afaf6d63</th>\n",
       "      <th>fffad4a128cd3d130f06c0f7bf493781081afe3c</th>\n",
       "      <th>fffce9c1537fbc350ea68823d956eaa8f5236dbe</th>\n",
       "      <th>fffd6a2bdef646ce9898b628d5dd56c43df69a9d</th>\n",
       "      <th>fffe6d1d8500f1c1f31bd63abce35c0f975a86bf</th>\n",
       "    </tr>\n",
       "    <tr>\n",
       "      <th>user_id</th>\n",
       "      <th></th>\n",
       "      <th></th>\n",
       "      <th></th>\n",
       "      <th></th>\n",
       "      <th></th>\n",
       "      <th></th>\n",
       "      <th></th>\n",
       "      <th></th>\n",
       "      <th></th>\n",
       "      <th></th>\n",
       "      <th></th>\n",
       "      <th></th>\n",
       "      <th></th>\n",
       "      <th></th>\n",
       "      <th></th>\n",
       "      <th></th>\n",
       "      <th></th>\n",
       "      <th></th>\n",
       "      <th></th>\n",
       "      <th></th>\n",
       "      <th></th>\n",
       "    </tr>\n",
       "  </thead>\n",
       "  <tbody>\n",
       "    <tr>\n",
       "      <th>00003a4459f33b92906be11abe0e93efc423c0ff</th>\n",
       "      <td>1.0</td>\n",
       "      <td>0.0</td>\n",
       "      <td>0.0</td>\n",
       "      <td>0.0</td>\n",
       "      <td>0.0</td>\n",
       "      <td>0.0</td>\n",
       "      <td>0.0</td>\n",
       "      <td>0.0</td>\n",
       "      <td>0.000000</td>\n",
       "      <td>0.0</td>\n",
       "      <td>...</td>\n",
       "      <td>0.0</td>\n",
       "      <td>0.0</td>\n",
       "      <td>0.000000</td>\n",
       "      <td>0.0</td>\n",
       "      <td>0.0</td>\n",
       "      <td>0.040008</td>\n",
       "      <td>0.0</td>\n",
       "      <td>0.000000</td>\n",
       "      <td>0.0</td>\n",
       "      <td>0.0</td>\n",
       "    </tr>\n",
       "    <tr>\n",
       "      <th>00005c6177188f12fb5e2e82cdbd93e8a3f35e64</th>\n",
       "      <td>0.0</td>\n",
       "      <td>1.0</td>\n",
       "      <td>0.0</td>\n",
       "      <td>0.0</td>\n",
       "      <td>0.0</td>\n",
       "      <td>0.0</td>\n",
       "      <td>0.0</td>\n",
       "      <td>0.0</td>\n",
       "      <td>0.000000</td>\n",
       "      <td>0.0</td>\n",
       "      <td>...</td>\n",
       "      <td>0.0</td>\n",
       "      <td>0.0</td>\n",
       "      <td>0.000000</td>\n",
       "      <td>0.0</td>\n",
       "      <td>0.0</td>\n",
       "      <td>0.012618</td>\n",
       "      <td>0.0</td>\n",
       "      <td>0.000000</td>\n",
       "      <td>0.0</td>\n",
       "      <td>0.0</td>\n",
       "    </tr>\n",
       "    <tr>\n",
       "      <th>00030033e3a2f904a48ec1dd53019c9969b6ef1f</th>\n",
       "      <td>0.0</td>\n",
       "      <td>0.0</td>\n",
       "      <td>1.0</td>\n",
       "      <td>0.0</td>\n",
       "      <td>0.0</td>\n",
       "      <td>0.0</td>\n",
       "      <td>0.0</td>\n",
       "      <td>0.0</td>\n",
       "      <td>0.000000</td>\n",
       "      <td>0.0</td>\n",
       "      <td>...</td>\n",
       "      <td>0.0</td>\n",
       "      <td>0.0</td>\n",
       "      <td>-0.012507</td>\n",
       "      <td>0.0</td>\n",
       "      <td>0.0</td>\n",
       "      <td>0.000000</td>\n",
       "      <td>0.0</td>\n",
       "      <td>0.002692</td>\n",
       "      <td>0.0</td>\n",
       "      <td>0.0</td>\n",
       "    </tr>\n",
       "    <tr>\n",
       "      <th>0007c0e74728ca9ef0fe4eb7f75732e8026a278b</th>\n",
       "      <td>0.0</td>\n",
       "      <td>0.0</td>\n",
       "      <td>0.0</td>\n",
       "      <td>1.0</td>\n",
       "      <td>0.0</td>\n",
       "      <td>0.0</td>\n",
       "      <td>0.0</td>\n",
       "      <td>0.0</td>\n",
       "      <td>0.044627</td>\n",
       "      <td>0.0</td>\n",
       "      <td>...</td>\n",
       "      <td>0.0</td>\n",
       "      <td>0.0</td>\n",
       "      <td>0.000000</td>\n",
       "      <td>0.0</td>\n",
       "      <td>0.0</td>\n",
       "      <td>0.000000</td>\n",
       "      <td>0.0</td>\n",
       "      <td>0.000000</td>\n",
       "      <td>0.0</td>\n",
       "      <td>0.0</td>\n",
       "    </tr>\n",
       "    <tr>\n",
       "      <th>000b474f815bcff17a4bc9ce5324f9352dafe07d</th>\n",
       "      <td>0.0</td>\n",
       "      <td>0.0</td>\n",
       "      <td>0.0</td>\n",
       "      <td>0.0</td>\n",
       "      <td>1.0</td>\n",
       "      <td>0.0</td>\n",
       "      <td>0.0</td>\n",
       "      <td>0.0</td>\n",
       "      <td>0.000000</td>\n",
       "      <td>0.0</td>\n",
       "      <td>...</td>\n",
       "      <td>0.0</td>\n",
       "      <td>0.0</td>\n",
       "      <td>0.007132</td>\n",
       "      <td>0.0</td>\n",
       "      <td>0.0</td>\n",
       "      <td>0.000000</td>\n",
       "      <td>0.0</td>\n",
       "      <td>0.000000</td>\n",
       "      <td>0.0</td>\n",
       "      <td>0.0</td>\n",
       "    </tr>\n",
       "  </tbody>\n",
       "</table>\n",
       "<p>5 rows × 33521 columns</p>\n",
       "</div>"
      ],
      "text/plain": [
       "user_id                                   00003a4459f33b92906be11abe0e93efc423c0ff  \\\n",
       "user_id                                                                              \n",
       "00003a4459f33b92906be11abe0e93efc423c0ff                                       1.0   \n",
       "00005c6177188f12fb5e2e82cdbd93e8a3f35e64                                       0.0   \n",
       "00030033e3a2f904a48ec1dd53019c9969b6ef1f                                       0.0   \n",
       "0007c0e74728ca9ef0fe4eb7f75732e8026a278b                                       0.0   \n",
       "000b474f815bcff17a4bc9ce5324f9352dafe07d                                       0.0   \n",
       "\n",
       "user_id                                   00005c6177188f12fb5e2e82cdbd93e8a3f35e64  \\\n",
       "user_id                                                                              \n",
       "00003a4459f33b92906be11abe0e93efc423c0ff                                       0.0   \n",
       "00005c6177188f12fb5e2e82cdbd93e8a3f35e64                                       1.0   \n",
       "00030033e3a2f904a48ec1dd53019c9969b6ef1f                                       0.0   \n",
       "0007c0e74728ca9ef0fe4eb7f75732e8026a278b                                       0.0   \n",
       "000b474f815bcff17a4bc9ce5324f9352dafe07d                                       0.0   \n",
       "\n",
       "user_id                                   00030033e3a2f904a48ec1dd53019c9969b6ef1f  \\\n",
       "user_id                                                                              \n",
       "00003a4459f33b92906be11abe0e93efc423c0ff                                       0.0   \n",
       "00005c6177188f12fb5e2e82cdbd93e8a3f35e64                                       0.0   \n",
       "00030033e3a2f904a48ec1dd53019c9969b6ef1f                                       1.0   \n",
       "0007c0e74728ca9ef0fe4eb7f75732e8026a278b                                       0.0   \n",
       "000b474f815bcff17a4bc9ce5324f9352dafe07d                                       0.0   \n",
       "\n",
       "user_id                                   0007c0e74728ca9ef0fe4eb7f75732e8026a278b  \\\n",
       "user_id                                                                              \n",
       "00003a4459f33b92906be11abe0e93efc423c0ff                                       0.0   \n",
       "00005c6177188f12fb5e2e82cdbd93e8a3f35e64                                       0.0   \n",
       "00030033e3a2f904a48ec1dd53019c9969b6ef1f                                       0.0   \n",
       "0007c0e74728ca9ef0fe4eb7f75732e8026a278b                                       1.0   \n",
       "000b474f815bcff17a4bc9ce5324f9352dafe07d                                       0.0   \n",
       "\n",
       "user_id                                   000b474f815bcff17a4bc9ce5324f9352dafe07d  \\\n",
       "user_id                                                                              \n",
       "00003a4459f33b92906be11abe0e93efc423c0ff                                       0.0   \n",
       "00005c6177188f12fb5e2e82cdbd93e8a3f35e64                                       0.0   \n",
       "00030033e3a2f904a48ec1dd53019c9969b6ef1f                                       0.0   \n",
       "0007c0e74728ca9ef0fe4eb7f75732e8026a278b                                       0.0   \n",
       "000b474f815bcff17a4bc9ce5324f9352dafe07d                                       1.0   \n",
       "\n",
       "user_id                                   000b4e4134d5f77d7608fbf86fb3e1adac4478a8  \\\n",
       "user_id                                                                              \n",
       "00003a4459f33b92906be11abe0e93efc423c0ff                                       0.0   \n",
       "00005c6177188f12fb5e2e82cdbd93e8a3f35e64                                       0.0   \n",
       "00030033e3a2f904a48ec1dd53019c9969b6ef1f                                       0.0   \n",
       "0007c0e74728ca9ef0fe4eb7f75732e8026a278b                                       0.0   \n",
       "000b474f815bcff17a4bc9ce5324f9352dafe07d                                       0.0   \n",
       "\n",
       "user_id                                   000b9a54ef0560b957ee0f7a4cb933c36025e600  \\\n",
       "user_id                                                                              \n",
       "00003a4459f33b92906be11abe0e93efc423c0ff                                       0.0   \n",
       "00005c6177188f12fb5e2e82cdbd93e8a3f35e64                                       0.0   \n",
       "00030033e3a2f904a48ec1dd53019c9969b6ef1f                                       0.0   \n",
       "0007c0e74728ca9ef0fe4eb7f75732e8026a278b                                       0.0   \n",
       "000b474f815bcff17a4bc9ce5324f9352dafe07d                                       0.0   \n",
       "\n",
       "user_id                                   000d2df2cb8ad7300f89512f8fe8fadc4f99e733  \\\n",
       "user_id                                                                              \n",
       "00003a4459f33b92906be11abe0e93efc423c0ff                                       0.0   \n",
       "00005c6177188f12fb5e2e82cdbd93e8a3f35e64                                       0.0   \n",
       "00030033e3a2f904a48ec1dd53019c9969b6ef1f                                       0.0   \n",
       "0007c0e74728ca9ef0fe4eb7f75732e8026a278b                                       0.0   \n",
       "000b474f815bcff17a4bc9ce5324f9352dafe07d                                       0.0   \n",
       "\n",
       "user_id                                   000ebc858861aca26bac9b49f650ed424cf882fc  \\\n",
       "user_id                                                                              \n",
       "00003a4459f33b92906be11abe0e93efc423c0ff                                  0.000000   \n",
       "00005c6177188f12fb5e2e82cdbd93e8a3f35e64                                  0.000000   \n",
       "00030033e3a2f904a48ec1dd53019c9969b6ef1f                                  0.000000   \n",
       "0007c0e74728ca9ef0fe4eb7f75732e8026a278b                                  0.044627   \n",
       "000b474f815bcff17a4bc9ce5324f9352dafe07d                                  0.000000   \n",
       "\n",
       "user_id                                   000ef25cc955ad5841c915d269432eea41f4a1a5  \\\n",
       "user_id                                                                              \n",
       "00003a4459f33b92906be11abe0e93efc423c0ff                                       0.0   \n",
       "00005c6177188f12fb5e2e82cdbd93e8a3f35e64                                       0.0   \n",
       "00030033e3a2f904a48ec1dd53019c9969b6ef1f                                       0.0   \n",
       "0007c0e74728ca9ef0fe4eb7f75732e8026a278b                                       0.0   \n",
       "000b474f815bcff17a4bc9ce5324f9352dafe07d                                       0.0   \n",
       "\n",
       "user_id                                   ...  \\\n",
       "user_id                                   ...   \n",
       "00003a4459f33b92906be11abe0e93efc423c0ff  ...   \n",
       "00005c6177188f12fb5e2e82cdbd93e8a3f35e64  ...   \n",
       "00030033e3a2f904a48ec1dd53019c9969b6ef1f  ...   \n",
       "0007c0e74728ca9ef0fe4eb7f75732e8026a278b  ...   \n",
       "000b474f815bcff17a4bc9ce5324f9352dafe07d  ...   \n",
       "\n",
       "user_id                                   ffec9b417b38e41a5f81c2cb763af9144f54885e  \\\n",
       "user_id                                                                              \n",
       "00003a4459f33b92906be11abe0e93efc423c0ff                                       0.0   \n",
       "00005c6177188f12fb5e2e82cdbd93e8a3f35e64                                       0.0   \n",
       "00030033e3a2f904a48ec1dd53019c9969b6ef1f                                       0.0   \n",
       "0007c0e74728ca9ef0fe4eb7f75732e8026a278b                                       0.0   \n",
       "000b474f815bcff17a4bc9ce5324f9352dafe07d                                       0.0   \n",
       "\n",
       "user_id                                   fff1d613baa7ce8e5acb7181093d9683804a55b6  \\\n",
       "user_id                                                                              \n",
       "00003a4459f33b92906be11abe0e93efc423c0ff                                       0.0   \n",
       "00005c6177188f12fb5e2e82cdbd93e8a3f35e64                                       0.0   \n",
       "00030033e3a2f904a48ec1dd53019c9969b6ef1f                                       0.0   \n",
       "0007c0e74728ca9ef0fe4eb7f75732e8026a278b                                       0.0   \n",
       "000b474f815bcff17a4bc9ce5324f9352dafe07d                                       0.0   \n",
       "\n",
       "user_id                                   fff22417a61c1ba3ee2592b22a052ed6a27a8e91  \\\n",
       "user_id                                                                              \n",
       "00003a4459f33b92906be11abe0e93efc423c0ff                                  0.000000   \n",
       "00005c6177188f12fb5e2e82cdbd93e8a3f35e64                                  0.000000   \n",
       "00030033e3a2f904a48ec1dd53019c9969b6ef1f                                 -0.012507   \n",
       "0007c0e74728ca9ef0fe4eb7f75732e8026a278b                                  0.000000   \n",
       "000b474f815bcff17a4bc9ce5324f9352dafe07d                                  0.007132   \n",
       "\n",
       "user_id                                   fff300cd094fe04030b79fae550dc9d065190182  \\\n",
       "user_id                                                                              \n",
       "00003a4459f33b92906be11abe0e93efc423c0ff                                       0.0   \n",
       "00005c6177188f12fb5e2e82cdbd93e8a3f35e64                                       0.0   \n",
       "00030033e3a2f904a48ec1dd53019c9969b6ef1f                                       0.0   \n",
       "0007c0e74728ca9ef0fe4eb7f75732e8026a278b                                       0.0   \n",
       "000b474f815bcff17a4bc9ce5324f9352dafe07d                                       0.0   \n",
       "\n",
       "user_id                                   fff543db7918cb8f4f56f7470903eb2f1d5a6dd8  \\\n",
       "user_id                                                                              \n",
       "00003a4459f33b92906be11abe0e93efc423c0ff                                       0.0   \n",
       "00005c6177188f12fb5e2e82cdbd93e8a3f35e64                                       0.0   \n",
       "00030033e3a2f904a48ec1dd53019c9969b6ef1f                                       0.0   \n",
       "0007c0e74728ca9ef0fe4eb7f75732e8026a278b                                       0.0   \n",
       "000b474f815bcff17a4bc9ce5324f9352dafe07d                                       0.0   \n",
       "\n",
       "user_id                                   fff6c30c773e6ffafcac213c9afd9666afaf6d63  \\\n",
       "user_id                                                                              \n",
       "00003a4459f33b92906be11abe0e93efc423c0ff                                  0.040008   \n",
       "00005c6177188f12fb5e2e82cdbd93e8a3f35e64                                  0.012618   \n",
       "00030033e3a2f904a48ec1dd53019c9969b6ef1f                                  0.000000   \n",
       "0007c0e74728ca9ef0fe4eb7f75732e8026a278b                                  0.000000   \n",
       "000b474f815bcff17a4bc9ce5324f9352dafe07d                                  0.000000   \n",
       "\n",
       "user_id                                   fffad4a128cd3d130f06c0f7bf493781081afe3c  \\\n",
       "user_id                                                                              \n",
       "00003a4459f33b92906be11abe0e93efc423c0ff                                       0.0   \n",
       "00005c6177188f12fb5e2e82cdbd93e8a3f35e64                                       0.0   \n",
       "00030033e3a2f904a48ec1dd53019c9969b6ef1f                                       0.0   \n",
       "0007c0e74728ca9ef0fe4eb7f75732e8026a278b                                       0.0   \n",
       "000b474f815bcff17a4bc9ce5324f9352dafe07d                                       0.0   \n",
       "\n",
       "user_id                                   fffce9c1537fbc350ea68823d956eaa8f5236dbe  \\\n",
       "user_id                                                                              \n",
       "00003a4459f33b92906be11abe0e93efc423c0ff                                  0.000000   \n",
       "00005c6177188f12fb5e2e82cdbd93e8a3f35e64                                  0.000000   \n",
       "00030033e3a2f904a48ec1dd53019c9969b6ef1f                                  0.002692   \n",
       "0007c0e74728ca9ef0fe4eb7f75732e8026a278b                                  0.000000   \n",
       "000b474f815bcff17a4bc9ce5324f9352dafe07d                                  0.000000   \n",
       "\n",
       "user_id                                   fffd6a2bdef646ce9898b628d5dd56c43df69a9d  \\\n",
       "user_id                                                                              \n",
       "00003a4459f33b92906be11abe0e93efc423c0ff                                       0.0   \n",
       "00005c6177188f12fb5e2e82cdbd93e8a3f35e64                                       0.0   \n",
       "00030033e3a2f904a48ec1dd53019c9969b6ef1f                                       0.0   \n",
       "0007c0e74728ca9ef0fe4eb7f75732e8026a278b                                       0.0   \n",
       "000b474f815bcff17a4bc9ce5324f9352dafe07d                                       0.0   \n",
       "\n",
       "user_id                                   fffe6d1d8500f1c1f31bd63abce35c0f975a86bf  \n",
       "user_id                                                                             \n",
       "00003a4459f33b92906be11abe0e93efc423c0ff                                       0.0  \n",
       "00005c6177188f12fb5e2e82cdbd93e8a3f35e64                                       0.0  \n",
       "00030033e3a2f904a48ec1dd53019c9969b6ef1f                                       0.0  \n",
       "0007c0e74728ca9ef0fe4eb7f75732e8026a278b                                       0.0  \n",
       "000b474f815bcff17a4bc9ce5324f9352dafe07d                                       0.0  \n",
       "\n",
       "[5 rows x 33521 columns]"
      ]
     },
     "execution_count": 69,
     "metadata": {},
     "output_type": "execute_result"
    }
   ],
   "source": [
    "df_user_sim = pd.DataFrame(user_similarity, index = df_colfil.columns, columns = df_colfil.columns)\n",
    "df_user_sim.head()"
   ]
  },
  {
   "cell_type": "markdown",
   "metadata": {},
   "source": [
    "### Fungsi Rekomendasi"
   ]
  },
  {
   "cell_type": "code",
   "execution_count": 70,
   "metadata": {},
   "outputs": [],
   "source": [
    "def rec_colfil(user, rec):\n",
    "    sim_users = df_user_sim.sort_values(by=user, ascending=False).index[1:11]\n",
    "    best = []\n",
    "    most_common = {}\n",
    "    \n",
    "    for i in sim_users:\n",
    "        max_score = df_colfil.loc[:, i].max()\n",
    "        best.append(df_colfil[df_colfil.loc[:, i]==max_score].index.tolist())\n",
    "    for i in range(len(best)):\n",
    "        for j in best[i]:\n",
    "            if j in most_common:\n",
    "                most_common[j] += 1\n",
    "            else:\n",
    "                most_common[j] = 1\n",
    "                \n",
    "    sorted_list = sorted(most_common.items(), key=operator.itemgetter(1), reverse=True)\n",
    "    \n",
    "    list_rank = [*range(1, rec+1, 1)]\n",
    "    list_title = []\n",
    "    list_artist = []\n",
    "    df_rec_colfil = pd.DataFrame(list_rank)\n",
    "    for i in range(0, rec+1, 1):\n",
    "        key = list(dict(most_common.items()).keys())[i]\n",
    "        list_title.append(key[0])\n",
    "        list_artist.append(key[2])\n",
    "    \n",
    "    df_rec_colfil['title'] = pd.DataFrame(list_title)\n",
    "    df_rec_colfil['artist_name'] = pd.DataFrame(list_artist)\n",
    "    df_rec_colfil.columns = ['rank', 'title', 'artist_name']\n",
    "    return df_rec_colfil  "
   ]
  },
  {
   "cell_type": "markdown",
   "metadata": {},
   "source": [
    "### Hasil Rekomendasi"
   ]
  },
  {
   "cell_type": "code",
   "execution_count": 71,
   "metadata": {},
   "outputs": [
    {
     "data": {
      "text/html": [
       "<div>\n",
       "<style scoped>\n",
       "    .dataframe tbody tr th:only-of-type {\n",
       "        vertical-align: middle;\n",
       "    }\n",
       "\n",
       "    .dataframe tbody tr th {\n",
       "        vertical-align: top;\n",
       "    }\n",
       "\n",
       "    .dataframe thead th {\n",
       "        text-align: right;\n",
       "    }\n",
       "</style>\n",
       "<table border=\"1\" class=\"dataframe\">\n",
       "  <thead>\n",
       "    <tr style=\"text-align: right;\">\n",
       "      <th></th>\n",
       "      <th>rank</th>\n",
       "      <th>title</th>\n",
       "      <th>artist_name</th>\n",
       "    </tr>\n",
       "  </thead>\n",
       "  <tbody>\n",
       "    <tr>\n",
       "      <th>0</th>\n",
       "      <td>1</td>\n",
       "      <td>#!*@ You Tonight [Featuring R. Kelly] (Explici...</td>\n",
       "      <td>The Notorious B.I.G.</td>\n",
       "    </tr>\n",
       "    <tr>\n",
       "      <th>1</th>\n",
       "      <td>2</td>\n",
       "      <td>#40</td>\n",
       "      <td>DAVE MATTHEWS BAND</td>\n",
       "    </tr>\n",
       "    <tr>\n",
       "      <th>2</th>\n",
       "      <td>3</td>\n",
       "      <td>&amp; Down</td>\n",
       "      <td>Boys Noize</td>\n",
       "    </tr>\n",
       "    <tr>\n",
       "      <th>3</th>\n",
       "      <td>4</td>\n",
       "      <td>' Cello Song</td>\n",
       "      <td>Nick Drake</td>\n",
       "    </tr>\n",
       "    <tr>\n",
       "      <th>4</th>\n",
       "      <td>5</td>\n",
       "      <td>'97 Bonnie &amp; Clyde</td>\n",
       "      <td>Eminem</td>\n",
       "    </tr>\n",
       "    <tr>\n",
       "      <th>5</th>\n",
       "      <td>6</td>\n",
       "      <td>'Round Midnight</td>\n",
       "      <td>Miles Davis</td>\n",
       "    </tr>\n",
       "    <tr>\n",
       "      <th>6</th>\n",
       "      <td>7</td>\n",
       "      <td>'Round Midnight</td>\n",
       "      <td>Amy Winehouse</td>\n",
       "    </tr>\n",
       "    <tr>\n",
       "      <th>7</th>\n",
       "      <td>8</td>\n",
       "      <td>'Til We Die (Album Version)</td>\n",
       "      <td>Slipknot</td>\n",
       "    </tr>\n",
       "    <tr>\n",
       "      <th>8</th>\n",
       "      <td>9</td>\n",
       "      <td>'Till I Collapse</td>\n",
       "      <td>Eminem / Nate Dogg</td>\n",
       "    </tr>\n",
       "    <tr>\n",
       "      <th>9</th>\n",
       "      <td>10</td>\n",
       "      <td>('Til) I Kissed You</td>\n",
       "      <td>Everly Brothers</td>\n",
       "    </tr>\n",
       "  </tbody>\n",
       "</table>\n",
       "</div>"
      ],
      "text/plain": [
       "   rank                                              title  \\\n",
       "0     1  #!*@ You Tonight [Featuring R. Kelly] (Explici...   \n",
       "1     2                                                #40   \n",
       "2     3                                             & Down   \n",
       "3     4                                       ' Cello Song   \n",
       "4     5                                 '97 Bonnie & Clyde   \n",
       "5     6                                    'Round Midnight   \n",
       "6     7                                    'Round Midnight   \n",
       "7     8                        'Til We Die (Album Version)   \n",
       "8     9                                   'Till I Collapse   \n",
       "9    10                                ('Til) I Kissed You   \n",
       "\n",
       "            artist_name  \n",
       "0  The Notorious B.I.G.  \n",
       "1    DAVE MATTHEWS BAND  \n",
       "2            Boys Noize  \n",
       "3            Nick Drake  \n",
       "4                Eminem  \n",
       "5           Miles Davis  \n",
       "6         Amy Winehouse  \n",
       "7              Slipknot  \n",
       "8    Eminem / Nate Dogg  \n",
       "9       Everly Brothers  "
      ]
     },
     "execution_count": 71,
     "metadata": {},
     "output_type": "execute_result"
    }
   ],
   "source": [
    "rec_colfil('b80344d063b5ccb3212f76538f3d9e43d87dca9e', 10)"
   ]
  },
  {
   "cell_type": "code",
   "execution_count": 72,
   "metadata": {},
   "outputs": [],
   "source": [
    "end_colfil = time.time()"
   ]
  },
  {
   "cell_type": "code",
   "execution_count": 73,
   "metadata": {},
   "outputs": [
    {
     "data": {
      "text/html": [
       "<div>\n",
       "<style scoped>\n",
       "    .dataframe tbody tr th:only-of-type {\n",
       "        vertical-align: middle;\n",
       "    }\n",
       "\n",
       "    .dataframe tbody tr th {\n",
       "        vertical-align: top;\n",
       "    }\n",
       "\n",
       "    .dataframe thead th {\n",
       "        text-align: right;\n",
       "    }\n",
       "</style>\n",
       "<table border=\"1\" class=\"dataframe\">\n",
       "  <thead>\n",
       "    <tr style=\"text-align: right;\">\n",
       "      <th></th>\n",
       "      <th>rank</th>\n",
       "      <th>title</th>\n",
       "      <th>artist_name</th>\n",
       "    </tr>\n",
       "  </thead>\n",
       "  <tbody>\n",
       "    <tr>\n",
       "      <th>0</th>\n",
       "      <td>1</td>\n",
       "      <td>The Best of Times</td>\n",
       "      <td>Sage Francis</td>\n",
       "    </tr>\n",
       "    <tr>\n",
       "      <th>1</th>\n",
       "      <td>2</td>\n",
       "      <td>You Are the Moon (Album Version)</td>\n",
       "      <td>The Hush Sound</td>\n",
       "    </tr>\n",
       "    <tr>\n",
       "      <th>2</th>\n",
       "      <td>3</td>\n",
       "      <td>Music Box</td>\n",
       "      <td>The Cinematic Orchestra feat. Lou Rhodes</td>\n",
       "    </tr>\n",
       "    <tr>\n",
       "      <th>3</th>\n",
       "      <td>4</td>\n",
       "      <td>Full Clip (Explicit)</td>\n",
       "      <td>Gang Starr</td>\n",
       "    </tr>\n",
       "    <tr>\n",
       "      <th>4</th>\n",
       "      <td>5</td>\n",
       "      <td>Raid</td>\n",
       "      <td>Madvillain_ MED aka Medaphor</td>\n",
       "    </tr>\n",
       "  </tbody>\n",
       "</table>\n",
       "</div>"
      ],
      "text/plain": [
       "   rank                             title  \\\n",
       "0     1                 The Best of Times   \n",
       "1     2  You Are the Moon (Album Version)   \n",
       "2     3                         Music Box   \n",
       "3     4              Full Clip (Explicit)   \n",
       "4     5                              Raid   \n",
       "\n",
       "                                artist_name  \n",
       "0                              Sage Francis  \n",
       "1                            The Hush Sound  \n",
       "2  The Cinematic Orchestra feat. Lou Rhodes  \n",
       "3                                Gang Starr  \n",
       "4              Madvillain_ MED aka Medaphor  "
      ]
     },
     "execution_count": 73,
     "metadata": {},
     "output_type": "execute_result"
    }
   ],
   "source": [
    "rec_colfil('85c1f87fea955d09b4bec2e36aee110927aedf9a', 5)"
   ]
  },
  {
   "cell_type": "markdown",
   "metadata": {
    "id": "yi8a1UVR1iPO"
   },
   "source": [
    "## Matrix Factorization\n",
    "Matrix Factorization adalah algoritma yang digunakan untuk mengekstrak informasi dari matriks data yang terdiri dari berbagai item. Algoritma ini menggunakan matriks faktorisasi untuk menguraikan matriks data menjadi dua buah matriks yang lebih kecil dan lebih mudah diproses. Matriks faktorisasi digunakan untuk mengekstrak fitur yang relevan yang dapat digunakan untuk menghasilkan prediksi yang akurat dengan menggunakan matriks data."
   ]
  },
  {
   "cell_type": "markdown",
   "metadata": {},
   "source": [
    "### Fungsi untuk Rekomendasi"
   ]
  },
  {
   "cell_type": "code",
   "execution_count": 74,
   "metadata": {
    "id": "Vz0l5KkS0Inc"
   },
   "outputs": [],
   "source": [
    "start_matfac = time.time()\n",
    "def compute_svd(urm, K):\n",
    "    U, s, Vt = svds(urm, K)\n",
    "    dim = (len(s), len(s))\n",
    "    S = np.zeros(dim, dtype=np.float32)\n",
    "    for i in range(0, len(s)):\n",
    "        S[i, i] = mt.sqrt(s[i])\n",
    "        U = csc_matrix(U, dtype=np.float32)\n",
    "        S = csc_matrix(S, dtype=np.float32)\n",
    "        Vt = csc_matrix(Vt, dtype=np.float32)\n",
    "        return U, S, Vt"
   ]
  },
  {
   "cell_type": "code",
   "execution_count": 75,
   "metadata": {
    "id": "T6YFzldG1RRK"
   },
   "outputs": [],
   "source": [
    "def compute_estimated_matrix(urm, U, S, Vt, uTest, K, test):\n",
    "    rightTerm = S * Vt \n",
    "    max_recommendation = 250\n",
    "    estimatedRatings = np.zeros(shape=(MAX_UID, MAX_PID), dtype=np.float16)\n",
    "    recommendRatings = np.zeros(shape=(MAX_UID, max_recommendation), dtype=np.float16)\n",
    "    prod = U[uTest, :] * rightTerm\n",
    "    estimatedRatings[uTest, :] = prod.todense()\n",
    "    recommendRatings[uTest, :] = (-estimatedRatings[uTest, :]).argsort()[:max_recommendation]\n",
    "    return recommendRatings"
   ]
  },
  {
   "cell_type": "code",
   "execution_count": 76,
   "metadata": {
    "id": "13KHoNSj1SAX"
   },
   "outputs": [],
   "source": [
    "def rec_matfac(uTest, num_recomendations = 10):\n",
    "    rank_value = 1\n",
    "    i = 0\n",
    "    list_rank = [*range(1, 11, 1)]\n",
    "    df_rec_matfac = pd.DataFrame(list_rank)\n",
    "    while (rank_value < num_recomendations + 1):\n",
    "        so = uTest_recommended_items[uTest, i:i+1][0]\n",
    "        if (small_set['user_id'][(small_set['song_index_value'] == so) & (small_set['user_index_value'] == uTest)].count() == 0):\n",
    "            song_details = small_set[(small_set['song_index_value'] == so)].drop_duplicates('song_index_value')[['title', 'artist_name']]\n",
    "            df_rec_matfac.loc[i, 'title'] = list(song_details['title'])[0]\n",
    "            df_rec_matfac.loc[i, 'artist_name'] = list(song_details['artist_name'])[0]\n",
    "            rank_value += 1\n",
    "        i += 1\n",
    "    df_rec_matfac.columns = ['rank', 'title', 'artist_name']\n",
    "    return df_rec_matfac"
   ]
  },
  {
   "cell_type": "markdown",
   "metadata": {},
   "source": [
    "### Fractional Play Count"
   ]
  },
  {
   "cell_type": "code",
   "execution_count": 77,
   "metadata": {
    "colab": {
     "base_uri": "https://localhost:8080/",
     "height": 206
    },
    "id": "tEce8evK0LdL",
    "outputId": "aabe8a54-d491-462b-8775-05df12c5048c"
   },
   "outputs": [
    {
     "data": {
      "text/html": [
       "<div>\n",
       "<style scoped>\n",
       "    .dataframe tbody tr th:only-of-type {\n",
       "        vertical-align: middle;\n",
       "    }\n",
       "\n",
       "    .dataframe tbody tr th {\n",
       "        vertical-align: top;\n",
       "    }\n",
       "\n",
       "    .dataframe thead th {\n",
       "        text-align: right;\n",
       "    }\n",
       "</style>\n",
       "<table border=\"1\" class=\"dataframe\">\n",
       "  <thead>\n",
       "    <tr style=\"text-align: right;\">\n",
       "      <th></th>\n",
       "      <th>user_id</th>\n",
       "      <th>title</th>\n",
       "      <th>artist_name</th>\n",
       "      <th>listen_count</th>\n",
       "      <th>total_listen_count</th>\n",
       "      <th>fractional_play_count</th>\n",
       "    </tr>\n",
       "  </thead>\n",
       "  <tbody>\n",
       "    <tr>\n",
       "      <th>0</th>\n",
       "      <td>b80344d063b5ccb3212f76538f3d9e43d87dca9e</td>\n",
       "      <td>The Cove</td>\n",
       "      <td>Jack Johnson</td>\n",
       "      <td>1</td>\n",
       "      <td>64</td>\n",
       "      <td>0.015625</td>\n",
       "    </tr>\n",
       "    <tr>\n",
       "      <th>1</th>\n",
       "      <td>b80344d063b5ccb3212f76538f3d9e43d87dca9e</td>\n",
       "      <td>Entre Dos Aguas</td>\n",
       "      <td>Paco De Lucia</td>\n",
       "      <td>2</td>\n",
       "      <td>64</td>\n",
       "      <td>0.031250</td>\n",
       "    </tr>\n",
       "    <tr>\n",
       "      <th>2</th>\n",
       "      <td>b80344d063b5ccb3212f76538f3d9e43d87dca9e</td>\n",
       "      <td>Constellations</td>\n",
       "      <td>Jack Johnson</td>\n",
       "      <td>1</td>\n",
       "      <td>64</td>\n",
       "      <td>0.015625</td>\n",
       "    </tr>\n",
       "    <tr>\n",
       "      <th>3</th>\n",
       "      <td>b80344d063b5ccb3212f76538f3d9e43d87dca9e</td>\n",
       "      <td>Learn To Fly</td>\n",
       "      <td>Foo Fighters</td>\n",
       "      <td>1</td>\n",
       "      <td>64</td>\n",
       "      <td>0.015625</td>\n",
       "    </tr>\n",
       "    <tr>\n",
       "      <th>4</th>\n",
       "      <td>b80344d063b5ccb3212f76538f3d9e43d87dca9e</td>\n",
       "      <td>Apuesta Por El Rock 'N' Roll</td>\n",
       "      <td>Héroes del Silencio</td>\n",
       "      <td>5</td>\n",
       "      <td>64</td>\n",
       "      <td>0.078125</td>\n",
       "    </tr>\n",
       "  </tbody>\n",
       "</table>\n",
       "</div>"
      ],
      "text/plain": [
       "                                    user_id                         title  \\\n",
       "0  b80344d063b5ccb3212f76538f3d9e43d87dca9e                      The Cove   \n",
       "1  b80344d063b5ccb3212f76538f3d9e43d87dca9e               Entre Dos Aguas   \n",
       "2  b80344d063b5ccb3212f76538f3d9e43d87dca9e                Constellations   \n",
       "3  b80344d063b5ccb3212f76538f3d9e43d87dca9e                  Learn To Fly   \n",
       "4  b80344d063b5ccb3212f76538f3d9e43d87dca9e  Apuesta Por El Rock 'N' Roll   \n",
       "\n",
       "           artist_name  listen_count  total_listen_count  \\\n",
       "0         Jack Johnson             1                  64   \n",
       "1        Paco De Lucia             2                  64   \n",
       "2         Jack Johnson             1                  64   \n",
       "3         Foo Fighters             1                  64   \n",
       "4  Héroes del Silencio             5                  64   \n",
       "\n",
       "   fractional_play_count  \n",
       "0               0.015625  \n",
       "1               0.031250  \n",
       "2               0.015625  \n",
       "3               0.015625  \n",
       "4               0.078125  "
      ]
     },
     "metadata": {},
     "output_type": "display_data"
    }
   ],
   "source": [
    "df_matfac = df_merge[['user_id', 'listen_count']].groupby('user_id').sum().reset_index()\n",
    "df_matfac.rename(columns={'listen_count':'total_listen_count'}, inplace=True)\n",
    "df_matfac_merge = pd.merge(df_merge, df_matfac)\n",
    "df_matfac_merge['fractional_play_count'] = df_matfac_merge['listen_count'] / df_matfac_merge['total_listen_count']\n",
    "\n",
    "display(df_matfac_merge[df_matfac_merge['user_id'] == 'b80344d063b5ccb3212f76538f3d9e43d87dca9e'][['user_id', 'title', 'artist_name', 'listen_count',\n",
    "                                                                                                   'total_listen_count', 'fractional_play_count']].head())"
   ]
  },
  {
   "cell_type": "markdown",
   "metadata": {},
   "source": [
    "### Matrix CSR dan Konversi user_id"
   ]
  },
  {
   "cell_type": "code",
   "execution_count": 78,
   "metadata": {
    "colab": {
     "base_uri": "https://localhost:8080/",
     "height": 259
    },
    "id": "ExNLfZe40XXi",
    "outputId": "1a3130ce-08a6-4410-de57-48da1dc7d4fa"
   },
   "outputs": [
    {
     "data": {
      "text/plain": [
       "<76176x8841 sparse matrix of type '<class 'numpy.float64'>'\n",
       "\twith 1718983 stored elements in COOrdinate format>"
      ]
     },
     "metadata": {},
     "output_type": "display_data"
    },
    {
     "data": {
      "text/html": [
       "<div>\n",
       "<style scoped>\n",
       "    .dataframe tbody tr th:only-of-type {\n",
       "        vertical-align: middle;\n",
       "    }\n",
       "\n",
       "    .dataframe tbody tr th {\n",
       "        vertical-align: top;\n",
       "    }\n",
       "\n",
       "    .dataframe thead th {\n",
       "        text-align: right;\n",
       "    }\n",
       "</style>\n",
       "<table border=\"1\" class=\"dataframe\">\n",
       "  <thead>\n",
       "    <tr style=\"text-align: right;\">\n",
       "      <th></th>\n",
       "      <th>user_index</th>\n",
       "      <th>user_id</th>\n",
       "      <th>user_index_value</th>\n",
       "    </tr>\n",
       "  </thead>\n",
       "  <tbody>\n",
       "    <tr>\n",
       "      <th>0</th>\n",
       "      <td>0</td>\n",
       "      <td>b80344d063b5ccb3212f76538f3d9e43d87dca9e</td>\n",
       "      <td>0</td>\n",
       "    </tr>\n",
       "    <tr>\n",
       "      <th>1</th>\n",
       "      <td>38</td>\n",
       "      <td>85c1f87fea955d09b4bec2e36aee110927aedf9a</td>\n",
       "      <td>1</td>\n",
       "    </tr>\n",
       "    <tr>\n",
       "      <th>2</th>\n",
       "      <td>39</td>\n",
       "      <td>bd4c6e843f00bd476847fb75c47b4fb430a06856</td>\n",
       "      <td>2</td>\n",
       "    </tr>\n",
       "    <tr>\n",
       "      <th>3</th>\n",
       "      <td>46</td>\n",
       "      <td>8937134734f869debcab8f23d77465b4caaa85df</td>\n",
       "      <td>3</td>\n",
       "    </tr>\n",
       "    <tr>\n",
       "      <th>4</th>\n",
       "      <td>48</td>\n",
       "      <td>969cc6fb74e076a68e36a04409cb9d3765757508</td>\n",
       "      <td>4</td>\n",
       "    </tr>\n",
       "  </tbody>\n",
       "</table>\n",
       "</div>"
      ],
      "text/plain": [
       "   user_index                                   user_id  user_index_value\n",
       "0           0  b80344d063b5ccb3212f76538f3d9e43d87dca9e                 0\n",
       "1          38  85c1f87fea955d09b4bec2e36aee110927aedf9a                 1\n",
       "2          39  bd4c6e843f00bd476847fb75c47b4fb430a06856                 2\n",
       "3          46  8937134734f869debcab8f23d77465b4caaa85df                 3\n",
       "4          48  969cc6fb74e076a68e36a04409cb9d3765757508                 4"
      ]
     },
     "execution_count": 78,
     "metadata": {},
     "output_type": "execute_result"
    }
   ],
   "source": [
    "user_codes = df_matfac_merge['user_id'].drop_duplicates().reset_index()\n",
    "user_codes.rename(columns={'index':'user_index'}, inplace=True)\n",
    "user_codes['user_index_value'] = list(user_codes.index)\n",
    "\n",
    "song_codes = df_matfac_merge['song_id'].drop_duplicates().reset_index()\n",
    "song_codes.rename(columns={'index':'song_index'}, inplace=True)\n",
    "song_codes['song_index_value'] = list(song_codes.index)\n",
    "\n",
    "small_set = pd.merge(df_matfac_merge, song_codes, how='left')\n",
    "small_set = pd.merge(small_set, user_codes, how='left')\n",
    "mat_candidate = small_set[['user_index_value', 'song_index_value', 'fractional_play_count']]\n",
    "\n",
    "data_array = mat_candidate['fractional_play_count'].values\n",
    "row_array = mat_candidate['user_index_value'].values\n",
    "col_array = mat_candidate['song_index_value'].values\n",
    "\n",
    "data_sparse = coo_matrix((data_array, (row_array, col_array)), dtype=float)\n",
    "\n",
    "display(data_sparse)\n",
    "user_codes.head()"
   ]
  },
  {
   "cell_type": "markdown",
   "metadata": {},
   "source": [
    "### Menghitung SVD"
   ]
  },
  {
   "cell_type": "code",
   "execution_count": 79,
   "metadata": {
    "id": "_bJH-aRWAp6G"
   },
   "outputs": [],
   "source": [
    "K = 50\n",
    "urm = data_sparse\n",
    "MAX_PID = urm.shape[1]\n",
    "MAX_UID = urm.shape[0]\n",
    "U, S, Vt = compute_svd(urm, K)"
   ]
  },
  {
   "cell_type": "markdown",
   "metadata": {},
   "source": [
    "### Hasil Rekomendasi"
   ]
  },
  {
   "cell_type": "code",
   "execution_count": 80,
   "metadata": {
    "colab": {
     "base_uri": "https://localhost:8080/",
     "height": 380
    },
    "id": "4mi2ta6YGUCc",
    "outputId": "b7baf170-55de-4b3f-cbbc-caa44ba447f5"
   },
   "outputs": [
    {
     "data": {
      "text/html": [
       "<div>\n",
       "<style scoped>\n",
       "    .dataframe tbody tr th:only-of-type {\n",
       "        vertical-align: middle;\n",
       "    }\n",
       "\n",
       "    .dataframe tbody tr th {\n",
       "        vertical-align: top;\n",
       "    }\n",
       "\n",
       "    .dataframe thead th {\n",
       "        text-align: right;\n",
       "    }\n",
       "</style>\n",
       "<table border=\"1\" class=\"dataframe\">\n",
       "  <thead>\n",
       "    <tr style=\"text-align: right;\">\n",
       "      <th></th>\n",
       "      <th>rank</th>\n",
       "      <th>title</th>\n",
       "      <th>artist_name</th>\n",
       "    </tr>\n",
       "  </thead>\n",
       "  <tbody>\n",
       "    <tr>\n",
       "      <th>0</th>\n",
       "      <td>1</td>\n",
       "      <td>Just Dance</td>\n",
       "      <td>Lady GaGa / Colby O'Donis</td>\n",
       "    </tr>\n",
       "    <tr>\n",
       "      <th>1</th>\n",
       "      <td>2</td>\n",
       "      <td>The Maestro</td>\n",
       "      <td>Beastie Boys</td>\n",
       "    </tr>\n",
       "    <tr>\n",
       "      <th>2</th>\n",
       "      <td>3</td>\n",
       "      <td>Use Somebody</td>\n",
       "      <td>Kings Of Leon</td>\n",
       "    </tr>\n",
       "    <tr>\n",
       "      <th>3</th>\n",
       "      <td>4</td>\n",
       "      <td>Sugar Ray (LP Version)</td>\n",
       "      <td>Todd Barry</td>\n",
       "    </tr>\n",
       "    <tr>\n",
       "      <th>4</th>\n",
       "      <td>5</td>\n",
       "      <td>Bulletproof</td>\n",
       "      <td>La Roux</td>\n",
       "    </tr>\n",
       "    <tr>\n",
       "      <th>5</th>\n",
       "      <td>6</td>\n",
       "      <td>Better To Reign In Hell</td>\n",
       "      <td>Cradle Of Filth</td>\n",
       "    </tr>\n",
       "    <tr>\n",
       "      <th>6</th>\n",
       "      <td>7</td>\n",
       "      <td>It Was A Good Day</td>\n",
       "      <td>Ice Cube</td>\n",
       "    </tr>\n",
       "    <tr>\n",
       "      <th>7</th>\n",
       "      <td>8</td>\n",
       "      <td>Musti Sotakoira (2007 Digital Remaster)</td>\n",
       "      <td>Kollaa Kestää</td>\n",
       "    </tr>\n",
       "    <tr>\n",
       "      <th>8</th>\n",
       "      <td>9</td>\n",
       "      <td>Sexy Bitch</td>\n",
       "      <td>DJ Dizzy</td>\n",
       "    </tr>\n",
       "    <tr>\n",
       "      <th>9</th>\n",
       "      <td>10</td>\n",
       "      <td>Sample Track 2</td>\n",
       "      <td>Simon Harris</td>\n",
       "    </tr>\n",
       "  </tbody>\n",
       "</table>\n",
       "</div>"
      ],
      "text/plain": [
       "   rank                                    title                artist_name\n",
       "0     1                               Just Dance  Lady GaGa / Colby O'Donis\n",
       "1     2                              The Maestro               Beastie Boys\n",
       "2     3                             Use Somebody              Kings Of Leon\n",
       "3     4                   Sugar Ray (LP Version)                 Todd Barry\n",
       "4     5                              Bulletproof                    La Roux\n",
       "5     6                  Better To Reign In Hell            Cradle Of Filth\n",
       "6     7                        It Was A Good Day                   Ice Cube\n",
       "7     8  Musti Sotakoira (2007 Digital Remaster)              Kollaa Kestää\n",
       "8     9                               Sexy Bitch                   DJ Dizzy\n",
       "9    10                           Sample Track 2               Simon Harris"
      ]
     },
     "execution_count": 80,
     "metadata": {},
     "output_type": "execute_result"
    }
   ],
   "source": [
    "uTest = 0\n",
    "uTest_recommended_items = compute_estimated_matrix(urm, U, S, Vt, uTest, K, True)\n",
    "rec_matfac(uTest)"
   ]
  },
  {
   "cell_type": "code",
   "execution_count": 81,
   "metadata": {},
   "outputs": [],
   "source": [
    "end_matfac = time.time()"
   ]
  },
  {
   "cell_type": "code",
   "execution_count": 82,
   "metadata": {
    "colab": {
     "base_uri": "https://localhost:8080/",
     "height": 380
    },
    "id": "QyDtKwqqGUwA",
    "outputId": "80342dc9-92c9-4fc5-bee7-c0ec1028dccc"
   },
   "outputs": [
    {
     "data": {
      "text/html": [
       "<div>\n",
       "<style scoped>\n",
       "    .dataframe tbody tr th:only-of-type {\n",
       "        vertical-align: middle;\n",
       "    }\n",
       "\n",
       "    .dataframe tbody tr th {\n",
       "        vertical-align: top;\n",
       "    }\n",
       "\n",
       "    .dataframe thead th {\n",
       "        text-align: right;\n",
       "    }\n",
       "</style>\n",
       "<table border=\"1\" class=\"dataframe\">\n",
       "  <thead>\n",
       "    <tr style=\"text-align: right;\">\n",
       "      <th></th>\n",
       "      <th>rank</th>\n",
       "      <th>title</th>\n",
       "      <th>artist_name</th>\n",
       "    </tr>\n",
       "  </thead>\n",
       "  <tbody>\n",
       "    <tr>\n",
       "      <th>0</th>\n",
       "      <td>1</td>\n",
       "      <td>Obsesion</td>\n",
       "      <td>Aventura</td>\n",
       "    </tr>\n",
       "    <tr>\n",
       "      <th>1</th>\n",
       "      <td>2</td>\n",
       "      <td>Interactive Halloween Bear</td>\n",
       "      <td>Restiform Bodies</td>\n",
       "    </tr>\n",
       "    <tr>\n",
       "      <th>2</th>\n",
       "      <td>3</td>\n",
       "      <td>Alejandro</td>\n",
       "      <td>Lady GaGa</td>\n",
       "    </tr>\n",
       "    <tr>\n",
       "      <th>3</th>\n",
       "      <td>4</td>\n",
       "      <td>Reign Of The Tyrants</td>\n",
       "      <td>Jag Panzer</td>\n",
       "    </tr>\n",
       "    <tr>\n",
       "      <th>4</th>\n",
       "      <td>5</td>\n",
       "      <td>You Don't Know Me (Album Version)</td>\n",
       "      <td>Michael Bublé</td>\n",
       "    </tr>\n",
       "    <tr>\n",
       "      <th>5</th>\n",
       "      <td>6</td>\n",
       "      <td>Day 'N' Nite</td>\n",
       "      <td>Kid Cudi Vs Crookers</td>\n",
       "    </tr>\n",
       "    <tr>\n",
       "      <th>6</th>\n",
       "      <td>7</td>\n",
       "      <td>I CAN'T GET STARTED</td>\n",
       "      <td>Ron Carter</td>\n",
       "    </tr>\n",
       "    <tr>\n",
       "      <th>7</th>\n",
       "      <td>8</td>\n",
       "      <td>Nah!</td>\n",
       "      <td>Shania Twain</td>\n",
       "    </tr>\n",
       "    <tr>\n",
       "      <th>8</th>\n",
       "      <td>9</td>\n",
       "      <td>Pursuit Of Happiness (nightmare)</td>\n",
       "      <td>Kid Cudi / MGMT / Ratatat</td>\n",
       "    </tr>\n",
       "    <tr>\n",
       "      <th>9</th>\n",
       "      <td>10</td>\n",
       "      <td>Teach Me How To Dougie</td>\n",
       "      <td>California Swag District</td>\n",
       "    </tr>\n",
       "  </tbody>\n",
       "</table>\n",
       "</div>"
      ],
      "text/plain": [
       "   rank                              title                artist_name\n",
       "0     1                           Obsesion                   Aventura\n",
       "1     2         Interactive Halloween Bear           Restiform Bodies\n",
       "2     3                          Alejandro                  Lady GaGa\n",
       "3     4               Reign Of The Tyrants                 Jag Panzer\n",
       "4     5  You Don't Know Me (Album Version)              Michael Bublé\n",
       "5     6                       Day 'N' Nite       Kid Cudi Vs Crookers\n",
       "6     7                I CAN'T GET STARTED                 Ron Carter\n",
       "7     8                               Nah!               Shania Twain\n",
       "8     9   Pursuit Of Happiness (nightmare)  Kid Cudi / MGMT / Ratatat\n",
       "9    10             Teach Me How To Dougie   California Swag District"
      ]
     },
     "execution_count": 82,
     "metadata": {},
     "output_type": "execute_result"
    }
   ],
   "source": [
    "uTest = 1\n",
    "uTest_recommended_items = compute_estimated_matrix(urm, U, S, Vt, uTest, K, True)\n",
    "rec_matfac(uTest)"
   ]
  },
  {
   "cell_type": "markdown",
   "metadata": {
    "id": "mSxFS0IP4yQu"
   },
   "source": [
    "## Hybrid Approaches\n",
    "\n",
    "Hybrid Approaches adalah algoritma yang menggabungkan teknik pembelajaran mesin dan teknik pembelajaran bertingkat untuk menangani masalah rekomendasi. Algoritma ini menggunakan kedua pendekatan untuk membuat rekomendasi yang akurat, dengan mempertimbangkan faktor-faktor seperti item, pengguna, dan data konteks. "
   ]
  },
  {
   "cell_type": "markdown",
   "metadata": {},
   "source": [
    "### Item Dictionary. One Hot Encoding Item, dan Matrix CSR"
   ]
  },
  {
   "cell_type": "code",
   "execution_count": 83,
   "metadata": {},
   "outputs": [
    {
     "data": {
      "text/plain": [
       "<8841x7849 sparse matrix of type '<class 'numpy.intc'>'\n",
       "\twith 17682 stored elements in Compressed Sparse Row format>"
      ]
     },
     "metadata": {},
     "output_type": "display_data"
    },
    {
     "data": {
      "text/html": [
       "<div>\n",
       "<style scoped>\n",
       "    .dataframe tbody tr th:only-of-type {\n",
       "        vertical-align: middle;\n",
       "    }\n",
       "\n",
       "    .dataframe tbody tr th {\n",
       "        vertical-align: top;\n",
       "    }\n",
       "\n",
       "    .dataframe thead th {\n",
       "        text-align: right;\n",
       "    }\n",
       "</style>\n",
       "<table border=\"1\" class=\"dataframe\">\n",
       "  <thead>\n",
       "    <tr style=\"text-align: right;\">\n",
       "      <th></th>\n",
       "      <th>song_id</th>\n",
       "      <th>title</th>\n",
       "      <th>release_#1</th>\n",
       "      <th>release_#1's</th>\n",
       "      <th>release_#1s ... and then some</th>\n",
       "      <th>release_'70s Pop #1's</th>\n",
       "      <th>release_'80s Soul #1's</th>\n",
       "      <th>release_'90s Soul Number 1's</th>\n",
       "      <th>release_'Round Midnight - Original Motion Picture Soundtrack</th>\n",
       "      <th>release_(A)fternoon</th>\n",
       "      <th>...</th>\n",
       "      <th>artist_name_dEUS</th>\n",
       "      <th>artist_name_harvey summers</th>\n",
       "      <th>artist_name_iio</th>\n",
       "      <th>artist_name_keller williams</th>\n",
       "      <th>artist_name_matchbox twenty</th>\n",
       "      <th>artist_name_moe.</th>\n",
       "      <th>artist_name_rinôçérôse</th>\n",
       "      <th>artist_name_the bird and the bee</th>\n",
       "      <th>artist_name_themselves</th>\n",
       "      <th>artist_name_tobyMac</th>\n",
       "    </tr>\n",
       "  </thead>\n",
       "  <tbody>\n",
       "    <tr>\n",
       "      <th>0</th>\n",
       "      <td>SOAAAGQ12A8C1420C8</td>\n",
       "      <td>Orgelblut</td>\n",
       "      <td>0</td>\n",
       "      <td>0</td>\n",
       "      <td>0</td>\n",
       "      <td>0</td>\n",
       "      <td>0</td>\n",
       "      <td>0</td>\n",
       "      <td>0</td>\n",
       "      <td>0</td>\n",
       "      <td>...</td>\n",
       "      <td>0</td>\n",
       "      <td>0</td>\n",
       "      <td>0</td>\n",
       "      <td>0</td>\n",
       "      <td>0</td>\n",
       "      <td>0</td>\n",
       "      <td>0</td>\n",
       "      <td>0</td>\n",
       "      <td>0</td>\n",
       "      <td>0</td>\n",
       "    </tr>\n",
       "    <tr>\n",
       "      <th>1</th>\n",
       "      <td>SOAACPJ12A81C21360</td>\n",
       "      <td>Cearc Agus Coileach / The Hen And Cock</td>\n",
       "      <td>0</td>\n",
       "      <td>0</td>\n",
       "      <td>0</td>\n",
       "      <td>0</td>\n",
       "      <td>0</td>\n",
       "      <td>0</td>\n",
       "      <td>0</td>\n",
       "      <td>0</td>\n",
       "      <td>...</td>\n",
       "      <td>0</td>\n",
       "      <td>0</td>\n",
       "      <td>0</td>\n",
       "      <td>0</td>\n",
       "      <td>0</td>\n",
       "      <td>0</td>\n",
       "      <td>0</td>\n",
       "      <td>0</td>\n",
       "      <td>0</td>\n",
       "      <td>0</td>\n",
       "    </tr>\n",
       "    <tr>\n",
       "      <th>2</th>\n",
       "      <td>SOAACSG12AB018DC80</td>\n",
       "      <td>I Gotta Feeling (Edit)</td>\n",
       "      <td>0</td>\n",
       "      <td>0</td>\n",
       "      <td>0</td>\n",
       "      <td>0</td>\n",
       "      <td>0</td>\n",
       "      <td>0</td>\n",
       "      <td>0</td>\n",
       "      <td>0</td>\n",
       "      <td>...</td>\n",
       "      <td>0</td>\n",
       "      <td>0</td>\n",
       "      <td>0</td>\n",
       "      <td>0</td>\n",
       "      <td>0</td>\n",
       "      <td>0</td>\n",
       "      <td>0</td>\n",
       "      <td>0</td>\n",
       "      <td>0</td>\n",
       "      <td>0</td>\n",
       "    </tr>\n",
       "    <tr>\n",
       "      <th>3</th>\n",
       "      <td>SOAAEJI12AB0188AB5</td>\n",
       "      <td>Godlovesugly</td>\n",
       "      <td>0</td>\n",
       "      <td>0</td>\n",
       "      <td>0</td>\n",
       "      <td>0</td>\n",
       "      <td>0</td>\n",
       "      <td>0</td>\n",
       "      <td>0</td>\n",
       "      <td>0</td>\n",
       "      <td>...</td>\n",
       "      <td>0</td>\n",
       "      <td>0</td>\n",
       "      <td>0</td>\n",
       "      <td>0</td>\n",
       "      <td>0</td>\n",
       "      <td>0</td>\n",
       "      <td>0</td>\n",
       "      <td>0</td>\n",
       "      <td>0</td>\n",
       "      <td>0</td>\n",
       "    </tr>\n",
       "    <tr>\n",
       "      <th>4</th>\n",
       "      <td>SOAAFAC12A67ADF7EB</td>\n",
       "      <td>Rome Wasn't Built In A Day</td>\n",
       "      <td>0</td>\n",
       "      <td>0</td>\n",
       "      <td>0</td>\n",
       "      <td>0</td>\n",
       "      <td>0</td>\n",
       "      <td>0</td>\n",
       "      <td>0</td>\n",
       "      <td>0</td>\n",
       "      <td>...</td>\n",
       "      <td>0</td>\n",
       "      <td>0</td>\n",
       "      <td>0</td>\n",
       "      <td>0</td>\n",
       "      <td>0</td>\n",
       "      <td>0</td>\n",
       "      <td>0</td>\n",
       "      <td>0</td>\n",
       "      <td>0</td>\n",
       "      <td>0</td>\n",
       "    </tr>\n",
       "    <tr>\n",
       "      <th>...</th>\n",
       "      <td>...</td>\n",
       "      <td>...</td>\n",
       "      <td>...</td>\n",
       "      <td>...</td>\n",
       "      <td>...</td>\n",
       "      <td>...</td>\n",
       "      <td>...</td>\n",
       "      <td>...</td>\n",
       "      <td>...</td>\n",
       "      <td>...</td>\n",
       "      <td>...</td>\n",
       "      <td>...</td>\n",
       "      <td>...</td>\n",
       "      <td>...</td>\n",
       "      <td>...</td>\n",
       "      <td>...</td>\n",
       "      <td>...</td>\n",
       "      <td>...</td>\n",
       "      <td>...</td>\n",
       "      <td>...</td>\n",
       "      <td>...</td>\n",
       "    </tr>\n",
       "    <tr>\n",
       "      <th>8836</th>\n",
       "      <td>SOZZTCU12AB0182C58</td>\n",
       "      <td>Throw Some D's Remix</td>\n",
       "      <td>0</td>\n",
       "      <td>0</td>\n",
       "      <td>0</td>\n",
       "      <td>0</td>\n",
       "      <td>0</td>\n",
       "      <td>0</td>\n",
       "      <td>0</td>\n",
       "      <td>0</td>\n",
       "      <td>...</td>\n",
       "      <td>0</td>\n",
       "      <td>0</td>\n",
       "      <td>0</td>\n",
       "      <td>0</td>\n",
       "      <td>0</td>\n",
       "      <td>0</td>\n",
       "      <td>0</td>\n",
       "      <td>0</td>\n",
       "      <td>0</td>\n",
       "      <td>0</td>\n",
       "    </tr>\n",
       "    <tr>\n",
       "      <th>8837</th>\n",
       "      <td>SOZZTNF12A8C139916</td>\n",
       "      <td>Le Million</td>\n",
       "      <td>0</td>\n",
       "      <td>0</td>\n",
       "      <td>0</td>\n",
       "      <td>0</td>\n",
       "      <td>0</td>\n",
       "      <td>0</td>\n",
       "      <td>0</td>\n",
       "      <td>0</td>\n",
       "      <td>...</td>\n",
       "      <td>0</td>\n",
       "      <td>0</td>\n",
       "      <td>0</td>\n",
       "      <td>0</td>\n",
       "      <td>0</td>\n",
       "      <td>0</td>\n",
       "      <td>0</td>\n",
       "      <td>0</td>\n",
       "      <td>0</td>\n",
       "      <td>0</td>\n",
       "    </tr>\n",
       "    <tr>\n",
       "      <th>8838</th>\n",
       "      <td>SOZZVWB12AB0189C30</td>\n",
       "      <td>Recovered</td>\n",
       "      <td>0</td>\n",
       "      <td>0</td>\n",
       "      <td>0</td>\n",
       "      <td>0</td>\n",
       "      <td>0</td>\n",
       "      <td>0</td>\n",
       "      <td>0</td>\n",
       "      <td>0</td>\n",
       "      <td>...</td>\n",
       "      <td>0</td>\n",
       "      <td>0</td>\n",
       "      <td>0</td>\n",
       "      <td>0</td>\n",
       "      <td>0</td>\n",
       "      <td>0</td>\n",
       "      <td>0</td>\n",
       "      <td>0</td>\n",
       "      <td>0</td>\n",
       "      <td>0</td>\n",
       "    </tr>\n",
       "    <tr>\n",
       "      <th>8839</th>\n",
       "      <td>SOZZYAO12A6701FF36</td>\n",
       "      <td>Sunset (Bird Of Prey)</td>\n",
       "      <td>0</td>\n",
       "      <td>0</td>\n",
       "      <td>0</td>\n",
       "      <td>0</td>\n",
       "      <td>0</td>\n",
       "      <td>0</td>\n",
       "      <td>0</td>\n",
       "      <td>0</td>\n",
       "      <td>...</td>\n",
       "      <td>0</td>\n",
       "      <td>0</td>\n",
       "      <td>0</td>\n",
       "      <td>0</td>\n",
       "      <td>0</td>\n",
       "      <td>0</td>\n",
       "      <td>0</td>\n",
       "      <td>0</td>\n",
       "      <td>0</td>\n",
       "      <td>0</td>\n",
       "    </tr>\n",
       "    <tr>\n",
       "      <th>8840</th>\n",
       "      <td>SOZZZPV12A8C1444B5</td>\n",
       "      <td>Fall Back</td>\n",
       "      <td>0</td>\n",
       "      <td>0</td>\n",
       "      <td>0</td>\n",
       "      <td>0</td>\n",
       "      <td>0</td>\n",
       "      <td>0</td>\n",
       "      <td>0</td>\n",
       "      <td>0</td>\n",
       "      <td>...</td>\n",
       "      <td>0</td>\n",
       "      <td>0</td>\n",
       "      <td>0</td>\n",
       "      <td>0</td>\n",
       "      <td>0</td>\n",
       "      <td>0</td>\n",
       "      <td>0</td>\n",
       "      <td>0</td>\n",
       "      <td>0</td>\n",
       "      <td>0</td>\n",
       "    </tr>\n",
       "  </tbody>\n",
       "</table>\n",
       "<p>8841 rows × 7851 columns</p>\n",
       "</div>"
      ],
      "text/plain": [
       "                 song_id                                   title  release_#1  \\\n",
       "0     SOAAAGQ12A8C1420C8                               Orgelblut           0   \n",
       "1     SOAACPJ12A81C21360  Cearc Agus Coileach / The Hen And Cock           0   \n",
       "2     SOAACSG12AB018DC80                  I Gotta Feeling (Edit)           0   \n",
       "3     SOAAEJI12AB0188AB5                            Godlovesugly           0   \n",
       "4     SOAAFAC12A67ADF7EB              Rome Wasn't Built In A Day           0   \n",
       "...                  ...                                     ...         ...   \n",
       "8836  SOZZTCU12AB0182C58                    Throw Some D's Remix           0   \n",
       "8837  SOZZTNF12A8C139916                              Le Million           0   \n",
       "8838  SOZZVWB12AB0189C30                               Recovered           0   \n",
       "8839  SOZZYAO12A6701FF36                   Sunset (Bird Of Prey)           0   \n",
       "8840  SOZZZPV12A8C1444B5                               Fall Back           0   \n",
       "\n",
       "      release_#1's  release_#1s ... and then some  release_'70s Pop #1's  \\\n",
       "0                0                              0                      0   \n",
       "1                0                              0                      0   \n",
       "2                0                              0                      0   \n",
       "3                0                              0                      0   \n",
       "4                0                              0                      0   \n",
       "...            ...                            ...                    ...   \n",
       "8836             0                              0                      0   \n",
       "8837             0                              0                      0   \n",
       "8838             0                              0                      0   \n",
       "8839             0                              0                      0   \n",
       "8840             0                              0                      0   \n",
       "\n",
       "      release_'80s Soul #1's  release_'90s Soul Number 1's  \\\n",
       "0                          0                             0   \n",
       "1                          0                             0   \n",
       "2                          0                             0   \n",
       "3                          0                             0   \n",
       "4                          0                             0   \n",
       "...                      ...                           ...   \n",
       "8836                       0                             0   \n",
       "8837                       0                             0   \n",
       "8838                       0                             0   \n",
       "8839                       0                             0   \n",
       "8840                       0                             0   \n",
       "\n",
       "      release_'Round Midnight - Original Motion Picture Soundtrack  \\\n",
       "0                                                     0              \n",
       "1                                                     0              \n",
       "2                                                     0              \n",
       "3                                                     0              \n",
       "4                                                     0              \n",
       "...                                                 ...              \n",
       "8836                                                  0              \n",
       "8837                                                  0              \n",
       "8838                                                  0              \n",
       "8839                                                  0              \n",
       "8840                                                  0              \n",
       "\n",
       "      release_(A)fternoon  ...  artist_name_dEUS  artist_name_harvey summers  \\\n",
       "0                       0  ...                 0                           0   \n",
       "1                       0  ...                 0                           0   \n",
       "2                       0  ...                 0                           0   \n",
       "3                       0  ...                 0                           0   \n",
       "4                       0  ...                 0                           0   \n",
       "...                   ...  ...               ...                         ...   \n",
       "8836                    0  ...                 0                           0   \n",
       "8837                    0  ...                 0                           0   \n",
       "8838                    0  ...                 0                           0   \n",
       "8839                    0  ...                 0                           0   \n",
       "8840                    0  ...                 0                           0   \n",
       "\n",
       "      artist_name_iio  artist_name_keller williams  \\\n",
       "0                   0                            0   \n",
       "1                   0                            0   \n",
       "2                   0                            0   \n",
       "3                   0                            0   \n",
       "4                   0                            0   \n",
       "...               ...                          ...   \n",
       "8836                0                            0   \n",
       "8837                0                            0   \n",
       "8838                0                            0   \n",
       "8839                0                            0   \n",
       "8840                0                            0   \n",
       "\n",
       "      artist_name_matchbox twenty  artist_name_moe.  artist_name_rinôçérôse  \\\n",
       "0                               0                 0                       0   \n",
       "1                               0                 0                       0   \n",
       "2                               0                 0                       0   \n",
       "3                               0                 0                       0   \n",
       "4                               0                 0                       0   \n",
       "...                           ...               ...                     ...   \n",
       "8836                            0                 0                       0   \n",
       "8837                            0                 0                       0   \n",
       "8838                            0                 0                       0   \n",
       "8839                            0                 0                       0   \n",
       "8840                            0                 0                       0   \n",
       "\n",
       "      artist_name_the bird and the bee  artist_name_themselves  \\\n",
       "0                                    0                       0   \n",
       "1                                    0                       0   \n",
       "2                                    0                       0   \n",
       "3                                    0                       0   \n",
       "4                                    0                       0   \n",
       "...                                ...                     ...   \n",
       "8836                                 0                       0   \n",
       "8837                                 0                       0   \n",
       "8838                                 0                       0   \n",
       "8839                                 0                       0   \n",
       "8840                                 0                       0   \n",
       "\n",
       "      artist_name_tobyMac  \n",
       "0                       0  \n",
       "1                       0  \n",
       "2                       0  \n",
       "3                       0  \n",
       "4                       0  \n",
       "...                   ...  \n",
       "8836                    0  \n",
       "8837                    0  \n",
       "8838                    0  \n",
       "8839                    0  \n",
       "8840                    0  \n",
       "\n",
       "[8841 rows x 7851 columns]"
      ]
     },
     "metadata": {},
     "output_type": "display_data"
    }
   ],
   "source": [
    "start_hybrid = time.time()\n",
    "item_dict ={}\n",
    "df_songs_hybrid = df_merge[['song_id', 'title', 'artist_name']].drop_duplicates().sort_values('song_id').reset_index()\n",
    "for i in range(df_songs_hybrid.shape[0]):\n",
    "    item_dict[(df_songs_hybrid.loc[i, 'song_id'])] = [df_songs_hybrid.loc[i, 'title'], df_songs_hybrid.loc[i, 'artist_name']]\n",
    "\n",
    "df_songs_hybrid_selected = df_merge[['song_id', 'title', 'release', 'artist_name']].drop_duplicates()\n",
    "df_songs_hybrid_selected = pd.get_dummies(df_songs_hybrid_selected, columns = ['release', 'artist_name'], sparse=True)\n",
    "df_songs_hybrid_selected = df_songs_hybrid_selected.sort_values('song_id').reset_index().drop('index', axis=1)\n",
    "\n",
    "df_songs_hybrid_sparse = csr_matrix(df_songs_hybrid_selected.drop(['song_id', 'title'], axis=1).values)\n",
    "display(df_songs_hybrid_sparse)\n",
    "display(df_songs_hybrid_selected)"
   ]
  },
  {
   "cell_type": "markdown",
   "metadata": {},
   "source": [
    "### Pivot Table User dan Matrix CSR"
   ]
  },
  {
   "cell_type": "code",
   "execution_count": 84,
   "metadata": {
    "scrolled": true
   },
   "outputs": [
    {
     "data": {
      "text/plain": [
       "<76176x8841 sparse matrix of type '<class 'numpy.float64'>'\n",
       "\twith 1718983 stored elements in Compressed Sparse Row format>"
      ]
     },
     "metadata": {},
     "output_type": "display_data"
    },
    {
     "data": {
      "text/html": [
       "<div>\n",
       "<style scoped>\n",
       "    .dataframe tbody tr th:only-of-type {\n",
       "        vertical-align: middle;\n",
       "    }\n",
       "\n",
       "    .dataframe tbody tr th {\n",
       "        vertical-align: top;\n",
       "    }\n",
       "\n",
       "    .dataframe thead th {\n",
       "        text-align: right;\n",
       "    }\n",
       "</style>\n",
       "<table border=\"1\" class=\"dataframe\">\n",
       "  <thead>\n",
       "    <tr style=\"text-align: right;\">\n",
       "      <th>song_id</th>\n",
       "      <th>SOAAAGQ12A8C1420C8</th>\n",
       "      <th>SOAACPJ12A81C21360</th>\n",
       "      <th>SOAACSG12AB018DC80</th>\n",
       "      <th>SOAAEJI12AB0188AB5</th>\n",
       "      <th>SOAAFAC12A67ADF7EB</th>\n",
       "      <th>SOAAFYH12A8C13717A</th>\n",
       "      <th>SOAAJMQ12A6D4F7D17</th>\n",
       "      <th>SOAAKPM12A58A77210</th>\n",
       "      <th>SOAALWN12A6D4F7FDA</th>\n",
       "      <th>SOAAMOW12AB018149B</th>\n",
       "      <th>...</th>\n",
       "      <th>SOZZIOH12A67ADE300</th>\n",
       "      <th>SOZZKPR12A6D4F8147</th>\n",
       "      <th>SOZZLTY12A67AE0AD0</th>\n",
       "      <th>SOZZLZN12A8AE48D6D</th>\n",
       "      <th>SOZZRHE12A6702165F</th>\n",
       "      <th>SOZZTCU12AB0182C58</th>\n",
       "      <th>SOZZTNF12A8C139916</th>\n",
       "      <th>SOZZVWB12AB0189C30</th>\n",
       "      <th>SOZZYAO12A6701FF36</th>\n",
       "      <th>SOZZZPV12A8C1444B5</th>\n",
       "    </tr>\n",
       "    <tr>\n",
       "      <th>user_id</th>\n",
       "      <th></th>\n",
       "      <th></th>\n",
       "      <th></th>\n",
       "      <th></th>\n",
       "      <th></th>\n",
       "      <th></th>\n",
       "      <th></th>\n",
       "      <th></th>\n",
       "      <th></th>\n",
       "      <th></th>\n",
       "      <th></th>\n",
       "      <th></th>\n",
       "      <th></th>\n",
       "      <th></th>\n",
       "      <th></th>\n",
       "      <th></th>\n",
       "      <th></th>\n",
       "      <th></th>\n",
       "      <th></th>\n",
       "      <th></th>\n",
       "      <th></th>\n",
       "    </tr>\n",
       "  </thead>\n",
       "  <tbody>\n",
       "    <tr>\n",
       "      <th>00003a4459f33b92906be11abe0e93efc423c0ff</th>\n",
       "      <td>0.0</td>\n",
       "      <td>0.0</td>\n",
       "      <td>0.0</td>\n",
       "      <td>0.0</td>\n",
       "      <td>0.0</td>\n",
       "      <td>0.0</td>\n",
       "      <td>0.0</td>\n",
       "      <td>0.0</td>\n",
       "      <td>0.0</td>\n",
       "      <td>0.0</td>\n",
       "      <td>...</td>\n",
       "      <td>0.0</td>\n",
       "      <td>0.0</td>\n",
       "      <td>0.0</td>\n",
       "      <td>0.0</td>\n",
       "      <td>0.0</td>\n",
       "      <td>0.0</td>\n",
       "      <td>0.0</td>\n",
       "      <td>0.0</td>\n",
       "      <td>0.0</td>\n",
       "      <td>0.0</td>\n",
       "    </tr>\n",
       "    <tr>\n",
       "      <th>00005c6177188f12fb5e2e82cdbd93e8a3f35e64</th>\n",
       "      <td>0.0</td>\n",
       "      <td>0.0</td>\n",
       "      <td>0.0</td>\n",
       "      <td>0.0</td>\n",
       "      <td>0.0</td>\n",
       "      <td>0.0</td>\n",
       "      <td>0.0</td>\n",
       "      <td>0.0</td>\n",
       "      <td>0.0</td>\n",
       "      <td>0.0</td>\n",
       "      <td>...</td>\n",
       "      <td>0.0</td>\n",
       "      <td>0.0</td>\n",
       "      <td>0.0</td>\n",
       "      <td>0.0</td>\n",
       "      <td>0.0</td>\n",
       "      <td>0.0</td>\n",
       "      <td>0.0</td>\n",
       "      <td>0.0</td>\n",
       "      <td>0.0</td>\n",
       "      <td>0.0</td>\n",
       "    </tr>\n",
       "    <tr>\n",
       "      <th>00030033e3a2f904a48ec1dd53019c9969b6ef1f</th>\n",
       "      <td>0.0</td>\n",
       "      <td>0.0</td>\n",
       "      <td>0.0</td>\n",
       "      <td>0.0</td>\n",
       "      <td>0.0</td>\n",
       "      <td>0.0</td>\n",
       "      <td>0.0</td>\n",
       "      <td>0.0</td>\n",
       "      <td>0.0</td>\n",
       "      <td>0.0</td>\n",
       "      <td>...</td>\n",
       "      <td>0.0</td>\n",
       "      <td>0.0</td>\n",
       "      <td>0.0</td>\n",
       "      <td>0.0</td>\n",
       "      <td>0.0</td>\n",
       "      <td>0.0</td>\n",
       "      <td>0.0</td>\n",
       "      <td>0.0</td>\n",
       "      <td>0.0</td>\n",
       "      <td>0.0</td>\n",
       "    </tr>\n",
       "    <tr>\n",
       "      <th>0007235c769e610e3d339a17818a5708e41008d9</th>\n",
       "      <td>0.0</td>\n",
       "      <td>0.0</td>\n",
       "      <td>0.0</td>\n",
       "      <td>0.0</td>\n",
       "      <td>0.0</td>\n",
       "      <td>0.0</td>\n",
       "      <td>0.0</td>\n",
       "      <td>0.0</td>\n",
       "      <td>0.0</td>\n",
       "      <td>0.0</td>\n",
       "      <td>...</td>\n",
       "      <td>0.0</td>\n",
       "      <td>0.0</td>\n",
       "      <td>0.0</td>\n",
       "      <td>0.0</td>\n",
       "      <td>0.0</td>\n",
       "      <td>0.0</td>\n",
       "      <td>0.0</td>\n",
       "      <td>0.0</td>\n",
       "      <td>0.0</td>\n",
       "      <td>0.0</td>\n",
       "    </tr>\n",
       "    <tr>\n",
       "      <th>0007c0e74728ca9ef0fe4eb7f75732e8026a278b</th>\n",
       "      <td>0.0</td>\n",
       "      <td>0.0</td>\n",
       "      <td>0.0</td>\n",
       "      <td>0.0</td>\n",
       "      <td>0.0</td>\n",
       "      <td>0.0</td>\n",
       "      <td>0.0</td>\n",
       "      <td>0.0</td>\n",
       "      <td>0.0</td>\n",
       "      <td>0.0</td>\n",
       "      <td>...</td>\n",
       "      <td>0.0</td>\n",
       "      <td>0.0</td>\n",
       "      <td>0.0</td>\n",
       "      <td>0.0</td>\n",
       "      <td>0.0</td>\n",
       "      <td>0.0</td>\n",
       "      <td>0.0</td>\n",
       "      <td>0.0</td>\n",
       "      <td>0.0</td>\n",
       "      <td>0.0</td>\n",
       "    </tr>\n",
       "    <tr>\n",
       "      <th>...</th>\n",
       "      <td>...</td>\n",
       "      <td>...</td>\n",
       "      <td>...</td>\n",
       "      <td>...</td>\n",
       "      <td>...</td>\n",
       "      <td>...</td>\n",
       "      <td>...</td>\n",
       "      <td>...</td>\n",
       "      <td>...</td>\n",
       "      <td>...</td>\n",
       "      <td>...</td>\n",
       "      <td>...</td>\n",
       "      <td>...</td>\n",
       "      <td>...</td>\n",
       "      <td>...</td>\n",
       "      <td>...</td>\n",
       "      <td>...</td>\n",
       "      <td>...</td>\n",
       "      <td>...</td>\n",
       "      <td>...</td>\n",
       "      <td>...</td>\n",
       "    </tr>\n",
       "    <tr>\n",
       "      <th>fffce9c1537fbc350ea68823d956eaa8f5236dbe</th>\n",
       "      <td>0.0</td>\n",
       "      <td>0.0</td>\n",
       "      <td>0.0</td>\n",
       "      <td>0.0</td>\n",
       "      <td>0.0</td>\n",
       "      <td>0.0</td>\n",
       "      <td>0.0</td>\n",
       "      <td>0.0</td>\n",
       "      <td>0.0</td>\n",
       "      <td>0.0</td>\n",
       "      <td>...</td>\n",
       "      <td>0.0</td>\n",
       "      <td>0.0</td>\n",
       "      <td>0.0</td>\n",
       "      <td>0.0</td>\n",
       "      <td>0.0</td>\n",
       "      <td>0.0</td>\n",
       "      <td>0.0</td>\n",
       "      <td>0.0</td>\n",
       "      <td>0.0</td>\n",
       "      <td>0.0</td>\n",
       "    </tr>\n",
       "    <tr>\n",
       "      <th>fffd6a2bdef646ce9898b628d5dd56c43df69a9d</th>\n",
       "      <td>0.0</td>\n",
       "      <td>0.0</td>\n",
       "      <td>0.0</td>\n",
       "      <td>0.0</td>\n",
       "      <td>0.0</td>\n",
       "      <td>0.0</td>\n",
       "      <td>0.0</td>\n",
       "      <td>0.0</td>\n",
       "      <td>0.0</td>\n",
       "      <td>0.0</td>\n",
       "      <td>...</td>\n",
       "      <td>0.0</td>\n",
       "      <td>0.0</td>\n",
       "      <td>0.0</td>\n",
       "      <td>0.0</td>\n",
       "      <td>0.0</td>\n",
       "      <td>0.0</td>\n",
       "      <td>0.0</td>\n",
       "      <td>0.0</td>\n",
       "      <td>0.0</td>\n",
       "      <td>0.0</td>\n",
       "    </tr>\n",
       "    <tr>\n",
       "      <th>fffd9635b33f412de8ed02e44e6564e3644cf3c6</th>\n",
       "      <td>0.0</td>\n",
       "      <td>0.0</td>\n",
       "      <td>0.0</td>\n",
       "      <td>0.0</td>\n",
       "      <td>0.0</td>\n",
       "      <td>0.0</td>\n",
       "      <td>0.0</td>\n",
       "      <td>0.0</td>\n",
       "      <td>0.0</td>\n",
       "      <td>0.0</td>\n",
       "      <td>...</td>\n",
       "      <td>0.0</td>\n",
       "      <td>0.0</td>\n",
       "      <td>0.0</td>\n",
       "      <td>0.0</td>\n",
       "      <td>0.0</td>\n",
       "      <td>0.0</td>\n",
       "      <td>0.0</td>\n",
       "      <td>0.0</td>\n",
       "      <td>0.0</td>\n",
       "      <td>0.0</td>\n",
       "    </tr>\n",
       "    <tr>\n",
       "      <th>fffe6d1d8500f1c1f31bd63abce35c0f975a86bf</th>\n",
       "      <td>0.0</td>\n",
       "      <td>0.0</td>\n",
       "      <td>0.0</td>\n",
       "      <td>0.0</td>\n",
       "      <td>0.0</td>\n",
       "      <td>0.0</td>\n",
       "      <td>0.0</td>\n",
       "      <td>0.0</td>\n",
       "      <td>0.0</td>\n",
       "      <td>0.0</td>\n",
       "      <td>...</td>\n",
       "      <td>0.0</td>\n",
       "      <td>0.0</td>\n",
       "      <td>0.0</td>\n",
       "      <td>0.0</td>\n",
       "      <td>0.0</td>\n",
       "      <td>0.0</td>\n",
       "      <td>0.0</td>\n",
       "      <td>0.0</td>\n",
       "      <td>0.0</td>\n",
       "      <td>0.0</td>\n",
       "    </tr>\n",
       "    <tr>\n",
       "      <th>fffea3d509760c984e7d40789804c0e5e289cc86</th>\n",
       "      <td>0.0</td>\n",
       "      <td>0.0</td>\n",
       "      <td>0.0</td>\n",
       "      <td>0.0</td>\n",
       "      <td>0.0</td>\n",
       "      <td>0.0</td>\n",
       "      <td>0.0</td>\n",
       "      <td>0.0</td>\n",
       "      <td>0.0</td>\n",
       "      <td>0.0</td>\n",
       "      <td>...</td>\n",
       "      <td>0.0</td>\n",
       "      <td>0.0</td>\n",
       "      <td>0.0</td>\n",
       "      <td>0.0</td>\n",
       "      <td>0.0</td>\n",
       "      <td>0.0</td>\n",
       "      <td>0.0</td>\n",
       "      <td>0.0</td>\n",
       "      <td>0.0</td>\n",
       "      <td>0.0</td>\n",
       "    </tr>\n",
       "  </tbody>\n",
       "</table>\n",
       "<p>76176 rows × 8841 columns</p>\n",
       "</div>"
      ],
      "text/plain": [
       "song_id                                   SOAAAGQ12A8C1420C8  \\\n",
       "user_id                                                        \n",
       "00003a4459f33b92906be11abe0e93efc423c0ff                 0.0   \n",
       "00005c6177188f12fb5e2e82cdbd93e8a3f35e64                 0.0   \n",
       "00030033e3a2f904a48ec1dd53019c9969b6ef1f                 0.0   \n",
       "0007235c769e610e3d339a17818a5708e41008d9                 0.0   \n",
       "0007c0e74728ca9ef0fe4eb7f75732e8026a278b                 0.0   \n",
       "...                                                      ...   \n",
       "fffce9c1537fbc350ea68823d956eaa8f5236dbe                 0.0   \n",
       "fffd6a2bdef646ce9898b628d5dd56c43df69a9d                 0.0   \n",
       "fffd9635b33f412de8ed02e44e6564e3644cf3c6                 0.0   \n",
       "fffe6d1d8500f1c1f31bd63abce35c0f975a86bf                 0.0   \n",
       "fffea3d509760c984e7d40789804c0e5e289cc86                 0.0   \n",
       "\n",
       "song_id                                   SOAACPJ12A81C21360  \\\n",
       "user_id                                                        \n",
       "00003a4459f33b92906be11abe0e93efc423c0ff                 0.0   \n",
       "00005c6177188f12fb5e2e82cdbd93e8a3f35e64                 0.0   \n",
       "00030033e3a2f904a48ec1dd53019c9969b6ef1f                 0.0   \n",
       "0007235c769e610e3d339a17818a5708e41008d9                 0.0   \n",
       "0007c0e74728ca9ef0fe4eb7f75732e8026a278b                 0.0   \n",
       "...                                                      ...   \n",
       "fffce9c1537fbc350ea68823d956eaa8f5236dbe                 0.0   \n",
       "fffd6a2bdef646ce9898b628d5dd56c43df69a9d                 0.0   \n",
       "fffd9635b33f412de8ed02e44e6564e3644cf3c6                 0.0   \n",
       "fffe6d1d8500f1c1f31bd63abce35c0f975a86bf                 0.0   \n",
       "fffea3d509760c984e7d40789804c0e5e289cc86                 0.0   \n",
       "\n",
       "song_id                                   SOAACSG12AB018DC80  \\\n",
       "user_id                                                        \n",
       "00003a4459f33b92906be11abe0e93efc423c0ff                 0.0   \n",
       "00005c6177188f12fb5e2e82cdbd93e8a3f35e64                 0.0   \n",
       "00030033e3a2f904a48ec1dd53019c9969b6ef1f                 0.0   \n",
       "0007235c769e610e3d339a17818a5708e41008d9                 0.0   \n",
       "0007c0e74728ca9ef0fe4eb7f75732e8026a278b                 0.0   \n",
       "...                                                      ...   \n",
       "fffce9c1537fbc350ea68823d956eaa8f5236dbe                 0.0   \n",
       "fffd6a2bdef646ce9898b628d5dd56c43df69a9d                 0.0   \n",
       "fffd9635b33f412de8ed02e44e6564e3644cf3c6                 0.0   \n",
       "fffe6d1d8500f1c1f31bd63abce35c0f975a86bf                 0.0   \n",
       "fffea3d509760c984e7d40789804c0e5e289cc86                 0.0   \n",
       "\n",
       "song_id                                   SOAAEJI12AB0188AB5  \\\n",
       "user_id                                                        \n",
       "00003a4459f33b92906be11abe0e93efc423c0ff                 0.0   \n",
       "00005c6177188f12fb5e2e82cdbd93e8a3f35e64                 0.0   \n",
       "00030033e3a2f904a48ec1dd53019c9969b6ef1f                 0.0   \n",
       "0007235c769e610e3d339a17818a5708e41008d9                 0.0   \n",
       "0007c0e74728ca9ef0fe4eb7f75732e8026a278b                 0.0   \n",
       "...                                                      ...   \n",
       "fffce9c1537fbc350ea68823d956eaa8f5236dbe                 0.0   \n",
       "fffd6a2bdef646ce9898b628d5dd56c43df69a9d                 0.0   \n",
       "fffd9635b33f412de8ed02e44e6564e3644cf3c6                 0.0   \n",
       "fffe6d1d8500f1c1f31bd63abce35c0f975a86bf                 0.0   \n",
       "fffea3d509760c984e7d40789804c0e5e289cc86                 0.0   \n",
       "\n",
       "song_id                                   SOAAFAC12A67ADF7EB  \\\n",
       "user_id                                                        \n",
       "00003a4459f33b92906be11abe0e93efc423c0ff                 0.0   \n",
       "00005c6177188f12fb5e2e82cdbd93e8a3f35e64                 0.0   \n",
       "00030033e3a2f904a48ec1dd53019c9969b6ef1f                 0.0   \n",
       "0007235c769e610e3d339a17818a5708e41008d9                 0.0   \n",
       "0007c0e74728ca9ef0fe4eb7f75732e8026a278b                 0.0   \n",
       "...                                                      ...   \n",
       "fffce9c1537fbc350ea68823d956eaa8f5236dbe                 0.0   \n",
       "fffd6a2bdef646ce9898b628d5dd56c43df69a9d                 0.0   \n",
       "fffd9635b33f412de8ed02e44e6564e3644cf3c6                 0.0   \n",
       "fffe6d1d8500f1c1f31bd63abce35c0f975a86bf                 0.0   \n",
       "fffea3d509760c984e7d40789804c0e5e289cc86                 0.0   \n",
       "\n",
       "song_id                                   SOAAFYH12A8C13717A  \\\n",
       "user_id                                                        \n",
       "00003a4459f33b92906be11abe0e93efc423c0ff                 0.0   \n",
       "00005c6177188f12fb5e2e82cdbd93e8a3f35e64                 0.0   \n",
       "00030033e3a2f904a48ec1dd53019c9969b6ef1f                 0.0   \n",
       "0007235c769e610e3d339a17818a5708e41008d9                 0.0   \n",
       "0007c0e74728ca9ef0fe4eb7f75732e8026a278b                 0.0   \n",
       "...                                                      ...   \n",
       "fffce9c1537fbc350ea68823d956eaa8f5236dbe                 0.0   \n",
       "fffd6a2bdef646ce9898b628d5dd56c43df69a9d                 0.0   \n",
       "fffd9635b33f412de8ed02e44e6564e3644cf3c6                 0.0   \n",
       "fffe6d1d8500f1c1f31bd63abce35c0f975a86bf                 0.0   \n",
       "fffea3d509760c984e7d40789804c0e5e289cc86                 0.0   \n",
       "\n",
       "song_id                                   SOAAJMQ12A6D4F7D17  \\\n",
       "user_id                                                        \n",
       "00003a4459f33b92906be11abe0e93efc423c0ff                 0.0   \n",
       "00005c6177188f12fb5e2e82cdbd93e8a3f35e64                 0.0   \n",
       "00030033e3a2f904a48ec1dd53019c9969b6ef1f                 0.0   \n",
       "0007235c769e610e3d339a17818a5708e41008d9                 0.0   \n",
       "0007c0e74728ca9ef0fe4eb7f75732e8026a278b                 0.0   \n",
       "...                                                      ...   \n",
       "fffce9c1537fbc350ea68823d956eaa8f5236dbe                 0.0   \n",
       "fffd6a2bdef646ce9898b628d5dd56c43df69a9d                 0.0   \n",
       "fffd9635b33f412de8ed02e44e6564e3644cf3c6                 0.0   \n",
       "fffe6d1d8500f1c1f31bd63abce35c0f975a86bf                 0.0   \n",
       "fffea3d509760c984e7d40789804c0e5e289cc86                 0.0   \n",
       "\n",
       "song_id                                   SOAAKPM12A58A77210  \\\n",
       "user_id                                                        \n",
       "00003a4459f33b92906be11abe0e93efc423c0ff                 0.0   \n",
       "00005c6177188f12fb5e2e82cdbd93e8a3f35e64                 0.0   \n",
       "00030033e3a2f904a48ec1dd53019c9969b6ef1f                 0.0   \n",
       "0007235c769e610e3d339a17818a5708e41008d9                 0.0   \n",
       "0007c0e74728ca9ef0fe4eb7f75732e8026a278b                 0.0   \n",
       "...                                                      ...   \n",
       "fffce9c1537fbc350ea68823d956eaa8f5236dbe                 0.0   \n",
       "fffd6a2bdef646ce9898b628d5dd56c43df69a9d                 0.0   \n",
       "fffd9635b33f412de8ed02e44e6564e3644cf3c6                 0.0   \n",
       "fffe6d1d8500f1c1f31bd63abce35c0f975a86bf                 0.0   \n",
       "fffea3d509760c984e7d40789804c0e5e289cc86                 0.0   \n",
       "\n",
       "song_id                                   SOAALWN12A6D4F7FDA  \\\n",
       "user_id                                                        \n",
       "00003a4459f33b92906be11abe0e93efc423c0ff                 0.0   \n",
       "00005c6177188f12fb5e2e82cdbd93e8a3f35e64                 0.0   \n",
       "00030033e3a2f904a48ec1dd53019c9969b6ef1f                 0.0   \n",
       "0007235c769e610e3d339a17818a5708e41008d9                 0.0   \n",
       "0007c0e74728ca9ef0fe4eb7f75732e8026a278b                 0.0   \n",
       "...                                                      ...   \n",
       "fffce9c1537fbc350ea68823d956eaa8f5236dbe                 0.0   \n",
       "fffd6a2bdef646ce9898b628d5dd56c43df69a9d                 0.0   \n",
       "fffd9635b33f412de8ed02e44e6564e3644cf3c6                 0.0   \n",
       "fffe6d1d8500f1c1f31bd63abce35c0f975a86bf                 0.0   \n",
       "fffea3d509760c984e7d40789804c0e5e289cc86                 0.0   \n",
       "\n",
       "song_id                                   SOAAMOW12AB018149B  ...  \\\n",
       "user_id                                                       ...   \n",
       "00003a4459f33b92906be11abe0e93efc423c0ff                 0.0  ...   \n",
       "00005c6177188f12fb5e2e82cdbd93e8a3f35e64                 0.0  ...   \n",
       "00030033e3a2f904a48ec1dd53019c9969b6ef1f                 0.0  ...   \n",
       "0007235c769e610e3d339a17818a5708e41008d9                 0.0  ...   \n",
       "0007c0e74728ca9ef0fe4eb7f75732e8026a278b                 0.0  ...   \n",
       "...                                                      ...  ...   \n",
       "fffce9c1537fbc350ea68823d956eaa8f5236dbe                 0.0  ...   \n",
       "fffd6a2bdef646ce9898b628d5dd56c43df69a9d                 0.0  ...   \n",
       "fffd9635b33f412de8ed02e44e6564e3644cf3c6                 0.0  ...   \n",
       "fffe6d1d8500f1c1f31bd63abce35c0f975a86bf                 0.0  ...   \n",
       "fffea3d509760c984e7d40789804c0e5e289cc86                 0.0  ...   \n",
       "\n",
       "song_id                                   SOZZIOH12A67ADE300  \\\n",
       "user_id                                                        \n",
       "00003a4459f33b92906be11abe0e93efc423c0ff                 0.0   \n",
       "00005c6177188f12fb5e2e82cdbd93e8a3f35e64                 0.0   \n",
       "00030033e3a2f904a48ec1dd53019c9969b6ef1f                 0.0   \n",
       "0007235c769e610e3d339a17818a5708e41008d9                 0.0   \n",
       "0007c0e74728ca9ef0fe4eb7f75732e8026a278b                 0.0   \n",
       "...                                                      ...   \n",
       "fffce9c1537fbc350ea68823d956eaa8f5236dbe                 0.0   \n",
       "fffd6a2bdef646ce9898b628d5dd56c43df69a9d                 0.0   \n",
       "fffd9635b33f412de8ed02e44e6564e3644cf3c6                 0.0   \n",
       "fffe6d1d8500f1c1f31bd63abce35c0f975a86bf                 0.0   \n",
       "fffea3d509760c984e7d40789804c0e5e289cc86                 0.0   \n",
       "\n",
       "song_id                                   SOZZKPR12A6D4F8147  \\\n",
       "user_id                                                        \n",
       "00003a4459f33b92906be11abe0e93efc423c0ff                 0.0   \n",
       "00005c6177188f12fb5e2e82cdbd93e8a3f35e64                 0.0   \n",
       "00030033e3a2f904a48ec1dd53019c9969b6ef1f                 0.0   \n",
       "0007235c769e610e3d339a17818a5708e41008d9                 0.0   \n",
       "0007c0e74728ca9ef0fe4eb7f75732e8026a278b                 0.0   \n",
       "...                                                      ...   \n",
       "fffce9c1537fbc350ea68823d956eaa8f5236dbe                 0.0   \n",
       "fffd6a2bdef646ce9898b628d5dd56c43df69a9d                 0.0   \n",
       "fffd9635b33f412de8ed02e44e6564e3644cf3c6                 0.0   \n",
       "fffe6d1d8500f1c1f31bd63abce35c0f975a86bf                 0.0   \n",
       "fffea3d509760c984e7d40789804c0e5e289cc86                 0.0   \n",
       "\n",
       "song_id                                   SOZZLTY12A67AE0AD0  \\\n",
       "user_id                                                        \n",
       "00003a4459f33b92906be11abe0e93efc423c0ff                 0.0   \n",
       "00005c6177188f12fb5e2e82cdbd93e8a3f35e64                 0.0   \n",
       "00030033e3a2f904a48ec1dd53019c9969b6ef1f                 0.0   \n",
       "0007235c769e610e3d339a17818a5708e41008d9                 0.0   \n",
       "0007c0e74728ca9ef0fe4eb7f75732e8026a278b                 0.0   \n",
       "...                                                      ...   \n",
       "fffce9c1537fbc350ea68823d956eaa8f5236dbe                 0.0   \n",
       "fffd6a2bdef646ce9898b628d5dd56c43df69a9d                 0.0   \n",
       "fffd9635b33f412de8ed02e44e6564e3644cf3c6                 0.0   \n",
       "fffe6d1d8500f1c1f31bd63abce35c0f975a86bf                 0.0   \n",
       "fffea3d509760c984e7d40789804c0e5e289cc86                 0.0   \n",
       "\n",
       "song_id                                   SOZZLZN12A8AE48D6D  \\\n",
       "user_id                                                        \n",
       "00003a4459f33b92906be11abe0e93efc423c0ff                 0.0   \n",
       "00005c6177188f12fb5e2e82cdbd93e8a3f35e64                 0.0   \n",
       "00030033e3a2f904a48ec1dd53019c9969b6ef1f                 0.0   \n",
       "0007235c769e610e3d339a17818a5708e41008d9                 0.0   \n",
       "0007c0e74728ca9ef0fe4eb7f75732e8026a278b                 0.0   \n",
       "...                                                      ...   \n",
       "fffce9c1537fbc350ea68823d956eaa8f5236dbe                 0.0   \n",
       "fffd6a2bdef646ce9898b628d5dd56c43df69a9d                 0.0   \n",
       "fffd9635b33f412de8ed02e44e6564e3644cf3c6                 0.0   \n",
       "fffe6d1d8500f1c1f31bd63abce35c0f975a86bf                 0.0   \n",
       "fffea3d509760c984e7d40789804c0e5e289cc86                 0.0   \n",
       "\n",
       "song_id                                   SOZZRHE12A6702165F  \\\n",
       "user_id                                                        \n",
       "00003a4459f33b92906be11abe0e93efc423c0ff                 0.0   \n",
       "00005c6177188f12fb5e2e82cdbd93e8a3f35e64                 0.0   \n",
       "00030033e3a2f904a48ec1dd53019c9969b6ef1f                 0.0   \n",
       "0007235c769e610e3d339a17818a5708e41008d9                 0.0   \n",
       "0007c0e74728ca9ef0fe4eb7f75732e8026a278b                 0.0   \n",
       "...                                                      ...   \n",
       "fffce9c1537fbc350ea68823d956eaa8f5236dbe                 0.0   \n",
       "fffd6a2bdef646ce9898b628d5dd56c43df69a9d                 0.0   \n",
       "fffd9635b33f412de8ed02e44e6564e3644cf3c6                 0.0   \n",
       "fffe6d1d8500f1c1f31bd63abce35c0f975a86bf                 0.0   \n",
       "fffea3d509760c984e7d40789804c0e5e289cc86                 0.0   \n",
       "\n",
       "song_id                                   SOZZTCU12AB0182C58  \\\n",
       "user_id                                                        \n",
       "00003a4459f33b92906be11abe0e93efc423c0ff                 0.0   \n",
       "00005c6177188f12fb5e2e82cdbd93e8a3f35e64                 0.0   \n",
       "00030033e3a2f904a48ec1dd53019c9969b6ef1f                 0.0   \n",
       "0007235c769e610e3d339a17818a5708e41008d9                 0.0   \n",
       "0007c0e74728ca9ef0fe4eb7f75732e8026a278b                 0.0   \n",
       "...                                                      ...   \n",
       "fffce9c1537fbc350ea68823d956eaa8f5236dbe                 0.0   \n",
       "fffd6a2bdef646ce9898b628d5dd56c43df69a9d                 0.0   \n",
       "fffd9635b33f412de8ed02e44e6564e3644cf3c6                 0.0   \n",
       "fffe6d1d8500f1c1f31bd63abce35c0f975a86bf                 0.0   \n",
       "fffea3d509760c984e7d40789804c0e5e289cc86                 0.0   \n",
       "\n",
       "song_id                                   SOZZTNF12A8C139916  \\\n",
       "user_id                                                        \n",
       "00003a4459f33b92906be11abe0e93efc423c0ff                 0.0   \n",
       "00005c6177188f12fb5e2e82cdbd93e8a3f35e64                 0.0   \n",
       "00030033e3a2f904a48ec1dd53019c9969b6ef1f                 0.0   \n",
       "0007235c769e610e3d339a17818a5708e41008d9                 0.0   \n",
       "0007c0e74728ca9ef0fe4eb7f75732e8026a278b                 0.0   \n",
       "...                                                      ...   \n",
       "fffce9c1537fbc350ea68823d956eaa8f5236dbe                 0.0   \n",
       "fffd6a2bdef646ce9898b628d5dd56c43df69a9d                 0.0   \n",
       "fffd9635b33f412de8ed02e44e6564e3644cf3c6                 0.0   \n",
       "fffe6d1d8500f1c1f31bd63abce35c0f975a86bf                 0.0   \n",
       "fffea3d509760c984e7d40789804c0e5e289cc86                 0.0   \n",
       "\n",
       "song_id                                   SOZZVWB12AB0189C30  \\\n",
       "user_id                                                        \n",
       "00003a4459f33b92906be11abe0e93efc423c0ff                 0.0   \n",
       "00005c6177188f12fb5e2e82cdbd93e8a3f35e64                 0.0   \n",
       "00030033e3a2f904a48ec1dd53019c9969b6ef1f                 0.0   \n",
       "0007235c769e610e3d339a17818a5708e41008d9                 0.0   \n",
       "0007c0e74728ca9ef0fe4eb7f75732e8026a278b                 0.0   \n",
       "...                                                      ...   \n",
       "fffce9c1537fbc350ea68823d956eaa8f5236dbe                 0.0   \n",
       "fffd6a2bdef646ce9898b628d5dd56c43df69a9d                 0.0   \n",
       "fffd9635b33f412de8ed02e44e6564e3644cf3c6                 0.0   \n",
       "fffe6d1d8500f1c1f31bd63abce35c0f975a86bf                 0.0   \n",
       "fffea3d509760c984e7d40789804c0e5e289cc86                 0.0   \n",
       "\n",
       "song_id                                   SOZZYAO12A6701FF36  \\\n",
       "user_id                                                        \n",
       "00003a4459f33b92906be11abe0e93efc423c0ff                 0.0   \n",
       "00005c6177188f12fb5e2e82cdbd93e8a3f35e64                 0.0   \n",
       "00030033e3a2f904a48ec1dd53019c9969b6ef1f                 0.0   \n",
       "0007235c769e610e3d339a17818a5708e41008d9                 0.0   \n",
       "0007c0e74728ca9ef0fe4eb7f75732e8026a278b                 0.0   \n",
       "...                                                      ...   \n",
       "fffce9c1537fbc350ea68823d956eaa8f5236dbe                 0.0   \n",
       "fffd6a2bdef646ce9898b628d5dd56c43df69a9d                 0.0   \n",
       "fffd9635b33f412de8ed02e44e6564e3644cf3c6                 0.0   \n",
       "fffe6d1d8500f1c1f31bd63abce35c0f975a86bf                 0.0   \n",
       "fffea3d509760c984e7d40789804c0e5e289cc86                 0.0   \n",
       "\n",
       "song_id                                   SOZZZPV12A8C1444B5  \n",
       "user_id                                                       \n",
       "00003a4459f33b92906be11abe0e93efc423c0ff                 0.0  \n",
       "00005c6177188f12fb5e2e82cdbd93e8a3f35e64                 0.0  \n",
       "00030033e3a2f904a48ec1dd53019c9969b6ef1f                 0.0  \n",
       "0007235c769e610e3d339a17818a5708e41008d9                 0.0  \n",
       "0007c0e74728ca9ef0fe4eb7f75732e8026a278b                 0.0  \n",
       "...                                                      ...  \n",
       "fffce9c1537fbc350ea68823d956eaa8f5236dbe                 0.0  \n",
       "fffd6a2bdef646ce9898b628d5dd56c43df69a9d                 0.0  \n",
       "fffd9635b33f412de8ed02e44e6564e3644cf3c6                 0.0  \n",
       "fffe6d1d8500f1c1f31bd63abce35c0f975a86bf                 0.0  \n",
       "fffea3d509760c984e7d40789804c0e5e289cc86                 0.0  \n",
       "\n",
       "[76176 rows x 8841 columns]"
      ]
     },
     "metadata": {},
     "output_type": "display_data"
    }
   ],
   "source": [
    "df_users_hybrid = pd.pivot_table(df_merge, index='user_id', columns='song_id', values='listen_count')\n",
    "\n",
    "df_users_hybrid = df_users_hybrid.fillna(0)\n",
    "user_id = list(df_users_hybrid.index)\n",
    "user_dict = {}\n",
    "counter = 0 \n",
    "for i in user_id:\n",
    "    user_dict[i] = counter\n",
    "    counter += 1\n",
    "\n",
    "df_users_hybrid_sparse = csr_matrix(df_users_hybrid.values)\n",
    "display(df_users_hybrid_sparse)\n",
    "display(df_users_hybrid)"
   ]
  },
  {
   "cell_type": "markdown",
   "metadata": {},
   "source": [
    "### Convert Tipe"
   ]
  },
  {
   "cell_type": "code",
   "execution_count": 85,
   "metadata": {},
   "outputs": [
    {
     "data": {
      "text/plain": [
       "<76176x8841 sparse matrix of type '<class 'numpy.float16'>'\n",
       "\twith 1718983 stored elements in Compressed Sparse Row format>"
      ]
     },
     "execution_count": 85,
     "metadata": {},
     "output_type": "execute_result"
    }
   ],
   "source": [
    "df_users_hybrid_sparse = df_users_hybrid_sparse.astype(np.float16)\n",
    "df_users_hybrid_sparse"
   ]
  },
  {
   "cell_type": "markdown",
   "metadata": {},
   "source": [
    "### Fit Model dengan LightFM"
   ]
  },
  {
   "cell_type": "code",
   "execution_count": 86,
   "metadata": {},
   "outputs": [],
   "source": [
    "model = LightFM(loss='warp',\n",
    "                random_state=2000,\n",
    "                learning_rate=0.90,\n",
    "                no_components=150,\n",
    "                user_alpha=0.000005)\n",
    "model = model.fit(df_users_hybrid_sparse,\n",
    "                  epochs=5,\n",
    "                  num_threads=16, verbose=False)"
   ]
  },
  {
   "cell_type": "markdown",
   "metadata": {},
   "source": [
    "### Fungsi Rekomendasi"
   ]
  },
  {
   "cell_type": "code",
   "execution_count": 87,
   "metadata": {},
   "outputs": [],
   "source": [
    "df_listen_count = df_merge[['user_id', 'song_id', 'listen_count']]"
   ]
  },
  {
   "cell_type": "code",
   "execution_count": 88,
   "metadata": {},
   "outputs": [],
   "source": [
    "def rec_hybrid(df_listen_count, user_id, threshold = 0, nrec_items = 10, show = True):\n",
    "    \n",
    "    n_users, n_items = df_listen_count.shape\n",
    "    user_x = user_dict[user_id]\n",
    "    scores = pd.Series(model.predict(user_x,np.arange(n_items), item_features=df_songs_hybrid_sparse))\n",
    "    scores.index = df_listen_count.columns\n",
    "    scores = list(pd.Series(scores.sort_values(ascending=False).index))\n",
    "    \n",
    "    known_items = list(pd.Series(df_listen_count.loc[user_id,:][df_listen_count.loc[user_id,:] > threshold].index).sort_values(ascending=False))\n",
    "    \n",
    "    scores = [x for x in scores if x not in known_items]\n",
    "    return_score_list = scores[0:nrec_items]\n",
    "    known_items = list(pd.Series(known_items).apply(lambda x: item_dict[x]))\n",
    "    scores = list(pd.Series(return_score_list).apply(lambda x: item_dict[x]))\n",
    "    \n",
    "    list_rank = [*range(1, 11, 1)]\n",
    "    df_rec_hybrid = pd.DataFrame(list_rank)\n",
    "    list_title = []\n",
    "    list_artist = []\n",
    "    counter = 1\n",
    "    for i in scores:\n",
    "        list_title.append(i[0])\n",
    "        list_artist.append(i[1])\n",
    "        counter += 1\n",
    "    df_rec_hybrid['title'] = list_title\n",
    "    df_rec_hybrid['artist_name'] = list_artist\n",
    "    df_rec_hybrid.columns = ['rank', 'title', 'artist_name']\n",
    "    return df_rec_hybrid"
   ]
  },
  {
   "cell_type": "markdown",
   "metadata": {},
   "source": [
    "### Hasil Rekomendasi"
   ]
  },
  {
   "cell_type": "code",
   "execution_count": 89,
   "metadata": {},
   "outputs": [
    {
     "data": {
      "text/html": [
       "<div>\n",
       "<style scoped>\n",
       "    .dataframe tbody tr th:only-of-type {\n",
       "        vertical-align: middle;\n",
       "    }\n",
       "\n",
       "    .dataframe tbody tr th {\n",
       "        vertical-align: top;\n",
       "    }\n",
       "\n",
       "    .dataframe thead th {\n",
       "        text-align: right;\n",
       "    }\n",
       "</style>\n",
       "<table border=\"1\" class=\"dataframe\">\n",
       "  <thead>\n",
       "    <tr style=\"text-align: right;\">\n",
       "      <th></th>\n",
       "      <th>rank</th>\n",
       "      <th>title</th>\n",
       "      <th>artist_name</th>\n",
       "    </tr>\n",
       "  </thead>\n",
       "  <tbody>\n",
       "    <tr>\n",
       "      <th>0</th>\n",
       "      <td>1</td>\n",
       "      <td>Swing Life Away (Acoustic)</td>\n",
       "      <td>Rise Against</td>\n",
       "    </tr>\n",
       "    <tr>\n",
       "      <th>1</th>\n",
       "      <td>2</td>\n",
       "      <td>I Wish You Would</td>\n",
       "      <td>The Yardbirds</td>\n",
       "    </tr>\n",
       "    <tr>\n",
       "      <th>2</th>\n",
       "      <td>3</td>\n",
       "      <td>Heart Of A Champion</td>\n",
       "      <td>Nelly / Lincoln University Vocal Ensemble</td>\n",
       "    </tr>\n",
       "    <tr>\n",
       "      <th>3</th>\n",
       "      <td>4</td>\n",
       "      <td>Ticket To Heaven</td>\n",
       "      <td>3 Doors Down</td>\n",
       "    </tr>\n",
       "    <tr>\n",
       "      <th>4</th>\n",
       "      <td>5</td>\n",
       "      <td>The Road I'm On</td>\n",
       "      <td>3 Doors Down</td>\n",
       "    </tr>\n",
       "    <tr>\n",
       "      <th>5</th>\n",
       "      <td>6</td>\n",
       "      <td>La Rivalita (Album Version)</td>\n",
       "      <td>The Audition</td>\n",
       "    </tr>\n",
       "    <tr>\n",
       "      <th>6</th>\n",
       "      <td>7</td>\n",
       "      <td>Slow Death</td>\n",
       "      <td>Flamin' Groovies</td>\n",
       "    </tr>\n",
       "    <tr>\n",
       "      <th>7</th>\n",
       "      <td>8</td>\n",
       "      <td>Nine Steps</td>\n",
       "      <td>Decapitated</td>\n",
       "    </tr>\n",
       "    <tr>\n",
       "      <th>8</th>\n",
       "      <td>9</td>\n",
       "      <td>Pork And Beans</td>\n",
       "      <td>Weezer</td>\n",
       "    </tr>\n",
       "    <tr>\n",
       "      <th>9</th>\n",
       "      <td>10</td>\n",
       "      <td>Hand On Your Heart</td>\n",
       "      <td>José González</td>\n",
       "    </tr>\n",
       "  </tbody>\n",
       "</table>\n",
       "</div>"
      ],
      "text/plain": [
       "   rank                        title  \\\n",
       "0     1   Swing Life Away (Acoustic)   \n",
       "1     2             I Wish You Would   \n",
       "2     3          Heart Of A Champion   \n",
       "3     4             Ticket To Heaven   \n",
       "4     5              The Road I'm On   \n",
       "5     6  La Rivalita (Album Version)   \n",
       "6     7                   Slow Death   \n",
       "7     8                   Nine Steps   \n",
       "8     9               Pork And Beans   \n",
       "9    10           Hand On Your Heart   \n",
       "\n",
       "                                 artist_name  \n",
       "0                               Rise Against  \n",
       "1                              The Yardbirds  \n",
       "2  Nelly / Lincoln University Vocal Ensemble  \n",
       "3                               3 Doors Down  \n",
       "4                               3 Doors Down  \n",
       "5                               The Audition  \n",
       "6                           Flamin' Groovies  \n",
       "7                                Decapitated  \n",
       "8                                     Weezer  \n",
       "9                              José González  "
      ]
     },
     "execution_count": 89,
     "metadata": {},
     "output_type": "execute_result"
    }
   ],
   "source": [
    "rec_hybrid(df_users_hybrid, 'b80344d063b5ccb3212f76538f3d9e43d87dca9e')"
   ]
  },
  {
   "cell_type": "code",
   "execution_count": 90,
   "metadata": {},
   "outputs": [],
   "source": [
    "end_hybrid = time.time()"
   ]
  },
  {
   "cell_type": "code",
   "execution_count": 91,
   "metadata": {},
   "outputs": [
    {
     "data": {
      "text/html": [
       "<div>\n",
       "<style scoped>\n",
       "    .dataframe tbody tr th:only-of-type {\n",
       "        vertical-align: middle;\n",
       "    }\n",
       "\n",
       "    .dataframe tbody tr th {\n",
       "        vertical-align: top;\n",
       "    }\n",
       "\n",
       "    .dataframe thead th {\n",
       "        text-align: right;\n",
       "    }\n",
       "</style>\n",
       "<table border=\"1\" class=\"dataframe\">\n",
       "  <thead>\n",
       "    <tr style=\"text-align: right;\">\n",
       "      <th></th>\n",
       "      <th>rank</th>\n",
       "      <th>title</th>\n",
       "      <th>artist_name</th>\n",
       "    </tr>\n",
       "  </thead>\n",
       "  <tbody>\n",
       "    <tr>\n",
       "      <th>0</th>\n",
       "      <td>1</td>\n",
       "      <td>Swing Life Away (Acoustic)</td>\n",
       "      <td>Rise Against</td>\n",
       "    </tr>\n",
       "    <tr>\n",
       "      <th>1</th>\n",
       "      <td>2</td>\n",
       "      <td>Hoy Te Deje De Amar (copia)</td>\n",
       "      <td>Paulina Rubio</td>\n",
       "    </tr>\n",
       "    <tr>\n",
       "      <th>2</th>\n",
       "      <td>3</td>\n",
       "      <td>I Wish You Would</td>\n",
       "      <td>The Yardbirds</td>\n",
       "    </tr>\n",
       "    <tr>\n",
       "      <th>3</th>\n",
       "      <td>4</td>\n",
       "      <td>La Rivalita (Album Version)</td>\n",
       "      <td>The Audition</td>\n",
       "    </tr>\n",
       "    <tr>\n",
       "      <th>4</th>\n",
       "      <td>5</td>\n",
       "      <td>Slow Death</td>\n",
       "      <td>Flamin' Groovies</td>\n",
       "    </tr>\n",
       "    <tr>\n",
       "      <th>5</th>\n",
       "      <td>6</td>\n",
       "      <td>Heart Of A Champion</td>\n",
       "      <td>Nelly / Lincoln University Vocal Ensemble</td>\n",
       "    </tr>\n",
       "    <tr>\n",
       "      <th>6</th>\n",
       "      <td>7</td>\n",
       "      <td>Teach Me Tiger</td>\n",
       "      <td>April Stevens</td>\n",
       "    </tr>\n",
       "    <tr>\n",
       "      <th>7</th>\n",
       "      <td>8</td>\n",
       "      <td>Hand On Your Heart</td>\n",
       "      <td>José González</td>\n",
       "    </tr>\n",
       "    <tr>\n",
       "      <th>8</th>\n",
       "      <td>9</td>\n",
       "      <td>Falsa Baiana</td>\n",
       "      <td>João Gilberto</td>\n",
       "    </tr>\n",
       "    <tr>\n",
       "      <th>9</th>\n",
       "      <td>10</td>\n",
       "      <td>Eu Quero Um Samba</td>\n",
       "      <td>João Gilberto</td>\n",
       "    </tr>\n",
       "  </tbody>\n",
       "</table>\n",
       "</div>"
      ],
      "text/plain": [
       "   rank                        title  \\\n",
       "0     1   Swing Life Away (Acoustic)   \n",
       "1     2  Hoy Te Deje De Amar (copia)   \n",
       "2     3             I Wish You Would   \n",
       "3     4  La Rivalita (Album Version)   \n",
       "4     5                   Slow Death   \n",
       "5     6          Heart Of A Champion   \n",
       "6     7               Teach Me Tiger   \n",
       "7     8           Hand On Your Heart   \n",
       "8     9                 Falsa Baiana   \n",
       "9    10            Eu Quero Um Samba   \n",
       "\n",
       "                                 artist_name  \n",
       "0                               Rise Against  \n",
       "1                              Paulina Rubio  \n",
       "2                              The Yardbirds  \n",
       "3                               The Audition  \n",
       "4                           Flamin' Groovies  \n",
       "5  Nelly / Lincoln University Vocal Ensemble  \n",
       "6                              April Stevens  \n",
       "7                              José González  \n",
       "8                              João Gilberto  \n",
       "9                              João Gilberto  "
      ]
     },
     "execution_count": 91,
     "metadata": {},
     "output_type": "execute_result"
    }
   ],
   "source": [
    "rec_hybrid(df_users_hybrid, '85c1f87fea955d09b4bec2e36aee110927aedf9a')"
   ]
  },
  {
   "cell_type": "markdown",
   "metadata": {
    "id": "RBA4-n2e6MH_"
   },
   "source": [
    "# Evaluation\n",
    "Evaluation dalam data science adalah proses mengevaluasi hasil dari seluruh tahap yang telah dilakukan sebelumnya. Proses ini mencakup mengukur akurasi dari model yang telah dibuat dan mengevaluasi kinerja model. Proses ini juga bertujuan untuk mengidentifikasi kemungkinan kegagalan atau masalah yang mungkin terjadi dan mengidentifikasi cara yang lebih baik untuk meningkatkan model."
   ]
  },
  {
   "cell_type": "markdown",
   "metadata": {},
   "source": [
    "## Berdasarkan Waktu"
   ]
  },
  {
   "cell_type": "code",
   "execution_count": 92,
   "metadata": {},
   "outputs": [
    {
     "data": {
      "text/html": [
       "<div>\n",
       "<style scoped>\n",
       "    .dataframe tbody tr th:only-of-type {\n",
       "        vertical-align: middle;\n",
       "    }\n",
       "\n",
       "    .dataframe tbody tr th {\n",
       "        vertical-align: top;\n",
       "    }\n",
       "\n",
       "    .dataframe thead th {\n",
       "        text-align: right;\n",
       "    }\n",
       "</style>\n",
       "<table border=\"1\" class=\"dataframe\">\n",
       "  <thead>\n",
       "    <tr style=\"text-align: right;\">\n",
       "      <th></th>\n",
       "      <th>algorithm</th>\n",
       "      <th>time</th>\n",
       "    </tr>\n",
       "  </thead>\n",
       "  <tbody>\n",
       "    <tr>\n",
       "      <th>1</th>\n",
       "      <td>Matrix Factorization</td>\n",
       "      <td>8.502695</td>\n",
       "    </tr>\n",
       "    <tr>\n",
       "      <th>0</th>\n",
       "      <td>Collaborative Filtering</td>\n",
       "      <td>107.386683</td>\n",
       "    </tr>\n",
       "    <tr>\n",
       "      <th>2</th>\n",
       "      <td>Hybrid Approaches</td>\n",
       "      <td>479.611835</td>\n",
       "    </tr>\n",
       "  </tbody>\n",
       "</table>\n",
       "</div>"
      ],
      "text/plain": [
       "                 algorithm        time\n",
       "1     Matrix Factorization    8.502695\n",
       "0  Collaborative Filtering  107.386683\n",
       "2        Hybrid Approaches  479.611835"
      ]
     },
     "execution_count": 92,
     "metadata": {},
     "output_type": "execute_result"
    }
   ],
   "source": [
    "list_model = [\"Collaborative Filtering\", \"Matrix Factorization\", \"Hybrid Approaches\"]\n",
    "df_exec = pd.DataFrame(list_model)\n",
    "list_time = [end_colfil - start_colfil, end_matfac - start_matfac, end_hybrid - start_hybrid]\n",
    "df_exec['time'] = pd.DataFrame(list_time)\n",
    "df_exec.columns = ['algorithm', 'time']\n",
    "df_exec = df_exec.sort_values('time', ascending=True)\n",
    "df_exec"
   ]
  },
  {
   "cell_type": "code",
   "execution_count": 93,
   "metadata": {},
   "outputs": [
    {
     "data": {
      "image/png": "[encoded data removed]",
      "text/plain": [
       "<Figure size 720x432 with 1 Axes>"
      ]
     },
     "metadata": {
      "needs_background": "light"
     },
     "output_type": "display_data"
    }
   ],
   "source": [
    "plt.figure(figsize = (10,6))\n",
    "plt.bar(df_exec['algorithm'], df_exec['time'])\n",
    "plt.show()"
   ]
  },
  {
   "cell_type": "markdown",
   "metadata": {},
   "source": [
    "* Berdasarkan hasilnya, masing-masing dari ketiga algoritma tersebut menghasilkan rekomendasi yang berbeda-beda.\n",
    "* Berdasarkan waktu eksekusinya, algoritma Matrix Factorization adalah algoritma yang paling cepat dijalankan, disusul dengan algoritma Collaborative Filtering dan Hybrid Approaches."
   ]
  },
  {
   "cell_type": "markdown",
   "metadata": {},
   "source": [
    "# Conclusion\n",
    "Recommender system yang didasarkan pada preferensi pengguna telah dibuat dengan menggunakan 3 algoritma, yaitu Collaborative Filtering, Matrix Factorization, dan Hybrid Approaches. Dari ketiga algoritma tersebut, algoritma Matrix Factorization paling tepat diterapkan karena waktu eksekusinya yang paling cepat dan minim error."
   ]
  }
 ],
 "metadata": {
  "colab": {
   "provenance": []
  },
  "kernelspec": {
   "display_name": "Python 3 (ipykernel)",
   "language": "python",
   "name": "python3"
  },
  "language_info": {
   "codemirror_mode": {
    "name": "ipython",
    "version": 3
   },
   "file_extension": ".py",
   "mimetype": "text/x-python",
   "name": "python",
   "nbconvert_exporter": "python",
   "pygments_lexer": "ipython3",
   "version": "3.9.7"
  }
 },
 "nbformat": 4,
 "nbformat_minor": 1
}
